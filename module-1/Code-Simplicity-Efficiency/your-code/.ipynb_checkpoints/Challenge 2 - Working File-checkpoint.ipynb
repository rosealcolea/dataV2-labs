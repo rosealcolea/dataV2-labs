{
 "cells": [
  {
   "cell_type": "markdown",
   "metadata": {},
   "source": [
    "The code I created is not simpler nor shorter, just different.\n",
    "\n",
    "And it has an error that I don´t understand nor know how to fix :("
   ]
  },
  {
   "cell_type": "code",
   "execution_count": 29,
   "metadata": {},
   "outputs": [],
   "source": [
    "def set_up():\n",
    "    import random\n",
    "    import string\n",
    "    # create a list full of random characters\n",
    "    char_list = [chr(x) for x in range(ord('a'), ord('z') + 1)] \n",
    "    digit_list = [str(y) for y in range(10)]\n",
    "    lst = char_list + digit_list\n",
    "\n",
    "def variables():\n",
    "    # obtain inputs and define variables    \n",
    "    a = input('Enter minimum string length: ')\n",
    "    b = input('Enter maximum string length: ')\n",
    "    n = int(input('How many random strings to generate? '))\n",
    "    result = []\n",
    "    nn = 0\n",
    "    # randomise a number in range(a, b)\n",
    "    c = random.randint(int(a), int(b))\n",
    "\n",
    "# generates one string - repeat n times\n",
    "def string_generator():\n",
    "    result.append(\"\".join(random.choices(lst, k = c)))\n",
    "    nn += 1\n",
    "    if nn == n:\n",
    "        return result\n",
    "    elif nn < n:\n",
    "        string_generator()\n",
    "    else:\n",
    "        print('Error found, please try again.')\n",
    "\n",
    "def randomizer():\n",
    "    set_up()\n",
    "    variables()\n",
    "    string_generator()"
   ]
  },
  {
   "cell_type": "code",
   "execution_count": 28,
   "metadata": {},
   "outputs": [
    {
     "name": "stdout",
     "output_type": "stream",
     "text": [
      "Enter minimum string length: 1\n",
      "Enter maximum string length: 1\n",
      "How many random strings to generate? 1\n"
     ]
    }
   ],
   "source": [
    "randomizer()"
   ]
  },
  {
   "cell_type": "code",
   "execution_count": null,
   "metadata": {},
   "outputs": [],
   "source": []
  }
 ],
 "metadata": {
  "kernelspec": {
   "display_name": "Python 3",
   "language": "python",
   "name": "python3"
  },
  "language_info": {
   "codemirror_mode": {
    "name": "ipython",
    "version": 3
   },
   "file_extension": ".py",
   "mimetype": "text/x-python",
   "name": "python",
   "nbconvert_exporter": "python",
   "pygments_lexer": "ipython3",
   "version": "3.7.6"
  }
 },
 "nbformat": 4,
 "nbformat_minor": 4
}

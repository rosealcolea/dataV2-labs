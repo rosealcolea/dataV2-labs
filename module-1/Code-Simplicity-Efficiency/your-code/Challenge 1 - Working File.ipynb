{
 "cells": [
  {
   "cell_type": "code",
   "execution_count": 10,
   "metadata": {},
   "outputs": [
    {
     "name": "stdout",
     "output_type": "stream",
     "text": [
      "Welcome to this calculator!\n",
      "It can add and subtract whole numbers from 0 to 5\n",
      "Please choose your first number (0 to 5): 3\n",
      "What do you want to do? plus or minus: -\n",
      "Please choose your second number (0 to 5): 4\n",
      "3 minus 4 equals -1\n",
      "Use again? (yes/no)yes\n",
      "Welcome to this calculator!\n",
      "It can add and subtract whole numbers from 0 to 5\n",
      "Please choose your first number (0 to 5): 4\n",
      "What do you want to do? plus or minus: 2\n",
      "Please choose your second number (0 to 5): e\n",
      "I am not able to answer this question. Please try again.\n",
      "Welcome to this calculator!\n",
      "It can add and subtract whole numbers from 0 to 5\n",
      "Please choose your first number (0 to 5): 3\n",
      "What do you want to do? plus or minus: minus\n",
      "Please choose your second number (0 to 5): 3\n",
      "3 minus 3 equals 0\n",
      "Use again? (yes/no)no\n",
      "Thanks for using this calculator, goodbye :)\n",
      "Use again? (yes/no)no\n",
      "Thanks for using this calculator, goodbye :)\n"
     ]
    }
   ],
   "source": [
    "# Dumb Calculator 2.0:\n",
    "\n",
    "def plus(x, y):\n",
    "    r = int(x) + int(y)\n",
    "    print(x, 'plus', y, 'equals', r)\n",
    "    \n",
    "def minus(x, y):\n",
    "    r = int(x) - int(y)\n",
    "    print(x, 'minus', y, 'equals', r)\n",
    "\n",
    "def dumb_calculator():\n",
    "    print('Welcome to this calculator!')\n",
    "    print('It can add and subtract whole numbers from 0 to 5')\n",
    "    x = input('Please choose your first number (0 to 5): ')\n",
    "    dec = input('What do you want to do? plus or minus (+ or -): ')\n",
    "    y = input('Please choose your second number (0 to 5): ')\n",
    "    if dec == 'plus' or dec == '+':\n",
    "        plus(x, y)\n",
    "    elif dec == 'minus' or dec == '-':\n",
    "        minus(x, y)\n",
    "    else:\n",
    "        print(\"I am not able to answer this question. Please try again.\")\n",
    "        dumb_calculator()\n",
    "    again = input('Use again? (yes/no)')\n",
    "    if again == 'yes':\n",
    "        dumb_calculator()\n",
    "    else: \n",
    "        print(\"Thanks for using this calculator, goodbye :)\")\n",
    "\n",
    "dumb_calculator()"
   ]
  }
 ],
 "metadata": {
  "kernelspec": {
   "display_name": "Python 3",
   "language": "python",
   "name": "python3"
  },
  "language_info": {
   "codemirror_mode": {
    "name": "ipython",
    "version": 3
   },
   "file_extension": ".py",
   "mimetype": "text/x-python",
   "name": "python",
   "nbconvert_exporter": "python",
   "pygments_lexer": "ipython3",
   "version": "3.7.6"
  }
 },
 "nbformat": 4,
 "nbformat_minor": 4
}

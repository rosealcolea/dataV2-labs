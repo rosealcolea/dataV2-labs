{
 "cells": [
  {
   "cell_type": "code",
   "execution_count": 15,
   "metadata": {},
   "outputs": [
    {
     "name": "stdout",
     "output_type": "stream",
     "text": [
      "What is the maximal length of the triangle side? Enter a number: 27\n",
      "The longest side possible is 26\n"
     ]
    }
   ],
   "source": [
    "def triangle(X):\n",
    "    for x in range(X, 0, -1):\n",
    "        for y in range(X-1, 0, -1):\n",
    "            if (x*x-y*y)**(1/2) % 1 == 0:\n",
    "            #(x*x==y*y+z*z) & (type(z)==int):\n",
    "                return x\n",
    "                \n",
    "    \n",
    "\n",
    "X = input(\"What is the maximal length of the triangle side? Enter a number: \")\n",
    "\n",
    "print(\"The longest side possible is \" + str(triangle(int(X))))"
   ]
  }
 ],
 "metadata": {
  "kernelspec": {
   "display_name": "Python 3",
   "language": "python",
   "name": "python3"
  },
  "language_info": {
   "codemirror_mode": {
    "name": "ipython",
    "version": 3
   },
   "file_extension": ".py",
   "mimetype": "text/x-python",
   "name": "python",
   "nbconvert_exporter": "python",
   "pygments_lexer": "ipython3",
   "version": "3.7.6"
  }
 },
 "nbformat": 4,
 "nbformat_minor": 4
}

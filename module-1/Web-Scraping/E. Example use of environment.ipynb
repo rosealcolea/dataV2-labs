{
 "cells": [
  {
   "cell_type": "code",
   "execution_count": null,
   "metadata": {},
   "outputs": [],
   "source": [
    "#after including 'setenv GITHUBTOKEN=elkjhdfjlhbefjhbvjhf' \n",
    "#on a separate line in .bash_profile en restarting terminal\n",
    "# (you can use the nano editor for this)\n",
    "import os\n",
    "githubToken = os.getenv(‘GITHUB_TOKEN’)\n",
    "\n",
    "def getAuth(url, baseurl, headers={'Authorization':'token {}'.format(githubToken)}):\n",
    "    completeUrl = baseurl+'{}'.format(url)\n",
    "    print('Asking {}'.format(completeUrl))\n",
    "    res = requests.get(completeUrl, headers=headers)\n",
    "    return res.json()\n",
    "\n",
    "IHrepo = 'api.github.com/ironhack-datalabs/dataV2-labs/'\n",
    "apicall = 'forks'\n",
    "\n",
    "results = getAuth(apicall, IHrepo)\n",
    "\n",
    "#process results for forks\n",
    "\n",
    "apicall = 'commits'\n",
    "results = getAuth(apicall, IHrepo)\n",
    "\n",
    "#process results for commits\n"
   ]
  }
 ],
 "metadata": {
  "kernelspec": {
   "display_name": "Python 3",
   "language": "python",
   "name": "python3"
  },
  "language_info": {
   "codemirror_mode": {
    "name": "ipython",
    "version": 3
   },
   "file_extension": ".py",
   "mimetype": "text/x-python",
   "name": "python",
   "nbconvert_exporter": "python",
   "pygments_lexer": "ipython3",
   "version": "3.7.6"
  }
 },
 "nbformat": 4,
 "nbformat_minor": 4
}

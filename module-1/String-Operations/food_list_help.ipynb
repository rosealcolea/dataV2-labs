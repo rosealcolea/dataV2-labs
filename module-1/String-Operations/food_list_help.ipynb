{
 "cells": [
  {
   "cell_type": "code",
   "execution_count": 7,
   "metadata": {},
   "outputs": [],
   "source": [
    "import re\n",
    "food_list = ['Bananas', 'Chocolate', 'bread', 'diapers', 'Ice Cream', 'Brownie Mix', 'broccoli']\n",
    "# Your code here:\n"
   ]
  },
  {
   "cell_type": "code",
   "execution_count": 2,
   "metadata": {},
   "outputs": [
    {
     "name": "stdout",
     "output_type": "stream",
     "text": [
      "Bananas\n",
      "Chocolate\n",
      "bread\n",
      "diapers\n",
      "Ice Cream\n",
      "Brownie Mix\n",
      "broccoli\n"
     ]
    }
   ],
   "source": [
    "for f in food_list:\n",
    "    print(f)"
   ]
  },
  {
   "cell_type": "code",
   "execution_count": 4,
   "metadata": {},
   "outputs": [
    {
     "name": "stdout",
     "output_type": "stream",
     "text": [
      "bananas\n",
      "chocolate\n",
      "bread\n",
      "diapers\n",
      "ice cream\n",
      "brownie mix\n",
      "broccoli\n"
     ]
    }
   ],
   "source": [
    "for f in food_list:\n",
    "    f=f.lower()\n",
    "    print(f)"
   ]
  },
  {
   "cell_type": "code",
   "execution_count": 16,
   "metadata": {},
   "outputs": [
    {
     "name": "stdout",
     "output_type": "stream",
     "text": [
      "Grocery list: bananas, bread, brownie mix, broccoli.\n"
     ]
    }
   ],
   "source": [
    "grocery = []\n",
    "for f in food_list:\n",
    "    f=f.lower()\n",
    "    if f.startswith('b'):\n",
    "        grocery.append(f)\n",
    "\n",
    "        \n",
    "#print(grocery)\n",
    "\n",
    "print(\"Grocery list: \"+ ', '.join(grocery) + '.')"
   ]
  },
  {
   "cell_type": "code",
   "execution_count": null,
   "metadata": {},
   "outputs": [],
   "source": []
  }
 ],
 "metadata": {
  "kernelspec": {
   "display_name": "Python 3",
   "language": "python",
   "name": "python3"
  },
  "language_info": {
   "codemirror_mode": {
    "name": "ipython",
    "version": 3
   },
   "file_extension": ".py",
   "mimetype": "text/x-python",
   "name": "python",
   "nbconvert_exporter": "python",
   "pygments_lexer": "ipython3",
   "version": "3.7.6"
  }
 },
 "nbformat": 4,
 "nbformat_minor": 4
}

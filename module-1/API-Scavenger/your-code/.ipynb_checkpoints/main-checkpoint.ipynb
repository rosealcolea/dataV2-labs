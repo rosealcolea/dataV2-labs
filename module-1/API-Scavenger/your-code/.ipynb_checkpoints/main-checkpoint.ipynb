{
 "cells": [
  {
   "cell_type": "markdown",
   "metadata": {},
   "source": [
    "# API Scavenger Game\n",
    "\n",
    "## Challenge 1: Fork Languages\n",
    "\n",
    "You will find out how many programming languages are used among all the forks created from the main lab repo of your bootcamp."
   ]
  },
  {
   "cell_type": "code",
   "execution_count": 58,
   "metadata": {},
   "outputs": [],
   "source": [
    "# import libraries here\n",
    "import json\n",
    "import requests\n",
    "import pandas as pd\n",
    "from pandas.io.json import json_normalize\n",
    "import re\n",
    "import numpy as np"
   ]
  },
  {
   "cell_type": "markdown",
   "metadata": {},
   "source": [
    "Assuming the main lab repo is ironhack-datalabs/madrid-oct-2018, you will:\n",
    "\n",
    "#### 1. Obtain the full list of forks created from the main lab repo via Github API."
   ]
  },
  {
   "cell_type": "markdown",
   "metadata": {},
   "source": [
    "To list forks, we can use the GET method. As explained in the GitHub API documentation, we need to make the request to: GET /repos/:owner/:repo/forks."
   ]
  },
  {
   "cell_type": "code",
   "execution_count": 60,
   "metadata": {},
   "outputs": [
    {
     "name": "stderr",
     "output_type": "stream",
     "text": [
      "C:\\ProgramData\\Anaconda3\\lib\\site-packages\\ipykernel_launcher.py:6: FutureWarning: pandas.io.json.json_normalize is deprecated, use pandas.json_normalize instead\n",
      "  \n"
     ]
    },
    {
     "data": {
      "text/html": [
       "<div>\n",
       "<style scoped>\n",
       "    .dataframe tbody tr th:only-of-type {\n",
       "        vertical-align: middle;\n",
       "    }\n",
       "\n",
       "    .dataframe tbody tr th {\n",
       "        vertical-align: top;\n",
       "    }\n",
       "\n",
       "    .dataframe thead th {\n",
       "        text-align: right;\n",
       "    }\n",
       "</style>\n",
       "<table border=\"1\" class=\"dataframe\">\n",
       "  <thead>\n",
       "    <tr style=\"text-align: right;\">\n",
       "      <th></th>\n",
       "      <th>id</th>\n",
       "      <th>node_id</th>\n",
       "      <th>name</th>\n",
       "      <th>full_name</th>\n",
       "      <th>private</th>\n",
       "      <th>html_url</th>\n",
       "      <th>description</th>\n",
       "      <th>fork</th>\n",
       "      <th>url</th>\n",
       "      <th>forks_url</th>\n",
       "      <th>...</th>\n",
       "      <th>owner.following_url</th>\n",
       "      <th>owner.gists_url</th>\n",
       "      <th>owner.starred_url</th>\n",
       "      <th>owner.subscriptions_url</th>\n",
       "      <th>owner.organizations_url</th>\n",
       "      <th>owner.repos_url</th>\n",
       "      <th>owner.events_url</th>\n",
       "      <th>owner.received_events_url</th>\n",
       "      <th>owner.type</th>\n",
       "      <th>owner.site_admin</th>\n",
       "    </tr>\n",
       "  </thead>\n",
       "  <tbody>\n",
       "    <tr>\n",
       "      <th>0</th>\n",
       "      <td>261791698</td>\n",
       "      <td>MDEwOlJlcG9zaXRvcnkyNjE3OTE2OTg=</td>\n",
       "      <td>dataV2-labs</td>\n",
       "      <td>llopisaleix/dataV2-labs</td>\n",
       "      <td>False</td>\n",
       "      <td>https://github.com/llopisaleix/dataV2-labs</td>\n",
       "      <td>None</td>\n",
       "      <td>True</td>\n",
       "      <td>https://api.github.com/repos/llopisaleix/dataV...</td>\n",
       "      <td>https://api.github.com/repos/llopisaleix/dataV...</td>\n",
       "      <td>...</td>\n",
       "      <td>https://api.github.com/users/llopisaleix/follo...</td>\n",
       "      <td>https://api.github.com/users/llopisaleix/gists...</td>\n",
       "      <td>https://api.github.com/users/llopisaleix/starr...</td>\n",
       "      <td>https://api.github.com/users/llopisaleix/subsc...</td>\n",
       "      <td>https://api.github.com/users/llopisaleix/orgs</td>\n",
       "      <td>https://api.github.com/users/llopisaleix/repos</td>\n",
       "      <td>https://api.github.com/users/llopisaleix/event...</td>\n",
       "      <td>https://api.github.com/users/llopisaleix/recei...</td>\n",
       "      <td>User</td>\n",
       "      <td>False</td>\n",
       "    </tr>\n",
       "    <tr>\n",
       "      <th>1</th>\n",
       "      <td>261162998</td>\n",
       "      <td>MDEwOlJlcG9zaXRvcnkyNjExNjI5OTg=</td>\n",
       "      <td>dataV2-labs</td>\n",
       "      <td>Mingiziem/dataV2-labs</td>\n",
       "      <td>False</td>\n",
       "      <td>https://github.com/Mingiziem/dataV2-labs</td>\n",
       "      <td>None</td>\n",
       "      <td>True</td>\n",
       "      <td>https://api.github.com/repos/Mingiziem/dataV2-...</td>\n",
       "      <td>https://api.github.com/repos/Mingiziem/dataV2-...</td>\n",
       "      <td>...</td>\n",
       "      <td>https://api.github.com/users/Mingiziem/followi...</td>\n",
       "      <td>https://api.github.com/users/Mingiziem/gists{/...</td>\n",
       "      <td>https://api.github.com/users/Mingiziem/starred...</td>\n",
       "      <td>https://api.github.com/users/Mingiziem/subscri...</td>\n",
       "      <td>https://api.github.com/users/Mingiziem/orgs</td>\n",
       "      <td>https://api.github.com/users/Mingiziem/repos</td>\n",
       "      <td>https://api.github.com/users/Mingiziem/events{...</td>\n",
       "      <td>https://api.github.com/users/Mingiziem/receive...</td>\n",
       "      <td>User</td>\n",
       "      <td>False</td>\n",
       "    </tr>\n",
       "    <tr>\n",
       "      <th>2</th>\n",
       "      <td>261150300</td>\n",
       "      <td>MDEwOlJlcG9zaXRvcnkyNjExNTAzMDA=</td>\n",
       "      <td>dataV2-labs</td>\n",
       "      <td>rosealcolea/dataV2-labs</td>\n",
       "      <td>False</td>\n",
       "      <td>https://github.com/rosealcolea/dataV2-labs</td>\n",
       "      <td>None</td>\n",
       "      <td>True</td>\n",
       "      <td>https://api.github.com/repos/rosealcolea/dataV...</td>\n",
       "      <td>https://api.github.com/repos/rosealcolea/dataV...</td>\n",
       "      <td>...</td>\n",
       "      <td>https://api.github.com/users/rosealcolea/follo...</td>\n",
       "      <td>https://api.github.com/users/rosealcolea/gists...</td>\n",
       "      <td>https://api.github.com/users/rosealcolea/starr...</td>\n",
       "      <td>https://api.github.com/users/rosealcolea/subsc...</td>\n",
       "      <td>https://api.github.com/users/rosealcolea/orgs</td>\n",
       "      <td>https://api.github.com/users/rosealcolea/repos</td>\n",
       "      <td>https://api.github.com/users/rosealcolea/event...</td>\n",
       "      <td>https://api.github.com/users/rosealcolea/recei...</td>\n",
       "      <td>User</td>\n",
       "      <td>False</td>\n",
       "    </tr>\n",
       "    <tr>\n",
       "      <th>3</th>\n",
       "      <td>261144946</td>\n",
       "      <td>MDEwOlJlcG9zaXRvcnkyNjExNDQ5NDY=</td>\n",
       "      <td>dataV2-labs</td>\n",
       "      <td>erin-berardi/dataV2-labs</td>\n",
       "      <td>False</td>\n",
       "      <td>https://github.com/erin-berardi/dataV2-labs</td>\n",
       "      <td>None</td>\n",
       "      <td>True</td>\n",
       "      <td>https://api.github.com/repos/erin-berardi/data...</td>\n",
       "      <td>https://api.github.com/repos/erin-berardi/data...</td>\n",
       "      <td>...</td>\n",
       "      <td>https://api.github.com/users/erin-berardi/foll...</td>\n",
       "      <td>https://api.github.com/users/erin-berardi/gist...</td>\n",
       "      <td>https://api.github.com/users/erin-berardi/star...</td>\n",
       "      <td>https://api.github.com/users/erin-berardi/subs...</td>\n",
       "      <td>https://api.github.com/users/erin-berardi/orgs</td>\n",
       "      <td>https://api.github.com/users/erin-berardi/repos</td>\n",
       "      <td>https://api.github.com/users/erin-berardi/even...</td>\n",
       "      <td>https://api.github.com/users/erin-berardi/rece...</td>\n",
       "      <td>User</td>\n",
       "      <td>False</td>\n",
       "    </tr>\n",
       "    <tr>\n",
       "      <th>4</th>\n",
       "      <td>261144477</td>\n",
       "      <td>MDEwOlJlcG9zaXRvcnkyNjExNDQ0Nzc=</td>\n",
       "      <td>dataV2-labs</td>\n",
       "      <td>vivaveeka/dataV2-labs</td>\n",
       "      <td>False</td>\n",
       "      <td>https://github.com/vivaveeka/dataV2-labs</td>\n",
       "      <td>None</td>\n",
       "      <td>True</td>\n",
       "      <td>https://api.github.com/repos/vivaveeka/dataV2-...</td>\n",
       "      <td>https://api.github.com/repos/vivaveeka/dataV2-...</td>\n",
       "      <td>...</td>\n",
       "      <td>https://api.github.com/users/vivaveeka/followi...</td>\n",
       "      <td>https://api.github.com/users/vivaveeka/gists{/...</td>\n",
       "      <td>https://api.github.com/users/vivaveeka/starred...</td>\n",
       "      <td>https://api.github.com/users/vivaveeka/subscri...</td>\n",
       "      <td>https://api.github.com/users/vivaveeka/orgs</td>\n",
       "      <td>https://api.github.com/users/vivaveeka/repos</td>\n",
       "      <td>https://api.github.com/users/vivaveeka/events{...</td>\n",
       "      <td>https://api.github.com/users/vivaveeka/receive...</td>\n",
       "      <td>User</td>\n",
       "      <td>False</td>\n",
       "    </tr>\n",
       "  </tbody>\n",
       "</table>\n",
       "<p>5 rows × 90 columns</p>\n",
       "</div>"
      ],
      "text/plain": [
       "          id                           node_id         name  \\\n",
       "0  261791698  MDEwOlJlcG9zaXRvcnkyNjE3OTE2OTg=  dataV2-labs   \n",
       "1  261162998  MDEwOlJlcG9zaXRvcnkyNjExNjI5OTg=  dataV2-labs   \n",
       "2  261150300  MDEwOlJlcG9zaXRvcnkyNjExNTAzMDA=  dataV2-labs   \n",
       "3  261144946  MDEwOlJlcG9zaXRvcnkyNjExNDQ5NDY=  dataV2-labs   \n",
       "4  261144477  MDEwOlJlcG9zaXRvcnkyNjExNDQ0Nzc=  dataV2-labs   \n",
       "\n",
       "                  full_name  private  \\\n",
       "0   llopisaleix/dataV2-labs    False   \n",
       "1     Mingiziem/dataV2-labs    False   \n",
       "2   rosealcolea/dataV2-labs    False   \n",
       "3  erin-berardi/dataV2-labs    False   \n",
       "4     vivaveeka/dataV2-labs    False   \n",
       "\n",
       "                                      html_url description  fork  \\\n",
       "0   https://github.com/llopisaleix/dataV2-labs        None  True   \n",
       "1     https://github.com/Mingiziem/dataV2-labs        None  True   \n",
       "2   https://github.com/rosealcolea/dataV2-labs        None  True   \n",
       "3  https://github.com/erin-berardi/dataV2-labs        None  True   \n",
       "4     https://github.com/vivaveeka/dataV2-labs        None  True   \n",
       "\n",
       "                                                 url  \\\n",
       "0  https://api.github.com/repos/llopisaleix/dataV...   \n",
       "1  https://api.github.com/repos/Mingiziem/dataV2-...   \n",
       "2  https://api.github.com/repos/rosealcolea/dataV...   \n",
       "3  https://api.github.com/repos/erin-berardi/data...   \n",
       "4  https://api.github.com/repos/vivaveeka/dataV2-...   \n",
       "\n",
       "                                           forks_url  ...  \\\n",
       "0  https://api.github.com/repos/llopisaleix/dataV...  ...   \n",
       "1  https://api.github.com/repos/Mingiziem/dataV2-...  ...   \n",
       "2  https://api.github.com/repos/rosealcolea/dataV...  ...   \n",
       "3  https://api.github.com/repos/erin-berardi/data...  ...   \n",
       "4  https://api.github.com/repos/vivaveeka/dataV2-...  ...   \n",
       "\n",
       "                                 owner.following_url  \\\n",
       "0  https://api.github.com/users/llopisaleix/follo...   \n",
       "1  https://api.github.com/users/Mingiziem/followi...   \n",
       "2  https://api.github.com/users/rosealcolea/follo...   \n",
       "3  https://api.github.com/users/erin-berardi/foll...   \n",
       "4  https://api.github.com/users/vivaveeka/followi...   \n",
       "\n",
       "                                     owner.gists_url  \\\n",
       "0  https://api.github.com/users/llopisaleix/gists...   \n",
       "1  https://api.github.com/users/Mingiziem/gists{/...   \n",
       "2  https://api.github.com/users/rosealcolea/gists...   \n",
       "3  https://api.github.com/users/erin-berardi/gist...   \n",
       "4  https://api.github.com/users/vivaveeka/gists{/...   \n",
       "\n",
       "                                   owner.starred_url  \\\n",
       "0  https://api.github.com/users/llopisaleix/starr...   \n",
       "1  https://api.github.com/users/Mingiziem/starred...   \n",
       "2  https://api.github.com/users/rosealcolea/starr...   \n",
       "3  https://api.github.com/users/erin-berardi/star...   \n",
       "4  https://api.github.com/users/vivaveeka/starred...   \n",
       "\n",
       "                             owner.subscriptions_url  \\\n",
       "0  https://api.github.com/users/llopisaleix/subsc...   \n",
       "1  https://api.github.com/users/Mingiziem/subscri...   \n",
       "2  https://api.github.com/users/rosealcolea/subsc...   \n",
       "3  https://api.github.com/users/erin-berardi/subs...   \n",
       "4  https://api.github.com/users/vivaveeka/subscri...   \n",
       "\n",
       "                          owner.organizations_url  \\\n",
       "0   https://api.github.com/users/llopisaleix/orgs   \n",
       "1     https://api.github.com/users/Mingiziem/orgs   \n",
       "2   https://api.github.com/users/rosealcolea/orgs   \n",
       "3  https://api.github.com/users/erin-berardi/orgs   \n",
       "4     https://api.github.com/users/vivaveeka/orgs   \n",
       "\n",
       "                                   owner.repos_url  \\\n",
       "0   https://api.github.com/users/llopisaleix/repos   \n",
       "1     https://api.github.com/users/Mingiziem/repos   \n",
       "2   https://api.github.com/users/rosealcolea/repos   \n",
       "3  https://api.github.com/users/erin-berardi/repos   \n",
       "4     https://api.github.com/users/vivaveeka/repos   \n",
       "\n",
       "                                    owner.events_url  \\\n",
       "0  https://api.github.com/users/llopisaleix/event...   \n",
       "1  https://api.github.com/users/Mingiziem/events{...   \n",
       "2  https://api.github.com/users/rosealcolea/event...   \n",
       "3  https://api.github.com/users/erin-berardi/even...   \n",
       "4  https://api.github.com/users/vivaveeka/events{...   \n",
       "\n",
       "                           owner.received_events_url owner.type  \\\n",
       "0  https://api.github.com/users/llopisaleix/recei...       User   \n",
       "1  https://api.github.com/users/Mingiziem/receive...       User   \n",
       "2  https://api.github.com/users/rosealcolea/recei...       User   \n",
       "3  https://api.github.com/users/erin-berardi/rece...       User   \n",
       "4  https://api.github.com/users/vivaveeka/receive...       User   \n",
       "\n",
       "  owner.site_admin  \n",
       "0            False  \n",
       "1            False  \n",
       "2            False  \n",
       "3            False  \n",
       "4            False  \n",
       "\n",
       "[5 rows x 90 columns]"
      ]
     },
     "execution_count": 60,
     "metadata": {},
     "output_type": "execute_result"
    }
   ],
   "source": [
    "# your code here\n",
    "response = requests.get('https://api.github.com/repos/ironhack-datalabs/dataV2-labs/forks?page=(1&2)&per_page=100')\n",
    "#results = response.json()\n",
    "#data = pd.DataFrame(results)\n",
    "#data.head()\n",
    "results = json_normalize(response.json())\n",
    "results.head()"
   ]
  },
  {
   "cell_type": "markdown",
   "metadata": {},
   "source": [
    "#### 2. Loop the JSON response to find out the language attribute of each fork. Use an array to store the language attributes of each fork.\n",
    "Hint: Each language should appear only once in your array.\n",
    "Print the language array. It should be something like: [\"Python\", \"Jupyter Notebook\", \"HTML\"]"
   ]
  },
  {
   "cell_type": "code",
   "execution_count": 29,
   "metadata": {},
   "outputs": [
    {
     "data": {
      "text/plain": [
       "['id',\n",
       " 'node_id',\n",
       " 'name',\n",
       " 'full_name',\n",
       " 'private',\n",
       " 'html_url',\n",
       " 'description',\n",
       " 'fork',\n",
       " 'url',\n",
       " 'forks_url',\n",
       " 'keys_url',\n",
       " 'collaborators_url',\n",
       " 'teams_url',\n",
       " 'hooks_url',\n",
       " 'issue_events_url',\n",
       " 'events_url',\n",
       " 'assignees_url',\n",
       " 'branches_url',\n",
       " 'tags_url',\n",
       " 'blobs_url',\n",
       " 'git_tags_url',\n",
       " 'git_refs_url',\n",
       " 'trees_url',\n",
       " 'statuses_url',\n",
       " 'languages_url',\n",
       " 'stargazers_url',\n",
       " 'contributors_url',\n",
       " 'subscribers_url',\n",
       " 'subscription_url',\n",
       " 'commits_url',\n",
       " 'git_commits_url',\n",
       " 'comments_url',\n",
       " 'issue_comment_url',\n",
       " 'contents_url',\n",
       " 'compare_url',\n",
       " 'merges_url',\n",
       " 'archive_url',\n",
       " 'downloads_url',\n",
       " 'issues_url',\n",
       " 'pulls_url',\n",
       " 'milestones_url',\n",
       " 'notifications_url',\n",
       " 'labels_url',\n",
       " 'releases_url',\n",
       " 'deployments_url',\n",
       " 'created_at',\n",
       " 'updated_at',\n",
       " 'pushed_at',\n",
       " 'git_url',\n",
       " 'ssh_url',\n",
       " 'clone_url',\n",
       " 'svn_url',\n",
       " 'homepage',\n",
       " 'size',\n",
       " 'stargazers_count',\n",
       " 'watchers_count',\n",
       " 'language',\n",
       " 'has_issues',\n",
       " 'has_projects',\n",
       " 'has_downloads',\n",
       " 'has_wiki',\n",
       " 'has_pages',\n",
       " 'forks_count',\n",
       " 'mirror_url',\n",
       " 'archived',\n",
       " 'disabled',\n",
       " 'open_issues_count',\n",
       " 'license',\n",
       " 'forks',\n",
       " 'open_issues',\n",
       " 'watchers',\n",
       " 'default_branch',\n",
       " 'owner.login',\n",
       " 'owner.id',\n",
       " 'owner.node_id',\n",
       " 'owner.avatar_url',\n",
       " 'owner.gravatar_id',\n",
       " 'owner.url',\n",
       " 'owner.html_url',\n",
       " 'owner.followers_url',\n",
       " 'owner.following_url',\n",
       " 'owner.gists_url',\n",
       " 'owner.starred_url',\n",
       " 'owner.subscriptions_url',\n",
       " 'owner.organizations_url',\n",
       " 'owner.repos_url',\n",
       " 'owner.events_url',\n",
       " 'owner.received_events_url',\n",
       " 'owner.type',\n",
       " 'owner.site_admin']"
      ]
     },
     "execution_count": 29,
     "metadata": {},
     "output_type": "execute_result"
    }
   ],
   "source": [
    "# obtaining a lsit of all the columns to find the lnaguage column\n",
    "list(results)"
   ]
  },
  {
   "cell_type": "code",
   "execution_count": 30,
   "metadata": {},
   "outputs": [
    {
     "data": {
      "text/plain": [
       "{'AGS Script', 'Jupyter Notebook', None}"
      ]
     },
     "execution_count": 30,
     "metadata": {},
     "output_type": "execute_result"
    }
   ],
   "source": [
    "# adding the values of the language column into a list\n",
    "languages = results['language']\n",
    "\n",
    "# transforming the list into a set to retrieve the unique values\n",
    "set(languages)"
   ]
  },
  {
   "cell_type": "markdown",
   "metadata": {},
   "source": [
    "## Challenge 2: Count Commits\n",
    "Count how many commits were made in the month of october of 2018.\n",
    "#### 1. Obtain all the commits made in October 2018 via API, which is a JSON array that contains multiple commit objects."
   ]
  },
  {
   "cell_type": "code",
   "execution_count": 53,
   "metadata": {},
   "outputs": [
    {
     "data": {
      "text/plain": [
       "\"\\nTesting wether a different url would be more appropiate\\ncommits instead of forks\\n\\nresponse2 = requests.get('https://api.github.com/repos/ironhack-datalabs/dataV2-labs/commits?page=(1&2)&per_page=100')\\nresults2 = json_normalize(response.json())\\nresults2.head()\\n\""
      ]
     },
     "execution_count": 53,
     "metadata": {},
     "output_type": "execute_result"
    }
   ],
   "source": [
    "\"\"\"\n",
    "Testing wether a different url would be more appropiate\n",
    "commits instead of forks\n",
    "\n",
    "response2 = requests.get('https://api.github.com/repos/ironhack-datalabs/dataV2-labs/commits?page=(1&2)&per_page=100')\n",
    "results2 = json_normalize(response.json())\n",
    "results2.head()\n",
    "\"\"\""
   ]
  },
  {
   "cell_type": "code",
   "execution_count": 52,
   "metadata": {},
   "outputs": [],
   "source": [
    "#list(results2)"
   ]
  },
  {
   "cell_type": "code",
   "execution_count": 61,
   "metadata": {},
   "outputs": [
    {
     "name": "stdout",
     "output_type": "stream",
     "text": [
      "['2019-10-23T13:58:12Z', '2019-10-23T13:58:12Z', '2019-10-23T13:58:12Z', '2019-10-23T13:57:28Z', '2019-10-22T14:49:41Z']\n"
     ]
    }
   ],
   "source": [
    "# your code here\n",
    "\n",
    "# retrieving all commit dates (interpreting commit as 'push' date)\n",
    "commits = str(results['pushed_at'])\n",
    "commits\n",
    "\n",
    "# extracting only the commits pushed in October 2019 (updating to 2019 instead of 2018 because there is no data for 2018)\n",
    "date = '2019-10[\\w:-]*'\n",
    "commits_Oct2019 = re.findall(date, commits)\n",
    "print(commits_Oct2019)"
   ]
  },
  {
   "cell_type": "markdown",
   "metadata": {},
   "source": [
    "#### 2. Count how many commit objects are contained in the array."
   ]
  },
  {
   "cell_type": "code",
   "execution_count": 54,
   "metadata": {},
   "outputs": [
    {
     "data": {
      "text/plain": [
       "5"
      ]
     },
     "execution_count": 54,
     "metadata": {},
     "output_type": "execute_result"
    }
   ],
   "source": [
    "# your code here\n",
    "len(commits_Oct2019)"
   ]
  },
  {
   "cell_type": "markdown",
   "metadata": {},
   "source": [
    "## Challenge 3: Hidden Cold Joke\n",
    "\n",
    "Using Python, call Github API to find out the cold joke contained in the 24 secret files in the following repo:\n",
    "\n",
    "https://github.com/ironhack-datalabs/scavenger\n",
    "\n",
    "The filenames of the secret files contain .scavengerhunt and they are scattered in different directories of this repo. The secret files are named from .0001.scavengerhunt to .0024.scavengerhunt. They are scattered randomly throughout this repo. You need to search for these files by calling the Github API, not searching the local files on your computer.\n",
    "\n",
    "#### 1. Find the secret files."
   ]
  },
  {
   "cell_type": "code",
   "execution_count": 70,
   "metadata": {},
   "outputs": [
    {
     "name": "stderr",
     "output_type": "stream",
     "text": [
      "C:\\ProgramData\\Anaconda3\\lib\\site-packages\\ipykernel_launcher.py:3: FutureWarning: pandas.io.json.json_normalize is deprecated, use pandas.json_normalize instead\n",
      "  This is separate from the ipykernel package so we can avoid doing imports until\n"
     ]
    },
    {
     "data": {
      "text/html": [
       "<div>\n",
       "<style scoped>\n",
       "    .dataframe tbody tr th:only-of-type {\n",
       "        vertical-align: middle;\n",
       "    }\n",
       "\n",
       "    .dataframe tbody tr th {\n",
       "        vertical-align: top;\n",
       "    }\n",
       "\n",
       "    .dataframe thead th {\n",
       "        text-align: right;\n",
       "    }\n",
       "</style>\n",
       "<table border=\"1\" class=\"dataframe\">\n",
       "  <thead>\n",
       "    <tr style=\"text-align: right;\">\n",
       "      <th></th>\n",
       "      <th>name</th>\n",
       "      <th>path</th>\n",
       "      <th>sha</th>\n",
       "      <th>size</th>\n",
       "      <th>url</th>\n",
       "      <th>html_url</th>\n",
       "      <th>git_url</th>\n",
       "      <th>download_url</th>\n",
       "      <th>type</th>\n",
       "      <th>_links.self</th>\n",
       "      <th>_links.git</th>\n",
       "      <th>_links.html</th>\n",
       "    </tr>\n",
       "  </thead>\n",
       "  <tbody>\n",
       "    <tr>\n",
       "      <th>0</th>\n",
       "      <td>.0008.scavengerhunt</td>\n",
       "      <td>15534/.0008.scavengerhunt</td>\n",
       "      <td>e351fb73264581ce26504b97ef07daea35116f32</td>\n",
       "      <td>6</td>\n",
       "      <td>https://api.github.com/repos/ironhack-datalabs...</td>\n",
       "      <td>https://github.com/ironhack-datalabs/scavenger...</td>\n",
       "      <td>https://api.github.com/repos/ironhack-datalabs...</td>\n",
       "      <td>https://raw.githubusercontent.com/ironhack-dat...</td>\n",
       "      <td>file</td>\n",
       "      <td>https://api.github.com/repos/ironhack-datalabs...</td>\n",
       "      <td>https://api.github.com/repos/ironhack-datalabs...</td>\n",
       "      <td>https://github.com/ironhack-datalabs/scavenger...</td>\n",
       "    </tr>\n",
       "    <tr>\n",
       "      <th>1</th>\n",
       "      <td>.0012.scavengerhunt</td>\n",
       "      <td>15534/.0012.scavengerhunt</td>\n",
       "      <td>209e3ef4b6247ce746048d5711befda46206d235</td>\n",
       "      <td>3</td>\n",
       "      <td>https://api.github.com/repos/ironhack-datalabs...</td>\n",
       "      <td>https://github.com/ironhack-datalabs/scavenger...</td>\n",
       "      <td>https://api.github.com/repos/ironhack-datalabs...</td>\n",
       "      <td>https://raw.githubusercontent.com/ironhack-dat...</td>\n",
       "      <td>file</td>\n",
       "      <td>https://api.github.com/repos/ironhack-datalabs...</td>\n",
       "      <td>https://api.github.com/repos/ironhack-datalabs...</td>\n",
       "      <td>https://github.com/ironhack-datalabs/scavenger...</td>\n",
       "    </tr>\n",
       "    <tr>\n",
       "      <th>2</th>\n",
       "      <td>2</td>\n",
       "      <td>15534/2</td>\n",
       "      <td>e69de29bb2d1d6434b8b29ae775ad8c2e48c5391</td>\n",
       "      <td>0</td>\n",
       "      <td>https://api.github.com/repos/ironhack-datalabs...</td>\n",
       "      <td>https://github.com/ironhack-datalabs/scavenger...</td>\n",
       "      <td>https://api.github.com/repos/ironhack-datalabs...</td>\n",
       "      <td>https://raw.githubusercontent.com/ironhack-dat...</td>\n",
       "      <td>file</td>\n",
       "      <td>https://api.github.com/repos/ironhack-datalabs...</td>\n",
       "      <td>https://api.github.com/repos/ironhack-datalabs...</td>\n",
       "      <td>https://github.com/ironhack-datalabs/scavenger...</td>\n",
       "    </tr>\n",
       "    <tr>\n",
       "      <th>3</th>\n",
       "      <td>98</td>\n",
       "      <td>15534/98</td>\n",
       "      <td>e69de29bb2d1d6434b8b29ae775ad8c2e48c5391</td>\n",
       "      <td>0</td>\n",
       "      <td>https://api.github.com/repos/ironhack-datalabs...</td>\n",
       "      <td>https://github.com/ironhack-datalabs/scavenger...</td>\n",
       "      <td>https://api.github.com/repos/ironhack-datalabs...</td>\n",
       "      <td>https://raw.githubusercontent.com/ironhack-dat...</td>\n",
       "      <td>file</td>\n",
       "      <td>https://api.github.com/repos/ironhack-datalabs...</td>\n",
       "      <td>https://api.github.com/repos/ironhack-datalabs...</td>\n",
       "      <td>https://github.com/ironhack-datalabs/scavenger...</td>\n",
       "    </tr>\n",
       "  </tbody>\n",
       "</table>\n",
       "</div>"
      ],
      "text/plain": [
       "                  name                       path  \\\n",
       "0  .0008.scavengerhunt  15534/.0008.scavengerhunt   \n",
       "1  .0012.scavengerhunt  15534/.0012.scavengerhunt   \n",
       "2                    2                    15534/2   \n",
       "3                   98                   15534/98   \n",
       "\n",
       "                                        sha  size  \\\n",
       "0  e351fb73264581ce26504b97ef07daea35116f32     6   \n",
       "1  209e3ef4b6247ce746048d5711befda46206d235     3   \n",
       "2  e69de29bb2d1d6434b8b29ae775ad8c2e48c5391     0   \n",
       "3  e69de29bb2d1d6434b8b29ae775ad8c2e48c5391     0   \n",
       "\n",
       "                                                 url  \\\n",
       "0  https://api.github.com/repos/ironhack-datalabs...   \n",
       "1  https://api.github.com/repos/ironhack-datalabs...   \n",
       "2  https://api.github.com/repos/ironhack-datalabs...   \n",
       "3  https://api.github.com/repos/ironhack-datalabs...   \n",
       "\n",
       "                                            html_url  \\\n",
       "0  https://github.com/ironhack-datalabs/scavenger...   \n",
       "1  https://github.com/ironhack-datalabs/scavenger...   \n",
       "2  https://github.com/ironhack-datalabs/scavenger...   \n",
       "3  https://github.com/ironhack-datalabs/scavenger...   \n",
       "\n",
       "                                             git_url  \\\n",
       "0  https://api.github.com/repos/ironhack-datalabs...   \n",
       "1  https://api.github.com/repos/ironhack-datalabs...   \n",
       "2  https://api.github.com/repos/ironhack-datalabs...   \n",
       "3  https://api.github.com/repos/ironhack-datalabs...   \n",
       "\n",
       "                                        download_url  type  \\\n",
       "0  https://raw.githubusercontent.com/ironhack-dat...  file   \n",
       "1  https://raw.githubusercontent.com/ironhack-dat...  file   \n",
       "2  https://raw.githubusercontent.com/ironhack-dat...  file   \n",
       "3  https://raw.githubusercontent.com/ironhack-dat...  file   \n",
       "\n",
       "                                         _links.self  \\\n",
       "0  https://api.github.com/repos/ironhack-datalabs...   \n",
       "1  https://api.github.com/repos/ironhack-datalabs...   \n",
       "2  https://api.github.com/repos/ironhack-datalabs...   \n",
       "3  https://api.github.com/repos/ironhack-datalabs...   \n",
       "\n",
       "                                          _links.git  \\\n",
       "0  https://api.github.com/repos/ironhack-datalabs...   \n",
       "1  https://api.github.com/repos/ironhack-datalabs...   \n",
       "2  https://api.github.com/repos/ironhack-datalabs...   \n",
       "3  https://api.github.com/repos/ironhack-datalabs...   \n",
       "\n",
       "                                         _links.html  \n",
       "0  https://github.com/ironhack-datalabs/scavenger...  \n",
       "1  https://github.com/ironhack-datalabs/scavenger...  \n",
       "2  https://github.com/ironhack-datalabs/scavenger...  \n",
       "3  https://github.com/ironhack-datalabs/scavenger...  "
      ]
     },
     "execution_count": 70,
     "metadata": {},
     "output_type": "execute_result"
    }
   ],
   "source": [
    "# your code here\n",
    "response3 = requests.get('https://api.github.com/repos/ironhack-datalabs/scavenger/contents/')\n",
    "results3 = json_normalize(response3.json())\n",
    "#np.transpose(results3)\n",
    "results3\n",
    "#list(results3)"
   ]
  },
  {
   "cell_type": "markdown",
   "metadata": {},
   "source": [
    "#### 2.  Sort the filenames ascendingly."
   ]
  },
  {
   "cell_type": "code",
   "execution_count": null,
   "metadata": {},
   "outputs": [],
   "source": [
    "# your code here"
   ]
  },
  {
   "cell_type": "markdown",
   "metadata": {},
   "source": [
    "#### 3. Read the content of each secret files into an array of strings.\n",
    "Since the response is encoded, you will need to send the following information in the header of your request:\n",
    "````python\n",
    "headers = {'Accept': 'application/vnd.github.v3.raw'}\n",
    "````"
   ]
  },
  {
   "cell_type": "code",
   "execution_count": null,
   "metadata": {},
   "outputs": [],
   "source": [
    "# your code here"
   ]
  },
  {
   "cell_type": "markdown",
   "metadata": {},
   "source": [
    "#### 4. Concatenate the strings in the array separating each two with a whitespace."
   ]
  },
  {
   "cell_type": "code",
   "execution_count": null,
   "metadata": {},
   "outputs": [],
   "source": [
    "# your code here"
   ]
  },
  {
   "cell_type": "markdown",
   "metadata": {},
   "source": [
    "#### 5. Print out the joke."
   ]
  },
  {
   "cell_type": "code",
   "execution_count": null,
   "metadata": {},
   "outputs": [],
   "source": [
    "# your code here"
   ]
  }
 ],
 "metadata": {
  "kernelspec": {
   "display_name": "Python 3",
   "language": "python",
   "name": "python3"
  },
  "language_info": {
   "codemirror_mode": {
    "name": "ipython",
    "version": 3
   },
   "file_extension": ".py",
   "mimetype": "text/x-python",
   "name": "python",
   "nbconvert_exporter": "python",
   "pygments_lexer": "ipython3",
   "version": "3.7.6"
  }
 },
 "nbformat": 4,
 "nbformat_minor": 2
}

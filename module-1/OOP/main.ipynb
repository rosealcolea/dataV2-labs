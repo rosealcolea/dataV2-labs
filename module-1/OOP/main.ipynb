{
 "cells": [
  {
   "cell_type": "markdown",
   "metadata": {},
   "source": [
    "### Remove All The Marked Elements of a List\n",
    "\n",
    "Define a method/function that removes from a given array of integers all the values contained in a second array."
   ]
  },
  {
   "cell_type": "code",
   "execution_count": null,
   "metadata": {},
   "outputs": [],
   "source": [
    "import pandas as pd"
   ]
  },
  {
   "cell_type": "code",
   "execution_count": null,
   "metadata": {},
   "outputs": [],
   "source": [
    "class List:\n",
    "    def remove_(self, integer_list, values_list):\n",
    "        #your code here\n",
    "        self.integer_list = integer_list\n",
    "        self.values_list = values_list\n",
    "        new_list = [i for i in integer_list if i not in values_list]\n",
    "        return new_list"
   ]
  },
  {
   "cell_type": "markdown",
   "metadata": {},
   "source": [
    "### Method For Counting Total Occurence Of Specific Digits\n",
    "\n",
    "We need a method in the List Class that may count specific digits from a given list of integers. This marked digits will be given in a second list."
   ]
  },
  {
   "cell_type": "code",
   "execution_count": null,
   "metadata": {},
   "outputs": [],
   "source": [
    "class List(object):\n",
    "    def count_spec_digits(self, integers_list, digits_list):\n",
    "        # your code here\n",
    "        self.integers_list = integers_list\n",
    "        self.digits_list = digits_list\n",
    "        count = []\n",
    "        for i in range(len(digits_list)):\n",
    "            count.append(integers_list.count(digits_list[i]))\n",
    "        new_list = [(digits_list[i], count[i]) for i in range(len(digits_list))]\n",
    "        return new_list"
   ]
  },
  {
   "cell_type": "markdown",
   "metadata": {},
   "source": [
    "### Ordered Count of Characters\n",
    "\n",
    "Count the number of occurrences of each character and return it as a list of tuples in order of appearance. For empty output return an empty list."
   ]
  },
  {
   "cell_type": "code",
   "execution_count": 13,
   "metadata": {},
   "outputs": [
    {
     "data": {
      "text/plain": [
       "[('a', 6), ('b', 2), ('b', 2), ('c', 1), ('d', 2), ('d', 2)]"
      ]
     },
     "execution_count": 13,
     "metadata": {},
     "output_type": "execute_result"
    }
   ],
   "source": [
    "def ordered_count(inp):\n",
    "    new_list = []\n",
    "    for i in inp:\n",
    "        ii = inp.count(i)\n",
    "        #for tup in new_list:\n",
    "            #if tup.index(i) >= 0:\n",
    "                #pass\n",
    "            #else:\n",
    "        new_list.append((i, ii))\n",
    "    for tup in new_list:\n",
    "        if tup in new_list:\n",
    "            new_list.remove(tup)\n",
    "    new_list.sort()\n",
    "    return new_list\n",
    "ordered_count('abadacadabra')"
   ]
  }
 ],
 "metadata": {
  "kernelspec": {
   "display_name": "Python 3",
   "language": "python",
   "name": "python3"
  },
  "language_info": {
   "codemirror_mode": {
    "name": "ipython",
    "version": 3
   },
   "file_extension": ".py",
   "mimetype": "text/x-python",
   "name": "python",
   "nbconvert_exporter": "python",
   "pygments_lexer": "ipython3",
   "version": "3.7.6"
  }
 },
 "nbformat": 4,
 "nbformat_minor": 4
}

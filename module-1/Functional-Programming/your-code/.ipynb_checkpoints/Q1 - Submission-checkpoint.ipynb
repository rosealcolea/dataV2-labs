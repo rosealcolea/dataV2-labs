{
 "cells": [
  {
   "cell_type": "markdown",
   "metadata": {},
   "source": [
    "In the cell below, create a Python function that creates a Bag of Words.\n",
    "\n",
    "Requirements:\n",
    "\n",
    "1. Your function should accept the following parameters:\n",
    "    * `corpus` [REQUIRED] - list of strings.\n",
    "    * `stop_words` [OPTIONAL] - array of stop words. The default value is an empty array.\n",
    "\n",
    "1. Your function should return a Python object that contains the following:\n",
    "    * `bag_of_words` - array of strings of normalized unique words in the corpus.\n",
    "    * `term_freq` - array of the term-frequency vectors."
   ]
  },
  {
   "cell_type": "code",
   "execution_count": 1,
   "metadata": {},
   "outputs": [
    {
     "name": "stdout",
     "output_type": "stream",
     "text": [
      "['Ironhack is Cool!', 'I love Ironhack', 'I am a student at Ironhack.']\n"
     ]
    }
   ],
   "source": [
    "import pandas as pd\n",
    "\n",
    "corpus = ['Ironhack is Cool!', 'I love Ironhack', 'I am a student at Ironhack.']\n",
    "\n",
    "print(corpus)"
   ]
  },
  {
   "cell_type": "code",
   "execution_count": 19,
   "metadata": {},
   "outputs": [
    {
     "data": {
      "text/plain": [
       "{'bag_of_words': ['ironhack',\n",
       "  'is',\n",
       "  'cool',\n",
       "  'i',\n",
       "  'love',\n",
       "  'am',\n",
       "  'a',\n",
       "  'student',\n",
       "  'at'],\n",
       " 'term_freq': [[1, 0, 0, 1, 0, 1, 1, 1, 1]]}"
      ]
     },
     "execution_count": 19,
     "metadata": {},
     "output_type": "execute_result"
    }
   ],
   "source": [
    "# Import required libraries\n",
    "\n",
    "import pandas as pd\n",
    "import re\n",
    "\n",
    "corpus = ['Ironhack is Cool!', 'I love Ironhack', 'I am a student at Ironhack.']\n",
    "\n",
    "# Define function\n",
    "\n",
    "def get_bow_from_docs(corpus, stop_words=[]):\n",
    "    # In the function, first define the variables you will use such as `corpus`, `bag_of_words`, and `term_freq`.\n",
    "    corpus2 = []\n",
    "    bag_of_words = []\n",
    "    term_freq = []\n",
    "    for x in corpus:\n",
    "        x = re.sub('\\W', ' ', x)\n",
    "        x = x.lower().split()\n",
    "        corpus2.append(x)\n",
    "    \n",
    "    for lst in corpus2:\n",
    "        for w in lst:\n",
    "            if w not in bag_of_words and w not in stop_words:\n",
    "                bag_of_words.append(w)\n",
    "                \n",
    "    for item in corpus2:\n",
    "        lst = []\n",
    "        for w in bag_of_words:\n",
    "            if w in item:\n",
    "                lst.append(1)\n",
    "            else:\n",
    "                lst.append(0)\n",
    "    term_freq.append(lst)\n",
    "    \n",
    "    #print(corpus2, bag_of_words, term_freq)\n",
    "    \n",
    "    return {\n",
    "        \"bag_of_words\": bag_of_words,\n",
    "        \"term_freq\": term_freq\n",
    "    }\n",
    "    \n",
    "get_bow_from_docs(corpus, stop_words=[])\n",
    "\n",
    "#print(\"bag_of_words:\", bag_of_words, \"term_freq:\", term_freq)"
   ]
  },
  {
   "cell_type": "markdown",
   "metadata": {},
   "source": [
    "Test your function without stop words. You should see the output like below:\n",
    "\n",
    "```{'bag_of_words': ['ironhack', 'is', 'cool', 'i', 'love', 'am', 'a', 'student', 'at'], 'term_freq': [[1, 1, 1, 0, 0, 0, 0, 0, 0], [1, 0, 0, 1, 1, 0, 0, 0, 0], [1, 0, 0, 1, 0, 1, 1, 1, 1]]}```"
   ]
  },
  {
   "cell_type": "code",
   "execution_count": null,
   "metadata": {},
   "outputs": [],
   "source": [
    "# Define the corpus list\n",
    "a_corpus = ['Ironhack is Cool!', 'I love Ironhack', 'I am a student at Ironhack.']\n",
    "\n",
    "# Obtain BoW from your function\n",
    "bow = get_bow_from_docs(a_corpus)\n",
    "\n",
    "# Print BoW\n",
    "print(bow)"
   ]
  },
  {
   "cell_type": "markdown",
   "metadata": {},
   "source": [
    "If your attempt above is successful, nice work done!\n",
    "\n",
    "Now test your function again with the stop words. In the previous lab we defined the stop words in a large array. In this lab, we'll import the stop words from Scikit-Learn."
   ]
  },
  {
   "cell_type": "code",
   "execution_count": 20,
   "metadata": {},
   "outputs": [
    {
     "name": "stdout",
     "output_type": "stream",
     "text": [
      "frozenset({'last', 'which', 'out', 'he', 'one', 'somehow', 'un', 'found', 're', 'so', 'below', 'himself', 'it', 'more', 'then', 'everywhere', 'during', 'give', 'seeming', 'thereby', 'fire', 'already', 'could', 'are', 'moreover', 'may', 'from', 'on', 'my', 'about', 'another', 'will', 'do', 'every', 'along', 'anyone', 'sixty', 'this', 'hasnt', 'bottom', 'thereupon', 'go', 'at', 'hundred', 'latterly', 'therein', 'your', 'never', 'fifteen', 'whatever', 'each', 'neither', 'through', 'those', 'ever', 'against', 'see', 'until', 'anything', 'even', 'less', 'but', 'wherein', 'ours', 'system', 'all', 'hence', 'whereby', 'amoungst', 'have', 'no', 'became', 'made', 'ltd', 'an', 'whom', 'except', 'nor', 'between', 'thin', 'again', 'co', 'couldnt', 'not', 'ourselves', 'was', 'only', 'whereupon', 'often', 'perhaps', 'otherwise', 'its', 'with', 'has', 'beyond', 'rather', 'whose', 'towards', 'sincere', 'her', 'three', 'always', 'several', 'the', 'ten', 'whereafter', 'nevertheless', 'a', 'six', 'though', 'beside', 'nothing', 'among', 'indeed', 'none', 'we', 'due', 'by', 'than', 'first', 'if', 'hereafter', 'upon', 'forty', 'they', 'throughout', 'either', 'since', 'very', 'can', 'whereas', 'up', 'mine', 'onto', 'whether', 'seem', 'whole', 'them', 'anywhere', 'least', 'via', 'hers', 'full', 'why', 'put', 'amount', 'where', 'when', 'you', 'afterwards', 'well', 'side', 'formerly', 'yet', 'nowhere', 'into', 'besides', 'empty', 'everything', 'becomes', 'alone', 'find', 'thru', 'now', 'yourselves', 'namely', 'or', 'bill', 'under', 'who', 'nobody', 'here', 'sometime', 'is', 'sometimes', 'two', 'i', 'being', 'as', 'front', 'these', 'too', 'off', 'mill', 'own', 'call', 'elsewhere', 'wherever', 'most', 'beforehand', 'us', 'ie', 'anyway', 'she', 'move', 'together', 'whence', 'myself', 'such', 'next', 'am', 'noone', 'thus', 'and', 'should', 'without', 'would', 'con', 'top', 'be', 'becoming', 'seemed', 'itself', 'there', 'keep', 'name', 'else', 'please', 'around', 'same', 'although', 'describe', 'few', 'his', 'much', 'were', 'de', 'detail', 'in', 'twenty', 'still', 'while', 'how', 'back', 'what', 'thereafter', 'somewhere', 'thence', 'four', 'interest', 'across', 'once', 'themselves', 'others', 'almost', 'cant', 'further', 'nine', 'because', 'someone', 'eight', 'take', 'me', 'get', 'been', 'serious', 'twelve', 'any', 'after', 'anyhow', 'mostly', 'cannot', 'everyone', 'had', 'hereby', 'enough', 'must', 'that', 'etc', 'per', 'therefore', 'show', 'become', 'latter', 'down', 'however', 'five', 'hereupon', 'for', 'also', 'whoever', 'fifty', 'some', 'third', 'whither', 'herself', 'their', 'done', 'many', 'toward', 'to', 'other', 'our', 'something', 'amongst', 'seems', 'herein', 'whenever', 'cry', 'him', 'eleven', 'meanwhile', 'former', 'before', 'over', 'fill', 'part', 'behind', 'inc', 'within', 'both', 'yours', 'of', 'eg', 'yourself', 'above', 'might', 'thick'})\n"
     ]
    },
    {
     "name": "stderr",
     "output_type": "stream",
     "text": [
      "C:\\ProgramData\\Anaconda3\\lib\\site-packages\\sklearn\\utils\\deprecation.py:144: FutureWarning: The sklearn.feature_extraction.stop_words module is  deprecated in version 0.22 and will be removed in version 0.24. The corresponding classes / functions should instead be imported from sklearn.feature_extraction.text. Anything that cannot be imported from sklearn.feature_extraction.text is now part of the private API.\n",
      "  warnings.warn(message, FutureWarning)\n"
     ]
    }
   ],
   "source": [
    "from sklearn.feature_extraction import stop_words\n",
    "print(stop_words.ENGLISH_STOP_WORDS)"
   ]
  },
  {
   "cell_type": "markdown",
   "metadata": {},
   "source": [
    "You should have seen a large list of words that looks like:\n",
    "\n",
    "```frozenset({'across', 'mine', 'cannot', ...})```\n",
    "\n",
    "`frozenset` is a type of Python object that is immutable. In this lab you can use it just like an array (list) without conversion."
   ]
  },
  {
   "cell_type": "markdown",
   "metadata": {},
   "source": [
    "Next, test your function with supplying `stop_words.ENGLISH_STOP_WORDS` as the second parameter."
   ]
  },
  {
   "cell_type": "code",
   "execution_count": 22,
   "metadata": {},
   "outputs": [
    {
     "name": "stdout",
     "output_type": "stream",
     "text": [
      "{'bag_of_words': ['ironhack', 'cool', 'love', 'student'], 'term_freq': [[1, 0, 0, 1]]}\n"
     ]
    }
   ],
   "source": [
    "bow = get_bow_from_docs(corpus, stop_words.ENGLISH_STOP_WORDS)\n",
    "\n",
    "print(bow)"
   ]
  },
  {
   "cell_type": "markdown",
   "metadata": {},
   "source": [
    "You should have seen:\n",
    "\n",
    "```{'bag_of_words': ['ironhack', 'cool', 'love', 'student'], 'term_freq': [[1, 1, 0, 0], [1, 0, 1, 0], [1, 0, 0, 1]]}```"
   ]
  },
  {
   "cell_type": "code",
   "execution_count": null,
   "metadata": {},
   "outputs": [],
   "source": []
  }
 ],
 "metadata": {
  "kernelspec": {
   "display_name": "Python 3",
   "language": "python",
   "name": "python3"
  },
  "language_info": {
   "codemirror_mode": {
    "name": "ipython",
    "version": 3
   },
   "file_extension": ".py",
   "mimetype": "text/x-python",
   "name": "python",
   "nbconvert_exporter": "python",
   "pygments_lexer": "ipython3",
   "version": "3.7.6"
  }
 },
 "nbformat": 4,
 "nbformat_minor": 2
}

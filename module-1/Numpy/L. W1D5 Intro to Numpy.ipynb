{
 "cells": [
  {
   "cell_type": "code",
   "execution_count": null,
   "metadata": {},
   "outputs": [],
   "source": [
    "# list\n",
    "lst1 = [1,2,3,4,5,6]\n",
    "lst2 = ['string','another string','yet another']\n",
    "\n",
    "lst3 = ['string', 1.3, 5, [1, 'second string'], {'John':'34-555-1234'}]"
   ]
  },
  {
   "cell_type": "code",
   "execution_count": null,
   "metadata": {},
   "outputs": [],
   "source": [
    "# lst1:\n",
    "#     0 -> (type: int, value: 1)\n",
    "#     1 -> (type:float, value:2.5)\n",
    "#     ...\n",
    "#     5 -> 6\n",
    "    \n",
    "# lst2:\n",
    "#     0 -> (type:string, value: 'string')\n",
    "#     1 -> (type:string, value: 'another string')\n",
    "#     2 -> 'yet another'\n",
    "    \n",
    "# etc."
   ]
  },
  {
   "cell_type": "code",
   "execution_count": 1,
   "metadata": {},
   "outputs": [],
   "source": [
    "import numpy as np"
   ]
  },
  {
   "cell_type": "code",
   "execution_count": 2,
   "metadata": {},
   "outputs": [
    {
     "name": "stdout",
     "output_type": "stream",
     "text": [
      "[[0.5620709  0.62128501 0.26305827 0.35428766]\n",
      " [0.72696287 0.29735172 0.55596014 0.30914644]\n",
      " [0.91406693 0.64812887 0.08002297 0.74947274]\n",
      " [0.65387601 0.66956472 0.17564937 0.04513991]\n",
      " [0.29575139 0.83119685 0.65829961 0.18592188]\n",
      " [0.58122643 0.80386593 0.06192248 0.2005585 ]\n",
      " [0.19034697 0.27447886 0.78422336 0.53202393]\n",
      " [0.43572399 0.64297864 0.00602193 0.94963401]\n",
      " [0.08258831 0.44588999 0.52972862 0.74414611]\n",
      " [0.47178847 0.40269843 0.77782591 0.11789239]]\n"
     ]
    }
   ],
   "source": [
    "a = np.random.random((10,4))\n",
    "print(a)"
   ]
  },
  {
   "cell_type": "code",
   "execution_count": 3,
   "metadata": {},
   "outputs": [
    {
     "name": "stdout",
     "output_type": "stream",
     "text": [
      "(10, 4)\n",
      "40\n"
     ]
    }
   ],
   "source": [
    "print(a.shape)\n",
    "print(a.size)"
   ]
  },
  {
   "cell_type": "code",
   "execution_count": 4,
   "metadata": {},
   "outputs": [
    {
     "name": "stdout",
     "output_type": "stream",
     "text": [
      "[[[0.70320889 0.30920052 0.41872349]\n",
      "  [0.41247428 0.19637921 0.23841517]]\n",
      "\n",
      " [[0.31187318 0.76442607 0.81630247]\n",
      "  [0.96672087 0.98823592 0.12619379]]\n",
      "\n",
      " [[0.34456378 0.12450283 0.54616822]\n",
      "  [0.50302805 0.1330467  0.27245756]]\n",
      "\n",
      " [[0.81020379 0.60214098 0.28335608]\n",
      "  [0.04612902 0.15513025 0.51306905]]\n",
      "\n",
      " [[0.17613691 0.50595619 0.55449763]\n",
      "  [0.65177531 0.36835216 0.13071462]]]\n"
     ]
    }
   ],
   "source": [
    "b = np.random.random((5,2,3))\n",
    "print(b)"
   ]
  },
  {
   "cell_type": "code",
   "execution_count": 6,
   "metadata": {},
   "outputs": [
    {
     "name": "stdout",
     "output_type": "stream",
     "text": [
      "[[[[0.05258385 0.26732953 0.42595702 0.41645595 0.27255633]\n",
      "   [0.76873933 0.311295   0.76641075 0.37847705 0.7136435 ]\n",
      "   [0.94506727 0.77180332 0.37738904 0.28475213 0.16249487]\n",
      "   [0.19225975 0.55569267 0.94581714 0.69336152 0.30841922]]\n",
      "\n",
      "  [[0.41173143 0.26642636 0.11233432 0.09378045 0.12049557]\n",
      "   [0.13203844 0.402936   0.25261081 0.24936772 0.7264378 ]\n",
      "   [0.08978018 0.10474697 0.94546549 0.45811262 0.67327782]\n",
      "   [0.45744217 0.72421831 0.38330017 0.24237089 0.85993774]]\n",
      "\n",
      "  [[0.35136216 0.1711816  0.61779336 0.46693344 0.18250477]\n",
      "   [0.88991468 0.76069565 0.91661767 0.62825501 0.61066905]\n",
      "   [0.94233294 0.43327816 0.71924688 0.00809677 0.54802603]\n",
      "   [0.56420008 0.21810158 0.43841356 0.80096374 0.76237367]]]\n",
      "\n",
      "\n",
      " [[[0.1303935  0.12033835 0.09277972 0.24209732 0.36187   ]\n",
      "   [0.1377688  0.8835152  0.57067803 0.87965384 0.74637523]\n",
      "   [0.99428322 0.65857876 0.15293696 0.02331773 0.12004432]\n",
      "   [0.92027735 0.36731188 0.85121347 0.45630504 0.4986824 ]]\n",
      "\n",
      "  [[0.30696219 0.87640186 0.97930346 0.54777575 0.74037241]\n",
      "   [0.75499206 0.39535548 0.09897213 0.95725833 0.6116932 ]\n",
      "   [0.83054396 0.37496526 0.05119138 0.18951018 0.32625296]\n",
      "   [0.56713626 0.07969464 0.70009099 0.46087046 0.73242458]]\n",
      "\n",
      "  [[0.21938426 0.23535245 0.56535208 0.54485327 0.85416717]\n",
      "   [0.01966215 0.38017967 0.00538278 0.00947837 0.65690101]\n",
      "   [0.64399685 0.46221293 0.7386468  0.76337428 0.41971612]\n",
      "   [0.35699131 0.34728844 0.68208544 0.50703907 0.84260753]]]]\n"
     ]
    }
   ],
   "source": [
    "c = np.random.random((2,3,4,5))\n",
    "print(c)"
   ]
  },
  {
   "cell_type": "code",
   "execution_count": null,
   "metadata": {},
   "outputs": [],
   "source": [
    "# First row of matrix a\n",
    "print(a)\n",
    "print(a[0])"
   ]
  },
  {
   "cell_type": "code",
   "execution_count": null,
   "metadata": {},
   "outputs": [],
   "source": [
    "# First column of matrix a\n",
    "print(a[:,0])"
   ]
  },
  {
   "cell_type": "code",
   "execution_count": null,
   "metadata": {},
   "outputs": [],
   "source": [
    "# Value in the fifth row and third column of matrix a\n",
    "print(a[4,2])"
   ]
  },
  {
   "cell_type": "code",
   "execution_count": null,
   "metadata": {},
   "outputs": [],
   "source": [
    "# list equivalent\n",
    "xlist = [[0.75069265, 0.53100122, 0.48637696, 0.20811268],\n",
    " [0.28855746, 0.86233589, 0.82170344, 0.64340505],\n",
    " [0.66165029 ,0.66529042 ,0.82118104 ,0.33245214],\n",
    " [0.23842237, 0.99227012, 0.70958494, 0.78773342],\n",
    " [0.59956754 ,0.72311601 ,0.78621408 ,0.48428124],\n",
    " [0.77134511, 0.90509481, 0.39564717, 0.70004292],\n",
    " [0.6590291  ,0.28677295 ,0.92953274 ,0.43896178],\n",
    " [0.22973736, 0.96647811, 0.51706048, 0.11653039],\n",
    " [0.27601849 ,0.7595283  ,0.80449362 ,0.42240349],\n",
    " [0.61892953, 0.31949189, 0.83564542, 0.43967919]]\n",
    "#third value in fifth sublist\n",
    "xlist[4][2]\n",
    "#xlist[4,2]\n"
   ]
  },
  {
   "cell_type": "code",
   "execution_count": null,
   "metadata": {},
   "outputs": [],
   "source": [
    "# First group of array c\n",
    "print(c[0])"
   ]
  },
  {
   "cell_type": "code",
   "execution_count": null,
   "metadata": {},
   "outputs": [],
   "source": [
    "# Second subgroup of the first group\n",
    "print(c[0,1])"
   ]
  },
  {
   "cell_type": "code",
   "execution_count": null,
   "metadata": {},
   "outputs": [],
   "source": [
    "# Fourth column of the second subgroup\n",
    "# print(c[0,1,:,3])\n",
    "\n",
    "# print(list(c[0,1,:,3]))\n",
    "\n",
    "#print(c[:,0])\n",
    "\n",
    "newarr = np.array([[0.6718173948698819, 0.9250566560295915], [0.2662825704884635, 0.19996310250953375]])\n",
    "print(newarr)\n"
   ]
  },
  {
   "cell_type": "code",
   "execution_count": null,
   "metadata": {},
   "outputs": [],
   "source": [
    "# Value in the third row and fourth column of the second subgroup of the first group\n",
    "print(c[0,1,2,3])"
   ]
  },
  {
   "cell_type": "code",
   "execution_count": 5,
   "metadata": {},
   "outputs": [
    {
     "name": "stdout",
     "output_type": "stream",
     "text": [
      "[[1 2 3]\n",
      " [4 5 6]\n",
      " [7 8 9]]\n"
     ]
    }
   ],
   "source": [
    "lst_lst = [[1,2,3],[4,5,6],[7,8,9]]\n",
    "d = np.array(lst_lst)\n",
    "print(d)"
   ]
  },
  {
   "cell_type": "code",
   "execution_count": null,
   "metadata": {},
   "outputs": [],
   "source": [
    "# Sum of all elements in matrix a\n",
    "print(np.sum(a))"
   ]
  },
  {
   "cell_type": "code",
   "execution_count": null,
   "metadata": {},
   "outputs": [],
   "source": [
    "# Sum of each column in matrix a\n",
    "print(np.sum(a, axis=0))"
   ]
  },
  {
   "cell_type": "code",
   "execution_count": null,
   "metadata": {},
   "outputs": [],
   "source": [
    "# Sum of each row in matrix a\n",
    "print(np.sum(a, axis=1))"
   ]
  },
  {
   "cell_type": "code",
   "execution_count": null,
   "metadata": {},
   "outputs": [],
   "source": [
    "# Sum of all the elements in the first two groups of array b\n",
    "np.sum(b[:2])"
   ]
  },
  {
   "cell_type": "code",
   "execution_count": null,
   "metadata": {},
   "outputs": [],
   "source": [
    "# Mean of all elements in matrix a\n",
    "print(np.mean(a))\n"
   ]
  },
  {
   "cell_type": "code",
   "execution_count": null,
   "metadata": {},
   "outputs": [],
   "source": [
    "# Mean of each column in matrix a\n",
    "print(np.mean(a, axis=0))"
   ]
  },
  {
   "cell_type": "code",
   "execution_count": null,
   "metadata": {},
   "outputs": [],
   "source": [
    "# Mean of each row in matrix a\n",
    "print(np.mean(a, axis=1))"
   ]
  },
  {
   "cell_type": "code",
   "execution_count": null,
   "metadata": {},
   "outputs": [],
   "source": [
    "# Mean of all the elements in the first two groups of array b\n",
    "np.mean(b[:2])"
   ]
  },
  {
   "cell_type": "code",
   "execution_count": null,
   "metadata": {},
   "outputs": [],
   "source": [
    "x = c[0,0]\n",
    "print(x)"
   ]
  },
  {
   "cell_type": "code",
   "execution_count": null,
   "metadata": {},
   "outputs": [],
   "source": [
    "y = c[0,1]\n",
    "print(y)"
   ]
  },
  {
   "cell_type": "code",
   "execution_count": null,
   "metadata": {},
   "outputs": [],
   "source": [
    "# Add elements of x and y together\n",
    "print(np.add(x, y))"
   ]
  },
  {
   "cell_type": "code",
   "execution_count": null,
   "metadata": {},
   "outputs": [],
   "source": [
    "# Subtract elements of x from elements of y\n",
    "print(np.subtract(y, x))"
   ]
  },
  {
   "cell_type": "code",
   "execution_count": null,
   "metadata": {},
   "outputs": [],
   "source": [
    "# Multiply elements of x and y together\n",
    "print(np.multiply(x, y))"
   ]
  },
  {
   "cell_type": "code",
   "execution_count": null,
   "metadata": {},
   "outputs": [],
   "source": [
    "# Divide elements of y by elements of x\n",
    "print(np.divide(x, y))"
   ]
  },
  {
   "cell_type": "code",
   "execution_count": null,
   "metadata": {},
   "outputs": [],
   "source": [
    "print(d)\n",
    "print(d%2==0)"
   ]
  },
  {
   "cell_type": "code",
   "execution_count": null,
   "metadata": {},
   "outputs": [],
   "source": [
    "%%time\n",
    "for i in range(100000):\n",
    "    z = np.multiply(x, y)"
   ]
  },
  {
   "cell_type": "code",
   "execution_count": null,
   "metadata": {},
   "outputs": [],
   "source": [
    "import random\n",
    "x_list = [[random.random() for j in range(5)] for i in range(4)]\n",
    "y_list = [[random.random() for j in range(5)] for i in range(4)]"
   ]
  },
  {
   "cell_type": "code",
   "execution_count": null,
   "metadata": {},
   "outputs": [],
   "source": [
    "x_list"
   ]
  },
  {
   "cell_type": "code",
   "execution_count": null,
   "metadata": {},
   "outputs": [],
   "source": [
    "%%time\n",
    "for i in range(100000):\n",
    "    z = []\n",
    "    for i in range(4):\n",
    "        innerlist = []\n",
    "        for j in range(5):\n",
    "            innerlist.append(x_list[i][j]*y_list[i][j])\n",
    "        z.append(innerlist)\n",
    "\n",
    "print(z)\n",
    "    "
   ]
  },
  {
   "cell_type": "code",
   "execution_count": null,
   "metadata": {},
   "outputs": [],
   "source": [
    "%%time\n",
    "for i in range(100):\n",
    "    x_new = [j for j in range(1000)]\n",
    "    "
   ]
  },
  {
   "cell_type": "code",
   "execution_count": null,
   "metadata": {},
   "outputs": [],
   "source": [
    "%%time\n",
    "for i in range(100):\n",
    "    x = []\n",
    "    for j in range(1000):\n",
    "        x.append(j)\n",
    "    \n",
    "#print(x)"
   ]
  },
  {
   "cell_type": "code",
   "execution_count": null,
   "metadata": {},
   "outputs": [],
   "source": []
  }
 ],
 "metadata": {
  "kernelspec": {
   "display_name": "Python 3",
   "language": "python",
   "name": "python3"
  },
  "language_info": {
   "codemirror_mode": {
    "name": "ipython",
    "version": 3
   },
   "file_extension": ".py",
   "mimetype": "text/x-python",
   "name": "python",
   "nbconvert_exporter": "python",
   "pygments_lexer": "ipython3",
   "version": "3.7.6"
  }
 },
 "nbformat": 4,
 "nbformat_minor": 2
}

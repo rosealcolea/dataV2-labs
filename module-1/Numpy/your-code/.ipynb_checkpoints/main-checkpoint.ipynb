{
 "cells": [
  {
   "cell_type": "markdown",
   "metadata": {},
   "source": [
    "# Introduction to NumPy\n",
    "\n",
    "\n",
    "#### 1. Import NumPy under the name np."
   ]
  },
  {
   "cell_type": "code",
   "execution_count": 3,
   "metadata": {},
   "outputs": [],
   "source": [
    "# your code here\n",
    "import numpy as np"
   ]
  },
  {
   "cell_type": "markdown",
   "metadata": {},
   "source": [
    "#### 2. Print your NumPy version."
   ]
  },
  {
   "cell_type": "code",
   "execution_count": 4,
   "metadata": {},
   "outputs": [
    {
     "data": {
      "text/plain": [
       "'1.18.1'"
      ]
     },
     "execution_count": 4,
     "metadata": {},
     "output_type": "execute_result"
    }
   ],
   "source": [
    "# your code here\n",
    "np.version.version"
   ]
  },
  {
   "cell_type": "markdown",
   "metadata": {},
   "source": [
    "#### 3. Generate a 2x3x5 3-dimensional array with random values. Assign the array to variable *a*.\n",
    "**Challenge**: there are at least three easy ways that use numpy to generate random arrays. How many ways can you find?"
   ]
  },
  {
   "cell_type": "code",
   "execution_count": 5,
   "metadata": {},
   "outputs": [
    {
     "name": "stdout",
     "output_type": "stream",
     "text": [
      "[[[0.54391464 0.8523429  0.33718626 0.52574181 0.96736604]\n",
      "  [0.9167355  0.47497791 0.75762274 0.69693649 0.58979017]\n",
      "  [0.57295485 0.42327962 0.63877455 0.38654028 0.96039233]]\n",
      "\n",
      " [[0.83515354 0.61644938 0.90595185 0.83008087 0.99282461]\n",
      "  [0.07852535 0.74180068 0.29496141 0.1536334  0.97754389]\n",
      "  [0.43812204 0.32636245 0.97893497 0.25136912 0.0193216 ]]]\n"
     ]
    }
   ],
   "source": [
    "# Method 1\n",
    "a = np.random.random((2,3,5))\n",
    "print(a)"
   ]
  },
  {
   "cell_type": "code",
   "execution_count": 8,
   "metadata": {},
   "outputs": [
    {
     "name": "stdout",
     "output_type": "stream",
     "text": [
      "[[[36 34 34 10 91]\n",
      "  [67  5  4 68 45]\n",
      "  [19 14  2 44 85]]\n",
      "\n",
      " [[44 64 84 29 19]\n",
      "  [31 78 35 73 37]\n",
      "  [19 16 39 99 32]]]\n"
     ]
    }
   ],
   "source": [
    "# Method 2\n",
    "aa = np.random.randint(100, size=(2,3,5))\n",
    "print(aa)"
   ]
  },
  {
   "cell_type": "code",
   "execution_count": 9,
   "metadata": {},
   "outputs": [
    {
     "name": "stdout",
     "output_type": "stream",
     "text": [
      "[[[7 7 9 5 5]\n",
      "  [5 3 3 3 9]\n",
      "  [7 3 5 3 5]]\n",
      "\n",
      " [[5 7 5 9 7]\n",
      "  [7 5 9 3 9]\n",
      "  [5 5 7 5 3]]]\n"
     ]
    }
   ],
   "source": [
    "# Method 3\n",
    "aaa = np.random.choice([3, 5, 7, 9], size=(2,3,5))\n",
    "print(aaa)"
   ]
  },
  {
   "cell_type": "markdown",
   "metadata": {},
   "source": [
    "#### 4. Print *a*.\n"
   ]
  },
  {
   "cell_type": "code",
   "execution_count": 10,
   "metadata": {},
   "outputs": [
    {
     "name": "stdout",
     "output_type": "stream",
     "text": [
      "[[[0.54391464 0.8523429  0.33718626 0.52574181 0.96736604]\n",
      "  [0.9167355  0.47497791 0.75762274 0.69693649 0.58979017]\n",
      "  [0.57295485 0.42327962 0.63877455 0.38654028 0.96039233]]\n",
      "\n",
      " [[0.83515354 0.61644938 0.90595185 0.83008087 0.99282461]\n",
      "  [0.07852535 0.74180068 0.29496141 0.1536334  0.97754389]\n",
      "  [0.43812204 0.32636245 0.97893497 0.25136912 0.0193216 ]]]\n"
     ]
    }
   ],
   "source": [
    "# your code here\n",
    "print(a)"
   ]
  },
  {
   "cell_type": "markdown",
   "metadata": {},
   "source": [
    "#### 5. Create a 5x2x3 3-dimensional array with all values equaling 1. Assign the array to variable *b*."
   ]
  },
  {
   "cell_type": "code",
   "execution_count": 11,
   "metadata": {},
   "outputs": [],
   "source": [
    "# your code here\n",
    "b = np.random.random((5,2,3))"
   ]
  },
  {
   "cell_type": "markdown",
   "metadata": {},
   "source": [
    "#### 6. Print *b*.\n"
   ]
  },
  {
   "cell_type": "code",
   "execution_count": 12,
   "metadata": {},
   "outputs": [
    {
     "name": "stdout",
     "output_type": "stream",
     "text": [
      "[[[0.52319472 0.72686261 0.44347124]\n",
      "  [0.44993359 0.06502713 0.43209526]]\n",
      "\n",
      " [[0.90832235 0.09767656 0.74314103]\n",
      "  [0.15861172 0.17782744 0.25986471]]\n",
      "\n",
      " [[0.69560973 0.1591838  0.95556589]\n",
      "  [0.90970625 0.69010329 0.80946777]]\n",
      "\n",
      " [[0.97075962 0.63450377 0.5314405 ]\n",
      "  [0.35545913 0.75527773 0.79247329]]\n",
      "\n",
      " [[0.17004211 0.51388038 0.01747043]\n",
      "  [0.71502757 0.23687796 0.63252614]]]\n"
     ]
    }
   ],
   "source": [
    "# your code here\n",
    "print(b)"
   ]
  },
  {
   "cell_type": "markdown",
   "metadata": {},
   "source": [
    "#### 7. Do *a* and *b* have the same size? How do you prove that in Python code?"
   ]
  },
  {
   "cell_type": "code",
   "execution_count": 13,
   "metadata": {},
   "outputs": [
    {
     "data": {
      "text/plain": [
       "True"
      ]
     },
     "execution_count": 13,
     "metadata": {},
     "output_type": "execute_result"
    }
   ],
   "source": [
    "# your code here\n",
    "\n",
    "a.size == b.size"
   ]
  },
  {
   "cell_type": "markdown",
   "metadata": {},
   "source": [
    "#### 8. Are you able to add *a* and *b*? Why or why not?\n"
   ]
  },
  {
   "cell_type": "code",
   "execution_count": 14,
   "metadata": {},
   "outputs": [
    {
     "data": {
      "text/plain": [
       "False"
      ]
     },
     "execution_count": 14,
     "metadata": {},
     "output_type": "execute_result"
    }
   ],
   "source": [
    "# your answer here\n",
    "\n",
    "# No, because a and b are not the same shape:\n",
    "a.shape == b.shape"
   ]
  },
  {
   "cell_type": "markdown",
   "metadata": {},
   "source": [
    "#### 9. Transpose *b* so that it has the same structure of *a* (i.e. become a 2x3x5 array). Assign the transposed array to variable *c*."
   ]
  },
  {
   "cell_type": "code",
   "execution_count": 15,
   "metadata": {},
   "outputs": [
    {
     "name": "stdout",
     "output_type": "stream",
     "text": [
      "[[[0.52319472 0.72686261 0.44347124 0.44993359 0.06502713]\n",
      "  [0.43209526 0.90832235 0.09767656 0.74314103 0.15861172]\n",
      "  [0.17782744 0.25986471 0.69560973 0.1591838  0.95556589]]\n",
      "\n",
      " [[0.90970625 0.69010329 0.80946777 0.97075962 0.63450377]\n",
      "  [0.5314405  0.35545913 0.75527773 0.79247329 0.17004211]\n",
      "  [0.51388038 0.01747043 0.71502757 0.23687796 0.63252614]]]\n"
     ]
    }
   ],
   "source": [
    "# your code here\n",
    "\n",
    "c = b.reshape(2,3,5)\n",
    "print(c)"
   ]
  },
  {
   "cell_type": "markdown",
   "metadata": {},
   "source": [
    "#### 10. Try to add *a* and *c*. Now it should work. Assign the sum to variable *d*. But why does it work now?"
   ]
  },
  {
   "cell_type": "code",
   "execution_count": 16,
   "metadata": {},
   "outputs": [],
   "source": [
    "# your code/answer here\n",
    "\n",
    "d= np.add(a,c)"
   ]
  },
  {
   "cell_type": "markdown",
   "metadata": {},
   "source": [
    "#### 11. Print *a* and *d*. Notice the difference and relation of the two array in terms of the values? Explain."
   ]
  },
  {
   "cell_type": "code",
   "execution_count": 17,
   "metadata": {},
   "outputs": [
    {
     "name": "stdout",
     "output_type": "stream",
     "text": [
      "a= [[[0.54391464 0.8523429  0.33718626 0.52574181 0.96736604]\n",
      "  [0.9167355  0.47497791 0.75762274 0.69693649 0.58979017]\n",
      "  [0.57295485 0.42327962 0.63877455 0.38654028 0.96039233]]\n",
      "\n",
      " [[0.83515354 0.61644938 0.90595185 0.83008087 0.99282461]\n",
      "  [0.07852535 0.74180068 0.29496141 0.1536334  0.97754389]\n",
      "  [0.43812204 0.32636245 0.97893497 0.25136912 0.0193216 ]]]\n",
      "\n",
      "d= [[[1.06710936 1.57920551 0.7806575  0.9756754  1.03239317]\n",
      "  [1.34883076 1.38330025 0.8552993  1.44007752 0.74840188]\n",
      "  [0.75078229 0.68314433 1.33438428 0.54572409 1.91595823]]\n",
      "\n",
      " [[1.74485979 1.30655267 1.71541962 1.80084049 1.62732838]\n",
      "  [0.60996585 1.09725981 1.05023914 0.94610669 1.147586  ]\n",
      "  [0.95200242 0.34383288 1.69396254 0.48824708 0.65184774]]]\n"
     ]
    }
   ],
   "source": [
    "# your code/answer here\n",
    "\n",
    "print('a=', a)\n",
    "print('\\nd=', d)"
   ]
  },
  {
   "cell_type": "markdown",
   "metadata": {},
   "source": [
    "#### 12. Multiply *a* and *c*. Assign the result to *e*."
   ]
  },
  {
   "cell_type": "code",
   "execution_count": 18,
   "metadata": {},
   "outputs": [
    {
     "name": "stdout",
     "output_type": "stream",
     "text": [
      "[[[0.28457327 0.61953618 0.14953241 0.2365489  0.06290504]\n",
      "  [0.39611706 0.43143305 0.07400198 0.5179221  0.09354763]\n",
      "  [0.10188709 0.10999544 0.44433779 0.06153095 0.91771816]]\n",
      "\n",
      " [[0.75974439 0.42541375 0.73333883 0.80580899 0.62995096]\n",
      "  [0.04173155 0.26367983 0.22277778 0.12175037 0.16622363]\n",
      "  [0.22514232 0.00570169 0.69996549 0.05954381 0.01222142]]]\n"
     ]
    }
   ],
   "source": [
    "# your code here\n",
    "\n",
    "e = np.multiply(a, c)\n",
    "print(e)"
   ]
  },
  {
   "cell_type": "markdown",
   "metadata": {},
   "source": [
    "#### 13. Does *e* equal to *a*? Why or why not?\n"
   ]
  },
  {
   "cell_type": "code",
   "execution_count": 19,
   "metadata": {},
   "outputs": [
    {
     "name": "stdout",
     "output_type": "stream",
     "text": [
      "[[[False False False False False]\n",
      "  [False False False False False]\n",
      "  [False False False False False]]\n",
      "\n",
      " [[False False False False False]\n",
      "  [False False False False False]\n",
      "  [False False False False False]]]\n",
      "True\n",
      "True\n"
     ]
    }
   ],
   "source": [
    "# your code/answer here\n",
    "\n",
    "print(a == e)\n",
    "print(a.size == e.size)\n",
    "print(a.shape == e.shape)\n",
    "\n",
    "# e does not equal a because e is the multiplacation of a and c, with c != 1.\n",
    "# e and a however are equal in shape and size."
   ]
  },
  {
   "cell_type": "markdown",
   "metadata": {},
   "source": [
    "#### 14. Identify the max, min, and mean values in *d*. Assign those values to variables *d_max*, *d_min* and *d_mean*."
   ]
  },
  {
   "cell_type": "code",
   "execution_count": 20,
   "metadata": {},
   "outputs": [
    {
     "name": "stdout",
     "output_type": "stream",
     "text": [
      "d_max = 1.9159582254092165 \n",
      "d_min = 0.3438328776278945 \n",
      "d_mean = 1.1205665000454534\n"
     ]
    }
   ],
   "source": [
    "# your code here\n",
    "\n",
    "d_max = np.amax(d)\n",
    "d_min = np.amin(d)\n",
    "d_mean = np.mean(d)\n",
    "\n",
    "print('d_max =', d_max, '\\nd_min =', d_min, '\\nd_mean =', d_mean)"
   ]
  },
  {
   "cell_type": "markdown",
   "metadata": {},
   "source": [
    "#### 15. Now we want to label the values in *d*. First create an empty array *f* with the same shape (i.e. 2x3x5) as *d* using `np.empty`.\n"
   ]
  },
  {
   "cell_type": "code",
   "execution_count": 21,
   "metadata": {},
   "outputs": [
    {
     "name": "stdout",
     "output_type": "stream",
     "text": [
      "[[[0.28457327 0.61953618 0.14953241 0.2365489  0.06290504]\n",
      "  [0.39611706 0.43143305 0.07400198 0.5179221  0.09354763]\n",
      "  [0.10188709 0.10999544 0.44433779 0.06153095 0.91771816]]\n",
      "\n",
      " [[0.75974439 0.42541375 0.73333883 0.80580899 0.62995096]\n",
      "  [0.04173155 0.26367983 0.22277778 0.12175037 0.16622363]\n",
      "  [0.22514232 0.00570169 0.69996549 0.05954381 0.01222142]]]\n",
      "[[[0.28457327 0.61953618 0.14953241 0.2365489  0.06290504]\n",
      "  [0.39611706 0.43143305 0.07400198 0.5179221  0.09354763]\n",
      "  [0.10188709 0.10999544 0.44433779 0.06153095 0.91771816]]\n",
      "\n",
      " [[0.75974439 0.42541375 0.73333883 0.80580899 0.62995096]\n",
      "  [0.04173155 0.26367983 0.22277778 0.12175037 0.16622363]\n",
      "  [0.22514232 0.00570169 0.69996549 0.05954381 0.01222142]]]\n"
     ]
    }
   ],
   "source": [
    "# your code here\n",
    "\n",
    "f = np.empty((2,3,5))\n",
    "print(f)\n",
    "\n",
    "g = np.empty_like(d)\n",
    "print(g)"
   ]
  },
  {
   "cell_type": "code",
   "execution_count": 28,
   "metadata": {},
   "outputs": [],
   "source": [
    "# your code here\n",
    "\n",
    "# your code here\n",
    "\n",
    "f[d == 0.5] = 0.5\n",
    "f[d < 0.5] = 0.25\n",
    "f[d > 0.5] = 0.75\n"
   ]
  },
  {
   "cell_type": "markdown",
   "metadata": {},
   "source": [
    "#### 17. Print *d* and *f*. Do you have your expected *f*?\n",
    "For instance, if your *d* is:\n",
    "```python\n",
    "[[[1.85836099, 1.67064465, 1.62576044, 1.40243961, 1.88454931],\n",
    "[1.75354326, 1.69403643, 1.36729252, 1.61415071, 1.12104981],\n",
    "[1.72201435, 1.1862918 , 1.87078449, 1.7726778 , 1.88180042]],\n",
    "[[1.44747908, 1.31673383, 1.02000951, 1.52218947, 1.97066381],\n",
    "[1.79129243, 1.74983003, 1.96028037, 1.85166831, 1.65450881],\n",
    "[1.18068344, 1.9587381 , 1.00656599, 1.93402165, 1.73514584]]]\n",
    "```\n",
    "Your *f* should be:\n",
    "```python\n",
    "[[[ 75.,  75.,  75.,  25.,  75.],\n",
    "[ 75.,  75.,  25.,  25.,  25.],\n",
    "[ 75.,  25.,  75.,  75.,  75.]],\n",
    "[[ 25.,  25.,  25.,  25., 100.],\n",
    "[ 75.,  75.,  75.,  75.,  75.],\n",
    "[ 25.,  75.,   0.,  75.,  75.]]]\n",
    "```"
   ]
  },
  {
   "cell_type": "code",
   "execution_count": 29,
   "metadata": {},
   "outputs": [
    {
     "name": "stdout",
     "output_type": "stream",
     "text": [
      "[[[1.06710936 1.57920551 0.7806575  0.9756754  1.03239317]\n",
      "  [1.34883076 1.38330025 0.8552993  1.44007752 0.74840188]\n",
      "  [0.75078229 0.68314433 1.33438428 0.54572409 1.91595823]]\n",
      "\n",
      " [[1.74485979 1.30655267 1.71541962 1.80084049 1.62732838]\n",
      "  [0.60996585 1.09725981 1.05023914 0.94610669 1.147586  ]\n",
      "  [0.95200242 0.34383288 1.69396254 0.48824708 0.65184774]]]\n",
      "[[[0.75 0.75 0.75 0.75 0.75]\n",
      "  [0.75 0.75 0.75 0.75 0.75]\n",
      "  [0.75 0.75 0.75 0.75 0.75]]\n",
      "\n",
      " [[0.75 0.75 0.75 0.75 0.75]\n",
      "  [0.75 0.75 0.75 0.75 0.75]\n",
      "  [0.75 0.25 0.75 0.25 0.75]]]\n"
     ]
    }
   ],
   "source": [
    "# your code here\n",
    "\n",
    "print(d)\n",
    "print(f)"
   ]
  },
  {
   "cell_type": "markdown",
   "metadata": {},
   "source": [
    "#### 18. Bonus question: instead of using numbers (i.e. 0, 25, 50, 75, and 100), use string values  (\"A\", \"B\", \"C\", \"D\", and \"E\") to label the array elements. For the example above, the expected result is:\n",
    "\n",
    "```python\n",
    "[[[ 'D',  'D',  'D',  'B',  'D'],\n",
    "[ 'D',  'D',  'B',  'B',  'B'],\n",
    "[ 'D',  'B',  'D',  'D',  'D']],\n",
    "[[ 'B',  'B',  'B',  'B',  'E'],\n",
    "[ 'D',  'D',  'D',  'D',  'D'],\n",
    "[ 'B',  'D',   'A',  'D', 'D']]]\n",
    "```\n",
    "**Note**: you don't have to use Numpy in this question."
   ]
  },
  {
   "cell_type": "code",
   "execution_count": 36,
   "metadata": {},
   "outputs": [],
   "source": [
    "# your code here\n"
   ]
  },
  {
   "cell_type": "code",
   "execution_count": null,
   "metadata": {},
   "outputs": [],
   "source": []
  }
 ],
 "metadata": {
  "kernelspec": {
   "display_name": "Python 3",
   "language": "python",
   "name": "python3"
  },
  "language_info": {
   "codemirror_mode": {
    "name": "ipython",
    "version": 3
   },
   "file_extension": ".py",
   "mimetype": "text/x-python",
   "name": "python",
   "nbconvert_exporter": "python",
   "pygments_lexer": "ipython3",
   "version": "3.7.6"
  }
 },
 "nbformat": 4,
 "nbformat_minor": 2
}

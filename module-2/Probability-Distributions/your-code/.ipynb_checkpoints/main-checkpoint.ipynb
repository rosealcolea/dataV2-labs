{
 "cells": [
  {
   "cell_type": "markdown",
   "metadata": {},
   "source": [
    "# Before your start:\n",
    "- Read the README.md file.\n",
    "- Comment as much as you can and use the resources (README.md file).\n",
    "- Happy learning!"
   ]
  },
  {
   "cell_type": "code",
   "execution_count": 32,
   "metadata": {},
   "outputs": [],
   "source": [
    "# Libraries\n",
    "import matplotlib.pyplot as plt\n",
    "from scipy.stats import norm\n",
    "from scipy.stats import binom\n",
    "from scipy.stats import poisson\n",
    "import pandas as pd"
   ]
  },
  {
   "cell_type": "markdown",
   "metadata": {},
   "source": [
    "# Challenge 1 - Generate and Plot Normal Distributions\n",
    "#### Step 1: Generate samples and test normal distribution.\n",
    "\n",
    "Use mean=50, standard_deviation=5, and sample_size=[10, 50, 500, 5000] to generate 4 random samples that are normally distributed.\n",
    "\n",
    "**Hint**: Read the documentation for `scipy.stats.norm.rvs`. The function will help you create the normal random samples."
   ]
  },
  {
   "cell_type": "code",
   "execution_count": 3,
   "metadata": {},
   "outputs": [],
   "source": [
    "# your code here\n",
    "s1 = norm.rvs(loc=50, scale=5, size=10)\n",
    "s2 = norm.rvs(loc=50, scale=5, size=50)\n",
    "s3 = norm.rvs(loc=50, scale=5, size=500)\n",
    "s4 = norm.rvs(loc=50, scale=5, size=5000)"
   ]
  },
  {
   "cell_type": "markdown",
   "metadata": {},
   "source": [
    "#### Step 2: Plot normal distributions.\n",
    "\n",
    "To check the shape of the samples you have just created, you can use matplotlib. For example, you can use it to plot a histogram of each sample. \n",
    "\n",
    "If you did, your outputs would be really similar to the ones below:\n",
    "\n",
    "![normal distributions with different sample sizes](../images/ch-1.png)"
   ]
  },
  {
   "cell_type": "markdown",
   "metadata": {},
   "source": [
    "#### Compare the distributions above. What do you observe? Explain with the Central Limit Theorem."
   ]
  },
  {
   "cell_type": "code",
   "execution_count": 4,
   "metadata": {},
   "outputs": [
    {
     "data": {
      "text/plain": [
       "'\\nyour comments here\\n'"
      ]
     },
     "execution_count": 4,
     "metadata": {},
     "output_type": "execute_result"
    }
   ],
   "source": [
    "\"\"\"\n",
    "your comments here\n",
    "\n",
    "I observe that the bigger the sample size, the more centralized\n",
    "the distribution is. \n",
    "\n",
    "This phenomenon is explained by the Central Limit Theorem, that \n",
    "states that heir properly normalized sum tends toward a normal \n",
    "distribution (informally a bell curve) even if the original \n",
    "variables themselves are not normally distributed.\n",
    "\n",
    "\"\"\""
   ]
  },
  {
   "cell_type": "markdown",
   "metadata": {},
   "source": [
    "#### Bonus: Plot normal distributions.\n",
    "\n",
    "Even though you still don't know how to use matplotlib, as a bonus challenge, you can try to reproduce the plot above using the samples you have created. This plotting library will be introduced later this week, so don't worry if you don't manage to get the results you want now: you can always come back to solve this challenge later."
   ]
  },
  {
   "cell_type": "code",
   "execution_count": 5,
   "metadata": {},
   "outputs": [
    {
     "name": "stdout",
     "output_type": "stream",
     "text": [
      "[[<matplotlib.axes._subplots.AxesSubplot object at 0x000001891BF06EC8>]] [[<matplotlib.axes._subplots.AxesSubplot object at 0x000001891C63D408>]] [[<matplotlib.axes._subplots.AxesSubplot object at 0x000001891C696648>]] [[<matplotlib.axes._subplots.AxesSubplot object at 0x000001891C6EF9C8>]]\n"
     ]
    },
    {
     "data": {
      "image/png": "[encoded data removed]",
      "text/plain": [
       "<Figure size 432x288 with 1 Axes>"
      ]
     },
     "metadata": {
      "needs_background": "light"
     },
     "output_type": "display_data"
    },
    {
     "data": {
      "image/png": "[encoded data removed]",
      "text/plain": [
       "<Figure size 432x288 with 1 Axes>"
      ]
     },
     "metadata": {
      "needs_background": "light"
     },
     "output_type": "display_data"
    },
    {
     "data": {
      "image/png": "[encoded data removed]",
      "text/plain": [
       "<Figure size 432x288 with 1 Axes>"
      ]
     },
     "metadata": {
      "needs_background": "light"
     },
     "output_type": "display_data"
    },
    {
     "data": {
      "image/png": "[encoded data removed]",
      "text/plain": [
       "<Figure size 432x288 with 1 Axes>"
      ]
     },
     "metadata": {
      "needs_background": "light"
     },
     "output_type": "display_data"
    }
   ],
   "source": [
    "# your code here\n",
    "df1 = pd.DataFrame(s1)\n",
    "df2 = pd.DataFrame(s2)\n",
    "df3 = pd.DataFrame(s3)\n",
    "df4 = pd.DataFrame(s4)\n",
    "\n",
    "print(df1.hist(), df2.hist(), df2.hist(), df3.hist())"
   ]
  },
  {
   "cell_type": "code",
   "execution_count": 6,
   "metadata": {},
   "outputs": [
    {
     "name": "stderr",
     "output_type": "stream",
     "text": [
      "No handles with labels found to put in legend.\n"
     ]
    },
    {
     "data": {
      "image/png": "[encoded data removed]",
      "text/plain": [
       "<Figure size 432x288 with 1 Axes>"
      ]
     },
     "metadata": {
      "needs_background": "light"
     },
     "output_type": "display_data"
    }
   ],
   "source": [
    "# trying a different method unsuccessfully\n",
    "\n",
    "fig, ax = plt.subplots(1, 1)\n",
    "\n",
    "ax.hist(s1, density=True, histtype='stepfilled', alpha=0.2)\n",
    "ax.legend(loc='best', frameon=False)\n",
    "plt.show()"
   ]
  },
  {
   "cell_type": "markdown",
   "metadata": {},
   "source": [
    "# Challenge 2 - Plot Probability Mass Function (PMF)"
   ]
  },
  {
   "cell_type": "markdown",
   "metadata": {},
   "source": [
    "### Background knowledge\n",
    "\n",
    "[PMF](https://en.wikipedia.org/wiki/Probability_mass_function) shows the probability distribution of a **discrete random variable**. A [discrete random variable](https://en.wikipedia.org/wiki/Random_variable#Discrete_random_variable) has random numeric values that are not continuous. For example, the number of people in a household can only be integers but not floats. Therefore the number of people in a household is a discrete variable.\n",
    "\n",
    "### Challenge\n",
    "\n",
    "We assume that the probability of clicking an advertisement in a Youtube video is 0.15. We have a sample of 5 people who watched the video and we want to plot the PMF for a binomial distribution.\n",
    "\n",
    "#### Step 1: Create the binomial distribution mentioned above. Store the result in a variable called `dist`. \n",
    "**Hint**: use binom from `scipy.stats.binom`. This object takes *n* and *p* as shape parameters, where *n* is the number of independent experiments and *p* the probability of success of the experiment."
   ]
  },
  {
   "cell_type": "code",
   "execution_count": 23,
   "metadata": {},
   "outputs": [],
   "source": [
    "# your code here\n",
    "n=5\n",
    "p=0.15\n",
    "\n",
    "dist = binom(n,p)"
   ]
  },
  {
   "cell_type": "markdown",
   "metadata": {},
   "source": [
    "#### Step 2: Plot the PMF of the distribution. \n",
    "To do it, run the code in the cell below. \n",
    "\n",
    "**Hint**: Your output should look like the one below:\n",
    "\n",
    "![binom 10](../images/ch-2.png)"
   ]
  },
  {
   "cell_type": "code",
   "execution_count": 24,
   "metadata": {},
   "outputs": [
    {
     "data": {
      "image/png": "[encoded data removed]",
      "text/plain": [
       "<Figure size 432x288 with 1 Axes>"
      ]
     },
     "metadata": {
      "needs_background": "light"
     },
     "output_type": "display_data"
    }
   ],
   "source": [
    "# run this code\n",
    "x = range(n)\n",
    "\n",
    "fig, ax = plt.subplots(1, 1)\n",
    "\n",
    "plt.plot(x, dist.pmf(x))\n",
    "\n",
    "plt.show()"
   ]
  },
  {
   "cell_type": "markdown",
   "metadata": {},
   "source": [
    "#### Step 3: Explain what you observe from the plot above."
   ]
  },
  {
   "cell_type": "code",
   "execution_count": null,
   "metadata": {},
   "outputs": [],
   "source": [
    "\"\"\"\n",
    "your comments here:\n",
    "\n",
    "My interpretation of the above graph is that the most likely\n",
    "scenario is that 0 people with click on the video (probabolity of around 0.45),\n",
    "the next most likely one that 1 person out of 5 will click the on ad (probabolity of around 0.39),\n",
    "and the least likely scenario is that 4 05 5 people out of 5 click on the add (probabolity of around 0.0).\n",
    "\"\"\""
   ]
  },
  {
   "cell_type": "markdown",
   "metadata": {},
   "source": [
    "#### Step 4: Now plot PMF with 50, 500, and 5000 visitors.\n",
    "To plot the PMF, you can copy the code given above and replace variable `dist` for the name of the variables where you have stored the new binomial objects for 50, 500 and 5000 visitors."
   ]
  },
  {
   "cell_type": "code",
   "execution_count": 28,
   "metadata": {},
   "outputs": [
    {
     "data": {
      "image/png": "[encoded data removed]",
      "text/plain": [
       "<Figure size 432x288 with 1 Axes>"
      ]
     },
     "metadata": {
      "needs_background": "light"
     },
     "output_type": "display_data"
    }
   ],
   "source": [
    "# 50 visitors\n",
    "n=50\n",
    "p=0.15\n",
    "dist = binom(n,p)\n",
    "\n",
    "x = range(n)\n",
    "fig, ax = plt.subplots(1, 1)\n",
    "plt.plot(x, dist.pmf(x))\n",
    "plt.show()"
   ]
  },
  {
   "cell_type": "code",
   "execution_count": 29,
   "metadata": {},
   "outputs": [
    {
     "data": {
      "image/png": "[encoded data removed]",
      "text/plain": [
       "<Figure size 432x288 with 1 Axes>"
      ]
     },
     "metadata": {
      "needs_background": "light"
     },
     "output_type": "display_data"
    }
   ],
   "source": [
    "# 500 visitors\n",
    "n=500\n",
    "p=0.15\n",
    "dist = binom(n,p)\n",
    "\n",
    "x = range(n)\n",
    "fig, ax = plt.subplots(1, 1)\n",
    "plt.plot(x, dist.pmf(x))\n",
    "plt.show()"
   ]
  },
  {
   "cell_type": "code",
   "execution_count": 30,
   "metadata": {},
   "outputs": [
    {
     "data": {
      "image/png": "[encoded data removed]",
      "text/plain": [
       "<Figure size 432x288 with 1 Axes>"
      ]
     },
     "metadata": {
      "needs_background": "light"
     },
     "output_type": "display_data"
    }
   ],
   "source": [
    "# 5000 visitors\n",
    "n=5000\n",
    "p=0.15\n",
    "dist = binom(n,p)\n",
    "\n",
    "x = range(5000)\n",
    "fig, ax = plt.subplots(1, 1)\n",
    "plt.plot(x, dist.pmf(x))\n",
    "plt.show()"
   ]
  },
  {
   "cell_type": "markdown",
   "metadata": {},
   "source": [
    "#### Step 5: What did you notice from the distribution plots? Comment your findings."
   ]
  },
  {
   "cell_type": "code",
   "execution_count": null,
   "metadata": {},
   "outputs": [],
   "source": [
    "\"\"\"\n",
    "your comments here:\n",
    "\n",
    "I observe that the bigger the sample, the more the\n",
    "\n",
    "I observe that there seems to be a pike in probability for the 4 samples, and the reamainder is around 0.\n",
    "This means that it is unlike for more people to watch the videos, as well as ubnlike for less people to watch them.\n",
    "This indicates that the probabolity metric is quite confident.\n",
    "\"\"\""
   ]
  },
  {
   "cell_type": "markdown",
   "metadata": {},
   "source": [
    "# Challenge 3\n",
    "#### Step 1: Research the Poisson distribution. Write about your own understanding of the Poisson distribution."
   ]
  },
  {
   "cell_type": "code",
   "execution_count": null,
   "metadata": {},
   "outputs": [],
   "source": [
    "\"\"\"\n",
    "your comments here\n",
    "\n",
    "The Poisson distribution is used to describe discrete statistical models.\n",
    "If the sample data observed is non-cumulative and independent from previous results, \n",
    "then chances are it will hape a poisson shape.\n",
    "\"\"\""
   ]
  },
  {
   "cell_type": "markdown",
   "metadata": {},
   "source": [
    "#### Step 2: A website has an average of 300 visits per day. What is the probability of getting 320 visitors in a day?\n",
    "\n",
    "**Hint**: use `scipy.stats.poisson.pmf`."
   ]
  },
  {
   "cell_type": "code",
   "execution_count": 38,
   "metadata": {},
   "outputs": [
    {
     "data": {
      "text/plain": [
       "0.011612348610402475"
      ]
     },
     "execution_count": 38,
     "metadata": {},
     "output_type": "execute_result"
    }
   ],
   "source": [
    "# your code here\n",
    "# pmf(k, mu, loc=0)\n",
    "poisson.pmf(320,300)"
   ]
  },
  {
   "cell_type": "markdown",
   "metadata": {},
   "source": [
    "#### Step 3: What is the probability of getting 60 visits?"
   ]
  },
  {
   "cell_type": "code",
   "execution_count": 39,
   "metadata": {},
   "outputs": [
    {
     "data": {
      "text/plain": [
       "2.622743762294515e-64"
      ]
     },
     "execution_count": 39,
     "metadata": {},
     "output_type": "execute_result"
    }
   ],
   "source": [
    "# your code here\n",
    "poisson.pmf(60,300)"
   ]
  },
  {
   "cell_type": "markdown",
   "metadata": {},
   "source": [
    "#### Step 4: Create a list to store the Poisson distribution probabilities for 0 to 1000 visitors. Store your list in a variable called `arr`."
   ]
  },
  {
   "cell_type": "code",
   "execution_count": 42,
   "metadata": {},
   "outputs": [],
   "source": [
    "# your code here\n",
    "arr = [poisson.pmf(k,300) for k in range(1000)]"
   ]
  },
  {
   "cell_type": "markdown",
   "metadata": {},
   "source": [
    "#### Step 5: Plot the probabilities.\n",
    "To do it, run the code in the cell below. Your plot should look like the one below:\n",
    "\n",
    "![poisson distribution](../images/ch-3.png)"
   ]
  },
  {
   "cell_type": "code",
   "execution_count": 43,
   "metadata": {},
   "outputs": [
    {
     "data": {
      "image/png": "[encoded data removed]",
      "text/plain": [
       "<Figure size 432x288 with 1 Axes>"
      ]
     },
     "metadata": {
      "needs_background": "light"
     },
     "output_type": "display_data"
    }
   ],
   "source": [
    "# run this code\n",
    "plt.plot(arr)\n",
    "plt.show()"
   ]
  },
  {
   "cell_type": "markdown",
   "metadata": {},
   "source": [
    "# Challenge 4 - Central Limit Theorem\n",
    "\n",
    "A delivery company needs 35 minutes to deliver a package, with a standard deviation of 8 minutes. Suppose that in one day, they deliver 200 packages.\n",
    "\n",
    "**Hint**: `stats.norm.cdf` can help you find the answers.\n",
    "\n",
    "#### Step 1: What is the probability that the mean delivery time today is between 30 and 35 minutes?"
   ]
  },
  {
   "cell_type": "code",
   "execution_count": 65,
   "metadata": {},
   "outputs": [
    {
     "data": {
      "text/plain": [
       "0.23401447095129946"
      ]
     },
     "execution_count": 65,
     "metadata": {},
     "output_type": "execute_result"
    }
   ],
   "source": [
    "# your code here\n",
    "# cdf(x, loc=0, scale=1)\n",
    "# Cumulative distribution function.\n",
    "\n",
    "norm.cdf(35, 35, 8) - norm.cdf(30, 35, 8)"
   ]
  },
  {
   "cell_type": "markdown",
   "metadata": {},
   "source": [
    "#### Step 2: What is the probability that in total, it takes more than 115 hours to deliver all 200 packages?"
   ]
  },
  {
   "cell_type": "code",
   "execution_count": 62,
   "metadata": {},
   "outputs": [
    {
     "data": {
      "text/plain": [
       "0.5249176690292472"
      ]
     },
     "execution_count": 62,
     "metadata": {},
     "output_type": "execute_result"
    }
   ],
   "source": [
    "# your code here\n",
    "1-norm.cdf(115/200*60, 35, 8)"
   ]
  },
  {
   "cell_type": "markdown",
   "metadata": {},
   "source": [
    "# Challenge 5 - Normal Variables\n",
    "The value (in thousands) of the monthly sales of a publishing company follows a normal distribution with a mean equal to 200 and a standard deviation equal to 40.\n",
    "\n",
    "<div align=\"center\">$X → N(200,40)$</div>\n",
    "\n",
    "**Hint**: `stats.norm.cdf` can help you find the answers.\n",
    "\n",
    "#### Step 1: Find the probability that the monthly sales are more than 300."
   ]
  },
  {
   "cell_type": "code",
   "execution_count": 57,
   "metadata": {},
   "outputs": [
    {
     "data": {
      "text/plain": [
       "0.006209665325776159"
      ]
     },
     "execution_count": 57,
     "metadata": {},
     "output_type": "execute_result"
    }
   ],
   "source": [
    "# your code here\n",
    "# cdf(x, loc=0, scale=1)\n",
    "1-norm.cdf(300, loc=200, scale=40)"
   ]
  },
  {
   "cell_type": "markdown",
   "metadata": {},
   "source": [
    "#### Step 2: Find the probability that the monthly sales fall between 160 and 240."
   ]
  },
  {
   "cell_type": "code",
   "execution_count": 58,
   "metadata": {},
   "outputs": [
    {
     "data": {
      "text/plain": [
       "0.6826894921370859"
      ]
     },
     "execution_count": 58,
     "metadata": {},
     "output_type": "execute_result"
    }
   ],
   "source": [
    "# your code here\n",
    "norm.cdf(240, loc=200, scale=40) - norm.cdf(160, loc=200, scale=40)"
   ]
  },
  {
   "cell_type": "markdown",
   "metadata": {},
   "source": [
    "#### Step 3: Find the probability that the monthly sales do not exceed 150."
   ]
  },
  {
   "cell_type": "code",
   "execution_count": 59,
   "metadata": {},
   "outputs": [
    {
     "data": {
      "text/plain": [
       "0.10564977366685535"
      ]
     },
     "execution_count": 59,
     "metadata": {},
     "output_type": "execute_result"
    }
   ],
   "source": [
    "# your code here\n",
    "norm.cdf(150, loc=200, scale=40)"
   ]
  },
  {
   "cell_type": "markdown",
   "metadata": {},
   "source": [
    "#### Step 4: Find the probability that the monthly sales exceed 3000."
   ]
  },
  {
   "cell_type": "code",
   "execution_count": 60,
   "metadata": {},
   "outputs": [
    {
     "data": {
      "text/plain": [
       "0.0"
      ]
     },
     "execution_count": 60,
     "metadata": {},
     "output_type": "execute_result"
    }
   ],
   "source": [
    "# your code here\n",
    "1-norm.cdf(3000, loc=200, scale=40)"
   ]
  },
  {
   "cell_type": "markdown",
   "metadata": {},
   "source": [
    "# Challenge 6 - Poisson distribution\n",
    "The mean number of violent robberies per month that are registered in a particular barrio is 4.\n",
    "\n",
    "**Hint**: `stats.poisson.cdf` can help you find the answers.\n",
    "\n",
    "#### Step 1: Find the probability that in a particular month there is no violent robbery."
   ]
  },
  {
   "cell_type": "code",
   "execution_count": 66,
   "metadata": {},
   "outputs": [
    {
     "data": {
      "text/plain": [
       "0.018315638888734182"
      ]
     },
     "execution_count": 66,
     "metadata": {},
     "output_type": "execute_result"
    }
   ],
   "source": [
    "# your code here\n",
    "# cdf(k, mu, loc=0)\n",
    "\n",
    "poisson.cdf(0, 4)"
   ]
  },
  {
   "cell_type": "markdown",
   "metadata": {},
   "source": [
    "#### Step 2: Find the probability that there are at least 1 robbery in a given month."
   ]
  },
  {
   "cell_type": "code",
   "execution_count": 67,
   "metadata": {},
   "outputs": [
    {
     "data": {
      "text/plain": [
       "0.9084218055563291"
      ]
     },
     "execution_count": 67,
     "metadata": {},
     "output_type": "execute_result"
    }
   ],
   "source": [
    "# your code here\n",
    "1-poisson.cdf(1, 4)"
   ]
  },
  {
   "cell_type": "markdown",
   "metadata": {},
   "source": [
    "#### Step 3: Find the probability that there are between 2 and 6 (inclusive) robberies in a given month."
   ]
  },
  {
   "cell_type": "code",
   "execution_count": 68,
   "metadata": {},
   "outputs": [
    {
     "data": {
      "text/plain": [
       "0.7107630786536083"
      ]
     },
     "execution_count": 68,
     "metadata": {},
     "output_type": "execute_result"
    }
   ],
   "source": [
    "# your code here\n",
    "poisson.cdf(7, 4) - poisson.cdf(2, 4)"
   ]
  },
  {
   "cell_type": "markdown",
   "metadata": {},
   "source": [
    "#### Step 4: Find the probability that there are more than 2 robberies in 15 days."
   ]
  },
  {
   "cell_type": "code",
   "execution_count": 69,
   "metadata": {},
   "outputs": [
    {
     "data": {
      "text/plain": [
       "0.3233235838169366"
      ]
     },
     "execution_count": 69,
     "metadata": {},
     "output_type": "execute_result"
    }
   ],
   "source": [
    "# your code here\n",
    "1-poisson.cdf(2, 2)"
   ]
  }
 ],
 "metadata": {
  "anaconda-cloud": {},
  "kernelspec": {
   "display_name": "Python 3",
   "language": "python",
   "name": "python3"
  },
  "language_info": {
   "codemirror_mode": {
    "name": "ipython",
    "version": 3
   },
   "file_extension": ".py",
   "mimetype": "text/x-python",
   "name": "python",
   "nbconvert_exporter": "python",
   "pygments_lexer": "ipython3",
   "version": "3.7.6"
  }
 },
 "nbformat": 4,
 "nbformat_minor": 1
}

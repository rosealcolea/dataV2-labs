{
 "cells": [
  {
   "cell_type": "code",
   "execution_count": 52,
   "metadata": {},
   "outputs": [
    {
     "name": "stdout",
     "output_type": "stream",
     "text": [
      "[5.14626413 7.89383917 2.56506318 3.11659221 3.9006623  6.15272282\n",
      " 5.77667021 4.71201445 6.66852857 3.138835   4.44096127 6.82827044\n",
      " 6.00093102 8.06129867 3.73593846 5.25664984 8.2573024  3.99761453\n",
      " 6.26884767 3.69745804 3.80736297 5.443083   1.95705492 6.08358725\n",
      " 3.10632699 5.27425807 3.50916969 5.16971622 1.90236907 5.29268166\n",
      " 5.47683485 6.97834871 5.88777414 6.64654018 4.84833808 6.45935674\n",
      " 5.1923794  6.44214943 6.03628934 5.5127843  3.85455698 3.69419109\n",
      " 7.50262277 3.4220311  2.60298159 4.30794363 2.30120572 2.99114639\n",
      " 3.68394722 5.43028275 4.74226285 5.69959177 6.47033603 2.83368279\n",
      " 5.96074322 4.47268319 4.57686351 6.80634198 4.01797951 4.04217957\n",
      " 2.72206869 5.21689604 5.60643352 6.55508285 5.44537892 3.5207419\n",
      " 7.71694857 4.13586677 6.25617209 5.85967426 5.35903279 7.03805073\n",
      " 7.53264694 5.617636   5.01874427 6.67707591 3.82312409 4.33431826\n",
      " 5.88551611 4.09368686 2.52198734 5.51370679 2.37185333 6.24007606\n",
      " 4.89130615 5.05055562 5.22572325 7.47978907 6.37084629 1.76035005\n",
      " 2.3052739  5.05301334 7.72646057 1.98166529 3.58748527 5.19880992\n",
      " 4.26786694 4.03295005 6.50893794 6.77814596]\n"
     ]
    }
   ],
   "source": [
    "import numpy as np\n",
    "from scipy.stats import ttest_1samp\n",
    "\n",
    "import pandas as pd\n",
    "\n",
    "# create a fake sample, with mean = 5.1 and stdev = 1.6\n",
    "patients = np.random.normal(5.1, 1.6, 100)\n",
    "print(patients)\n",
    "#pat = pd.DataFrame(patients)\n"
   ]
  },
  {
   "cell_type": "code",
   "execution_count": 55,
   "metadata": {},
   "outputs": [],
   "source": [
    "# test (with default 95% confidence)\n",
    "# null hypothesis : mean value for the population is 5.7\n",
    "# the alternative hypothesis 'The mean is greater than 5.7'\n",
    "\n",
    "stat, pval = ttest_1samp(patients, 5.7)\n",
    "# note this gives p-value for 2-sided test (unequal), \n",
    "# for 1 sided test (greater) we need to divide the p-value by 2\n",
    "#type(pat[0])"
   ]
  },
  {
   "cell_type": "code",
   "execution_count": 56,
   "metadata": {},
   "outputs": [
    {
     "name": "stdout",
     "output_type": "stream",
     "text": [
      "2.158265079938764e-05\n"
     ]
    }
   ],
   "source": [
    "print(pval)"
   ]
  },
  {
   "cell_type": "code",
   "execution_count": 57,
   "metadata": {},
   "outputs": [
    {
     "name": "stdout",
     "output_type": "stream",
     "text": [
      "-4.461089844743844\n"
     ]
    }
   ],
   "source": [
    "print(stat)"
   ]
  },
  {
   "cell_type": "code",
   "execution_count": 44,
   "metadata": {},
   "outputs": [
    {
     "data": {
      "text/plain": [
       "5.184633286554807"
      ]
     },
     "execution_count": 44,
     "metadata": {},
     "output_type": "execute_result"
    }
   ],
   "source": [
    "patients.mean()"
   ]
  },
  {
   "cell_type": "code",
   "execution_count": null,
   "metadata": {},
   "outputs": [],
   "source": []
  }
 ],
 "metadata": {
  "kernelspec": {
   "display_name": "Python 3",
   "language": "python",
   "name": "python3"
  },
  "language_info": {
   "codemirror_mode": {
    "name": "ipython",
    "version": 3
   },
   "file_extension": ".py",
   "mimetype": "text/x-python",
   "name": "python",
   "nbconvert_exporter": "python",
   "pygments_lexer": "ipython3",
   "version": "3.7.6"
  }
 },
 "nbformat": 4,
 "nbformat_minor": 4
}

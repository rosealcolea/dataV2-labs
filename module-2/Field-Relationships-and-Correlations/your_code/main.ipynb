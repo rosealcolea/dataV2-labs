{
 "cells": [
  {
   "cell_type": "markdown",
   "metadata": {},
   "source": [
    "# LAB Explore Correlations\n",
    "\n",
    "### Explore correlations\n",
    "Using the Canadian Disaster Database (CDD.csv, can be found on the share directory), you will explore the correlations between the numerical columns in the dataset. More info on the dataset can be found at https://www.kaggle.com/criticalhits/canadian-disaster-database#CDD.csv\n",
    "\n",
    "1. Print the correlation matrix\n",
    "\n",
    "2. Print a heat map of this correlation matrix (hint: use seaborn.heatmap())\n",
    "\n",
    "3. Find 3 pairs of columns, one pair that is highly positively correlated, one for which the correlation is almost zero and one pair that is negatively correlated. In each case write down an explanation why we see this correlation\n",
    "\n",
    "4. Look up the pairplot function in Seaborn. Use it to plot the pairwise relations between the six columns you selected. Does what you see confirm your ideas? Describe in a comment."
   ]
  },
  {
   "cell_type": "code",
   "execution_count": 12,
   "metadata": {},
   "outputs": [],
   "source": [
    "import pandas as pd\n",
    "import matplotlib.pyplot as plt\n",
    "import plotly.express as xp\n",
    "import seaborn as sns\n",
    "%matplotlib inline"
   ]
  },
  {
   "cell_type": "code",
   "execution_count": 8,
   "metadata": {},
   "outputs": [],
   "source": [
    "cdd = pd.read_csv('../CDD.csv', sep='\\t')"
   ]
  },
  {
   "cell_type": "markdown",
   "metadata": {},
   "source": [
    "#### Print the correlation matrix\n"
   ]
  },
  {
   "cell_type": "code",
   "execution_count": 11,
   "metadata": {},
   "outputs": [
    {
     "data": {
      "text/html": [
       "<div>\n",
       "<style scoped>\n",
       "    .dataframe tbody tr th:only-of-type {\n",
       "        vertical-align: middle;\n",
       "    }\n",
       "\n",
       "    .dataframe tbody tr th {\n",
       "        vertical-align: top;\n",
       "    }\n",
       "\n",
       "    .dataframe thead th {\n",
       "        text-align: right;\n",
       "    }\n",
       "</style>\n",
       "<table border=\"1\" class=\"dataframe\">\n",
       "  <thead>\n",
       "    <tr style=\"text-align: right;\">\n",
       "      <th></th>\n",
       "      <th>EVENT CATEGORY</th>\n",
       "      <th>EVENT GROUP</th>\n",
       "      <th>EVENT SUBGROUP</th>\n",
       "      <th>EVENT TYPE</th>\n",
       "      <th>PLACE</th>\n",
       "      <th>EVENT START DATE</th>\n",
       "      <th>COMMENTS</th>\n",
       "      <th>FATALITIES</th>\n",
       "      <th>INJURED / INFECTED</th>\n",
       "      <th>EVACUATED</th>\n",
       "      <th>...</th>\n",
       "      <th>EVENT END DATE</th>\n",
       "      <th>FEDERAL DFAA PAYMENTS</th>\n",
       "      <th>PROVINCIAL DFAA PAYMENTS</th>\n",
       "      <th>PROVINCIAL DEPARTMENT PAYMENTS</th>\n",
       "      <th>MUNICIPAL COSTS</th>\n",
       "      <th>OGD COSTS</th>\n",
       "      <th>INSURANCE PAYMENTS</th>\n",
       "      <th>NGO PAYMENTS</th>\n",
       "      <th>UTILITY - PEOPLE AFFECTED</th>\n",
       "      <th>MAGNITUDE</th>\n",
       "    </tr>\n",
       "  </thead>\n",
       "  <tbody>\n",
       "    <tr>\n",
       "      <th>0</th>\n",
       "      <td>Disaster</td>\n",
       "      <td>Natural</td>\n",
       "      <td>Meteorological - Hydrological</td>\n",
       "      <td>Storm - Unspecified / Other</td>\n",
       "      <td>Christmas Island NS</td>\n",
       "      <td>25/12/2016 12:00:00 AM</td>\n",
       "      <td>Christmas Island NS, December 25, 2016. Reside...</td>\n",
       "      <td>NaN</td>\n",
       "      <td>NaN</td>\n",
       "      <td>NaN</td>\n",
       "      <td>...</td>\n",
       "      <td>25/12/2016 12:00:00 AM</td>\n",
       "      <td>NaN</td>\n",
       "      <td>NaN</td>\n",
       "      <td>NaN</td>\n",
       "      <td>NaN</td>\n",
       "      <td>NaN</td>\n",
       "      <td>NaN</td>\n",
       "      <td>NaN</td>\n",
       "      <td>10038.0</td>\n",
       "      <td>NaN</td>\n",
       "    </tr>\n",
       "  </tbody>\n",
       "</table>\n",
       "<p>1 rows × 22 columns</p>\n",
       "</div>"
      ],
      "text/plain": [
       "  EVENT CATEGORY EVENT GROUP                 EVENT SUBGROUP  \\\n",
       "0       Disaster     Natural  Meteorological - Hydrological   \n",
       "\n",
       "                    EVENT TYPE                PLACE        EVENT START DATE  \\\n",
       "0  Storm - Unspecified / Other  Christmas Island NS  25/12/2016 12:00:00 AM   \n",
       "\n",
       "                                            COMMENTS  FATALITIES  \\\n",
       "0  Christmas Island NS, December 25, 2016. Reside...         NaN   \n",
       "\n",
       "   INJURED / INFECTED  EVACUATED  ...          EVENT END DATE  \\\n",
       "0                 NaN        NaN  ...  25/12/2016 12:00:00 AM   \n",
       "\n",
       "   FEDERAL DFAA PAYMENTS PROVINCIAL DFAA PAYMENTS  \\\n",
       "0                    NaN                      NaN   \n",
       "\n",
       "   PROVINCIAL DEPARTMENT PAYMENTS  MUNICIPAL COSTS  OGD COSTS  \\\n",
       "0                             NaN              NaN        NaN   \n",
       "\n",
       "   INSURANCE PAYMENTS  NGO PAYMENTS  UTILITY - PEOPLE AFFECTED  MAGNITUDE  \n",
       "0                 NaN           NaN                    10038.0        NaN  \n",
       "\n",
       "[1 rows x 22 columns]"
      ]
     },
     "execution_count": 11,
     "metadata": {},
     "output_type": "execute_result"
    }
   ],
   "source": [
    "cdd.head(1)"
   ]
  },
  {
   "cell_type": "code",
   "execution_count": 21,
   "metadata": {},
   "outputs": [
    {
     "data": {
      "text/plain": [
       "(1089, 22)"
      ]
     },
     "execution_count": 21,
     "metadata": {},
     "output_type": "execute_result"
    }
   ],
   "source": [
    "cdd.shape"
   ]
  },
  {
   "cell_type": "code",
   "execution_count": 10,
   "metadata": {},
   "outputs": [
    {
     "data": {
      "text/html": [
       "<div>\n",
       "<style scoped>\n",
       "    .dataframe tbody tr th:only-of-type {\n",
       "        vertical-align: middle;\n",
       "    }\n",
       "\n",
       "    .dataframe tbody tr th {\n",
       "        vertical-align: top;\n",
       "    }\n",
       "\n",
       "    .dataframe thead th {\n",
       "        text-align: right;\n",
       "    }\n",
       "</style>\n",
       "<table border=\"1\" class=\"dataframe\">\n",
       "  <thead>\n",
       "    <tr style=\"text-align: right;\">\n",
       "      <th></th>\n",
       "      <th>FATALITIES</th>\n",
       "      <th>INJURED / INFECTED</th>\n",
       "      <th>EVACUATED</th>\n",
       "      <th>ESTIMATED TOTAL COST</th>\n",
       "      <th>NORMALIZED TOTAL COST</th>\n",
       "      <th>FEDERAL DFAA PAYMENTS</th>\n",
       "      <th>PROVINCIAL DFAA PAYMENTS</th>\n",
       "      <th>PROVINCIAL DEPARTMENT PAYMENTS</th>\n",
       "      <th>MUNICIPAL COSTS</th>\n",
       "      <th>OGD COSTS</th>\n",
       "      <th>INSURANCE PAYMENTS</th>\n",
       "      <th>NGO PAYMENTS</th>\n",
       "      <th>UTILITY - PEOPLE AFFECTED</th>\n",
       "      <th>MAGNITUDE</th>\n",
       "    </tr>\n",
       "  </thead>\n",
       "  <tbody>\n",
       "    <tr>\n",
       "      <th>FATALITIES</th>\n",
       "      <td>1.000000</td>\n",
       "      <td>0.998728</td>\n",
       "      <td>-0.003530</td>\n",
       "      <td>0.027839</td>\n",
       "      <td>0.031352</td>\n",
       "      <td>0.014838</td>\n",
       "      <td>-0.020317</td>\n",
       "      <td>-0.023630</td>\n",
       "      <td>0.965880</td>\n",
       "      <td>0.417442</td>\n",
       "      <td>0.241347</td>\n",
       "      <td>0.966678</td>\n",
       "      <td>-0.001548</td>\n",
       "      <td>-0.003988</td>\n",
       "    </tr>\n",
       "    <tr>\n",
       "      <th>INJURED / INFECTED</th>\n",
       "      <td>0.998728</td>\n",
       "      <td>1.000000</td>\n",
       "      <td>-0.003554</td>\n",
       "      <td>0.073538</td>\n",
       "      <td>0.080907</td>\n",
       "      <td>0.311491</td>\n",
       "      <td>0.404215</td>\n",
       "      <td>-0.002056</td>\n",
       "      <td>0.965286</td>\n",
       "      <td>-0.036915</td>\n",
       "      <td>0.456924</td>\n",
       "      <td>0.999639</td>\n",
       "      <td>-0.001498</td>\n",
       "      <td>-0.003356</td>\n",
       "    </tr>\n",
       "    <tr>\n",
       "      <th>EVACUATED</th>\n",
       "      <td>-0.003530</td>\n",
       "      <td>-0.003554</td>\n",
       "      <td>1.000000</td>\n",
       "      <td>0.660335</td>\n",
       "      <td>0.580352</td>\n",
       "      <td>0.406679</td>\n",
       "      <td>0.083692</td>\n",
       "      <td>0.212975</td>\n",
       "      <td>0.514186</td>\n",
       "      <td>0.154761</td>\n",
       "      <td>0.825937</td>\n",
       "      <td>0.838898</td>\n",
       "      <td>-0.002430</td>\n",
       "      <td>-0.005672</td>\n",
       "    </tr>\n",
       "    <tr>\n",
       "      <th>ESTIMATED TOTAL COST</th>\n",
       "      <td>0.027839</td>\n",
       "      <td>0.073538</td>\n",
       "      <td>0.660335</td>\n",
       "      <td>1.000000</td>\n",
       "      <td>0.985690</td>\n",
       "      <td>0.796016</td>\n",
       "      <td>0.571493</td>\n",
       "      <td>0.184582</td>\n",
       "      <td>0.992845</td>\n",
       "      <td>0.238737</td>\n",
       "      <td>0.923990</td>\n",
       "      <td>0.999996</td>\n",
       "      <td>0.412833</td>\n",
       "      <td>0.064788</td>\n",
       "    </tr>\n",
       "    <tr>\n",
       "      <th>NORMALIZED TOTAL COST</th>\n",
       "      <td>0.031352</td>\n",
       "      <td>0.080907</td>\n",
       "      <td>0.580352</td>\n",
       "      <td>0.985690</td>\n",
       "      <td>1.000000</td>\n",
       "      <td>0.770445</td>\n",
       "      <td>0.577570</td>\n",
       "      <td>0.158622</td>\n",
       "      <td>0.992722</td>\n",
       "      <td>0.201398</td>\n",
       "      <td>0.849023</td>\n",
       "      <td>0.999995</td>\n",
       "      <td>0.415388</td>\n",
       "      <td>0.049626</td>\n",
       "    </tr>\n",
       "    <tr>\n",
       "      <th>FEDERAL DFAA PAYMENTS</th>\n",
       "      <td>0.014838</td>\n",
       "      <td>0.311491</td>\n",
       "      <td>0.406679</td>\n",
       "      <td>0.796016</td>\n",
       "      <td>0.770445</td>\n",
       "      <td>1.000000</td>\n",
       "      <td>0.626224</td>\n",
       "      <td>0.070189</td>\n",
       "      <td>0.956807</td>\n",
       "      <td>-0.021965</td>\n",
       "      <td>0.779394</td>\n",
       "      <td>0.999958</td>\n",
       "      <td>0.022835</td>\n",
       "      <td>0.003859</td>\n",
       "    </tr>\n",
       "    <tr>\n",
       "      <th>PROVINCIAL DFAA PAYMENTS</th>\n",
       "      <td>-0.020317</td>\n",
       "      <td>0.404215</td>\n",
       "      <td>0.083692</td>\n",
       "      <td>0.571493</td>\n",
       "      <td>0.577570</td>\n",
       "      <td>0.626224</td>\n",
       "      <td>1.000000</td>\n",
       "      <td>0.115947</td>\n",
       "      <td>0.717184</td>\n",
       "      <td>1.000000</td>\n",
       "      <td>0.850335</td>\n",
       "      <td>0.998123</td>\n",
       "      <td>-0.003366</td>\n",
       "      <td>0.119110</td>\n",
       "    </tr>\n",
       "    <tr>\n",
       "      <th>PROVINCIAL DEPARTMENT PAYMENTS</th>\n",
       "      <td>-0.023630</td>\n",
       "      <td>-0.002056</td>\n",
       "      <td>0.212975</td>\n",
       "      <td>0.184582</td>\n",
       "      <td>0.158622</td>\n",
       "      <td>0.070189</td>\n",
       "      <td>0.115947</td>\n",
       "      <td>1.000000</td>\n",
       "      <td>0.078196</td>\n",
       "      <td>0.641075</td>\n",
       "      <td>0.299118</td>\n",
       "      <td>0.994163</td>\n",
       "      <td>-0.026786</td>\n",
       "      <td>NaN</td>\n",
       "    </tr>\n",
       "    <tr>\n",
       "      <th>MUNICIPAL COSTS</th>\n",
       "      <td>0.965880</td>\n",
       "      <td>0.965286</td>\n",
       "      <td>0.514186</td>\n",
       "      <td>0.992845</td>\n",
       "      <td>0.992722</td>\n",
       "      <td>0.956807</td>\n",
       "      <td>0.717184</td>\n",
       "      <td>0.078196</td>\n",
       "      <td>1.000000</td>\n",
       "      <td>NaN</td>\n",
       "      <td>0.991906</td>\n",
       "      <td>0.999999</td>\n",
       "      <td>0.765488</td>\n",
       "      <td>NaN</td>\n",
       "    </tr>\n",
       "    <tr>\n",
       "      <th>OGD COSTS</th>\n",
       "      <td>0.417442</td>\n",
       "      <td>-0.036915</td>\n",
       "      <td>0.154761</td>\n",
       "      <td>0.238737</td>\n",
       "      <td>0.201398</td>\n",
       "      <td>-0.021965</td>\n",
       "      <td>1.000000</td>\n",
       "      <td>0.641075</td>\n",
       "      <td>NaN</td>\n",
       "      <td>1.000000</td>\n",
       "      <td>NaN</td>\n",
       "      <td>NaN</td>\n",
       "      <td>-0.092983</td>\n",
       "      <td>0.208801</td>\n",
       "    </tr>\n",
       "    <tr>\n",
       "      <th>INSURANCE PAYMENTS</th>\n",
       "      <td>0.241347</td>\n",
       "      <td>0.456924</td>\n",
       "      <td>0.825937</td>\n",
       "      <td>0.923990</td>\n",
       "      <td>0.849023</td>\n",
       "      <td>0.779394</td>\n",
       "      <td>0.850335</td>\n",
       "      <td>0.299118</td>\n",
       "      <td>0.991906</td>\n",
       "      <td>NaN</td>\n",
       "      <td>1.000000</td>\n",
       "      <td>NaN</td>\n",
       "      <td>0.604148</td>\n",
       "      <td>0.241767</td>\n",
       "    </tr>\n",
       "    <tr>\n",
       "      <th>NGO PAYMENTS</th>\n",
       "      <td>0.966678</td>\n",
       "      <td>0.999639</td>\n",
       "      <td>0.838898</td>\n",
       "      <td>0.999996</td>\n",
       "      <td>0.999995</td>\n",
       "      <td>0.999958</td>\n",
       "      <td>0.998123</td>\n",
       "      <td>0.994163</td>\n",
       "      <td>0.999999</td>\n",
       "      <td>NaN</td>\n",
       "      <td>NaN</td>\n",
       "      <td>1.000000</td>\n",
       "      <td>0.999999</td>\n",
       "      <td>NaN</td>\n",
       "    </tr>\n",
       "    <tr>\n",
       "      <th>UTILITY - PEOPLE AFFECTED</th>\n",
       "      <td>-0.001548</td>\n",
       "      <td>-0.001498</td>\n",
       "      <td>-0.002430</td>\n",
       "      <td>0.412833</td>\n",
       "      <td>0.415388</td>\n",
       "      <td>0.022835</td>\n",
       "      <td>-0.003366</td>\n",
       "      <td>-0.026786</td>\n",
       "      <td>0.765488</td>\n",
       "      <td>-0.092983</td>\n",
       "      <td>0.604148</td>\n",
       "      <td>0.999999</td>\n",
       "      <td>1.000000</td>\n",
       "      <td>-0.002231</td>\n",
       "    </tr>\n",
       "    <tr>\n",
       "      <th>MAGNITUDE</th>\n",
       "      <td>-0.003988</td>\n",
       "      <td>-0.003356</td>\n",
       "      <td>-0.005672</td>\n",
       "      <td>0.064788</td>\n",
       "      <td>0.049626</td>\n",
       "      <td>0.003859</td>\n",
       "      <td>0.119110</td>\n",
       "      <td>NaN</td>\n",
       "      <td>NaN</td>\n",
       "      <td>0.208801</td>\n",
       "      <td>0.241767</td>\n",
       "      <td>NaN</td>\n",
       "      <td>-0.002231</td>\n",
       "      <td>1.000000</td>\n",
       "    </tr>\n",
       "  </tbody>\n",
       "</table>\n",
       "</div>"
      ],
      "text/plain": [
       "                                FATALITIES  INJURED / INFECTED  EVACUATED  \\\n",
       "FATALITIES                        1.000000            0.998728  -0.003530   \n",
       "INJURED / INFECTED                0.998728            1.000000  -0.003554   \n",
       "EVACUATED                        -0.003530           -0.003554   1.000000   \n",
       "ESTIMATED TOTAL COST              0.027839            0.073538   0.660335   \n",
       "NORMALIZED TOTAL COST             0.031352            0.080907   0.580352   \n",
       "FEDERAL DFAA PAYMENTS             0.014838            0.311491   0.406679   \n",
       "PROVINCIAL DFAA PAYMENTS         -0.020317            0.404215   0.083692   \n",
       "PROVINCIAL DEPARTMENT PAYMENTS   -0.023630           -0.002056   0.212975   \n",
       "MUNICIPAL COSTS                   0.965880            0.965286   0.514186   \n",
       "OGD COSTS                         0.417442           -0.036915   0.154761   \n",
       "INSURANCE PAYMENTS                0.241347            0.456924   0.825937   \n",
       "NGO PAYMENTS                      0.966678            0.999639   0.838898   \n",
       "UTILITY - PEOPLE AFFECTED        -0.001548           -0.001498  -0.002430   \n",
       "MAGNITUDE                        -0.003988           -0.003356  -0.005672   \n",
       "\n",
       "                                ESTIMATED TOTAL COST  NORMALIZED TOTAL COST  \\\n",
       "FATALITIES                                  0.027839               0.031352   \n",
       "INJURED / INFECTED                          0.073538               0.080907   \n",
       "EVACUATED                                   0.660335               0.580352   \n",
       "ESTIMATED TOTAL COST                        1.000000               0.985690   \n",
       "NORMALIZED TOTAL COST                       0.985690               1.000000   \n",
       "FEDERAL DFAA PAYMENTS                       0.796016               0.770445   \n",
       "PROVINCIAL DFAA PAYMENTS                    0.571493               0.577570   \n",
       "PROVINCIAL DEPARTMENT PAYMENTS              0.184582               0.158622   \n",
       "MUNICIPAL COSTS                             0.992845               0.992722   \n",
       "OGD COSTS                                   0.238737               0.201398   \n",
       "INSURANCE PAYMENTS                          0.923990               0.849023   \n",
       "NGO PAYMENTS                                0.999996               0.999995   \n",
       "UTILITY - PEOPLE AFFECTED                   0.412833               0.415388   \n",
       "MAGNITUDE                                   0.064788               0.049626   \n",
       "\n",
       "                                FEDERAL DFAA PAYMENTS  \\\n",
       "FATALITIES                                   0.014838   \n",
       "INJURED / INFECTED                           0.311491   \n",
       "EVACUATED                                    0.406679   \n",
       "ESTIMATED TOTAL COST                         0.796016   \n",
       "NORMALIZED TOTAL COST                        0.770445   \n",
       "FEDERAL DFAA PAYMENTS                        1.000000   \n",
       "PROVINCIAL DFAA PAYMENTS                     0.626224   \n",
       "PROVINCIAL DEPARTMENT PAYMENTS               0.070189   \n",
       "MUNICIPAL COSTS                              0.956807   \n",
       "OGD COSTS                                   -0.021965   \n",
       "INSURANCE PAYMENTS                           0.779394   \n",
       "NGO PAYMENTS                                 0.999958   \n",
       "UTILITY - PEOPLE AFFECTED                    0.022835   \n",
       "MAGNITUDE                                    0.003859   \n",
       "\n",
       "                                PROVINCIAL DFAA PAYMENTS  \\\n",
       "FATALITIES                                     -0.020317   \n",
       "INJURED / INFECTED                              0.404215   \n",
       "EVACUATED                                       0.083692   \n",
       "ESTIMATED TOTAL COST                            0.571493   \n",
       "NORMALIZED TOTAL COST                           0.577570   \n",
       "FEDERAL DFAA PAYMENTS                           0.626224   \n",
       "PROVINCIAL DFAA PAYMENTS                        1.000000   \n",
       "PROVINCIAL DEPARTMENT PAYMENTS                  0.115947   \n",
       "MUNICIPAL COSTS                                 0.717184   \n",
       "OGD COSTS                                       1.000000   \n",
       "INSURANCE PAYMENTS                              0.850335   \n",
       "NGO PAYMENTS                                    0.998123   \n",
       "UTILITY - PEOPLE AFFECTED                      -0.003366   \n",
       "MAGNITUDE                                       0.119110   \n",
       "\n",
       "                                PROVINCIAL DEPARTMENT PAYMENTS  \\\n",
       "FATALITIES                                           -0.023630   \n",
       "INJURED / INFECTED                                   -0.002056   \n",
       "EVACUATED                                             0.212975   \n",
       "ESTIMATED TOTAL COST                                  0.184582   \n",
       "NORMALIZED TOTAL COST                                 0.158622   \n",
       "FEDERAL DFAA PAYMENTS                                 0.070189   \n",
       "PROVINCIAL DFAA PAYMENTS                              0.115947   \n",
       "PROVINCIAL DEPARTMENT PAYMENTS                        1.000000   \n",
       "MUNICIPAL COSTS                                       0.078196   \n",
       "OGD COSTS                                             0.641075   \n",
       "INSURANCE PAYMENTS                                    0.299118   \n",
       "NGO PAYMENTS                                          0.994163   \n",
       "UTILITY - PEOPLE AFFECTED                            -0.026786   \n",
       "MAGNITUDE                                                  NaN   \n",
       "\n",
       "                                MUNICIPAL COSTS  OGD COSTS  \\\n",
       "FATALITIES                             0.965880   0.417442   \n",
       "INJURED / INFECTED                     0.965286  -0.036915   \n",
       "EVACUATED                              0.514186   0.154761   \n",
       "ESTIMATED TOTAL COST                   0.992845   0.238737   \n",
       "NORMALIZED TOTAL COST                  0.992722   0.201398   \n",
       "FEDERAL DFAA PAYMENTS                  0.956807  -0.021965   \n",
       "PROVINCIAL DFAA PAYMENTS               0.717184   1.000000   \n",
       "PROVINCIAL DEPARTMENT PAYMENTS         0.078196   0.641075   \n",
       "MUNICIPAL COSTS                        1.000000        NaN   \n",
       "OGD COSTS                                   NaN   1.000000   \n",
       "INSURANCE PAYMENTS                     0.991906        NaN   \n",
       "NGO PAYMENTS                           0.999999        NaN   \n",
       "UTILITY - PEOPLE AFFECTED              0.765488  -0.092983   \n",
       "MAGNITUDE                                   NaN   0.208801   \n",
       "\n",
       "                                INSURANCE PAYMENTS  NGO PAYMENTS  \\\n",
       "FATALITIES                                0.241347      0.966678   \n",
       "INJURED / INFECTED                        0.456924      0.999639   \n",
       "EVACUATED                                 0.825937      0.838898   \n",
       "ESTIMATED TOTAL COST                      0.923990      0.999996   \n",
       "NORMALIZED TOTAL COST                     0.849023      0.999995   \n",
       "FEDERAL DFAA PAYMENTS                     0.779394      0.999958   \n",
       "PROVINCIAL DFAA PAYMENTS                  0.850335      0.998123   \n",
       "PROVINCIAL DEPARTMENT PAYMENTS            0.299118      0.994163   \n",
       "MUNICIPAL COSTS                           0.991906      0.999999   \n",
       "OGD COSTS                                      NaN           NaN   \n",
       "INSURANCE PAYMENTS                        1.000000           NaN   \n",
       "NGO PAYMENTS                                   NaN      1.000000   \n",
       "UTILITY - PEOPLE AFFECTED                 0.604148      0.999999   \n",
       "MAGNITUDE                                 0.241767           NaN   \n",
       "\n",
       "                                UTILITY - PEOPLE AFFECTED  MAGNITUDE  \n",
       "FATALITIES                                      -0.001548  -0.003988  \n",
       "INJURED / INFECTED                              -0.001498  -0.003356  \n",
       "EVACUATED                                       -0.002430  -0.005672  \n",
       "ESTIMATED TOTAL COST                             0.412833   0.064788  \n",
       "NORMALIZED TOTAL COST                            0.415388   0.049626  \n",
       "FEDERAL DFAA PAYMENTS                            0.022835   0.003859  \n",
       "PROVINCIAL DFAA PAYMENTS                        -0.003366   0.119110  \n",
       "PROVINCIAL DEPARTMENT PAYMENTS                  -0.026786        NaN  \n",
       "MUNICIPAL COSTS                                  0.765488        NaN  \n",
       "OGD COSTS                                       -0.092983   0.208801  \n",
       "INSURANCE PAYMENTS                               0.604148   0.241767  \n",
       "NGO PAYMENTS                                     0.999999        NaN  \n",
       "UTILITY - PEOPLE AFFECTED                        1.000000  -0.002231  \n",
       "MAGNITUDE                                       -0.002231   1.000000  "
      ]
     },
     "execution_count": 10,
     "metadata": {},
     "output_type": "execute_result"
    }
   ],
   "source": [
    "cdd.corr()"
   ]
  },
  {
   "cell_type": "markdown",
   "metadata": {},
   "source": [
    "#### Print a heat map of this correlation matrix \n",
    "(hint: use seaborn.heatmap())"
   ]
  },
  {
   "cell_type": "code",
   "execution_count": 17,
   "metadata": {},
   "outputs": [
    {
     "data": {
      "text/plain": [
       "'\\nheatmap = sns.heatmap(cdd.corr(), annot=True)\\nbottom, top = heatmap.get_ylim()\\nheatmap.set_ylim(bottom + 0.5, top - 0.5)\\nheatmap\\n'"
      ]
     },
     "execution_count": 17,
     "metadata": {},
     "output_type": "execute_result"
    },
    {
     "data": {
      "image/png": "[encoded data removed]",
      "text/plain": [
       "<Figure size 432x288 with 2 Axes>"
      ]
     },
     "metadata": {
      "needs_background": "light"
     },
     "output_type": "display_data"
    }
   ],
   "source": [
    "sns.heatmap(cdd.corr())\n",
    "\n",
    "\"\"\"\n",
    "heatmap = sns.heatmap(cdd.corr(), annot=True)\n",
    "bottom, top = heatmap.get_ylim()\n",
    "heatmap.set_ylim(bottom + 0.5, top - 0.5)\n",
    "heatmap\n",
    "\"\"\""
   ]
  },
  {
   "cell_type": "markdown",
   "metadata": {},
   "source": [
    "#### Find 3 pairs of columns \n",
    "1. one pair that is highly positively correlated, \n",
    "2. one for which the correlation is almost zero and \n",
    "3. one pair that is negatively correlated. \n",
    "\n",
    "In each case write down an explanation why we see this correlation"
   ]
  },
  {
   "cell_type": "code",
   "execution_count": 19,
   "metadata": {},
   "outputs": [
    {
     "data": {
      "text/plain": [
       "0.9928450176411745"
      ]
     },
     "execution_count": 19,
     "metadata": {},
     "output_type": "execute_result"
    }
   ],
   "source": [
    "# 1. highly positively correlated: ESTIMATED TOTAL COST and MUNICIPAL COSTS\n",
    "\n",
    "print(cdd['ESTIMATED TOTAL COST'].corr(cdd['MUNICIPAL COSTS']))\n",
    "\n",
    "\"\"\"\n",
    "The higher the municipal cost the higher the estimation of the total cost will be.\n",
    "\"\"\""
   ]
  },
  {
   "cell_type": "code",
   "execution_count": 22,
   "metadata": {},
   "outputs": [
    {
     "name": "stdout",
     "output_type": "stream",
     "text": [
      "-0.00398816206587181\n"
     ]
    },
    {
     "data": {
      "text/plain": [
       "'\\n\\n'"
      ]
     },
     "execution_count": 22,
     "metadata": {},
     "output_type": "execute_result"
    }
   ],
   "source": [
    "# 2. correlation is almost zero: FATALITIES and MAGNITUDE\n",
    "\n",
    "print(cdd['FATALITIES'].corr(cdd['MAGNITUDE']))\n",
    "\n",
    "\"\"\"\n",
    "Description of Magnitude: A measure of the size of an earthquake, related to the amount of energy released.\n",
    "\n",
    "In this case the size of an erathqake does not have a correlation with the number of falaties.\n",
    "\"\"\""
   ]
  },
  {
   "cell_type": "code",
   "execution_count": 23,
   "metadata": {},
   "outputs": [
    {
     "name": "stdout",
     "output_type": "stream",
     "text": [
      "-0.09298259907022134\n"
     ]
    },
    {
     "data": {
      "text/plain": [
       "'\\n\\n'"
      ]
     },
     "execution_count": 23,
     "metadata": {},
     "output_type": "execute_result"
    }
   ],
   "source": [
    "# 3. negatively correlated: OGD COSTS and UTILITY - PEOPLE AFFECTED\n",
    "\n",
    "print(cdd['OGD COSTS'].corr(cdd['UTILITY - PEOPLE AFFECTED']))\n",
    "\n",
    "\"\"\"\n",
    "Description of Other Federal Institution: Costs The amount, in dollars, paid out by other federal institutions.\n",
    "Description of Utility Costs/Losses: The amount of people whose utility services (power, water, etc.) were interrupted/affected by a specific event.\n",
    "\n",
    "There seems to be mild negative correlation between these two factors. I don't comprehend the reason why.\n",
    "\"\"\""
   ]
  },
  {
   "cell_type": "markdown",
   "metadata": {},
   "source": [
    "#### Look up the pairplot function in Seaborn. \n",
    "Use it to plot the pairwise relations between the six columns you selected. Does what you see confirm your ideas? Describe in a comment."
   ]
  },
  {
   "cell_type": "code",
   "execution_count": 29,
   "metadata": {},
   "outputs": [
    {
     "data": {
      "text/plain": [
       "<seaborn.axisgrid.PairGrid at 0x20310dc8048>"
      ]
     },
     "execution_count": 29,
     "metadata": {},
     "output_type": "execute_result"
    },
    {
     "data": {
      "image/png": "[encoded data removed]",
      "text/plain": [
       "<Figure size 360x360 with 6 Axes>"
      ]
     },
     "metadata": {
      "needs_background": "light"
     },
     "output_type": "display_data"
    }
   ],
   "source": [
    "# 1. highly positively correlated: ESTIMATED TOTAL COST and MUNICIPAL COSTS\n",
    "\n",
    "sns.pairplot(cdd, vars=[\"ESTIMATED TOTAL COST\", \"MUNICIPAL COSTS\"], kind='reg')\n",
    "\n",
    "\"\"\"\n",
    "The graph shows a strong upwards line that properly represents a positive correlation.\n",
    "\"\"\""
   ]
  },
  {
   "cell_type": "code",
   "execution_count": 32,
   "metadata": {},
   "outputs": [
    {
     "data": {
      "text/plain": [
       "<seaborn.axisgrid.PairGrid at 0x203114c2e88>"
      ]
     },
     "execution_count": 32,
     "metadata": {},
     "output_type": "execute_result"
    },
    {
     "data": {
      "image/png": "[encoded data removed]",
      "text/plain": [
       "<Figure size 360x360 with 6 Axes>"
      ]
     },
     "metadata": {
      "needs_background": "light"
     },
     "output_type": "display_data"
    }
   ],
   "source": [
    "# 2. correlation is almost zero: FATALITIES and MAGNITUDE\n",
    "\n",
    "sns.pairplot(cdd, vars=[\"FATALITIES\", \"MAGNITUDE\"], kind='reg')\n",
    "\n",
    "\"\"\"\n",
    "The graph shows a flat line that properly represents a non-correlation.\n",
    "\"\"\""
   ]
  },
  {
   "cell_type": "code",
   "execution_count": 33,
   "metadata": {},
   "outputs": [
    {
     "data": {
      "text/plain": [
       "<seaborn.axisgrid.PairGrid at 0x203116b4bc8>"
      ]
     },
     "execution_count": 33,
     "metadata": {},
     "output_type": "execute_result"
    },
    {
     "data": {
      "image/png": "[encoded data removed]",
      "text/plain": [
       "<Figure size 360x360 with 6 Axes>"
      ]
     },
     "metadata": {
      "needs_background": "light"
     },
     "output_type": "display_data"
    }
   ],
   "source": [
    "# 3. negatively correlated: OGD COSTS\n",
    "\n",
    "sns.pairplot(cdd, vars=[\"OGD COSTS\", \"UTILITY - PEOPLE AFFECTED\"], kind='reg')\n",
    "\n",
    "\"\"\"\n",
    "The graph shows a slightly down line that properly represents a negative correlation. \n",
    "The slope of the line is small, which again properly represents a weak correlation.\n",
    "\"\"\""
   ]
  },
  {
   "cell_type": "code",
   "execution_count": null,
   "metadata": {},
   "outputs": [],
   "source": []
  }
 ],
 "metadata": {
  "kernelspec": {
   "display_name": "Python 3",
   "language": "python",
   "name": "python3"
  },
  "language_info": {
   "codemirror_mode": {
    "name": "ipython",
    "version": 3
   },
   "file_extension": ".py",
   "mimetype": "text/x-python",
   "name": "python",
   "nbconvert_exporter": "python",
   "pygments_lexer": "ipython3",
   "version": "3.7.6"
  }
 },
 "nbformat": 4,
 "nbformat_minor": 4
}

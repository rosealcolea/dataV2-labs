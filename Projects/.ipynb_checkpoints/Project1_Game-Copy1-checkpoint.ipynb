{
 "cells": [
  {
   "cell_type": "markdown",
   "metadata": {},
   "source": [
    "# Black Jack in Python\n"
   ]
  },
  {
   "cell_type": "code",
   "execution_count": 1,
   "metadata": {},
   "outputs": [],
   "source": [
    "import sys"
   ]
  },
  {
   "cell_type": "code",
   "execution_count": 2,
   "metadata": {},
   "outputs": [
    {
     "name": "stdout",
     "output_type": "stream",
     "text": [
      "{'A': 11, 2: 2, 3: 3, 4: 4, 5: 5, 6: 6, 7: 7, 8: 8, 9: 9, 10: 10, 'J': 10, 'Q': 10, 'K': 10}\n"
     ]
    }
   ],
   "source": [
    "# creating a dictionary with the card values\n",
    "\n",
    "d = dict()\n",
    "\n",
    "d['A'] = 11\n",
    "\n",
    "for i in range(2, 11):\n",
    "    d[i] = i\n",
    "\n",
    "d['J'] = 10\n",
    "d['Q'] = 10\n",
    "d['K'] = 10\n",
    "\n",
    "print(d)"
   ]
  },
  {
   "cell_type": "code",
   "execution_count": 3,
   "metadata": {},
   "outputs": [
    {
     "name": "stdout",
     "output_type": "stream",
     "text": [
      "Here is our full deck of cards: ['A', 2, 3, 4, 5, 6, 7, 8, 9, 10, 'J', 'Q', 'K', 'A', 2, 3, 4, 5, 6, 7, 8, 9, 10, 'J', 'Q', 'K', 'A', 2, 3, 4, 5, 6, 7, 8, 9, 10, 'J', 'Q', 'K', 'A', 2, 3, 4, 5, 6, 7, 8, 9, 10, 'J', 'Q', 'K']\n"
     ]
    }
   ],
   "source": [
    "# creating the deck of cards\n",
    "\n",
    "deck = []\n",
    "for i in range(0,4):\n",
    "    deck.append('A')\n",
    "    for ii in range (2,11):\n",
    "        deck.append(ii)\n",
    "    deck.append('J')\n",
    "    deck.append('Q')\n",
    "    deck.append('K')\n",
    "    \n",
    "print('Here is our full deck of cards:', deck)"
   ]
  },
  {
   "cell_type": "code",
   "execution_count": 4,
   "metadata": {},
   "outputs": [
    {
     "name": "stdout",
     "output_type": "stream",
     "text": [
      "The deck has been shuffled.\n"
     ]
    }
   ],
   "source": [
    "# suffle deck\n",
    "import random\n",
    "\n",
    "def shuffle():\n",
    "    random.shuffle(deck)\n",
    "    print('The deck has been shuffled.')\n",
    "\n",
    "#print(deck)\n",
    "shuffle()"
   ]
  },
  {
   "cell_type": "code",
   "execution_count": 5,
   "metadata": {},
   "outputs": [
    {
     "name": "stdout",
     "output_type": "stream",
     "text": [
      "The dealer deals the cards.\n",
      "You receive the cards:  K and 9\n",
      "The dealer receives the cards:  8 and an unknown card.\n",
      "['A', 9]\n"
     ]
    }
   ],
   "source": [
    "# dealing cards first round\n",
    "\n",
    "player = []\n",
    "dealer =[]\n",
    "\n",
    "def deal():\n",
    "    player.clear()\n",
    "    dealer.clear()\n",
    "    for i in range(2):\n",
    "        player.append(deck.pop())\n",
    "        dealer.append(deck.pop())\n",
    "    print('The dealer deals the cards.')\n",
    "    print('You receive the cards: ', player[0], 'and', player[1])\n",
    "    print('The dealer receives the cards: ', dealer[0], 'and', 'an unknown card.')\n",
    "\n",
    "deal()\n",
    "player = ['A', 9]\n",
    "print(player)\n",
    "#print(dealer)"
   ]
  },
  {
   "cell_type": "code",
   "execution_count": 6,
   "metadata": {},
   "outputs": [],
   "source": [
    "# checking status of the game\n",
    "\n",
    "# player\n",
    "def player_status():\n",
    "    s = 0\n",
    "    for i in range(len(player)):\n",
    "        s += d[player[i]]\n",
    "    if s < 21:\n",
    "        pass\n",
    "    elif s == 21:\n",
    "        s = 0\n",
    "        for i in range(len(dealer)):\n",
    "            s += d[dealer[i]]\n",
    "        if s < 21:\n",
    "            print('Winner, Winner, Chicken Dinner! You have won!')\n",
    "            sys.exit()\n",
    "        else:\n",
    "            print(\"I's a tie.\")\n",
    "            sys.exit()\n",
    "    elif s > 21:\n",
    "        print(\"Game Over. Your hand is over 21.\")\n",
    "        sys.exit()\n",
    "        \n",
    "player_status()\n",
    "\n",
    "#dealer\n",
    "def dealer_status():\n",
    "    s = 0\n",
    "    for i in range(len(dealer)):\n",
    "        s += d[dealer[i]]\n",
    "    if s < 21:\n",
    "        pass\n",
    "    elif s == 21:\n",
    "        s = 0\n",
    "        for i in range(len(player)):\n",
    "            s += d[player[i]]\n",
    "        if s < 21:\n",
    "            print('Game Over. The house wins.')\n",
    "            sys.exit()\n",
    "        else:\n",
    "            print(\"I's a tie.\")\n",
    "            sys.exit()\n",
    "    elif s > 21:\n",
    "        s = 0\n",
    "        for i in range(len(player)):\n",
    "            s += d[player[i]]\n",
    "        if s >= 21:\n",
    "            print('Game Over. The house wins.')\n",
    "            sys.exit()\n",
    "        else:\n",
    "            print(\"Winner, Winner, Chicken Dinner! You have won! The dealer's hand is over 21.\")\n",
    "            sys.exit()  \n",
    "        \n",
    "dealer_status()"
   ]
  },
  {
   "cell_type": "code",
   "execution_count": 7,
   "metadata": {},
   "outputs": [
    {
     "name": "stdout",
     "output_type": "stream",
     "text": [
      "Write \"Hit\" to draw another card.\n",
      "Write \"Stand\" to end your turn.\n",
      "stand\n",
      "Player stands.\n"
     ]
    }
   ],
   "source": [
    "# player's decision:\n",
    "\n",
    "def player_decision():\n",
    "    print('Write \"Hit\" to draw another card.')\n",
    "    print('Write \"Stand\" to end your turn.')\n",
    "    x = input()\n",
    "    if x.lower() == 'hit':\n",
    "        player.append(deck.pop())\n",
    "        print('You receive the card: ', player[-1])\n",
    "        s = 0\n",
    "        for i in range(len(player)):\n",
    "            s += d[player[i]]\n",
    "        if s > 21:\n",
    "            if 'A' not in player:\n",
    "                print(\"Game Over. Your hand is over 21.\")\n",
    "                sys.exit()\n",
    "            elif 'A' in player:\n",
    "                if s > 31:\n",
    "                    print(\"Game Over. Your hand is over 21.\")\n",
    "                    sys.exit()\n",
    "        player_decision()\n",
    "    elif x.lower() == 'stand':\n",
    "        print('Player stands.')\n",
    "    else:\n",
    "        player_decision()\n",
    "\n",
    "player_decision()"
   ]
  },
  {
   "cell_type": "code",
   "execution_count": 8,
   "metadata": {},
   "outputs": [
    {
     "name": "stdout",
     "output_type": "stream",
     "text": [
      "The dealer reveals all his cards:  8 and 10\n"
     ]
    }
   ],
   "source": [
    "# dealer shows hand\n",
    "\n",
    "print('The dealer reveals all his cards: ', dealer[0], 'and', dealer[1])"
   ]
  },
  {
   "cell_type": "code",
   "execution_count": 9,
   "metadata": {},
   "outputs": [
    {
     "ename": "RecursionError",
     "evalue": "maximum recursion depth exceeded in comparison",
     "output_type": "error",
     "traceback": [
      "\u001b[1;31m---------------------------------------------------------------------------\u001b[0m",
      "\u001b[1;31mRecursionError\u001b[0m                            Traceback (most recent call last)",
      "\u001b[1;32m<ipython-input-9-7f52183b5b39>\u001b[0m in \u001b[0;36m<module>\u001b[1;34m\u001b[0m\n\u001b[0;32m    106\u001b[0m                 \u001b[0msys\u001b[0m\u001b[1;33m.\u001b[0m\u001b[0mexit\u001b[0m\u001b[1;33m(\u001b[0m\u001b[1;33m)\u001b[0m\u001b[1;33m\u001b[0m\u001b[1;33m\u001b[0m\u001b[0m\n\u001b[0;32m    107\u001b[0m \u001b[1;33m\u001b[0m\u001b[0m\n\u001b[1;32m--> 108\u001b[1;33m \u001b[0mdealer_decision\u001b[0m\u001b[1;33m(\u001b[0m\u001b[1;33m)\u001b[0m\u001b[1;33m\u001b[0m\u001b[1;33m\u001b[0m\u001b[0m\n\u001b[0m",
      "\u001b[1;32m<ipython-input-9-7f52183b5b39>\u001b[0m in \u001b[0;36mdealer_decision\u001b[1;34m()\u001b[0m\n\u001b[0;32m     20\u001b[0m                     \u001b[0mprint\u001b[0m\u001b[1;33m(\u001b[0m\u001b[1;34m\"Winner, Winner, Chicken Dinner! You have won! The dealer's hand is over 21.\"\u001b[0m\u001b[1;33m)\u001b[0m\u001b[1;33m\u001b[0m\u001b[1;33m\u001b[0m\u001b[0m\n\u001b[0;32m     21\u001b[0m                     \u001b[0msys\u001b[0m\u001b[1;33m.\u001b[0m\u001b[0mexit\u001b[0m\u001b[1;33m(\u001b[0m\u001b[1;33m)\u001b[0m\u001b[1;33m\u001b[0m\u001b[1;33m\u001b[0m\u001b[0m\n\u001b[1;32m---> 22\u001b[1;33m         \u001b[0mdealer_decision\u001b[0m\u001b[1;33m(\u001b[0m\u001b[1;33m)\u001b[0m\u001b[1;33m\u001b[0m\u001b[1;33m\u001b[0m\u001b[0m\n\u001b[0m\u001b[0;32m     23\u001b[0m     \u001b[1;32melse\u001b[0m\u001b[1;33m:\u001b[0m\u001b[1;33m\u001b[0m\u001b[1;33m\u001b[0m\u001b[0m\n\u001b[0;32m     24\u001b[0m         \u001b[0mprint\u001b[0m\u001b[1;33m(\u001b[0m\u001b[1;34m'The dealer stands'\u001b[0m\u001b[1;33m)\u001b[0m\u001b[1;33m\u001b[0m\u001b[1;33m\u001b[0m\u001b[0m\n",
      "... last 1 frames repeated, from the frame below ...\n",
      "\u001b[1;32m<ipython-input-9-7f52183b5b39>\u001b[0m in \u001b[0;36mdealer_decision\u001b[1;34m()\u001b[0m\n\u001b[0;32m     20\u001b[0m                     \u001b[0mprint\u001b[0m\u001b[1;33m(\u001b[0m\u001b[1;34m\"Winner, Winner, Chicken Dinner! You have won! The dealer's hand is over 21.\"\u001b[0m\u001b[1;33m)\u001b[0m\u001b[1;33m\u001b[0m\u001b[1;33m\u001b[0m\u001b[0m\n\u001b[0;32m     21\u001b[0m                     \u001b[0msys\u001b[0m\u001b[1;33m.\u001b[0m\u001b[0mexit\u001b[0m\u001b[1;33m(\u001b[0m\u001b[1;33m)\u001b[0m\u001b[1;33m\u001b[0m\u001b[1;33m\u001b[0m\u001b[0m\n\u001b[1;32m---> 22\u001b[1;33m         \u001b[0mdealer_decision\u001b[0m\u001b[1;33m(\u001b[0m\u001b[1;33m)\u001b[0m\u001b[1;33m\u001b[0m\u001b[1;33m\u001b[0m\u001b[0m\n\u001b[0m\u001b[0;32m     23\u001b[0m     \u001b[1;32melse\u001b[0m\u001b[1;33m:\u001b[0m\u001b[1;33m\u001b[0m\u001b[1;33m\u001b[0m\u001b[0m\n\u001b[0;32m     24\u001b[0m         \u001b[0mprint\u001b[0m\u001b[1;33m(\u001b[0m\u001b[1;34m'The dealer stands'\u001b[0m\u001b[1;33m)\u001b[0m\u001b[1;33m\u001b[0m\u001b[1;33m\u001b[0m\u001b[0m\n",
      "\u001b[1;31mRecursionError\u001b[0m: maximum recursion depth exceeded in comparison"
     ]
    }
   ],
   "source": [
    "# dealer's decision\n",
    "\n",
    "def dealer_decision():\n",
    "    s = 0\n",
    "    for i in range(len(dealer)):\n",
    "        s += d[dealer[i]]\n",
    "    if 'A' not in dealer:\n",
    "        if s < 17:\n",
    "            dealer.append(deck.pop())\n",
    "            print('The dealer hits and draws a', dealer[-1])\n",
    "            #s = 0\n",
    "            #for i in range(len(dealer)):\n",
    "                #s += d[dealer[i]]\n",
    "        if s > 21:\n",
    "            if 'A' not in dealer:\n",
    "                print(\"Winner, Winner, Chicken Dinner! You have won! The dealer's hand is over 21.\")\n",
    "                sys.exit()\n",
    "            elif 'A' in dealer:\n",
    "                if s > 31:\n",
    "                    print(\"Winner, Winner, Chicken Dinner! You have won! The dealer's hand is over 21.\")\n",
    "                    sys.exit()\n",
    "        dealer_decision()\n",
    "    else:\n",
    "        print('The dealer stands')\n",
    "        s = 0\n",
    "        ss = 0\n",
    "        for i in range(len(player)):\n",
    "            s += d[player[i]]\n",
    "        for i in range(len(dealer)):\n",
    "            ss += d[dealer[i]]\n",
    "        if 'A' in player or dealer:\n",
    "            if 'A' in player:\n",
    "                if s > 21:\n",
    "                    if (s-10) > ss:\n",
    "                        print('Winner, Winner, Chicken Dinner! You have won!')\n",
    "                        sys.exit()\n",
    "                    elif (s-10) < ss:\n",
    "                        print('Game Over. The house wins')\n",
    "                        sys.exit()\n",
    "                    else:\n",
    "                        print(\"I's a tie.\")\n",
    "                        sys.exit()\n",
    "                elif s < 21:\n",
    "                    if s > ss:\n",
    "                        print('Winner, Winner, Chicken Dinner! You have won!')\n",
    "                        sys.exit()\n",
    "                    elif s < ss:\n",
    "                        print('Game Over. The house wins')\n",
    "                        sys.exit()\n",
    "                    else:\n",
    "                        print(\"I's a tie.\")\n",
    "                        sys.exit()\n",
    "            elif 'A' in dealer:\n",
    "                if ss > 21:\n",
    "                    if s > (ss-10):\n",
    "                        print('Winner, Winner, Chicken Dinner! You have won!')\n",
    "                        sys.exit()\n",
    "                    else:\n",
    "                        print('Game Over. The house wins')\n",
    "                        sys.exit()\n",
    "                elif ss < 21:\n",
    "                    if s > ss:\n",
    "                        print('Winner, Winner, Chicken Dinner! You have won!')\n",
    "                        sys.exit()\n",
    "                    else:\n",
    "                        print('Game Over. The house wins')\n",
    "                        sys.exit()\n",
    "            else:\n",
    "                if s > 21 and ss < 21:\n",
    "                    if (s-10) > ss:\n",
    "                        print('Winner, Winner, Chicken Dinner! You have won!')\n",
    "                        sys.exit()\n",
    "                    else:\n",
    "                        print('Game Over. The house wins')\n",
    "                        sys.exit()\n",
    "                elif s < 21 and ss > 21:\n",
    "                    if s > (ss-10):\n",
    "                        print('Winner, Winner, Chicken Dinner! You have won!')\n",
    "                        sys.exit()\n",
    "                    else:\n",
    "                        print('Game Over. The house wins')\n",
    "                        sys.exit()\n",
    "                elif s > 21 and ss > 21:\n",
    "                    if (s-10) > (ss-10):\n",
    "                        print('Winner, Winner, Chicken Dinner! You have won!')\n",
    "                        sys.exit()\n",
    "                    else:\n",
    "                        print('Game Over. The house wins')\n",
    "                        sys.exit()\n",
    "                else:\n",
    "                    if s > ss:\n",
    "                        print('Winner, Winner, Chicken Dinner! You have won!')\n",
    "                        sys.exit()\n",
    "                    else:\n",
    "                        print('Game Over. The house wins')\n",
    "                        sys.exit()\n",
    "        else:\n",
    "            if s > ss:\n",
    "                print('Winner, Winner, Chicken Dinner! You have won!')\n",
    "                sys.exit()\n",
    "            elif ss < s:\n",
    "                print('Game Over. The house wins')\n",
    "                sys.exit()\n",
    "            else:\n",
    "                print(\"I's a tie.\")\n",
    "                sys.exit()\n",
    "\n",
    "dealer_decision()"
   ]
  },
  {
   "cell_type": "code",
   "execution_count": 12,
   "metadata": {},
   "outputs": [
    {
     "ename": "IndentationError",
     "evalue": "expected an indented block (<ipython-input-12-6f60c450b4a6>, line 65)",
     "output_type": "error",
     "traceback": [
      "\u001b[1;36m  File \u001b[1;32m\"<ipython-input-12-6f60c450b4a6>\"\u001b[1;36m, line \u001b[1;32m65\u001b[0m\n\u001b[1;33m    dealer_decision()\u001b[0m\n\u001b[1;37m                     ^\u001b[0m\n\u001b[1;31mIndentationError\u001b[0m\u001b[1;31m:\u001b[0m expected an indented block\n"
     ]
    }
   ],
   "source": [
    "# dealer's decision\n",
    "\n",
    "def dealer_decision():\n",
    "    ss = 0\n",
    "    for i in range(len(dealer)):\n",
    "        ss += d[dealer[i]]\n",
    "    if 'A' not in dealer:\n",
    "        if ss < 17:\n",
    "            dealer.append(deck.pop())\n",
    "            print('The dealer hits and draws a', dealer[-1])\n",
    "            ss = 0\n",
    "            for i in range(len(dealer)):\n",
    "                ss += d[dealer[i]]\n",
    "                if ss > 21:\n",
    "                    print(\"Winner, Winner, Chicken Dinner! You have won! The dealer's hand is over 21.\")\n",
    "                    sys.exit()\n",
    "                else:\n",
    "                    dealer_decision()\n",
    "        else:\n",
    "            print('The dealer stands')\n",
    "            s = 0\n",
    "            ss = 0\n",
    "            for i in range(len(player)):\n",
    "                s += d[player[i]]\n",
    "            for i in range(len(dealer)):\n",
    "                ss += d[dealer[i]]\n",
    "            if 'A' not in player:\n",
    "                if s > ss:\n",
    "                    print('Winner, Winner, Chicken Dinner! You have won!')\n",
    "                    sys.exit()\n",
    "                elif ss < s:\n",
    "                    print('Game Over. The house wins')\n",
    "                    sys.exit()\n",
    "                else:\n",
    "                    print(\"I's a tie.\")\n",
    "                    sys.exit()\n",
    "            elif 'A' in player:\n",
    "                if s > 21:\n",
    "                    if (s-10) > ss:\n",
    "                        print('Winner, Winner, Chicken Dinner! You have won!')\n",
    "                        sys.exit()\n",
    "                    elif (s-10) < ss:\n",
    "                        print('Game Over. The house wins')\n",
    "                        sys.exit()\n",
    "                    else:\n",
    "                        print(\"I's a tie.\")\n",
    "                        sys.exit()\n",
    "                elif s < 21:\n",
    "                    if s > ss:\n",
    "                        print('Winner, Winner, Chicken Dinner! You have won!')\n",
    "                        sys.exit()\n",
    "                    elif s < ss:\n",
    "                        print('Game Over. The house wins')\n",
    "                        sys.exit()\n",
    "                    else:\n",
    "                        print(\"I's a tie.\")\n",
    "                        sys.exit()\n",
    "    if 'A' in dealer:\n",
    "        if ss < 21:\n",
    "            if ss < 17:\n",
    "                dealer.append(deck.pop())\n",
    "                print('The dealer hits and draws a', dealer[-1])\n",
    "        elif ss > 21:\n",
    "\n",
    "dealer_decision()"
   ]
  },
  {
   "cell_type": "code",
   "execution_count": null,
   "metadata": {},
   "outputs": [],
   "source": [
    "def game():\n",
    "    random.shuffle(deck)\n",
    "    deal()\n",
    "    player_status()\n",
    "    dealer_status()\n",
    "    player_decision()\n",
    "    print('The dealer reveals all his cards: ', dealer[0], 'and', dealer[1])\n",
    "    dealer_decision()\n",
    "    \n",
    "game()"
   ]
  },
  {
   "cell_type": "code",
   "execution_count": null,
   "metadata": {},
   "outputs": [],
   "source": []
  }
 ],
 "metadata": {
  "kernelspec": {
   "display_name": "Python 3",
   "language": "python",
   "name": "python3"
  },
  "language_info": {
   "codemirror_mode": {
    "name": "ipython",
    "version": 3
   },
   "file_extension": ".py",
   "mimetype": "text/x-python",
   "name": "python",
   "nbconvert_exporter": "python",
   "pygments_lexer": "ipython3",
   "version": "3.7.6"
  }
 },
 "nbformat": 4,
 "nbformat_minor": 4
}

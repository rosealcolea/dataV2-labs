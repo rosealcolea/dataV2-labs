{
 "cells": [
  {
   "cell_type": "markdown",
   "metadata": {},
   "source": [
    "![logo](./images/OPTIMISE.%20Logo%20(green).png)"
   ]
  },
  {
   "cell_type": "markdown",
   "metadata": {},
   "source": [
    "This is Notebook 3 out of 4 of this project."
   ]
  },
  {
   "cell_type": "markdown",
   "metadata": {},
   "source": [
    "# Optimise.\n",
    "BUSINESS INTELLIGENCE SOLUTIONS"
   ]
  },
  {
   "cell_type": "markdown",
   "metadata": {},
   "source": [
    "Optimise. uses data analysis to provide businesses a vision of their present operations and provides them with actionable advise based on meticulous analysis that produces tangible results.   \n",
    "\n",
    "The analysis focuses on these main areas:     \n",
    "- Product Analysis\n",
    "    - Performance\n",
    "    - Classification\n",
    "    - Pricing\n",
    "- Customer Analysis\n",
    "    - Customer Profile\n",
    "    - Customer Trends\n",
    "    - Customer Lifetime Value\n",
    "- Sales Analysis\n",
    "    - Date/Time Overview\n",
    "    - Discount Effeciency\n",
    "    - Projections\n",
    "    \n",
    "The deliverables to be expected are a comprehensive report with useful visualizations, combined with specific recommendations based on the results obtained from the analysis."
   ]
  },
  {
   "cell_type": "markdown",
   "metadata": {},
   "source": [
    "# Linear Regression Model\n",
    "\n",
    "The goal of building a linear regression model is to devise a program that can predict the number of sales given certain parameters. For instance if a developer were to launch a `Single-Player`, `Adventure` game with `Controller Support` at a price of $20 how many copies could he expect to sell. \n",
    "\n",
    "This tool could be extremely useful for the company and I would like to add it in the package the company would be receiving."
   ]
  },
  {
   "cell_type": "code",
   "execution_count": 1,
   "metadata": {},
   "outputs": [],
   "source": [
    "import pandas as pd\n",
    "import numpy as np\n",
    "import seaborn as sns\n",
    "import scipy.stats as sp\n",
    "from sklearn.linear_model import LinearRegression\n",
    "from sklearn.model_selection import train_test_split\n",
    "from sklearn.linear_model import LogisticRegression\n",
    "from sklearn.metrics import confusion_matrix, accuracy_score\n",
    "from sklearn.utils import resample\n",
    "from IPython.display import clear_output\n",
    "from sklearn import metrics\n",
    "%matplotlib inline\n",
    "import matplotlib.pyplot as plt\n",
    "from sklearn.metrics import roc_auc_score\n",
    "from sklearn.metrics import roc_curve"
   ]
  },
  {
   "cell_type": "code",
   "execution_count": 2,
   "metadata": {},
   "outputs": [],
   "source": [
    "s = pd.read_csv(\"data/steam_cols_clean.csv\")"
   ]
  },
  {
   "cell_type": "code",
   "execution_count": 3,
   "metadata": {},
   "outputs": [],
   "source": [
    "# grouping boolean columns by type\n",
    "\n",
    "platforms = ['linux', 'windows', 'mac']\n",
    "genres = ['Indie', 'Sports', 'Simulation', 'Strategy', 'Early Access', 'Casual',\n",
    "       'RPG', 'Free to Play', 'Adventure', 'Action', 'Racing']\n",
    "categories = ['Includes level editor', 'MMO', 'VR Support', 'Single-player',\n",
    "       'Controller Support', 'Online', 'Multi-Player', 'co-op', 'Local']\n",
    "tags = ['Nudity', 'Retro', 'Violent', 'Visual Novel', 'RPGMaker', 'Fighting',\n",
    "       'FPS', 'Female Protagonist', 'Board Game', 'Space', 'World War II',\n",
    "       'Platformer', 'Anime', 'Great Soundtrack', 'Massively Multiplayer',\n",
    "       'Open World', 'Sexual Content', 'Arcade', 'Gore', 'Pixel Graphics',\n",
    "       'Turn-Based', 'Music', 'Fantasy', 'Point & Click', 'Rogue-like',\n",
    "       'World War I', \"Shoot 'Em Up\", 'RTS', 'Story Rich', 'Hidden Object',\n",
    "       'Turn-Based Strategy', 'Survival', 'Match 3', 'Horror', 'Puzzle',\n",
    "       'Sci-fi', 'Tower Defense', 'VR', 'Management', '2D', 'Card Game',\n",
    "       'Multiplayer', 'Utilities', 'Shooter', 'War', 'Co-op', 'Zombies',\n",
    "       'Classic', 'Singleplayer']"
   ]
  },
  {
   "cell_type": "code",
   "execution_count": 3,
   "metadata": {},
   "outputs": [
    {
     "data": {
      "text/html": [
       "<div>\n",
       "<style scoped>\n",
       "    .dataframe tbody tr th:only-of-type {\n",
       "        vertical-align: middle;\n",
       "    }\n",
       "\n",
       "    .dataframe tbody tr th {\n",
       "        vertical-align: top;\n",
       "    }\n",
       "\n",
       "    .dataframe thead th {\n",
       "        text-align: right;\n",
       "    }\n",
       "</style>\n",
       "<table border=\"1\" class=\"dataframe\">\n",
       "  <thead>\n",
       "    <tr style=\"text-align: right;\">\n",
       "      <th></th>\n",
       "      <th>appid</th>\n",
       "      <th>name</th>\n",
       "      <th>release_date</th>\n",
       "      <th>english</th>\n",
       "      <th>developer</th>\n",
       "      <th>publisher</th>\n",
       "      <th>required_age</th>\n",
       "      <th>achievements</th>\n",
       "      <th>positive_ratings</th>\n",
       "      <th>negative_ratings</th>\n",
       "      <th>...</th>\n",
       "      <th>Adventure</th>\n",
       "      <th>Includes level editor</th>\n",
       "      <th>MMO</th>\n",
       "      <th>VR Support</th>\n",
       "      <th>Single-player</th>\n",
       "      <th>Controller Support</th>\n",
       "      <th>Online</th>\n",
       "      <th>Multi-Player</th>\n",
       "      <th>co-op</th>\n",
       "      <th>Local</th>\n",
       "    </tr>\n",
       "  </thead>\n",
       "  <tbody>\n",
       "    <tr>\n",
       "      <th>0</th>\n",
       "      <td>10</td>\n",
       "      <td>Counter-Strike</td>\n",
       "      <td>2000-11-01</td>\n",
       "      <td>1</td>\n",
       "      <td>Valve</td>\n",
       "      <td>Valve</td>\n",
       "      <td>0</td>\n",
       "      <td>0</td>\n",
       "      <td>124534</td>\n",
       "      <td>3339</td>\n",
       "      <td>...</td>\n",
       "      <td>0</td>\n",
       "      <td>0</td>\n",
       "      <td>0</td>\n",
       "      <td>0</td>\n",
       "      <td>0</td>\n",
       "      <td>0</td>\n",
       "      <td>1</td>\n",
       "      <td>1</td>\n",
       "      <td>0</td>\n",
       "      <td>1</td>\n",
       "    </tr>\n",
       "  </tbody>\n",
       "</table>\n",
       "<p>1 rows × 37 columns</p>\n",
       "</div>"
      ],
      "text/plain": [
       "   appid            name release_date  english developer publisher  \\\n",
       "0     10  Counter-Strike   2000-11-01        1     Valve     Valve   \n",
       "\n",
       "   required_age  achievements  positive_ratings  negative_ratings  ...  \\\n",
       "0             0             0            124534              3339  ...   \n",
       "\n",
       "   Adventure  Includes level editor  MMO  VR Support  Single-player  \\\n",
       "0          0                      0    0           0              0   \n",
       "\n",
       "   Controller Support  Online  Multi-Player  co-op  Local  \n",
       "0                   0       1             1      0      1  \n",
       "\n",
       "[1 rows x 37 columns]"
      ]
     },
     "execution_count": 3,
     "metadata": {},
     "output_type": "execute_result"
    }
   ],
   "source": [
    "s.head(1)"
   ]
  },
  {
   "cell_type": "code",
   "execution_count": 4,
   "metadata": {},
   "outputs": [
    {
     "data": {
      "text/plain": [
       "Index(['appid', 'name', 'release_date', 'english', 'developer', 'publisher',\n",
       "       'required_age', 'achievements', 'positive_ratings', 'negative_ratings',\n",
       "       'average_playtime', 'median_playtime', 'owners', 'price', 'linux',\n",
       "       'mac', 'windows', 'Strategy', 'Free to Play', 'Sports', 'Early Access',\n",
       "       'Racing', 'RPG', 'Action', 'Indie', 'Casual', 'Simulation', 'Adventure',\n",
       "       'Includes level editor', 'MMO', 'VR Support', 'Single-player',\n",
       "       'Controller Support', 'Online', 'Multi-Player', 'co-op', 'Local'],\n",
       "      dtype='object')"
      ]
     },
     "execution_count": 4,
     "metadata": {},
     "output_type": "execute_result"
    }
   ],
   "source": [
    "s.columns"
   ]
  },
  {
   "cell_type": "markdown",
   "metadata": {},
   "source": [
    "### Predicted Number of Sales Given a Certain Price"
   ]
  },
  {
   "cell_type": "code",
   "execution_count": 6,
   "metadata": {},
   "outputs": [
    {
     "data": {
      "text/plain": [
       "array([[139916.47142944],\n",
       "       [123148.14261306],\n",
       "       [123148.14261306],\n",
       "       ...,\n",
       "       [123148.14261306],\n",
       "       [129436.2659192 ],\n",
       "       [129436.2659192 ]])"
      ]
     },
     "execution_count": 6,
     "metadata": {},
     "output_type": "execute_result"
    }
   ],
   "source": [
    "from sklearn.linear_model import LinearRegression\n",
    "\n",
    "model = LinearRegression()\n",
    "\n",
    "x = s['price'].values.reshape(-1,1)\n",
    "y = s['owners'].values.reshape(-1,1)\n",
    "\n",
    "model.fit(x,y)\n",
    "\n",
    "model.predict(x)"
   ]
  },
  {
   "cell_type": "code",
   "execution_count": 7,
   "metadata": {},
   "outputs": [
    {
     "name": "stdout",
     "output_type": "stream",
     "text": [
      "R2: 0.0009654239594274472\n"
     ]
    }
   ],
   "source": [
    "score = model.score(x,y)\n",
    "print(\"R2:\", score)"
   ]
  },
  {
   "cell_type": "code",
   "execution_count": 8,
   "metadata": {},
   "outputs": [
    {
     "data": {
      "text/plain": [
       "<matplotlib.axes._subplots.AxesSubplot at 0x1ef38803d48>"
      ]
     },
     "execution_count": 8,
     "metadata": {},
     "output_type": "execute_result"
    },
    {
     "data": {
      "image/png": "[encoded data removed]",
      "text/plain": [
       "<Figure size 432x288 with 1 Axes>"
      ]
     },
     "metadata": {
      "needs_background": "light"
     },
     "output_type": "display_data"
    }
   ],
   "source": [
    "sns.regplot(x,y)"
   ]
  },
  {
   "cell_type": "markdown",
   "metadata": {},
   "source": [
    "**Observations:** The R2 score is absolutely minimal which means the model is perfectly inadequate to predict the number of sales based on the price. This makes sense since pricing, whilst important, it's not the biggest distinguishing factor among games nor the beggiest determinant of its purchase. \n",
    "\n",
    "This model is therefore useless and I shall have to find a more appropirate way of predicting sales."
   ]
  },
  {
   "cell_type": "markdown",
   "metadata": {},
   "source": [
    "# Logistical Regression Model"
   ]
  },
  {
   "cell_type": "markdown",
   "metadata": {},
   "source": [
    "### Predicted Number of Sales"
   ]
  },
  {
   "cell_type": "code",
   "execution_count": 9,
   "metadata": {},
   "outputs": [
    {
     "data": {
      "text/html": [
       "<div>\n",
       "<style scoped>\n",
       "    .dataframe tbody tr th:only-of-type {\n",
       "        vertical-align: middle;\n",
       "    }\n",
       "\n",
       "    .dataframe tbody tr th {\n",
       "        vertical-align: top;\n",
       "    }\n",
       "\n",
       "    .dataframe thead th {\n",
       "        text-align: right;\n",
       "    }\n",
       "</style>\n",
       "<table border=\"1\" class=\"dataframe\">\n",
       "  <thead>\n",
       "    <tr style=\"text-align: right;\">\n",
       "      <th></th>\n",
       "      <th>35000</th>\n",
       "      <th>75000</th>\n",
       "      <th>150000</th>\n",
       "      <th>350000</th>\n",
       "      <th>750000</th>\n",
       "      <th>1500000</th>\n",
       "      <th>3500000</th>\n",
       "      <th>7500000</th>\n",
       "      <th>15000000</th>\n",
       "      <th>35000000</th>\n",
       "      <th>75000000</th>\n",
       "      <th>150000000</th>\n",
       "    </tr>\n",
       "  </thead>\n",
       "  <tbody>\n",
       "    <tr>\n",
       "      <th>0</th>\n",
       "      <td>0</td>\n",
       "      <td>0</td>\n",
       "      <td>0</td>\n",
       "      <td>0</td>\n",
       "      <td>0</td>\n",
       "      <td>0</td>\n",
       "      <td>0</td>\n",
       "      <td>0</td>\n",
       "      <td>1</td>\n",
       "      <td>0</td>\n",
       "      <td>0</td>\n",
       "      <td>0</td>\n",
       "    </tr>\n",
       "    <tr>\n",
       "      <th>1</th>\n",
       "      <td>0</td>\n",
       "      <td>0</td>\n",
       "      <td>0</td>\n",
       "      <td>0</td>\n",
       "      <td>0</td>\n",
       "      <td>0</td>\n",
       "      <td>0</td>\n",
       "      <td>1</td>\n",
       "      <td>0</td>\n",
       "      <td>0</td>\n",
       "      <td>0</td>\n",
       "      <td>0</td>\n",
       "    </tr>\n",
       "    <tr>\n",
       "      <th>2</th>\n",
       "      <td>0</td>\n",
       "      <td>0</td>\n",
       "      <td>0</td>\n",
       "      <td>0</td>\n",
       "      <td>0</td>\n",
       "      <td>0</td>\n",
       "      <td>0</td>\n",
       "      <td>1</td>\n",
       "      <td>0</td>\n",
       "      <td>0</td>\n",
       "      <td>0</td>\n",
       "      <td>0</td>\n",
       "    </tr>\n",
       "    <tr>\n",
       "      <th>3</th>\n",
       "      <td>0</td>\n",
       "      <td>0</td>\n",
       "      <td>0</td>\n",
       "      <td>0</td>\n",
       "      <td>0</td>\n",
       "      <td>0</td>\n",
       "      <td>0</td>\n",
       "      <td>1</td>\n",
       "      <td>0</td>\n",
       "      <td>0</td>\n",
       "      <td>0</td>\n",
       "      <td>0</td>\n",
       "    </tr>\n",
       "    <tr>\n",
       "      <th>4</th>\n",
       "      <td>0</td>\n",
       "      <td>0</td>\n",
       "      <td>0</td>\n",
       "      <td>0</td>\n",
       "      <td>0</td>\n",
       "      <td>0</td>\n",
       "      <td>0</td>\n",
       "      <td>1</td>\n",
       "      <td>0</td>\n",
       "      <td>0</td>\n",
       "      <td>0</td>\n",
       "      <td>0</td>\n",
       "    </tr>\n",
       "  </tbody>\n",
       "</table>\n",
       "</div>"
      ],
      "text/plain": [
       "   35000      75000      150000     350000     750000     1500000    \\\n",
       "0          0          0          0          0          0          0   \n",
       "1          0          0          0          0          0          0   \n",
       "2          0          0          0          0          0          0   \n",
       "3          0          0          0          0          0          0   \n",
       "4          0          0          0          0          0          0   \n",
       "\n",
       "   3500000    7500000    15000000   35000000   75000000   150000000  \n",
       "0          0          0          1          0          0          0  \n",
       "1          0          1          0          0          0          0  \n",
       "2          0          1          0          0          0          0  \n",
       "3          0          1          0          0          0          0  \n",
       "4          0          1          0          0          0          0  "
      ]
     },
     "execution_count": 9,
     "metadata": {},
     "output_type": "execute_result"
    }
   ],
   "source": [
    "y = pd.get_dummies(data=s['owners'], drop_first=True)\n",
    "y.head()"
   ]
  },
  {
   "cell_type": "markdown",
   "metadata": {},
   "source": [
    "**Observations:** I can already see that this model might also present its problems, since there's a significantly higher number of games that have between 7.500.000 and 15.000.000 owners, only those 2 categories are represented in the dummies data, which means it will only predecit one of these values. The answer is still valid but the the model wouldn't give us more information than getting the mode of onwers per genre."
   ]
  },
  {
   "cell_type": "code",
   "execution_count": 10,
   "metadata": {},
   "outputs": [
    {
     "data": {
      "text/plain": [
       "0.1698984302862419"
      ]
     },
     "execution_count": 10,
     "metadata": {},
     "output_type": "execute_result"
    }
   ],
   "source": [
    "s[s[\"owners\"]==7500000].count()[0]/len(s)*100"
   ]
  },
  {
   "cell_type": "markdown",
   "metadata": {},
   "source": [
    "**Observations:** Upon closer observation, I realise that in fact not a majority of the games have 7.500.000 owners, which makes me wonder why the dummies reflect that. "
   ]
  },
  {
   "cell_type": "code",
   "execution_count": 11,
   "metadata": {},
   "outputs": [
    {
     "data": {
      "text/html": [
       "<div>\n",
       "<style scoped>\n",
       "    .dataframe tbody tr th:only-of-type {\n",
       "        vertical-align: middle;\n",
       "    }\n",
       "\n",
       "    .dataframe tbody tr th {\n",
       "        vertical-align: top;\n",
       "    }\n",
       "\n",
       "    .dataframe thead th {\n",
       "        text-align: right;\n",
       "    }\n",
       "</style>\n",
       "<table border=\"1\" class=\"dataframe\">\n",
       "  <thead>\n",
       "    <tr style=\"text-align: right;\">\n",
       "      <th></th>\n",
       "      <th>Indie</th>\n",
       "      <th>Sports</th>\n",
       "      <th>Simulation</th>\n",
       "      <th>Strategy</th>\n",
       "      <th>Early Access</th>\n",
       "      <th>Casual</th>\n",
       "      <th>RPG</th>\n",
       "      <th>Free to Play</th>\n",
       "      <th>Adventure</th>\n",
       "      <th>Action</th>\n",
       "      <th>Racing</th>\n",
       "    </tr>\n",
       "  </thead>\n",
       "  <tbody>\n",
       "    <tr>\n",
       "      <th>0</th>\n",
       "      <td>0</td>\n",
       "      <td>0</td>\n",
       "      <td>0</td>\n",
       "      <td>0</td>\n",
       "      <td>0</td>\n",
       "      <td>0</td>\n",
       "      <td>0</td>\n",
       "      <td>0</td>\n",
       "      <td>0</td>\n",
       "      <td>1</td>\n",
       "      <td>0</td>\n",
       "    </tr>\n",
       "    <tr>\n",
       "      <th>1</th>\n",
       "      <td>0</td>\n",
       "      <td>0</td>\n",
       "      <td>0</td>\n",
       "      <td>0</td>\n",
       "      <td>0</td>\n",
       "      <td>0</td>\n",
       "      <td>0</td>\n",
       "      <td>0</td>\n",
       "      <td>0</td>\n",
       "      <td>1</td>\n",
       "      <td>0</td>\n",
       "    </tr>\n",
       "    <tr>\n",
       "      <th>2</th>\n",
       "      <td>0</td>\n",
       "      <td>0</td>\n",
       "      <td>0</td>\n",
       "      <td>0</td>\n",
       "      <td>0</td>\n",
       "      <td>0</td>\n",
       "      <td>0</td>\n",
       "      <td>0</td>\n",
       "      <td>0</td>\n",
       "      <td>1</td>\n",
       "      <td>0</td>\n",
       "    </tr>\n",
       "    <tr>\n",
       "      <th>3</th>\n",
       "      <td>0</td>\n",
       "      <td>0</td>\n",
       "      <td>0</td>\n",
       "      <td>0</td>\n",
       "      <td>0</td>\n",
       "      <td>0</td>\n",
       "      <td>0</td>\n",
       "      <td>0</td>\n",
       "      <td>0</td>\n",
       "      <td>1</td>\n",
       "      <td>0</td>\n",
       "    </tr>\n",
       "    <tr>\n",
       "      <th>4</th>\n",
       "      <td>0</td>\n",
       "      <td>0</td>\n",
       "      <td>0</td>\n",
       "      <td>0</td>\n",
       "      <td>0</td>\n",
       "      <td>0</td>\n",
       "      <td>0</td>\n",
       "      <td>0</td>\n",
       "      <td>0</td>\n",
       "      <td>1</td>\n",
       "      <td>0</td>\n",
       "    </tr>\n",
       "  </tbody>\n",
       "</table>\n",
       "</div>"
      ],
      "text/plain": [
       "   Indie  Sports  Simulation  Strategy  Early Access  Casual  RPG  \\\n",
       "0      0       0           0         0             0       0    0   \n",
       "1      0       0           0         0             0       0    0   \n",
       "2      0       0           0         0             0       0    0   \n",
       "3      0       0           0         0             0       0    0   \n",
       "4      0       0           0         0             0       0    0   \n",
       "\n",
       "   Free to Play  Adventure  Action  Racing  \n",
       "0             0          0       1       0  \n",
       "1             0          0       1       0  \n",
       "2             0          0       1       0  \n",
       "3             0          0       1       0  \n",
       "4             0          0       1       0  "
      ]
     },
     "execution_count": 11,
     "metadata": {},
     "output_type": "execute_result"
    }
   ],
   "source": [
    "x = pd.get_dummies(data=s[genres], drop_first=True)\n",
    "x.head()"
   ]
  },
  {
   "cell_type": "code",
   "execution_count": 12,
   "metadata": {},
   "outputs": [
    {
     "data": {
      "text/plain": [
       "43.963065558633424"
      ]
     },
     "execution_count": 12,
     "metadata": {},
     "output_type": "execute_result"
    }
   ],
   "source": [
    "s[\"Action\"].sum()/len(s)*100"
   ]
  },
  {
   "cell_type": "markdown",
   "metadata": {},
   "source": [
    "**Observations:** Similarly here, the `get_dummies` function seems to be returning interesting results that might affect my model."
   ]
  },
  {
   "cell_type": "markdown",
   "metadata": {},
   "source": [
    "#### Approach Number 2\n",
    "Given the weird results obtained with the `get_dummies` function I have decided to use the data as is instead."
   ]
  },
  {
   "cell_type": "code",
   "execution_count": 13,
   "metadata": {},
   "outputs": [],
   "source": [
    "x = s.drop([\"appid\", \"name\", \"release_date\", \"developer\", \"publisher\", \"owners\"], axis=1)\n",
    "y = s[\"owners\"]"
   ]
  },
  {
   "cell_type": "code",
   "execution_count": 14,
   "metadata": {},
   "outputs": [],
   "source": [
    "from sklearn.model_selection import train_test_split\n",
    " \n",
    "X_train, X_test, y_train, y_test = train_test_split(x, y, test_size=0.2)"
   ]
  },
  {
   "cell_type": "code",
   "execution_count": 15,
   "metadata": {},
   "outputs": [
    {
     "name": "stderr",
     "output_type": "stream",
     "text": [
      "C:\\ProgramData\\Anaconda3\\lib\\site-packages\\sklearn\\linear_model\\_logistic.py:940: ConvergenceWarning: lbfgs failed to converge (status=1):\n",
      "STOP: TOTAL NO. of f AND g EVALUATIONS EXCEEDS LIMIT.\n",
      "\n",
      "Increase the number of iterations (max_iter) or scale the data as shown in:\n",
      "    https://scikit-learn.org/stable/modules/preprocessing.html\n",
      "Please also refer to the documentation for alternative solver options:\n",
      "    https://scikit-learn.org/stable/modules/linear_model.html#logistic-regression\n",
      "  extra_warning_msg=_LOGISTIC_SOLVER_CONVERGENCE_MSG)\n"
     ]
    }
   ],
   "source": [
    "# first model: logistic regression\n",
    "from sklearn.linear_model import LogisticRegression\n",
    " \n",
    "log_model = LogisticRegression(max_iter=1000000).fit(X_train, y_train)"
   ]
  },
  {
   "cell_type": "code",
   "execution_count": 16,
   "metadata": {},
   "outputs": [
    {
     "name": "stdout",
     "output_type": "stream",
     "text": [
      "Accuracy score is: 0.7519852262234533\n",
      "Confusion Matrix:\n",
      " [[3676   61    4    2    0    0    0    0    0    0    0    0    0]\n",
      " [ 401  159   14    6   11    0    0    0    0    0    1    0    0]\n",
      " [ 119  128   37   15   20    0    0    0    0    0    3    2    0]\n",
      " [  34   99   31   43   73    2    0    1    1    0    6    1    1]\n",
      " [  16   44   22   34  111   10    3    5    4    5    1    0    1]\n",
      " [   1    4    2   10   42   12    7    4    2    0    1    0    0]\n",
      " [   1    1    0    2   15   17   16    9    1    4    0    1    0]\n",
      " [   0    1    0    0    1    8    9   14    3    5    1    0    0]\n",
      " [   0    0    0    0    0    1    0    2    2    2    1    0    0]\n",
      " [   0    0    0    0    0    0    0    2    0    2    0    0    0]\n",
      " [   0    0    0    0    0    0    0    0    0    1    0    0    0]\n",
      " [   0    0    0    0    0    0    0    0    0    1    0    0    0]\n",
      " [   0    0    0    0    0    0    0    0    0    0    0    0    0]]\n"
     ]
    }
   ],
   "source": [
    "from sklearn.metrics import confusion_matrix, accuracy_score\n",
    "\n",
    "# Get score of the model\n",
    "score = log_model.score(X_test,y_test)\n",
    "\n",
    "# Predict using test data\n",
    "y_pred = log_model.predict(X_test)\n",
    "\n",
    "# Generate matrix\n",
    "matrix = confusion_matrix(y_test, y_pred)\n",
    "\n",
    "print('Accuracy score is:', score)\n",
    "print('Confusion Matrix:\\n',matrix)"
   ]
  },
  {
   "cell_type": "code",
   "execution_count": 17,
   "metadata": {},
   "outputs": [
    {
     "data": {
      "text/html": [
       "<div>\n",
       "<style scoped>\n",
       "    .dataframe tbody tr th:only-of-type {\n",
       "        vertical-align: middle;\n",
       "    }\n",
       "\n",
       "    .dataframe tbody tr th {\n",
       "        vertical-align: top;\n",
       "    }\n",
       "\n",
       "    .dataframe thead th {\n",
       "        text-align: right;\n",
       "    }\n",
       "</style>\n",
       "<table border=\"1\" class=\"dataframe\">\n",
       "  <thead>\n",
       "    <tr style=\"text-align: right;\">\n",
       "      <th></th>\n",
       "      <th>original</th>\n",
       "      <th>predicted</th>\n",
       "      <th>success</th>\n",
       "    </tr>\n",
       "  </thead>\n",
       "  <tbody>\n",
       "    <tr>\n",
       "      <th>3892</th>\n",
       "      <td>35000</td>\n",
       "      <td>10000</td>\n",
       "      <td>0</td>\n",
       "    </tr>\n",
       "    <tr>\n",
       "      <th>10836</th>\n",
       "      <td>10000</td>\n",
       "      <td>10000</td>\n",
       "      <td>1</td>\n",
       "    </tr>\n",
       "    <tr>\n",
       "      <th>15250</th>\n",
       "      <td>10000</td>\n",
       "      <td>10000</td>\n",
       "      <td>1</td>\n",
       "    </tr>\n",
       "    <tr>\n",
       "      <th>6927</th>\n",
       "      <td>75000</td>\n",
       "      <td>35000</td>\n",
       "      <td>0</td>\n",
       "    </tr>\n",
       "    <tr>\n",
       "      <th>6810</th>\n",
       "      <td>750000</td>\n",
       "      <td>750000</td>\n",
       "      <td>1</td>\n",
       "    </tr>\n",
       "    <tr>\n",
       "      <th>...</th>\n",
       "      <td>...</td>\n",
       "      <td>...</td>\n",
       "      <td>...</td>\n",
       "    </tr>\n",
       "    <tr>\n",
       "      <th>16424</th>\n",
       "      <td>10000</td>\n",
       "      <td>10000</td>\n",
       "      <td>1</td>\n",
       "    </tr>\n",
       "    <tr>\n",
       "      <th>17513</th>\n",
       "      <td>35000</td>\n",
       "      <td>10000</td>\n",
       "      <td>0</td>\n",
       "    </tr>\n",
       "    <tr>\n",
       "      <th>2810</th>\n",
       "      <td>75000</td>\n",
       "      <td>35000</td>\n",
       "      <td>0</td>\n",
       "    </tr>\n",
       "    <tr>\n",
       "      <th>692</th>\n",
       "      <td>10000</td>\n",
       "      <td>10000</td>\n",
       "      <td>1</td>\n",
       "    </tr>\n",
       "    <tr>\n",
       "      <th>21991</th>\n",
       "      <td>10000</td>\n",
       "      <td>10000</td>\n",
       "      <td>1</td>\n",
       "    </tr>\n",
       "  </tbody>\n",
       "</table>\n",
       "<p>5415 rows × 3 columns</p>\n",
       "</div>"
      ],
      "text/plain": [
       "       original  predicted  success\n",
       "3892      35000      10000        0\n",
       "10836     10000      10000        1\n",
       "15250     10000      10000        1\n",
       "6927      75000      35000        0\n",
       "6810     750000     750000        1\n",
       "...         ...        ...      ...\n",
       "16424     10000      10000        1\n",
       "17513     35000      10000        0\n",
       "2810      75000      35000        0\n",
       "692       10000      10000        1\n",
       "21991     10000      10000        1\n",
       "\n",
       "[5415 rows x 3 columns]"
      ]
     },
     "execution_count": 17,
     "metadata": {},
     "output_type": "execute_result"
    }
   ],
   "source": [
    "# creating a data frame to compare the original and predicted results\n",
    "compare = {\"original\" : y_test,\n",
    "           \"predicted\" : log_model.predict(X_test)}\n",
    "\n",
    "c = pd.DataFrame(compare)\n",
    "\n",
    "c[\"success\"] = np.where(c[\"original\"]==c[\"predicted\"], 1, 0)\n",
    "c"
   ]
  },
  {
   "cell_type": "code",
   "execution_count": 18,
   "metadata": {},
   "outputs": [
    {
     "data": {
      "text/plain": [
       "75.19852262234534"
      ]
     },
     "execution_count": 18,
     "metadata": {},
     "output_type": "execute_result"
    }
   ],
   "source": [
    "c[\"success\"].sum()/len(c)*100"
   ]
  },
  {
   "cell_type": "code",
   "execution_count": null,
   "metadata": {},
   "outputs": [],
   "source": [
    "# Summary \n",
    "print(\"With an accuracy score of\", score, \"our model has an relatively hight accuracy as shown in the results\")\n",
    "print(\"Accurate results:\", matrix[0][0] + matrix[1][1])\n",
    "print(\"Missed results:\",  matrix[0][1] + matrix[1][0])"
   ]
  },
  {
   "cell_type": "markdown",
   "metadata": {},
   "source": [
    "### Predicted Number of Sales per Genre and Price"
   ]
  },
  {
   "cell_type": "code",
   "execution_count": null,
   "metadata": {},
   "outputs": [],
   "source": [
    "# Assign values\n",
    "x = s.drop([\"appid\", \"name\", \"release_date\", \"developer\", \"publisher\", 'required_age', 'achievements', 'positive_ratings', 'negative_ratings',\n",
    "       'average_playtime', 'median_playtime', 'owners', 'linux', 'mac', 'windows', 'VR Support', 'Single-player',\n",
    "       'Controller Support', 'Online', 'Multi-Player', 'co-op', 'Local'], axis=1)\n",
    "y = s[\"owners\"]\n",
    "\n",
    "# Split the data\n",
    "X_train, X_test, y_train, y_test = train_test_split(x, y, test_size=0.2)\n",
    "\n",
    "# Generate the model\n",
    "genre_model = LogisticRegression(max_iter=1000000).fit(X_train, y_train)"
   ]
  },
  {
   "cell_type": "code",
   "execution_count": null,
   "metadata": {},
   "outputs": [],
   "source": [
    "# Get score of the model\n",
    "score = genre_model.score(X_test,y_test)\n",
    "\n",
    "# Predict using test data\n",
    "y_pred = genre_model.predict(X_test)\n",
    "\n",
    "# Generate matrix\n",
    "matrix = confusion_matrix(y_test, y_pred)\n",
    "\n",
    "print('Accuracy score is:', score)\n",
    "print('Confusion Matrix:\\n',matrix)"
   ]
  },
  {
   "cell_type": "code",
   "execution_count": null,
   "metadata": {},
   "outputs": [],
   "source": [
    "print(\"With an accuracy score of\", score, \"our model has a medium accuracy as shown in the results\")\n",
    "print(\"Accurate results:\", matrix[0][0] + matrix[1][1])\n",
    "print(\"Missed results:\",  matrix[0][1] + matrix[1][0])"
   ]
  },
  {
   "cell_type": "markdown",
   "metadata": {},
   "source": [
    "### Predicted Number of Sales per Category and Price"
   ]
  },
  {
   "cell_type": "code",
   "execution_count": null,
   "metadata": {},
   "outputs": [],
   "source": [
    "# Assign values\n",
    "x = s.drop([\"appid\", \"name\", \"release_date\", \"developer\", \"publisher\", 'required_age', 'achievements', 'positive_ratings', 'negative_ratings',\n",
    "       'average_playtime', 'median_playtime', 'owners', 'linux', 'mac', 'windows', 'Strategy', 'Free to Play', 'Sports', 'Early Access',\n",
    "       'Racing', 'RPG', 'Action', 'Indie', 'Casual', 'Simulation', 'Adventure',\n",
    "       'Includes level editor', 'MMO'], axis=1)\n",
    "y = s[\"owners\"]\n",
    "\n",
    "# Split the data\n",
    "X_train, X_test, y_train, y_test = train_test_split(x, y, test_size=0.2)\n",
    "\n",
    "# Generate the model\n",
    "category_model = LogisticRegression(max_iter=1000000).fit(X_train, y_train)"
   ]
  },
  {
   "cell_type": "code",
   "execution_count": null,
   "metadata": {},
   "outputs": [],
   "source": [
    "# Get score of the model\n",
    "score = category_model.score(X_test,y_test)\n",
    "\n",
    "# Predict using test data\n",
    "y_pred = category_model.predict(X_test)\n",
    "\n",
    "# Generate matrix\n",
    "matrix = confusion_matrix(y_test, y_pred)\n",
    "\n",
    "print('Accuracy score is:', score)\n",
    "print('Confusion Matrix:\\n',matrix)"
   ]
  },
  {
   "cell_type": "code",
   "execution_count": null,
   "metadata": {},
   "outputs": [],
   "source": [
    "print(\"With an accuracy score of\", score, \"our model has a medium accuracy as shown in the results\")\n",
    "print(\"Accurate results:\", matrix[0][0] + matrix[1][1])\n",
    "print(\"Missed results:\",  matrix[0][1] + matrix[1][0])"
   ]
  },
  {
   "cell_type": "markdown",
   "metadata": {},
   "source": [
    "### Predicted Number of Sales per Platform and Price"
   ]
  },
  {
   "cell_type": "code",
   "execution_count": null,
   "metadata": {},
   "outputs": [],
   "source": [
    "# Assign values\n",
    "x = s.drop([\"appid\", \"name\", \"release_date\", \"developer\", \"publisher\", 'required_age', 'achievements', 'positive_ratings', 'negative_ratings',\n",
    "       'average_playtime', 'median_playtime', 'owners', 'VR Support', 'Single-player',\n",
    "       'Controller Support', 'Online', 'Multi-Player', 'co-op', 'Local', 'Strategy', 'Free to Play', 'Sports', 'Early Access',\n",
    "       'Racing', 'RPG', 'Action', 'Indie', 'Casual', 'Simulation', 'Adventure',\n",
    "       'Includes level editor', 'MMO'], axis=1)\n",
    "y = s[\"owners\"]\n",
    "\n",
    "# Split the data\n",
    "X_train, X_test, y_train, y_test = train_test_split(x, y, test_size=0.2)\n",
    "\n",
    "# Generate the model\n",
    "platform_model = LogisticRegression(max_iter=1000000).fit(X_train, y_train)"
   ]
  },
  {
   "cell_type": "code",
   "execution_count": null,
   "metadata": {},
   "outputs": [],
   "source": [
    "# Get score of the model\n",
    "score = platform_model.score(X_test,y_test)\n",
    "\n",
    "# Predict using test data\n",
    "y_pred = platform_model.predict(X_test)\n",
    "\n",
    "# Generate matrix\n",
    "matrix = confusion_matrix(y_test, y_pred)\n",
    "\n",
    "print('Accuracy score is:', score)\n",
    "print('Confusion Matrix:\\n',matrix)"
   ]
  },
  {
   "cell_type": "code",
   "execution_count": null,
   "metadata": {},
   "outputs": [],
   "source": [
    "print(\"With an accuracy score of\", score, \"our model has a medium accuracy as shown in the results\")\n",
    "print(\"Accurate results:\", matrix[0][0] + matrix[1][1])\n",
    "print(\"Missed results:\",  matrix[0][1] + matrix[1][0])"
   ]
  },
  {
   "cell_type": "markdown",
   "metadata": {},
   "source": [
    "### Predicted Number of Sales per Genre, Category, Platform and Price"
   ]
  },
  {
   "cell_type": "code",
   "execution_count": 18,
   "metadata": {},
   "outputs": [],
   "source": [
    "# Assign values\n",
    "x = s.drop([\"appid\", \"name\", \"release_date\",'english', \"developer\", \"publisher\", 'required_age', 'achievements', 'positive_ratings', 'negative_ratings',\n",
    "       'average_playtime', 'median_playtime', 'owners'], axis=1)\n",
    "y = s[\"owners\"]\n",
    "\n",
    "# Split the data\n",
    "X_train, X_test, y_train, y_test = train_test_split(x, y, test_size=0.2)\n",
    "\n",
    "# Generate the model\n",
    "all_model = LogisticRegression(max_iter=1000000).fit(X_train, y_train)"
   ]
  },
  {
   "cell_type": "code",
   "execution_count": 19,
   "metadata": {},
   "outputs": [
    {
     "name": "stdout",
     "output_type": "stream",
     "text": [
      "Accuracy score is: 0.6855032317636196\n",
      "Confusion Matrix:\n",
      " [[3698    1    2    0   14    1    0    0    4    7    1]\n",
      " [ 275    0    0    0    6    4    2    0    7    0    0]\n",
      " [  44    0    0    0    2    3    0    0    0    1    0]\n",
      " [   4    0    0    0    2    0    1    0    0    0    0]\n",
      " [ 584    0    0    0    8    4    0    0    6    0    0]\n",
      " [ 233    0    0    0   13    0    2    0    4    1    0]\n",
      " [  24    0    0    0    1    4    1    0    1    1    1]\n",
      " [   0    0    0    0    0    0    1    0    0    0    0]\n",
      " [ 317    1    0    0   11    1    4    0    4    1    0]\n",
      " [  81    0    2    0    4    2    6    0    2    1    0]\n",
      " [   9    0    0    0    0    1    0    0    0    0    0]]\n"
     ]
    }
   ],
   "source": [
    "# Get score of the model\n",
    "score = all_model.score(X_test,y_test)\n",
    "\n",
    "# Predict using test data\n",
    "y_pred = all_model.predict(X_test)\n",
    "\n",
    "# Generate matrix\n",
    "matrix = confusion_matrix(y_test, y_pred)\n",
    "\n",
    "print('Accuracy score is:', score)\n",
    "print('Confusion Matrix:\\n',matrix)"
   ]
  },
  {
   "cell_type": "code",
   "execution_count": 20,
   "metadata": {},
   "outputs": [
    {
     "name": "stdout",
     "output_type": "stream",
     "text": [
      "With an accuracy score of 0.6855032317636196 our model has a medium accuracy as shown in the results\n",
      "Accurate results: 3698\n",
      "Missed results: 276\n"
     ]
    }
   ],
   "source": [
    "print(\"With an accuracy score of\", score, \"our model has a medium accuracy as shown in the results\")\n",
    "print(\"Accurate results:\", matrix[0][0] + matrix[1][1])\n",
    "print(\"Missed results:\",  matrix[0][1] + matrix[1][0])"
   ]
  },
  {
   "cell_type": "markdown",
   "metadata": {},
   "source": [
    "**Observations:** Similarly here, the `get_dummies` function seems to be returning interesting results that might affect my model."
   ]
  },
  {
   "cell_type": "markdown",
   "metadata": {},
   "source": [
    "### Case Study: Ubisoft\n",
    "In this scenario I'm going to build a model that predicts the number of sales given a certain genre, category, platform and price, but only for games published by Ubisoft (one of the top publishers on Steam). This will hopefully produce more consistent results and a better model, since it eliminates the wide range of games that see no success despite having similar parameters."
   ]
  },
  {
   "cell_type": "code",
   "execution_count": null,
   "metadata": {},
   "outputs": [],
   "source": [
    "# Assign values\n",
    "x = s[s[\"publisher\"]==\"Ubisoft\"].drop([\"appid\", \"name\", \"release_date\",'english', \"developer\", \"publisher\", 'required_age', 'achievements', 'positive_ratings', 'negative_ratings',\n",
    "       'average_playtime', 'median_playtime', 'owners'], axis=1)\n",
    "y = s[s[\"publisher\"]==\"Ubisoft\"][\"owners\"]\n",
    "\n",
    "# Split the data\n",
    "X_train, X_test, y_train, y_test = train_test_split(x, y, test_size=0.2)\n",
    "\n",
    "# Generate the model\n",
    "ubisoft_model = LogisticRegression(max_iter=1000000).fit(X_train, y_train)"
   ]
  },
  {
   "cell_type": "code",
   "execution_count": null,
   "metadata": {},
   "outputs": [],
   "source": [
    "# Get score of the model\n",
    "score = all_model.score(X_test,y_test)\n",
    "\n",
    "# Predict using test data\n",
    "y_pred = all_model.predict(X_test)\n",
    "\n",
    "# Generate matrix\n",
    "matrix = confusion_matrix(y_test, y_pred)\n",
    "\n",
    "print('Accuracy score is:', score)\n",
    "print('Confusion Matrix:\\n',matrix)"
   ]
  },
  {
   "cell_type": "code",
   "execution_count": null,
   "metadata": {},
   "outputs": [],
   "source": [
    "print(\"With an accuracy score of\", score, \"our model has a medium accuracy as shown in the results\")\n",
    "print(\"Accurate results:\", matrix[0][0] + matrix[1][1])\n",
    "print(\"Missed results:\",  matrix[0][1] + matrix[1][0])"
   ]
  },
  {
   "cell_type": "markdown",
   "metadata": {},
   "source": [
    "**Observations:** I am surprised at the result. I expected the accuracy of this model to be higher, due too lower variability. However, there are only 111 games published by Ubisoft so the low number of entries might be affecting the model significantly more than anticipated. Or perhaps there's still a lot of variability among games even by the same publisher, and the low number of entris makes it even harder to make proper predictions."
   ]
  },
  {
   "cell_type": "markdown",
   "metadata": {},
   "source": [
    "## Creating a Function that Creates a Model\n",
    "I'm going to change my strategy and instead of trying to create a good model that takes into account all the different features, and then pass said features to predict a result, I'm going to create a function that passes certain features and then build a specific model with those parameters. This will also make it so that the model will have significantly less variables, which is a much more suitable environement for the Logistical Regression Model to work properly."
   ]
  },
  {
   "cell_type": "markdown",
   "metadata": {},
   "source": [
    "### Predict Number of Sales based on Genre and Category"
   ]
  },
  {
   "cell_type": "code",
   "execution_count": 20,
   "metadata": {},
   "outputs": [],
   "source": [
    "def logistic_regression_model(genre, category):\n",
    "    # Assign values\n",
    "    x = s[s[genre]==1]\n",
    "    x = x[x[category]==1]\n",
    "    #x = x[x[\"price\"]==price]\n",
    "    x = x.drop([\"appid\", \"name\", \"release_date\",'english', \"developer\", \"publisher\", 'required_age', 'achievements', 'positive_ratings', 'negative_ratings',\n",
    "       'average_playtime', 'median_playtime', 'owners'], axis=1)\n",
    "    y = s[s[genre]==1]\n",
    "    #x = y[y[\"price\"]==price]\n",
    "    y = y[y[category]==1][\"owners\"]\n",
    "    # Split the data\n",
    "    X_train, X_test, y_train, y_test = train_test_split(x, y, test_size=0.2)\n",
    "    # Generate the model\n",
    "    model = LogisticRegression(max_iter=1000000).fit(X_train, y_train)\n",
    "    # Get score of the model\n",
    "    score = model.score(X_test,y_test)\n",
    "    print(\"Accuracy score:\", round(score*100, 2), \"%\")\n",
    "    # Predict using test data\n",
    "    y_pred = model.predict(X_test)\n",
    "    # Generate matrix\n",
    "    matrix = confusion_matrix(y_test, y_pred)\n",
    "    return list(sp.mode(y_pred)[0])[0]"
   ]
  },
  {
   "cell_type": "markdown",
   "metadata": {},
   "source": [
    "#### Tests / Examples"
   ]
  },
  {
   "cell_type": "markdown",
   "metadata": {},
   "source": [
    "Category and Genre options:\n",
    "\n",
    "platforms = `'linux', 'windows', 'mac'`\n",
    "\n",
    "genres = `'Indie', 'Sports', 'Simulation', 'Strategy', 'Early Access', 'Casual',\n",
    "       'RPG', 'Free to Play', 'Adventure', 'Action', 'Racing'`\n",
    "       \n",
    "categories = `'Includes level editor', 'MMO', 'VR Support', 'Single-player',\n",
    "       'Controller Support', 'Online', 'Multi-Player', 'co-op', 'Local'`"
   ]
  },
  {
   "cell_type": "code",
   "execution_count": 21,
   "metadata": {},
   "outputs": [
    {
     "name": "stdout",
     "output_type": "stream",
     "text": [
      "Accuracy score: 67.79 %\n"
     ]
    },
    {
     "data": {
      "text/plain": [
       "10000"
      ]
     },
     "execution_count": 21,
     "metadata": {},
     "output_type": "execute_result"
    }
   ],
   "source": [
    "logistic_regression_model(\"Action\", \"Local\")"
   ]
  },
  {
   "cell_type": "code",
   "execution_count": 22,
   "metadata": {},
   "outputs": [
    {
     "name": "stdout",
     "output_type": "stream",
     "text": [
      "Accuracy score: 42.73 %\n"
     ]
    },
    {
     "data": {
      "text/plain": [
       "10000"
      ]
     },
     "execution_count": 22,
     "metadata": {},
     "output_type": "execute_result"
    }
   ],
   "source": [
    "logistic_regression_model(\"RPG\", \"Online\")"
   ]
  },
  {
   "cell_type": "markdown",
   "metadata": {},
   "source": [
    "####  Version 2: Goal - Improve accuracy score\n",
    "The accuracy score of the previous model is not high enough, so I'm going to work on improving my model until it reaches an accuracy of around 90%. The first thing I will be trying is reducing the number of columns that I input in the model by dropping all the unecessary ones."
   ]
  },
  {
   "cell_type": "code",
   "execution_count": 27,
   "metadata": {},
   "outputs": [],
   "source": [
    "def logistic_regression_model_2(genre, category):\n",
    "    # Assign values x\n",
    "    x = s[s[genre]==1]\n",
    "    x = x[x[category]==1]\n",
    "    x.drop([\"appid\", \"name\", \"release_date\",'english', \"developer\", \"publisher\", 'required_age', 'achievements', 'positive_ratings',\n",
    "            'negative_ratings', 'average_playtime', 'median_playtime', 'owners', \"price\"], axis=1, inplace=True)\n",
    "    x.drop(platforms, axis=1, inplace=True)\n",
    "    genres_copy = genres.copy()\n",
    "    genres_copy.remove(genre)\n",
    "    x.drop(genres_copy, axis=1, inplace=True)\n",
    "    cat_copy = categories.copy()\n",
    "    cat_copy.remove(category)\n",
    "    x.drop(cat_copy, axis=1, inplace=True)\n",
    "    # Assign values y\n",
    "    y = s[s[genre]==1]\n",
    "    y = y[y[category]==1][\"owners\"]\n",
    "    # Split the data\n",
    "    X_train, X_test, y_train, y_test = train_test_split(x, y, test_size=0.2)\n",
    "    # Generate the model\n",
    "    model = LogisticRegression(max_iter=1000000).fit(X_train, y_train)\n",
    "    # Get score of the model\n",
    "    score = model.score(X_test,y_test)\n",
    "    print(\"Accuracy score:\", round(score*100, 2), \"%\")\n",
    "    # Predict using test data\n",
    "    y_pred = model.predict(X_test)\n",
    "    # Generate matrix\n",
    "    matrix = confusion_matrix(y_test, y_pred)\n",
    "    print(matrix)\n",
    "    return list(sp.mode(y_pred)[0])[0]"
   ]
  },
  {
   "cell_type": "code",
   "execution_count": 46,
   "metadata": {},
   "outputs": [
    {
     "name": "stdout",
     "output_type": "stream",
     "text": [
      "Accuracy score: 69.57 %\n",
      "[[1566    0    0    0    0    0    0    0    0    0]\n",
      " [ 224    0    0    0    0    0    0    0    0    0]\n",
      " [ 124    0    0    0    0    0    0    0    0    0]\n",
      " [ 128    0    0    0    0    0    0    0    0    0]\n",
      " [ 105    0    0    0    0    0    0    0    0    0]\n",
      " [  41    0    0    0    0    0    0    0    0    0]\n",
      " [  35    0    0    0    0    0    0    0    0    0]\n",
      " [  20    0    0    0    0    0    0    0    0    0]\n",
      " [   6    0    0    0    0    0    0    0    0    0]\n",
      " [   2    0    0    0    0    0    0    0    0    0]]\n"
     ]
    },
    {
     "data": {
      "text/plain": [
       "10000"
      ]
     },
     "execution_count": 46,
     "metadata": {},
     "output_type": "execute_result"
    }
   ],
   "source": [
    "logistic_regression_model_2(\"Action\", \"Local\")"
   ]
  },
  {
   "cell_type": "code",
   "execution_count": 34,
   "metadata": {},
   "outputs": [
    {
     "name": "stdout",
     "output_type": "stream",
     "text": [
      "Accuracy score: 73.82 %\n",
      "[[2780    0    0    0    0    0    0    0    0    0]\n",
      " [ 407    0    0    0    0    0    0    0    0    0]\n",
      " [ 202    0    0    0    0    0    0    0    0    0]\n",
      " [ 158    0    0    0    0    0    0    0    0    0]\n",
      " [ 148    0    0    0    0    0    0    0    0    0]\n",
      " [  45    0    0    0    0    0    0    0    0    0]\n",
      " [  14    0    0    0    0    0    0    0    0    0]\n",
      " [   9    0    0    0    0    0    0    0    0    0]\n",
      " [   1    0    0    0    0    0    0    0    0    0]\n",
      " [   2    0    0    0    0    0    0    0    0    0]]\n"
     ]
    },
    {
     "data": {
      "text/plain": [
       "10000"
      ]
     },
     "execution_count": 34,
     "metadata": {},
     "output_type": "execute_result"
    }
   ],
   "source": [
    "logistic_regression_model_2(\"Indie\", \"Local\")"
   ]
  },
  {
   "cell_type": "code",
   "execution_count": 36,
   "metadata": {},
   "outputs": [
    {
     "name": "stdout",
     "output_type": "stream",
     "text": [
      "Accuracy score: 73.16 %\n",
      "[[2723    0    0    0    0    0    0    0    0]\n",
      " [ 418    0    0    0    0    0    0    0    0]\n",
      " [ 209    0    0    0    0    0    0    0    0]\n",
      " [ 169    0    0    0    0    0    0    0    0]\n",
      " [ 147    0    0    0    0    0    0    0    0]\n",
      " [  35    0    0    0    0    0    0    0    0]\n",
      " [  11    0    0    0    0    0    0    0    0]\n",
      " [   9    0    0    0    0    0    0    0    0]\n",
      " [   1    0    0    0    0    0    0    0    0]]\n"
     ]
    },
    {
     "data": {
      "text/plain": [
       "10000"
      ]
     },
     "execution_count": 36,
     "metadata": {},
     "output_type": "execute_result"
    }
   ],
   "source": [
    "logistic_regression_model_2(\"Indie\", \"Single-player\")"
   ]
  },
  {
   "cell_type": "code",
   "execution_count": 39,
   "metadata": {},
   "outputs": [
    {
     "name": "stdout",
     "output_type": "stream",
     "text": [
      "Accuracy score: 20.51 %\n",
      "[[32  0  0  0  0  0  0  0  0]\n",
      " [27  0  0  0  0  0  0  0  0]\n",
      " [14  0  0  0  0  0  0  0  0]\n",
      " [25  0  0  0  0  0  0  0  0]\n",
      " [26  0  0  0  0  0  0  0  0]\n",
      " [16  0  0  0  0  0  0  0  0]\n",
      " [ 5  0  0  0  0  0  0  0  0]\n",
      " [ 8  0  0  0  0  0  0  0  0]\n",
      " [ 3  0  0  0  0  0  0  0  0]]\n"
     ]
    },
    {
     "data": {
      "text/plain": [
       "10000"
      ]
     },
     "execution_count": 39,
     "metadata": {},
     "output_type": "execute_result"
    }
   ],
   "source": [
    "logistic_regression_model_2(\"Free to Play\", \"Multi-Player\")"
   ]
  },
  {
   "cell_type": "code",
   "execution_count": 40,
   "metadata": {},
   "outputs": [
    {
     "name": "stdout",
     "output_type": "stream",
     "text": [
      "Accuracy score: 55.32 %\n",
      "[[52  0  0  0  0  0  0]\n",
      " [11  0  0  0  0  0  0]\n",
      " [ 9  0  0  0  0  0  0]\n",
      " [ 6  0  0  0  0  0  0]\n",
      " [ 8  0  0  0  0  0  0]\n",
      " [ 3  0  0  0  0  0  0]\n",
      " [ 5  0  0  0  0  0  0]]\n"
     ]
    },
    {
     "data": {
      "text/plain": [
       "10000"
      ]
     },
     "execution_count": 40,
     "metadata": {},
     "output_type": "execute_result"
    }
   ],
   "source": [
    "logistic_regression_model_2(\"Racing\", \"Multi-Player\")"
   ]
  },
  {
   "cell_type": "markdown",
   "metadata": {},
   "source": [
    "**Observations:** After running numerous test, my accuracy score hasn't imporved signficantly. Morevoer, I can see that the major problem I have, as shown by the confusion matrix, is that I have too many outcomes. \n",
    "\n",
    "What I will attempt to do is check the the amount of games that have each outcome, and reassign the ones that barely have any, and/or group together certain outcomes (number of sales)."
   ]
  },
  {
   "cell_type": "code",
   "execution_count": 4,
   "metadata": {},
   "outputs": [
    {
     "data": {
      "text/plain": [
       "array([ 15000000,   7500000,   3500000,  35000000, 150000000,  75000000,\n",
       "           35000,    750000,    150000,     75000,   1500000,    350000,\n",
       "           10000], dtype=int64)"
      ]
     },
     "execution_count": 4,
     "metadata": {},
     "output_type": "execute_result"
    }
   ],
   "source": [
    "s[\"owners\"].unique()"
   ]
  },
  {
   "cell_type": "code",
   "execution_count": 5,
   "metadata": {},
   "outputs": [
    {
     "data": {
      "text/plain": [
       "10000        18596\n",
       "35000         3059\n",
       "75000         1695\n",
       "150000        1386\n",
       "350000        1272\n",
       "750000         513\n",
       "1500000        288\n",
       "3500000        193\n",
       "7500000         46\n",
       "15000000        21\n",
       "35000000         3\n",
       "75000000         2\n",
       "150000000        1\n",
       "Name: owners, dtype: int64"
      ]
     },
     "execution_count": 5,
     "metadata": {},
     "output_type": "execute_result"
    }
   ],
   "source": [
    "s[\"owners\"].value_counts()"
   ]
  },
  {
   "cell_type": "markdown",
   "metadata": {},
   "source": [
    "**Observations:** I can see how and why the model was always predicting that the game would receive 10000 views, it's because there's a staggering amount of games that have received that many sales. I can easily see how I can create 3 groups out of these numbers and that will reduce the number of outcomes from 13 to 3, which should give me a significantly higher accuracy, and hopefully we could sometimes obtain a prediction for something other than 10000.\n",
    "\n",
    "Firstly however, I want to undo a step I did during the data cleaning process, which was to transform the the original sales ranges into an integer by finding the mean of each range. The data type of the target column does not matter for this type of model building so it will fit more nicely I think, to have ranges instead of specific outcomes."
   ]
  },
  {
   "cell_type": "markdown",
   "metadata": {},
   "source": [
    "#### Data Cleaning"
   ]
  },
  {
   "cell_type": "code",
   "execution_count": 3,
   "metadata": {},
   "outputs": [
    {
     "data": {
      "text/plain": [
       "array(['10000000-20000000', '5000000-10000000', '2000000-5000000',\n",
       "       '20000000-50000000', '100000000-200000000', '50000000-100000000',\n",
       "       '20000-50000', '500000-1000000', '100000-200000', '50000-100000',\n",
       "       '1000000-2000000', '200000-500000', '0-20000'], dtype=object)"
      ]
     },
     "execution_count": 3,
     "metadata": {},
     "output_type": "execute_result"
    }
   ],
   "source": [
    "s[\"owners\"].unique()"
   ]
  },
  {
   "cell_type": "code",
   "execution_count": 17,
   "metadata": {},
   "outputs": [
    {
     "data": {
      "text/plain": [
       "0-20000                18596\n",
       "20000-50000             3059\n",
       "50000-100000            1695\n",
       "100000-200000           1386\n",
       "200000-500000           1272\n",
       "500000-1000000           513\n",
       "1000000-2000000          288\n",
       "2000000-5000000          193\n",
       "5000000-10000000          46\n",
       "10000000-20000000         21\n",
       "20000000-50000000          3\n",
       "50000000-100000000         2\n",
       "100000000-200000000        1\n",
       "Name: owners, dtype: int64"
      ]
     },
     "execution_count": 17,
     "metadata": {},
     "output_type": "execute_result"
    }
   ],
   "source": [
    "s[\"owners\"].value_counts()"
   ]
  },
  {
   "cell_type": "code",
   "execution_count": 15,
   "metadata": {},
   "outputs": [
    {
     "data": {
      "text/plain": [
       "array(['10000000-20000000', '5000000-10000000', '2000000-5000000',\n",
       "       '20000000-50000000', '100000000-200000000', '50000000-100000000',\n",
       "       '20000-50000', '500000-1000000', '100000-200000', '50000-100000',\n",
       "       '1000000-2000000', '200000-500000', '0-20000'], dtype=object)"
      ]
     },
     "execution_count": 15,
     "metadata": {},
     "output_type": "execute_result"
    }
   ],
   "source": [
    "s[\"owners\"].unique()"
   ]
  },
  {
   "cell_type": "code",
   "execution_count": 21,
   "metadata": {},
   "outputs": [],
   "source": [
    "def reassign_owners(row):\n",
    "    a = [\"20000-50000\", \"50000-100000\", \"100000-200000\", \"200000-500000\"]\n",
    "    b = [\"500000-1000000\", \"1000000-2000000\", \"2000000-5000000\", \"5000000-10000000\", \"10000000-20000000\", \n",
    "         \"20000000-50000000\", \"50000000-100000000\", \"100000000-200000000\"]\n",
    "    if row in a:\n",
    "        row = \"20000-500000\"\n",
    "    elif row in b:\n",
    "        row = \"500000+\"\n",
    "    return row"
   ]
  },
  {
   "cell_type": "code",
   "execution_count": 25,
   "metadata": {},
   "outputs": [],
   "source": [
    "s[\"owners\"] = s[\"owners\"].apply(lambda x: reassign_owners(x))"
   ]
  },
  {
   "cell_type": "code",
   "execution_count": 26,
   "metadata": {},
   "outputs": [
    {
     "data": {
      "text/plain": [
       "0-20000         18596\n",
       "20000-500000     7412\n",
       "500000+          1067\n",
       "Name: owners, dtype: int64"
      ]
     },
     "execution_count": 26,
     "metadata": {},
     "output_type": "execute_result"
    }
   ],
   "source": [
    "s[\"owners\"].value_counts()"
   ]
  },
  {
   "cell_type": "markdown",
   "metadata": {},
   "source": [
    "#### Trying It  Again"
   ]
  },
  {
   "cell_type": "code",
   "execution_count": 30,
   "metadata": {},
   "outputs": [
    {
     "name": "stdout",
     "output_type": "stream",
     "text": [
      "Accuracy score: 68.99 %\n",
      "[[1553    0    0]\n",
      " [ 573    0    0]\n",
      " [ 125    0    0]]\n"
     ]
    },
    {
     "data": {
      "text/plain": [
       "'0-20000'"
      ]
     },
     "execution_count": 30,
     "metadata": {},
     "output_type": "execute_result"
    }
   ],
   "source": [
    "logistic_regression_model_2(\"Action\", \"Local\")"
   ]
  },
  {
   "cell_type": "code",
   "execution_count": 31,
   "metadata": {},
   "outputs": [
    {
     "name": "stdout",
     "output_type": "stream",
     "text": [
      "Accuracy score: 72.89 %\n",
      "[[2745    0    0]\n",
      " [ 952    0    0]\n",
      " [  69    0    0]]\n"
     ]
    },
    {
     "data": {
      "text/plain": [
       "'0-20000'"
      ]
     },
     "execution_count": 31,
     "metadata": {},
     "output_type": "execute_result"
    }
   ],
   "source": [
    "logistic_regression_model_2(\"Indie\", \"Local\")"
   ]
  },
  {
   "cell_type": "code",
   "execution_count": 32,
   "metadata": {},
   "outputs": [
    {
     "name": "stdout",
     "output_type": "stream",
     "text": [
      "Accuracy score: 73.24 %\n",
      "[[2726    0    0]\n",
      " [ 927    0    0]\n",
      " [  69    0    0]]\n"
     ]
    },
    {
     "data": {
      "text/plain": [
       "'0-20000'"
      ]
     },
     "execution_count": 32,
     "metadata": {},
     "output_type": "execute_result"
    }
   ],
   "source": [
    "logistic_regression_model_2(\"Indie\", \"Single-player\")"
   ]
  },
  {
   "cell_type": "code",
   "execution_count": 33,
   "metadata": {},
   "outputs": [
    {
     "name": "stdout",
     "output_type": "stream",
     "text": [
      "Accuracy score: 52.56 %\n",
      "[[ 0 30  0]\n",
      " [ 0 82  0]\n",
      " [ 0 44  0]]\n"
     ]
    },
    {
     "data": {
      "text/plain": [
       "'20000-500000'"
      ]
     },
     "execution_count": 33,
     "metadata": {},
     "output_type": "execute_result"
    }
   ],
   "source": [
    "logistic_regression_model_2(\"Free to Play\", \"Multi-Player\")"
   ]
  },
  {
   "cell_type": "code",
   "execution_count": 34,
   "metadata": {},
   "outputs": [
    {
     "name": "stdout",
     "output_type": "stream",
     "text": [
      "Accuracy score: 54.26 %\n",
      "[[51  0  0]\n",
      " [41  0  0]\n",
      " [ 2  0  0]]\n"
     ]
    },
    {
     "data": {
      "text/plain": [
       "'0-20000'"
      ]
     },
     "execution_count": 34,
     "metadata": {},
     "output_type": "execute_result"
    }
   ],
   "source": [
    "logistic_regression_model_2(\"Racing\", \"Multi-Player\")"
   ]
  },
  {
   "cell_type": "markdown",
   "metadata": {},
   "source": [
    "**Observations:** The accurancy scores haven't improved. Upon closer observation at the confusion matrixes, I observe that all the values predicted are always the same. This is due to the massive imbalance in my data set. A big majority of the games will have between 0 and 20.000 sales, which inevitably skews the predictions. \n"
   ]
  },
  {
   "cell_type": "markdown",
   "metadata": {},
   "source": [
    "#### Dealing with Imbalance\n",
    "\n",
    "In order to build an accurate model that won't be determined by my data set, but will weigh the features independetly of their representaiton, I will rebalance it before running the model."
   ]
  },
  {
   "cell_type": "code",
   "execution_count": 36,
   "metadata": {},
   "outputs": [
    {
     "data": {
      "text/plain": [
       "0-20000         18596\n",
       "20000-500000     7412\n",
       "500000+          1067\n",
       "Name: owners, dtype: int64"
      ]
     },
     "execution_count": 36,
     "metadata": {},
     "output_type": "execute_result"
    }
   ],
   "source": [
    "s[\"owners\"].value_counts()"
   ]
  },
  {
   "cell_type": "code",
   "execution_count": 53,
   "metadata": {},
   "outputs": [
    {
     "data": {
      "text/plain": [
       "500000+         18596\n",
       "20000-500000    18596\n",
       "0-20000         18596\n",
       "Name: owners, dtype: int64"
      ]
     },
     "execution_count": 53,
     "metadata": {},
     "output_type": "execute_result"
    }
   ],
   "source": [
    "# Deal with scaling\n",
    "majority = s[s['owners'] == \"0-20000\"]\n",
    "minority1 = s[s['owners'] == \"20000-500000\"]\n",
    "minority2 = s[s['owners'] == \"500000+\"]\n",
    " \n",
    "# Downsample majority class\n",
    "minority1_upsampled = resample(minority1, n_samples=len(majority)) #random_state=123\n",
    "minority2_upsampled = resample(minority2, n_samples=len(majority))\n",
    "\n",
    "# Combine minority class with downsampled majority class\n",
    "owners_upsampled = pd.concat([minority1_upsampled, minority2_upsampled, majority])\n",
    "\n",
    "owners_upsampled['owners'].value_counts()"
   ]
  },
  {
   "cell_type": "code",
   "execution_count": 47,
   "metadata": {},
   "outputs": [],
   "source": [
    "def logistic_regression_model_balanced(genre, category):\n",
    "    # Assign values x\n",
    "    x = owners_upsampled[owners_upsampled[genre]==1]\n",
    "    x = x[x[category]==1]\n",
    "    x.drop([\"appid\", \"name\", \"release_date\",'english', \"developer\", \"publisher\", 'required_age', 'achievements', 'positive_ratings',\n",
    "            'negative_ratings', 'average_playtime', 'median_playtime', 'owners', \"price\"], axis=1, inplace=True)\n",
    "    x.drop(platforms, axis=1, inplace=True)\n",
    "    genres_copy = genres.copy()\n",
    "    genres_copy.remove(genre)\n",
    "    x.drop(genres_copy, axis=1, inplace=True)\n",
    "    cat_copy = categories.copy()\n",
    "    cat_copy.remove(category)\n",
    "    x.drop(cat_copy, axis=1, inplace=True)\n",
    "    # Assign values y\n",
    "    y = owners_upsampled[owners_upsampled[genre]==1]\n",
    "    y = y[y[category]==1][\"owners\"]\n",
    "    # Split the data\n",
    "    X_train, X_test, y_train, y_test = train_test_split(x, y, test_size=0.2)\n",
    "    # Generate the model\n",
    "    model = LogisticRegression(max_iter=1000000).fit(X_train, y_train)\n",
    "    # Get score of the model\n",
    "    score = model.score(X_test,y_test)\n",
    "    print(\"Accuracy score:\", round(score*100, 2), \"%\")\n",
    "    # Predict using test data\n",
    "    y_pred = model.predict(X_test)\n",
    "    # Generate matrix\n",
    "    matrix = confusion_matrix(y_test, y_pred)\n",
    "    print(matrix)\n",
    "    return list(sp.mode(y_pred)[0])[0]"
   ]
  },
  {
   "cell_type": "markdown",
   "metadata": {},
   "source": [
    "#### Tests / Examples"
   ]
  },
  {
   "cell_type": "code",
   "execution_count": 48,
   "metadata": {},
   "outputs": [
    {
     "name": "stdout",
     "output_type": "stream",
     "text": [
      "Accuracy score: 37.04 %\n",
      "[[   0    0 1565]\n",
      " [   0    0 1527]\n",
      " [   0    0 1819]]\n"
     ]
    },
    {
     "data": {
      "text/plain": [
       "'500000+'"
      ]
     },
     "execution_count": 48,
     "metadata": {},
     "output_type": "execute_result"
    }
   ],
   "source": [
    "logistic_regression_model_balanced(\"Action\", \"Local\")"
   ]
  },
  {
   "cell_type": "code",
   "execution_count": 49,
   "metadata": {},
   "outputs": [
    {
     "name": "stdout",
     "output_type": "stream",
     "text": [
      "Accuracy score: 44.2 %\n",
      "[[2810    0    0]\n",
      " [2301    0    0]\n",
      " [1247    0    0]]\n"
     ]
    },
    {
     "data": {
      "text/plain": [
       "'0-20000'"
      ]
     },
     "execution_count": 49,
     "metadata": {},
     "output_type": "execute_result"
    }
   ],
   "source": [
    "logistic_regression_model_balanced(\"Indie\", \"Local\")"
   ]
  },
  {
   "cell_type": "code",
   "execution_count": 50,
   "metadata": {},
   "outputs": [
    {
     "name": "stdout",
     "output_type": "stream",
     "text": [
      "Accuracy score: 43.61 %\n",
      "[[2742    0    0]\n",
      " [2298    0    0]\n",
      " [1247    0    0]]\n"
     ]
    },
    {
     "data": {
      "text/plain": [
       "'0-20000'"
      ]
     },
     "execution_count": 50,
     "metadata": {},
     "output_type": "execute_result"
    }
   ],
   "source": [
    "logistic_regression_model_balanced(\"Indie\", \"Single-player\")"
   ]
  },
  {
   "cell_type": "code",
   "execution_count": 51,
   "metadata": {},
   "outputs": [
    {
     "name": "stdout",
     "output_type": "stream",
     "text": [
      "Accuracy score: 70.96 %\n",
      "[[  0   0  33]\n",
      " [  0   0 233]\n",
      " [  0   0 650]]\n"
     ]
    },
    {
     "data": {
      "text/plain": [
       "'500000+'"
      ]
     },
     "execution_count": 51,
     "metadata": {},
     "output_type": "execute_result"
    }
   ],
   "source": [
    "logistic_regression_model_balanced(\"Free to Play\", \"Multi-Player\")"
   ]
  },
  {
   "cell_type": "code",
   "execution_count": 52,
   "metadata": {},
   "outputs": [
    {
     "name": "stdout",
     "output_type": "stream",
     "text": [
      "Accuracy score: 54.26 %\n",
      "[[51  0  0]\n",
      " [40  0  0]\n",
      " [ 3  0  0]]\n"
     ]
    },
    {
     "data": {
      "text/plain": [
       "'0-20000'"
      ]
     },
     "execution_count": 52,
     "metadata": {},
     "output_type": "execute_result"
    }
   ],
   "source": [
    "logistic_regression_model_2(\"Racing\", \"Multi-Player\")"
   ]
  },
  {
   "cell_type": "markdown",
   "metadata": {},
   "source": [
    "**Observations:** The accuracy scores have dismished despite improving the model. This further proves that the biggest issue with this model is the huge variability of the data. The sales a game recieves are simply not determined by its genre or category.\n",
    "\n",
    "However, for the illustrative purposes of this excercise, I will use the model despite it being imperfect. \n"
   ]
  },
  {
   "cell_type": "markdown",
   "metadata": {},
   "source": [
    "# User-Friendly Model\n",
    "I will now create an user-friendly interface that takes the user's input and build's the model according to the described specifications. \n",
    "\n",
    "I will also be adding visual elements to it, and possibily addind the option of having muliple genres and categories."
   ]
  },
  {
   "cell_type": "markdown",
   "metadata": {},
   "source": [
    "### Adding Data Visualization"
   ]
  },
  {
   "cell_type": "code",
   "execution_count": 37,
   "metadata": {},
   "outputs": [],
   "source": [
    "def logistic_regression_model(platform, genre, category):\n",
    "    # Assign values x\n",
    "    x = s[s[genre]==1]\n",
    "    x = x[x[category]==1]\n",
    "    x.drop([\"appid\", \"name\", \"release_date\",'english', \"developer\", \"publisher\", 'required_age', 'achievements', 'positive_ratings',\n",
    "            'negative_ratings', 'average_playtime', 'median_playtime', 'owners', \"price\"], axis=1, inplace=True)\n",
    "    platforms_copy = platforms.copy()\n",
    "    platforms_copy.remove(platform)\n",
    "    x.drop(platforms_copy, axis=1, inplace=True)\n",
    "    genres_copy = genres.copy()\n",
    "    genres_copy.remove(genre)\n",
    "    x.drop(genres_copy, axis=1, inplace=True)\n",
    "    cat_copy = categories.copy()\n",
    "    cat_copy.remove(category)\n",
    "    x.drop(cat_copy, axis=1, inplace=True)\n",
    "    # Assign values y\n",
    "    y = s[s[genre]==1]\n",
    "    y = y[y[category]==1][\"owners\"]\n",
    "    # Split the data\n",
    "    X_train, X_test, y_train, y_test = train_test_split(x, y, test_size=0.2)\n",
    "    # Generate the model\n",
    "    model = LogisticRegression(max_iter=1000000).fit(X_train, y_train)\n",
    "    # Get score of the model\n",
    "    score = model.score(X_test,y_test)\n",
    "    # Predict using test data\n",
    "    y_pred = model.predict(X_test)\n",
    "    # Generate matrix\n",
    "    matrix = confusion_matrix(y_test, y_pred)\n",
    "    print(\"\\nThe expected amounts of sales for this game fall in the range\", list(sp.mode(y_pred)[0])[0])\n",
    "    print(\"With an accuracy score of\", round(score*100, 2), \"%\")\n",
    "    #Data Visualization\n",
    "    return #plt.plot(y_pred)"
   ]
  },
  {
   "cell_type": "markdown",
   "metadata": {},
   "source": [
    "### Interface"
   ]
  },
  {
   "cell_type": "code",
   "execution_count": 36,
   "metadata": {},
   "outputs": [],
   "source": [
    "def model():\n",
    "    print(\"This model will return the predicted number of sales based on key features like platform, genre, and categories.\\n\")\n",
    "    #n = input(\"How many features do you want to test?\")\n",
    "    print(\"\\nPlatforms:\", platforms, \"\\n\")\n",
    "    platform = input(\"Choose Platform:\\n\")\n",
    "    print(\"\\nGenres:\", genres, \"\\n\")\n",
    "    genre = input(\"Choose Genre:\\n\")\n",
    "    print(\"\\nCategories\", categories, \"\\n\")\n",
    "    category = input(\"Choose Category:\\n\")\n",
    "    result = logistic_regression_model(platform, genre, category)\n",
    "    return print(\"\\n\", result)"
   ]
  },
  {
   "cell_type": "code",
   "execution_count": 34,
   "metadata": {},
   "outputs": [
    {
     "name": "stdout",
     "output_type": "stream",
     "text": [
      "This model will return the predicted number of sales based on key features like platform, genre, and categories.\n",
      "\n",
      "\n",
      "Platforms: ['linux', 'windows', 'mac'] \n",
      "\n",
      "Choose Platform:\n",
      "windows\n",
      "\n",
      "Genres: ['Indie', 'Sports', 'Simulation', 'Strategy', 'Early Access', 'Casual', 'RPG', 'Free to Play', 'Adventure', 'Action', 'Racing'] \n",
      "\n",
      "Choose Genre:\n",
      "Indie\n",
      "\n",
      "Categories ['Includes level editor', 'MMO', 'VR Support', 'Single-player', 'Controller Support', 'Online', 'Multi-Player', 'co-op', 'Local'] \n",
      "\n",
      "Choose Category:\n",
      "Local\n",
      "\n",
      "The expected amounts of sales for this game falls in the range 0-20000\n",
      "With an accuracy score of 73.77 %\n",
      "\n",
      " ['0-20000' '0-20000' '0-20000' ... '0-20000' '0-20000' '0-20000']\n"
     ]
    }
   ],
   "source": [
    "model()"
   ]
  },
  {
   "cell_type": "markdown",
   "metadata": {},
   "source": [
    "**Observations:** I am happy with the current model, despite its questionable accuracy. However, I still want to take a shot at improving it in the following ways:\n",
    "\n",
    "1. Making the target binary. Even if this will reduce the usefulness of the result, it will improve the overall performance of the model.\n",
    "2. Attempting to include developer or publisher in the features being tested. This wasn't done from the start because the unique variables in these categories is unsurmountable high. However, simply by dividing both in 2 groups (more than 10 games vs less than 10 games, for example) could improve the model since developer and publisher do have a significant effect on sales.\n",
    "3. Try a different model altogether, potentially better fitted for this situation. Namely a Decision Tree."
   ]
  },
  {
   "cell_type": "markdown",
   "metadata": {},
   "source": [
    "### Binary\n",
    "I will be using an upsampling technique to balance out the target data. I will devide this one in 2 groups, `0-20000` and `20000+`."
   ]
  },
  {
   "cell_type": "code",
   "execution_count": 38,
   "metadata": {},
   "outputs": [
    {
     "data": {
      "text/plain": [
       "0-20000                18596\n",
       "20000-50000             3059\n",
       "50000-100000            1695\n",
       "100000-200000           1386\n",
       "200000-500000           1272\n",
       "500000-1000000           513\n",
       "1000000-2000000          288\n",
       "2000000-5000000          193\n",
       "5000000-10000000          46\n",
       "10000000-20000000         21\n",
       "20000000-50000000          3\n",
       "50000000-100000000         2\n",
       "100000000-200000000        1\n",
       "Name: owners, dtype: int64"
      ]
     },
     "execution_count": 38,
     "metadata": {},
     "output_type": "execute_result"
    }
   ],
   "source": [
    "s[\"owners\"].value_counts()"
   ]
  },
  {
   "cell_type": "code",
   "execution_count": 39,
   "metadata": {},
   "outputs": [],
   "source": [
    "def reassign_owners_binary(row):\n",
    "    a = [\"20000-50000\", \"50000-100000\", \"100000-200000\", \"200000-500000\"]\n",
    "    b = [\"500000-1000000\", \"1000000-2000000\", \"2000000-5000000\", \"5000000-10000000\", \"10000000-20000000\", \n",
    "         \"20000000-50000000\", \"50000000-100000000\", \"100000000-200000000\"]\n",
    "    if row in a:\n",
    "        row = \"20000+\"\n",
    "    elif row in b:\n",
    "        row = \"20000+\"\n",
    "    return row"
   ]
  },
  {
   "cell_type": "code",
   "execution_count": 40,
   "metadata": {},
   "outputs": [],
   "source": [
    "s[\"owners\"] = s[\"owners\"].apply(lambda x: reassign_owners_binary(x))"
   ]
  },
  {
   "cell_type": "code",
   "execution_count": 41,
   "metadata": {},
   "outputs": [
    {
     "data": {
      "text/plain": [
       "0-20000    18596\n",
       "20000+      8479\n",
       "Name: owners, dtype: int64"
      ]
     },
     "execution_count": 41,
     "metadata": {},
     "output_type": "execute_result"
    }
   ],
   "source": [
    "s[\"owners\"].value_counts()"
   ]
  },
  {
   "cell_type": "code",
   "execution_count": 43,
   "metadata": {},
   "outputs": [
    {
     "data": {
      "text/plain": [
       "0-20000    18596\n",
       "20000+     18596\n",
       "Name: owners, dtype: int64"
      ]
     },
     "execution_count": 43,
     "metadata": {},
     "output_type": "execute_result"
    }
   ],
   "source": [
    "# Deal with scaling\n",
    "majority = s[s['owners'] == \"0-20000\"]\n",
    "minority = s[s['owners'] == \"20000+\"]\n",
    " \n",
    "# Downsample majority class\n",
    "minority_upsampled = resample(minority, n_samples=len(majority)) #random_state=123\n",
    "\n",
    "# Combine minority class with downsampled majority class\n",
    "owners_upsampled_binary = pd.concat([minority_upsampled, majority])\n",
    "\n",
    "owners_upsampled_binary['owners'].value_counts()"
   ]
  },
  {
   "cell_type": "code",
   "execution_count": 64,
   "metadata": {},
   "outputs": [],
   "source": [
    "def logistic_regression_model_binary(platform, genre, category):\n",
    "    # Assign values x\n",
    "    x = owners_upsampled_binary[owners_upsampled_binary[genre]==1]\n",
    "    x = x[x[category]==1]\n",
    "    x.drop([\"appid\", \"name\", \"release_date\",'english', \"developer\", \"publisher\", 'required_age', 'achievements', 'positive_ratings',\n",
    "            'negative_ratings', 'average_playtime', 'median_playtime', 'owners', \"price\"], axis=1, inplace=True)\n",
    "    platforms_copy = platforms.copy()\n",
    "    platforms_copy.remove(platform)\n",
    "    x.drop(platforms_copy, axis=1, inplace=True)\n",
    "    genres_copy = genres.copy()\n",
    "    genres_copy.remove(genre)\n",
    "    x.drop(genres_copy, axis=1, inplace=True)\n",
    "    cat_copy = categories.copy()\n",
    "    cat_copy.remove(category)\n",
    "    x.drop(cat_copy, axis=1, inplace=True)\n",
    "    # Assign values y\n",
    "    y = owners_upsampled_binary[owners_upsampled_binary[genre]==1]\n",
    "    y = y[y[category]==1][\"owners\"]\n",
    "    # Split the data\n",
    "    X_train, X_test, y_train, y_test = train_test_split(x, y, test_size=0.2)\n",
    "    # Generate the model\n",
    "    model = LogisticRegression(max_iter=1000000).fit(X_train, y_train)\n",
    "    # Get score of the model\n",
    "    score = model.score(X_test,y_test)\n",
    "    # Predict using test data\n",
    "    y_pred = model.predict(X_test)\n",
    "    # Generate matrix\n",
    "    matrix = confusion_matrix(y_test, y_pred)\n",
    "    print(\"\\nThe expected amounts of sales for this game fall in the range\", list(sp.mode(y_pred)[0])[0])\n",
    "    print(\"With an accuracy score of\", round(score*100, 2), \"%\")\n",
    "    #Data Visualization\n",
    "    return "
   ]
  },
  {
   "cell_type": "code",
   "execution_count": 62,
   "metadata": {},
   "outputs": [],
   "source": [
    "def model_binary():\n",
    "    print(\"This model will return the predicted number of sales based on key features like platform, genre, and categories.\\n\")\n",
    "    #n = input(\"How many features do you want to test?\")\n",
    "    print(\"\\nPlatforms:\", platforms, \"\\n\")\n",
    "    platform = input(\"Choose Platform:\\n\")\n",
    "    print(\"\\nGenres:\", genres, \"\\n\")\n",
    "    genre = input(\"Choose Genre:\\n\")\n",
    "    print(\"\\nCategories\", categories, \"\\n\")\n",
    "    category = input(\"Choose Category:\\n\")\n",
    "    result = logistic_regression_model_binary(platform, genre, category)\n",
    "    return print(\"\\n\", result)"
   ]
  },
  {
   "cell_type": "code",
   "execution_count": 65,
   "metadata": {},
   "outputs": [
    {
     "name": "stdout",
     "output_type": "stream",
     "text": [
      "This model will return the predicted number of sales based on key features like platform, genre, and categories.\n",
      "\n",
      "\n",
      "Platforms: ['linux', 'windows', 'mac'] \n",
      "\n",
      "Choose Platform:\n",
      "windows\n",
      "\n",
      "Genres: ['Indie', 'Sports', 'Simulation', 'Strategy', 'Early Access', 'Casual', 'RPG', 'Free to Play', 'Adventure', 'Action', 'Racing'] \n",
      "\n",
      "Choose Genre:\n",
      "Action\n",
      "\n",
      "Categories ['Includes level editor', 'MMO', 'VR Support', 'Single-player', 'Controller Support', 'Online', 'Multi-Player', 'co-op', 'Local'] \n",
      "\n",
      "Choose Category:\n",
      "Local\n",
      "\n",
      "The expected amounts of sales for this game fall in the range 0-20000\n",
      "With an accuracy score of 49.92 %\n",
      "\n",
      " None\n"
     ]
    }
   ],
   "source": [
    "model_binary()"
   ]
  },
  {
   "cell_type": "markdown",
   "metadata": {},
   "source": [
    "**Observations:** The accuracy hasn't improved much, and I still can't manage to include a visualization. Underwhelming success."
   ]
  },
  {
   "cell_type": "markdown",
   "metadata": {},
   "source": [
    "### Include Developer and Publisher in the Model\n",
    "In order to do this, I first have to divide each category in 2 groups. Thus I'm first going to explore the data to decide where I should make the division."
   ]
  },
  {
   "cell_type": "code",
   "execution_count": 66,
   "metadata": {},
   "outputs": [
    {
     "data": {
      "text/html": [
       "<div>\n",
       "<style scoped>\n",
       "    .dataframe tbody tr th:only-of-type {\n",
       "        vertical-align: middle;\n",
       "    }\n",
       "\n",
       "    .dataframe tbody tr th {\n",
       "        vertical-align: top;\n",
       "    }\n",
       "\n",
       "    .dataframe thead th {\n",
       "        text-align: right;\n",
       "    }\n",
       "</style>\n",
       "<table border=\"1\" class=\"dataframe\">\n",
       "  <thead>\n",
       "    <tr style=\"text-align: right;\">\n",
       "      <th></th>\n",
       "      <th>appid</th>\n",
       "      <th>name</th>\n",
       "      <th>release_date</th>\n",
       "      <th>english</th>\n",
       "      <th>developer</th>\n",
       "      <th>publisher</th>\n",
       "      <th>required_age</th>\n",
       "      <th>achievements</th>\n",
       "      <th>positive_ratings</th>\n",
       "      <th>negative_ratings</th>\n",
       "      <th>...</th>\n",
       "      <th>Free to Play</th>\n",
       "      <th>Includes level editor</th>\n",
       "      <th>VR Support</th>\n",
       "      <th>Single-player</th>\n",
       "      <th>MMO</th>\n",
       "      <th>Controller Support</th>\n",
       "      <th>Online</th>\n",
       "      <th>Multi-Player</th>\n",
       "      <th>co-op</th>\n",
       "      <th>Local</th>\n",
       "    </tr>\n",
       "  </thead>\n",
       "  <tbody>\n",
       "    <tr>\n",
       "      <th>0</th>\n",
       "      <td>10</td>\n",
       "      <td>Counter-Strike</td>\n",
       "      <td>2000-11-01</td>\n",
       "      <td>1</td>\n",
       "      <td>Valve</td>\n",
       "      <td>Valve</td>\n",
       "      <td>0</td>\n",
       "      <td>0</td>\n",
       "      <td>124534</td>\n",
       "      <td>3339</td>\n",
       "      <td>...</td>\n",
       "      <td>0</td>\n",
       "      <td>0</td>\n",
       "      <td>0</td>\n",
       "      <td>0</td>\n",
       "      <td>0</td>\n",
       "      <td>0</td>\n",
       "      <td>1</td>\n",
       "      <td>1</td>\n",
       "      <td>0</td>\n",
       "      <td>1</td>\n",
       "    </tr>\n",
       "  </tbody>\n",
       "</table>\n",
       "<p>1 rows × 37 columns</p>\n",
       "</div>"
      ],
      "text/plain": [
       "   appid            name release_date  english developer publisher  \\\n",
       "0     10  Counter-Strike   2000-11-01        1     Valve     Valve   \n",
       "\n",
       "   required_age  achievements  positive_ratings  negative_ratings  ...  \\\n",
       "0             0             0            124534              3339  ...   \n",
       "\n",
       "   Free to Play  Includes level editor VR Support  Single-player  MMO  \\\n",
       "0             0                      0          0              0    0   \n",
       "\n",
       "   Controller Support  Online  Multi-Player  co-op  Local  \n",
       "0                   0       1             1      0      1  \n",
       "\n",
       "[1 rows x 37 columns]"
      ]
     },
     "execution_count": 66,
     "metadata": {},
     "output_type": "execute_result"
    }
   ],
   "source": [
    "s.head(1)"
   ]
  },
  {
   "cell_type": "code",
   "execution_count": 75,
   "metadata": {},
   "outputs": [
    {
     "data": {
      "text/plain": [
       "Choice of Games               94\n",
       "KOEI TECMO GAMES CO., LTD.    72\n",
       "Ripknot Systems               62\n",
       "Laush Dmitriy Sergeevich      51\n",
       "Nikita \"Ghost_RUS\"            50\n",
       "Dexion Games                  45\n",
       "RewindApp                     43\n",
       "Hosted Games                  42\n",
       "Blender Games                 40\n",
       "For Kids                      36\n",
       "Name: developer, dtype: int64"
      ]
     },
     "execution_count": 75,
     "metadata": {},
     "output_type": "execute_result"
    }
   ],
   "source": [
    "s[\"developer\"].value_counts()[:10]"
   ]
  },
  {
   "cell_type": "code",
   "execution_count": 5,
   "metadata": {},
   "outputs": [
    {
     "data": {
      "text/plain": [
       "1.016770875942266"
      ]
     },
     "execution_count": 5,
     "metadata": {},
     "output_type": "execute_result"
    }
   ],
   "source": [
    "dev_count = s[\"developer\"].value_counts()\n",
    "len(dev_count[dev_count>9])/len(dev_count)*100"
   ]
  },
  {
   "cell_type": "markdown",
   "metadata": {},
   "source": [
    "**Observations:** After trying different options I decide that separating developers by those that have made more than 3 games and the rest seems a good split. My top developors now represent only 5% of my data. I might play with this number in the future. Potentially try it when it represents only 1% of the developers and thus have a clear \"1% has it all\" model."
   ]
  },
  {
   "cell_type": "code",
   "execution_count": 6,
   "metadata": {},
   "outputs": [
    {
     "name": "stderr",
     "output_type": "stream",
     "text": [
      "C:\\ProgramData\\Anaconda3\\lib\\site-packages\\ipykernel_launcher.py:7: SettingWithCopyWarning: \n",
      "A value is trying to be set on a copy of a slice from a DataFrame\n",
      "\n",
      "See the caveats in the documentation: https://pandas.pydata.org/pandas-docs/stable/user_guide/indexing.html#returning-a-view-versus-a-copy\n",
      "  import sys\n"
     ]
    },
    {
     "data": {
      "text/plain": [
       "0    25806\n",
       "1     1269\n",
       "Name: top_developer, dtype: int64"
      ]
     },
     "execution_count": 6,
     "metadata": {},
     "output_type": "execute_result"
    }
   ],
   "source": [
    "s[\"top_developer\"] = 0\n",
    "values = dev_count[dev_count>19].index.tolist()\n",
    "\n",
    "for w in values:\n",
    "    for i in range(len(s)):\n",
    "        if w in s[\"developer\"][i]:\n",
    "            s[\"top_developer\"][i] = 1\n",
    "            \n",
    "s[\"top_developer\"].value_counts()"
   ]
  },
  {
   "cell_type": "code",
   "execution_count": 107,
   "metadata": {},
   "outputs": [
    {
     "data": {
      "text/plain": [
       "Big Fish Games         212\n",
       "Strategy First         136\n",
       "Ubisoft                111\n",
       "THQ Nordic              98\n",
       "Square Enix             97\n",
       "Sekai Project           96\n",
       "Choice of Games         94\n",
       "1C Entertainment        88\n",
       "Dagestan Technology     88\n",
       "SEGA                    78\n",
       "Name: publisher, dtype: int64"
      ]
     },
     "execution_count": 107,
     "metadata": {},
     "output_type": "execute_result"
    }
   ],
   "source": [
    "s[\"publisher\"].value_counts()[:10]"
   ]
  },
  {
   "cell_type": "code",
   "execution_count": 7,
   "metadata": {},
   "outputs": [
    {
     "data": {
      "text/plain": [
       "0.996237982443918"
      ]
     },
     "execution_count": 7,
     "metadata": {},
     "output_type": "execute_result"
    }
   ],
   "source": [
    "dev_count = s[\"publisher\"].value_counts()\n",
    "len(dev_count[dev_count>16])/len(dev_count)*100"
   ]
  },
  {
   "cell_type": "code",
   "execution_count": 8,
   "metadata": {},
   "outputs": [
    {
     "name": "stderr",
     "output_type": "stream",
     "text": [
      "C:\\ProgramData\\Anaconda3\\lib\\site-packages\\ipykernel_launcher.py:7: SettingWithCopyWarning: \n",
      "A value is trying to be set on a copy of a slice from a DataFrame\n",
      "\n",
      "See the caveats in the documentation: https://pandas.pydata.org/pandas-docs/stable/user_guide/indexing.html#returning-a-view-versus-a-copy\n",
      "  import sys\n"
     ]
    },
    {
     "data": {
      "text/plain": [
       "0    24622\n",
       "1     2453\n",
       "Name: top_publisher, dtype: int64"
      ]
     },
     "execution_count": 8,
     "metadata": {},
     "output_type": "execute_result"
    }
   ],
   "source": [
    "s[\"top_publisher\"] = 0\n",
    "values = dev_count[dev_count>49].index.tolist()\n",
    "\n",
    "for w in values:\n",
    "    for i in range(len(s)):\n",
    "        if w in s[\"publisher\"][i]:\n",
    "            s[\"top_publisher\"][i] = 1\n",
    "            \n",
    "s[\"top_publisher\"].value_counts()"
   ]
  },
  {
   "cell_type": "markdown",
   "metadata": {},
   "source": [
    "### Adjusting the Model"
   ]
  },
  {
   "cell_type": "code",
   "execution_count": 9,
   "metadata": {},
   "outputs": [],
   "source": [
    "def logistic_regression_model_full(platform, genre, category, developer, publisher):\n",
    "    # Assign values x\n",
    "    x = s[s[genre]==1]\n",
    "    x = x[x[category]==1]\n",
    "    x = x[x[platform]==1]\n",
    "    if developer == \"yes\":\n",
    "        x = x[x[\"top_developer\"]==1]\n",
    "    else:\n",
    "        x = x[x[\"top_developer\"]==0]\n",
    "    if publisher == \"yes\":\n",
    "        x = x[x[\"top_publisher\"]==1]\n",
    "    else:\n",
    "        x = x[x[\"top_publisher\"]==0]\n",
    "    x.drop([\"appid\", \"name\", \"release_date\",'english', \"developer\", \"publisher\", 'required_age', 'achievements', 'positive_ratings',\n",
    "            'negative_ratings', 'average_playtime', 'median_playtime', 'owners', \"price\"], axis=1, inplace=True)\n",
    "    platforms_copy = platforms.copy()\n",
    "    platforms_copy.remove(platform)\n",
    "    x.drop(platforms_copy, axis=1, inplace=True)\n",
    "    genres_copy = genres.copy()\n",
    "    genres_copy.remove(genre)\n",
    "    x.drop(genres_copy, axis=1, inplace=True)\n",
    "    cat_copy = categories.copy()\n",
    "    cat_copy.remove(category)\n",
    "    x.drop(cat_copy, axis=1, inplace=True)\n",
    "    # Assign values y\n",
    "    y = s[s[genre]==1]\n",
    "    y = y[y[category]==1]\n",
    "    y = y[y[platform]==1]\n",
    "    if developer == \"yes\":\n",
    "        y = y[y[\"top_developer\"]==1]\n",
    "    else:\n",
    "        y = y[y[\"top_developer\"]==0]\n",
    "    if publisher == \"yes\":\n",
    "        y = y[y[\"top_publisher\"]==1]\n",
    "    else:\n",
    "        y = y[y[\"top_publisher\"]==0]\n",
    "    y = y[\"owners\"]\n",
    "    # Split the data\n",
    "    X_train, X_test, y_train, y_test = train_test_split(x, y, test_size=0.2)\n",
    "    # Generate the model\n",
    "    model = LogisticRegression(max_iter=1000000).fit(X_train, y_train)\n",
    "    # Get score of the model\n",
    "    score = model.score(X_test,y_test)\n",
    "    # Predict using test data\n",
    "    y_pred = model.predict(X_test)\n",
    "    # Generate matrix\n",
    "    matrix = confusion_matrix(y_test, y_pred)\n",
    "    print(\"\\nThe expected amounts of sales for this game fall in the range\", list(sp.mode(y_pred)[0])[0])\n",
    "    print(\"With an accuracy score of\", round(score*100, 2), \"%\")\n",
    "    #Data Visualization\n",
    "    return #plt.plot(y_pred)"
   ]
  },
  {
   "cell_type": "code",
   "execution_count": 10,
   "metadata": {},
   "outputs": [],
   "source": [
    "def model_full():\n",
    "    print(\"This model will return the predicted number of sales based on key features like platform, genre, and categories.\\n\")\n",
    "    #n = input(\"How many features do you want to test?\")\n",
    "    print(\"\\nPlatforms:\", platforms, \"\\n\")\n",
    "    platform = input(\"Choose Platform:\\n\")\n",
    "    print(\"\\nGenres:\", genres, \"\\n\")\n",
    "    genre = input(\"Choose Genre:\\n\")\n",
    "    print(\"\\nCategories\", categories, \"\\n\")\n",
    "    category = input(\"Choose Category:\\n\")\n",
    "    developer = input(\"Has the developer developed 20 games or more?\")\n",
    "    publisher = input(\"Has the publisher published 50 games or more?\")\n",
    "    result = logistic_regression_model_full(platform, genre, category, developer, publisher)\n",
    "    return print(\"\\n\", result)"
   ]
  },
  {
   "cell_type": "code",
   "execution_count": 12,
   "metadata": {
    "scrolled": true
   },
   "outputs": [
    {
     "name": "stdout",
     "output_type": "stream",
     "text": [
      "This model will return the predicted number of sales based on key features like platform, genre, and categories.\n",
      "\n",
      "\n",
      "Platforms: ['linux', 'windows', 'mac'] \n",
      "\n",
      "Choose Platform:\n",
      "windows\n",
      "\n",
      "Genres: ['Indie', 'Sports', 'Simulation', 'Strategy', 'Early Access', 'Casual', 'RPG', 'Free to Play', 'Adventure', 'Action', 'Racing'] \n",
      "\n",
      "Choose Genre:\n",
      "Action\n",
      "\n",
      "Categories ['Includes level editor', 'MMO', 'VR Support', 'Single-player', 'Controller Support', 'Online', 'Multi-Player', 'co-op', 'Local'] \n",
      "\n",
      "Choose Category:\n",
      "Local\n",
      "Has the developer developed 20 games or more?yes\n",
      "Has the publisher published 50 games or more?yes\n",
      "\n",
      "The expected amounts of sales for this game fall in the range 0-20000\n",
      "With an accuracy score of 70.0 %\n",
      "\n",
      " None\n"
     ]
    }
   ],
   "source": [
    "model_full()"
   ]
  },
  {
   "cell_type": "markdown",
   "metadata": {},
   "source": [
    "**Observations:** I don't see a significant improvement but I can at least feel that my model is more complete. This is as far as I'm going to go improving this given model."
   ]
  },
  {
   "cell_type": "markdown",
   "metadata": {},
   "source": [
    "# Decision Tree"
   ]
  },
  {
   "cell_type": "code",
   "execution_count": null,
   "metadata": {},
   "outputs": [],
   "source": []
  },
  {
   "cell_type": "markdown",
   "metadata": {},
   "source": [
    "# Feature Scaling"
   ]
  },
  {
   "cell_type": "code",
   "execution_count": null,
   "metadata": {},
   "outputs": [],
   "source": []
  },
  {
   "cell_type": "code",
   "execution_count": 35,
   "metadata": {},
   "outputs": [
    {
     "ename": "NameError",
     "evalue": "name 'y_test' is not defined",
     "output_type": "error",
     "traceback": [
      "\u001b[1;31m---------------------------------------------------------------------------\u001b[0m",
      "\u001b[1;31mNameError\u001b[0m                                 Traceback (most recent call last)",
      "\u001b[1;32m<ipython-input-35-8975bfd832af>\u001b[0m in \u001b[0;36m<module>\u001b[1;34m\u001b[0m\n\u001b[0;32m      1\u001b[0m \u001b[1;32mfrom\u001b[0m \u001b[0msklearn\u001b[0m\u001b[1;33m.\u001b[0m\u001b[0mmetrics\u001b[0m \u001b[1;32mimport\u001b[0m \u001b[0mroc_auc_score\u001b[0m\u001b[1;33m\u001b[0m\u001b[1;33m\u001b[0m\u001b[0m\n\u001b[0;32m      2\u001b[0m \u001b[1;32mfrom\u001b[0m \u001b[0msklearn\u001b[0m\u001b[1;33m.\u001b[0m\u001b[0mmetrics\u001b[0m \u001b[1;32mimport\u001b[0m \u001b[0mroc_curve\u001b[0m\u001b[1;33m\u001b[0m\u001b[1;33m\u001b[0m\u001b[0m\n\u001b[1;32m----> 3\u001b[1;33m \u001b[0mlogit_roc_auc\u001b[0m \u001b[1;33m=\u001b[0m \u001b[0mroc_auc_score\u001b[0m\u001b[1;33m(\u001b[0m\u001b[0my_test\u001b[0m\u001b[1;33m,\u001b[0m \u001b[0mlog_model\u001b[0m\u001b[1;33m.\u001b[0m\u001b[0mpredict\u001b[0m\u001b[1;33m(\u001b[0m\u001b[0mX_test\u001b[0m\u001b[1;33m)\u001b[0m\u001b[1;33m)\u001b[0m\u001b[1;33m\u001b[0m\u001b[1;33m\u001b[0m\u001b[0m\n\u001b[0m\u001b[0;32m      4\u001b[0m \u001b[0mfpr\u001b[0m\u001b[1;33m,\u001b[0m \u001b[0mtpr\u001b[0m\u001b[1;33m,\u001b[0m \u001b[0mthresholds\u001b[0m \u001b[1;33m=\u001b[0m \u001b[0mroc_curve\u001b[0m\u001b[1;33m(\u001b[0m\u001b[0my_test\u001b[0m\u001b[1;33m,\u001b[0m \u001b[0mmodel\u001b[0m\u001b[1;33m.\u001b[0m\u001b[0mpredict_proba\u001b[0m\u001b[1;33m(\u001b[0m\u001b[0mX_test\u001b[0m\u001b[1;33m)\u001b[0m\u001b[1;33m[\u001b[0m\u001b[1;33m:\u001b[0m\u001b[1;33m,\u001b[0m\u001b[1;36m1\u001b[0m\u001b[1;33m]\u001b[0m\u001b[1;33m)\u001b[0m\u001b[1;33m\u001b[0m\u001b[1;33m\u001b[0m\u001b[0m\n\u001b[0;32m      5\u001b[0m \u001b[0mplt\u001b[0m\u001b[1;33m.\u001b[0m\u001b[0mfigure\u001b[0m\u001b[1;33m(\u001b[0m\u001b[1;33m)\u001b[0m\u001b[1;33m\u001b[0m\u001b[1;33m\u001b[0m\u001b[0m\n",
      "\u001b[1;31mNameError\u001b[0m: name 'y_test' is not defined"
     ]
    }
   ],
   "source": [
    "from sklearn.metrics import roc_auc_score\n",
    "from sklearn.metrics import roc_curve\n",
    "logit_roc_auc = roc_auc_score(y_test, log_model.predict(X_test))\n",
    "fpr, tpr, thresholds = roc_curve(y_test, model.predict_proba(X_test)[:,1])\n",
    "plt.figure()\n",
    "plt.plot(fpr, tpr, label='Logistic Regression (area = %0.2f)' % logit_roc_auc)\n",
    "plt.plot([0, 1], [0, 1],'r--')\n",
    "plt.xlim([0.0, 1.0])\n",
    "plt.ylim([0.0, 1.05])\n",
    "plt.xlabel('False Positive Rate')\n",
    "plt.ylabel('True Positive Rate')\n",
    "plt.title('Receiver operating characteristic')\n",
    "plt.legend(loc=\"lower right\")\n",
    "plt.savefig('Log_ROC')\n",
    "plt.show()"
   ]
  },
  {
   "cell_type": "code",
   "execution_count": 27,
   "metadata": {},
   "outputs": [
    {
     "ename": "AttributeError",
     "evalue": "'function' object has no attribute 'predict_proba'",
     "output_type": "error",
     "traceback": [
      "\u001b[1;31m---------------------------------------------------------------------------\u001b[0m",
      "\u001b[1;31mAttributeError\u001b[0m                            Traceback (most recent call last)",
      "\u001b[1;32m<ipython-input-27-ccf57aba5d85>\u001b[0m in \u001b[0;36m<module>\u001b[1;34m\u001b[0m\n\u001b[0;32m      1\u001b[0m \u001b[1;32mfrom\u001b[0m \u001b[0msklearn\u001b[0m \u001b[1;32mimport\u001b[0m \u001b[0mmetrics\u001b[0m\u001b[1;33m\u001b[0m\u001b[1;33m\u001b[0m\u001b[0m\n\u001b[0;32m      2\u001b[0m \u001b[1;33m\u001b[0m\u001b[0m\n\u001b[1;32m----> 3\u001b[1;33m \u001b[0my_pred_proba\u001b[0m \u001b[1;33m=\u001b[0m \u001b[0mmodel\u001b[0m\u001b[1;33m.\u001b[0m\u001b[0mpredict_proba\u001b[0m\u001b[1;33m(\u001b[0m\u001b[0mX_test\u001b[0m\u001b[1;33m)\u001b[0m\u001b[1;33m[\u001b[0m\u001b[1;33m:\u001b[0m\u001b[1;33m:\u001b[0m\u001b[1;33m,\u001b[0m\u001b[1;36m1\u001b[0m\u001b[1;33m]\u001b[0m\u001b[1;33m\u001b[0m\u001b[1;33m\u001b[0m\u001b[0m\n\u001b[0m\u001b[0;32m      4\u001b[0m \u001b[0mfpr\u001b[0m\u001b[1;33m,\u001b[0m \u001b[0mtpr\u001b[0m\u001b[1;33m,\u001b[0m \u001b[0m_\u001b[0m \u001b[1;33m=\u001b[0m \u001b[0mmetrics\u001b[0m\u001b[1;33m.\u001b[0m\u001b[0mroc_curve\u001b[0m\u001b[1;33m(\u001b[0m\u001b[0my_test\u001b[0m\u001b[1;33m,\u001b[0m  \u001b[0my_pred_proba\u001b[0m\u001b[1;33m)\u001b[0m\u001b[1;33m\u001b[0m\u001b[1;33m\u001b[0m\u001b[0m\n\u001b[0;32m      5\u001b[0m \u001b[0mauc_lr\u001b[0m \u001b[1;33m=\u001b[0m \u001b[0mmetrics\u001b[0m\u001b[1;33m.\u001b[0m\u001b[0mroc_auc_score\u001b[0m\u001b[1;33m(\u001b[0m\u001b[0my_test\u001b[0m\u001b[1;33m,\u001b[0m \u001b[0my_pred_proba\u001b[0m\u001b[1;33m)\u001b[0m\u001b[1;33m\u001b[0m\u001b[1;33m\u001b[0m\u001b[0m\n",
      "\u001b[1;31mAttributeError\u001b[0m: 'function' object has no attribute 'predict_proba'"
     ]
    }
   ],
   "source": [
    "from sklearn import metrics\n",
    " \n",
    "y_pred_proba = model.predict_proba(X_test)[::,1]\n",
    "fpr, tpr, _ = metrics.roc_curve(y_test,  y_pred_proba)\n",
    "auc_lr = metrics.roc_auc_score(y_test, y_pred_proba)\n",
    " \n",
    "plt.plot(fpr,tpr)"
   ]
  },
  {
   "cell_type": "code",
   "execution_count": 54,
   "metadata": {},
   "outputs": [
    {
     "data": {
      "text/plain": [
       "[<matplotlib.lines.Line2D at 0x227f87176c8>]"
      ]
     },
     "execution_count": 54,
     "metadata": {},
     "output_type": "execute_result"
    },
    {
     "data": {
      "image/png": "[encoded data removed]",
      "text/plain": [
       "<Figure size 432x288 with 1 Axes>"
      ]
     },
     "metadata": {
      "needs_background": "light"
     },
     "output_type": "display_data"
    }
   ],
   "source": [
    "plt.plot(y_pred)"
   ]
  }
 ],
 "metadata": {
  "kernelspec": {
   "display_name": "Python 3",
   "language": "python",
   "name": "python3"
  },
  "language_info": {
   "codemirror_mode": {
    "name": "ipython",
    "version": 3
   },
   "file_extension": ".py",
   "mimetype": "text/x-python",
   "name": "python",
   "nbconvert_exporter": "python",
   "pygments_lexer": "ipython3",
   "version": "3.7.6"
  }
 },
 "nbformat": 4,
 "nbformat_minor": 4
}

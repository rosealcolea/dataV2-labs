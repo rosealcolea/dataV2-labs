{
 "cells": [
  {
   "cell_type": "markdown",
   "metadata": {},
   "source": [
    "![logo](./images/OPTIMISE. Logo (green).png)"
   ]
  },
  {
   "cell_type": "markdown",
   "metadata": {},
   "source": [
    "# Optimise.\n",
    "BUSINESS INTELLIGENCE SOLUTIONS"
   ]
  },
  {
   "cell_type": "markdown",
   "metadata": {},
   "source": [
    "Optimise. uses data analysis to provide businesses a vision of their present operations and provides them with actionable advise based on meticulous analysis that produces tangible results.   \n",
    "\n",
    "The analysis focuses on these main areas:     \n",
    "- Product Analysis\n",
    "    - Performance\n",
    "    - Classification\n",
    "    - Pricing\n",
    "- Customer Analysis\n",
    "    - Customer Profile\n",
    "    - Customer Trends\n",
    "    - Customer Lifetime Value\n",
    "- Sales Analysis\n",
    "    - Date/Time Overview\n",
    "    - Discount Effeciency\n",
    "    - Projections\n",
    "    \n",
    "The deliverables to be expected are a comprehensive report with useful visualizations, combined with specific recommendations based on the results obtained from the analysis."
   ]
  },
  {
   "cell_type": "markdown",
   "metadata": {},
   "source": [
    "## Steam Business Analysis\n",
    "In this project we are going to be executing the analysis on Steam.    \n",
    "\n",
    "Steam is a video game digital distribution service by Valve. The Steam platform is the largest digital distribution platform for PC gaming, holding around 75% of the market space in 2013. By 2017, users purchasing games through Steam totaled roughly US$4.3 billion, representing at least 18% of global PC game sales. By 2019, the service had over 34,000 games with over 95 million monthly active users. "
   ]
  },
  {
   "cell_type": "markdown",
   "metadata": {},
   "source": [
    "The data for the analysis is going to be obtaining in two ways:\n",
    "1. Steam Store Games - https://www.kaggle.com/nikdavis/steam-store-games\n",
    "2. Steam Api - https://steamcommunity.com/dev"
   ]
  },
  {
   "cell_type": "code",
   "execution_count": null,
   "metadata": {},
   "outputs": [],
   "source": []
  }
 ],
 "metadata": {
  "kernelspec": {
   "display_name": "Python 3",
   "language": "python",
   "name": "python3"
  },
  "language_info": {
   "codemirror_mode": {
    "name": "ipython",
    "version": 3
   },
   "file_extension": ".py",
   "mimetype": "text/x-python",
   "name": "python",
   "nbconvert_exporter": "python",
   "pygments_lexer": "ipython3",
   "version": "3.7.6"
  }
 },
 "nbformat": 4,
 "nbformat_minor": 4
}

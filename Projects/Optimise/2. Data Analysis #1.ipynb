{
 "cells": [
  {
   "cell_type": "markdown",
   "metadata": {},
   "source": [
    "![logo](./images/OPTIMISE.%20Logo%20(green).png)"
   ]
  },
  {
   "cell_type": "markdown",
   "metadata": {},
   "source": [
    "This is Notebook 2 out of 4 of this project."
   ]
  },
  {
   "cell_type": "markdown",
   "metadata": {},
   "source": [
    "# Optimise.\n",
    "BUSINESS INTELLIGENCE SOLUTIONS"
   ]
  },
  {
   "cell_type": "markdown",
   "metadata": {},
   "source": [
    "Optimise. uses data analysis to provide businesses a vision of their present operations and provides them with actionable advise based on meticulous analysis that produces tangible results.   \n",
    "\n",
    "The analysis focuses on these main areas:     \n",
    "- Product Analysis\n",
    "    - Performance\n",
    "    - Classification\n",
    "    - Pricing\n",
    "- Customer Analysis\n",
    "    - Customer Profile\n",
    "    - Customer Trends\n",
    "    - Customer Lifetime Value\n",
    "- Sales Analysis\n",
    "    - Date/Time Overview\n",
    "    - Discount Effeciency\n",
    "    - Projections\n",
    "    \n",
    "The deliverables to be expected are a comprehensive report with useful visualizations, combined with specific recommendations based on the results obtained from the analysis."
   ]
  },
  {
   "cell_type": "markdown",
   "metadata": {},
   "source": [
    "# Data Analysis\n",
    "In this part of the prject we will be working with the cleaned data set we created in part 1. It will focus on undertaking a full analysis of said data and extract relevant statistics, illustrative visualizations, and concise tables."
   ]
  },
  {
   "cell_type": "code",
   "execution_count": 120,
   "metadata": {},
   "outputs": [],
   "source": [
    "import pandas as pd\n",
    "import numpy as np\n",
    "import seaborn as sns\n",
    "import matplotlib.pyplot as plt"
   ]
  },
  {
   "cell_type": "markdown",
   "metadata": {},
   "source": [
    "I will be importing these 3 separate files:\n",
    "1. `steam_clean` is a cleaner version fo the original dataset \n",
    "2. `steam_cols_clean` is `steam_clean` but the categorical data has been separated in new columns, except tags.\n",
    "3. `steam_tags_clean` is `steam_cols_clean` but the categorical data has been separated in new columns, including tags."
   ]
  },
  {
   "cell_type": "code",
   "execution_count": 121,
   "metadata": {},
   "outputs": [],
   "source": [
    "s = pd.read_csv(\"data/steam_clean.csv\")\n",
    "sc = pd.read_csv(\"data/steam_cols_clean.csv\")\n",
    "st = pd.read_csv('data/steam_tags_clean.csv')"
   ]
  },
  {
   "cell_type": "code",
   "execution_count": 143,
   "metadata": {},
   "outputs": [
    {
     "data": {
      "text/html": [
       "<div>\n",
       "<style scoped>\n",
       "    .dataframe tbody tr th:only-of-type {\n",
       "        vertical-align: middle;\n",
       "    }\n",
       "\n",
       "    .dataframe tbody tr th {\n",
       "        vertical-align: top;\n",
       "    }\n",
       "\n",
       "    .dataframe thead th {\n",
       "        text-align: right;\n",
       "    }\n",
       "</style>\n",
       "<table border=\"1\" class=\"dataframe\">\n",
       "  <thead>\n",
       "    <tr style=\"text-align: right;\">\n",
       "      <th></th>\n",
       "      <th>appid</th>\n",
       "      <th>name</th>\n",
       "      <th>release_date</th>\n",
       "      <th>english</th>\n",
       "      <th>developer</th>\n",
       "      <th>publisher</th>\n",
       "      <th>platforms</th>\n",
       "      <th>required_age</th>\n",
       "      <th>categories</th>\n",
       "      <th>genres</th>\n",
       "      <th>steamspy_tags</th>\n",
       "      <th>achievements</th>\n",
       "      <th>positive_ratings</th>\n",
       "      <th>negative_ratings</th>\n",
       "      <th>average_playtime</th>\n",
       "      <th>median_playtime</th>\n",
       "      <th>owners</th>\n",
       "      <th>price</th>\n",
       "    </tr>\n",
       "  </thead>\n",
       "  <tbody>\n",
       "    <tr>\n",
       "      <th>0</th>\n",
       "      <td>10</td>\n",
       "      <td>Counter-Strike</td>\n",
       "      <td>2000-11-01</td>\n",
       "      <td>1</td>\n",
       "      <td>Valve</td>\n",
       "      <td>Valve</td>\n",
       "      <td>windows;mac;linux</td>\n",
       "      <td>0</td>\n",
       "      <td>Multi-player;Online Multi-Player;Local Multi-P...</td>\n",
       "      <td>Action</td>\n",
       "      <td>Action;FPS;Multiplayer</td>\n",
       "      <td>0</td>\n",
       "      <td>124534</td>\n",
       "      <td>3339</td>\n",
       "      <td>17612</td>\n",
       "      <td>317</td>\n",
       "      <td>15000000</td>\n",
       "      <td>7.19</td>\n",
       "    </tr>\n",
       "    <tr>\n",
       "      <th>1</th>\n",
       "      <td>20</td>\n",
       "      <td>Team Fortress Classic</td>\n",
       "      <td>1999-04-01</td>\n",
       "      <td>1</td>\n",
       "      <td>Valve</td>\n",
       "      <td>Valve</td>\n",
       "      <td>windows;mac;linux</td>\n",
       "      <td>0</td>\n",
       "      <td>Multi-player;Online Multi-Player;Local Multi-P...</td>\n",
       "      <td>Action</td>\n",
       "      <td>Action;FPS;Multiplayer</td>\n",
       "      <td>0</td>\n",
       "      <td>3318</td>\n",
       "      <td>633</td>\n",
       "      <td>277</td>\n",
       "      <td>62</td>\n",
       "      <td>7500000</td>\n",
       "      <td>3.99</td>\n",
       "    </tr>\n",
       "    <tr>\n",
       "      <th>2</th>\n",
       "      <td>30</td>\n",
       "      <td>Day of Defeat</td>\n",
       "      <td>2003-05-01</td>\n",
       "      <td>1</td>\n",
       "      <td>Valve</td>\n",
       "      <td>Valve</td>\n",
       "      <td>windows;mac;linux</td>\n",
       "      <td>0</td>\n",
       "      <td>Multi-player;Valve Anti-Cheat enabled</td>\n",
       "      <td>Action</td>\n",
       "      <td>FPS;World War II;Multiplayer</td>\n",
       "      <td>0</td>\n",
       "      <td>3416</td>\n",
       "      <td>398</td>\n",
       "      <td>187</td>\n",
       "      <td>34</td>\n",
       "      <td>7500000</td>\n",
       "      <td>3.99</td>\n",
       "    </tr>\n",
       "    <tr>\n",
       "      <th>3</th>\n",
       "      <td>40</td>\n",
       "      <td>Deathmatch Classic</td>\n",
       "      <td>2001-06-01</td>\n",
       "      <td>1</td>\n",
       "      <td>Valve</td>\n",
       "      <td>Valve</td>\n",
       "      <td>windows;mac;linux</td>\n",
       "      <td>0</td>\n",
       "      <td>Multi-player;Online Multi-Player;Local Multi-P...</td>\n",
       "      <td>Action</td>\n",
       "      <td>Action;FPS;Multiplayer</td>\n",
       "      <td>0</td>\n",
       "      <td>1273</td>\n",
       "      <td>267</td>\n",
       "      <td>258</td>\n",
       "      <td>184</td>\n",
       "      <td>7500000</td>\n",
       "      <td>3.99</td>\n",
       "    </tr>\n",
       "    <tr>\n",
       "      <th>4</th>\n",
       "      <td>50</td>\n",
       "      <td>Half-Life: Opposing Force</td>\n",
       "      <td>1999-11-01</td>\n",
       "      <td>1</td>\n",
       "      <td>Gearbox Software</td>\n",
       "      <td>Valve</td>\n",
       "      <td>windows;mac;linux</td>\n",
       "      <td>0</td>\n",
       "      <td>Single-player;Multi-player;Valve Anti-Cheat en...</td>\n",
       "      <td>Action</td>\n",
       "      <td>FPS;Action;Sci-fi</td>\n",
       "      <td>0</td>\n",
       "      <td>5250</td>\n",
       "      <td>288</td>\n",
       "      <td>624</td>\n",
       "      <td>415</td>\n",
       "      <td>7500000</td>\n",
       "      <td>3.99</td>\n",
       "    </tr>\n",
       "  </tbody>\n",
       "</table>\n",
       "</div>"
      ],
      "text/plain": [
       "   appid                       name release_date  english         developer  \\\n",
       "0     10             Counter-Strike   2000-11-01        1             Valve   \n",
       "1     20      Team Fortress Classic   1999-04-01        1             Valve   \n",
       "2     30              Day of Defeat   2003-05-01        1             Valve   \n",
       "3     40         Deathmatch Classic   2001-06-01        1             Valve   \n",
       "4     50  Half-Life: Opposing Force   1999-11-01        1  Gearbox Software   \n",
       "\n",
       "  publisher          platforms  required_age  \\\n",
       "0     Valve  windows;mac;linux             0   \n",
       "1     Valve  windows;mac;linux             0   \n",
       "2     Valve  windows;mac;linux             0   \n",
       "3     Valve  windows;mac;linux             0   \n",
       "4     Valve  windows;mac;linux             0   \n",
       "\n",
       "                                          categories  genres  \\\n",
       "0  Multi-player;Online Multi-Player;Local Multi-P...  Action   \n",
       "1  Multi-player;Online Multi-Player;Local Multi-P...  Action   \n",
       "2              Multi-player;Valve Anti-Cheat enabled  Action   \n",
       "3  Multi-player;Online Multi-Player;Local Multi-P...  Action   \n",
       "4  Single-player;Multi-player;Valve Anti-Cheat en...  Action   \n",
       "\n",
       "                  steamspy_tags  achievements  positive_ratings  \\\n",
       "0        Action;FPS;Multiplayer             0            124534   \n",
       "1        Action;FPS;Multiplayer             0              3318   \n",
       "2  FPS;World War II;Multiplayer             0              3416   \n",
       "3        Action;FPS;Multiplayer             0              1273   \n",
       "4             FPS;Action;Sci-fi             0              5250   \n",
       "\n",
       "   negative_ratings  average_playtime  median_playtime    owners  price  \n",
       "0              3339             17612              317  15000000   7.19  \n",
       "1               633               277               62   7500000   3.99  \n",
       "2               398               187               34   7500000   3.99  \n",
       "3               267               258              184   7500000   3.99  \n",
       "4               288               624              415   7500000   3.99  "
      ]
     },
     "execution_count": 143,
     "metadata": {},
     "output_type": "execute_result"
    }
   ],
   "source": [
    "s.head()"
   ]
  },
  {
   "cell_type": "code",
   "execution_count": 122,
   "metadata": {},
   "outputs": [],
   "source": [
    "# grouping boolean columns by type\n",
    "\n",
    "platforms = ['linux', 'windows', 'mac']\n",
    "genres = ['Indie', 'Sports', 'Simulation', 'Strategy', 'Early Access', 'Casual',\n",
    "       'RPG', 'Free to Play', 'Adventure', 'Action', 'Racing']\n",
    "categories = ['Includes level editor', 'MMO', 'VR Support', 'Single-player',\n",
    "       'Controller Support', 'Online', 'Multi-Player', 'co-op', 'Local']\n",
    "tags = ['Nudity', 'Retro', 'Violent', 'Visual Novel', 'RPGMaker', 'Fighting',\n",
    "       'FPS', 'Female Protagonist', 'Board Game', 'Space', 'World War II',\n",
    "       'Platformer', 'Anime', 'Great Soundtrack', 'Massively Multiplayer',\n",
    "       'Open World', 'Sexual Content', 'Arcade', 'Gore', 'Pixel Graphics',\n",
    "       'Turn-Based', 'Music', 'Fantasy', 'Point & Click', 'Rogue-like',\n",
    "       'World War I', \"Shoot 'Em Up\", 'RTS', 'Story Rich', 'Hidden Object',\n",
    "       'Turn-Based Strategy', 'Survival', 'Match 3', 'Horror', 'Puzzle',\n",
    "       'Sci-fi', 'Tower Defense', 'VR', 'Management', '2D', 'Card Game',\n",
    "       'Multiplayer', 'Utilities', 'Shooter', 'War', 'Co-op', 'Zombies',\n",
    "       'Classic', 'Singleplayer']"
   ]
  },
  {
   "cell_type": "markdown",
   "metadata": {},
   "source": [
    "# General Overview"
   ]
  },
  {
   "cell_type": "markdown",
   "metadata": {},
   "source": [
    "### Descriptive Statistics"
   ]
  },
  {
   "cell_type": "code",
   "execution_count": 123,
   "metadata": {},
   "outputs": [
    {
     "data": {
      "text/html": [
       "<div>\n",
       "<style scoped>\n",
       "    .dataframe tbody tr th:only-of-type {\n",
       "        vertical-align: middle;\n",
       "    }\n",
       "\n",
       "    .dataframe tbody tr th {\n",
       "        vertical-align: top;\n",
       "    }\n",
       "\n",
       "    .dataframe thead th {\n",
       "        text-align: right;\n",
       "    }\n",
       "</style>\n",
       "<table border=\"1\" class=\"dataframe\">\n",
       "  <thead>\n",
       "    <tr style=\"text-align: right;\">\n",
       "      <th></th>\n",
       "      <th>appid</th>\n",
       "      <th>english</th>\n",
       "      <th>required_age</th>\n",
       "      <th>achievements</th>\n",
       "      <th>positive_ratings</th>\n",
       "      <th>negative_ratings</th>\n",
       "      <th>average_playtime</th>\n",
       "      <th>median_playtime</th>\n",
       "      <th>owners</th>\n",
       "      <th>price</th>\n",
       "    </tr>\n",
       "  </thead>\n",
       "  <tbody>\n",
       "    <tr>\n",
       "      <th>count</th>\n",
       "      <td>2.707500e+04</td>\n",
       "      <td>27075.000000</td>\n",
       "      <td>27075.000000</td>\n",
       "      <td>27075.000000</td>\n",
       "      <td>2.707500e+04</td>\n",
       "      <td>27075.000000</td>\n",
       "      <td>27075.000000</td>\n",
       "      <td>27075.00000</td>\n",
       "      <td>2.707500e+04</td>\n",
       "      <td>27075.000000</td>\n",
       "    </tr>\n",
       "    <tr>\n",
       "      <th>mean</th>\n",
       "      <td>5.962035e+05</td>\n",
       "      <td>0.981127</td>\n",
       "      <td>0.354903</td>\n",
       "      <td>45.248864</td>\n",
       "      <td>1.000559e+03</td>\n",
       "      <td>211.027147</td>\n",
       "      <td>149.804949</td>\n",
       "      <td>146.05603</td>\n",
       "      <td>1.340905e+05</td>\n",
       "      <td>6.078193</td>\n",
       "    </tr>\n",
       "    <tr>\n",
       "      <th>std</th>\n",
       "      <td>2.508942e+05</td>\n",
       "      <td>0.136081</td>\n",
       "      <td>2.406044</td>\n",
       "      <td>352.670281</td>\n",
       "      <td>1.898872e+04</td>\n",
       "      <td>4284.938531</td>\n",
       "      <td>1827.038141</td>\n",
       "      <td>2353.88008</td>\n",
       "      <td>1.328089e+06</td>\n",
       "      <td>7.874922</td>\n",
       "    </tr>\n",
       "    <tr>\n",
       "      <th>min</th>\n",
       "      <td>1.000000e+01</td>\n",
       "      <td>0.000000</td>\n",
       "      <td>0.000000</td>\n",
       "      <td>0.000000</td>\n",
       "      <td>0.000000e+00</td>\n",
       "      <td>0.000000</td>\n",
       "      <td>0.000000</td>\n",
       "      <td>0.00000</td>\n",
       "      <td>1.000000e+04</td>\n",
       "      <td>0.000000</td>\n",
       "    </tr>\n",
       "    <tr>\n",
       "      <th>25%</th>\n",
       "      <td>4.012300e+05</td>\n",
       "      <td>1.000000</td>\n",
       "      <td>0.000000</td>\n",
       "      <td>0.000000</td>\n",
       "      <td>6.000000e+00</td>\n",
       "      <td>2.000000</td>\n",
       "      <td>0.000000</td>\n",
       "      <td>0.00000</td>\n",
       "      <td>1.000000e+04</td>\n",
       "      <td>1.690000</td>\n",
       "    </tr>\n",
       "    <tr>\n",
       "      <th>50%</th>\n",
       "      <td>5.990700e+05</td>\n",
       "      <td>1.000000</td>\n",
       "      <td>0.000000</td>\n",
       "      <td>7.000000</td>\n",
       "      <td>2.400000e+01</td>\n",
       "      <td>9.000000</td>\n",
       "      <td>0.000000</td>\n",
       "      <td>0.00000</td>\n",
       "      <td>1.000000e+04</td>\n",
       "      <td>3.990000</td>\n",
       "    </tr>\n",
       "    <tr>\n",
       "      <th>75%</th>\n",
       "      <td>7.987600e+05</td>\n",
       "      <td>1.000000</td>\n",
       "      <td>0.000000</td>\n",
       "      <td>23.000000</td>\n",
       "      <td>1.260000e+02</td>\n",
       "      <td>42.000000</td>\n",
       "      <td>0.000000</td>\n",
       "      <td>0.00000</td>\n",
       "      <td>3.500000e+04</td>\n",
       "      <td>7.190000</td>\n",
       "    </tr>\n",
       "    <tr>\n",
       "      <th>max</th>\n",
       "      <td>1.069460e+06</td>\n",
       "      <td>1.000000</td>\n",
       "      <td>18.000000</td>\n",
       "      <td>9821.000000</td>\n",
       "      <td>2.644404e+06</td>\n",
       "      <td>487076.000000</td>\n",
       "      <td>190625.000000</td>\n",
       "      <td>190625.00000</td>\n",
       "      <td>1.500000e+08</td>\n",
       "      <td>421.990000</td>\n",
       "    </tr>\n",
       "  </tbody>\n",
       "</table>\n",
       "</div>"
      ],
      "text/plain": [
       "              appid       english  required_age  achievements  \\\n",
       "count  2.707500e+04  27075.000000  27075.000000  27075.000000   \n",
       "mean   5.962035e+05      0.981127      0.354903     45.248864   \n",
       "std    2.508942e+05      0.136081      2.406044    352.670281   \n",
       "min    1.000000e+01      0.000000      0.000000      0.000000   \n",
       "25%    4.012300e+05      1.000000      0.000000      0.000000   \n",
       "50%    5.990700e+05      1.000000      0.000000      7.000000   \n",
       "75%    7.987600e+05      1.000000      0.000000     23.000000   \n",
       "max    1.069460e+06      1.000000     18.000000   9821.000000   \n",
       "\n",
       "       positive_ratings  negative_ratings  average_playtime  median_playtime  \\\n",
       "count      2.707500e+04      27075.000000      27075.000000      27075.00000   \n",
       "mean       1.000559e+03        211.027147        149.804949        146.05603   \n",
       "std        1.898872e+04       4284.938531       1827.038141       2353.88008   \n",
       "min        0.000000e+00          0.000000          0.000000          0.00000   \n",
       "25%        6.000000e+00          2.000000          0.000000          0.00000   \n",
       "50%        2.400000e+01          9.000000          0.000000          0.00000   \n",
       "75%        1.260000e+02         42.000000          0.000000          0.00000   \n",
       "max        2.644404e+06     487076.000000     190625.000000     190625.00000   \n",
       "\n",
       "             owners         price  \n",
       "count  2.707500e+04  27075.000000  \n",
       "mean   1.340905e+05      6.078193  \n",
       "std    1.328089e+06      7.874922  \n",
       "min    1.000000e+04      0.000000  \n",
       "25%    1.000000e+04      1.690000  \n",
       "50%    1.000000e+04      3.990000  \n",
       "75%    3.500000e+04      7.190000  \n",
       "max    1.500000e+08    421.990000  "
      ]
     },
     "execution_count": 123,
     "metadata": {},
     "output_type": "execute_result"
    }
   ],
   "source": [
    "s.describe()"
   ]
  },
  {
   "cell_type": "code",
   "execution_count": 124,
   "metadata": {},
   "outputs": [
    {
     "name": "stdout",
     "output_type": "stream",
     "text": [
      "\n"
     ]
    }
   ],
   "source": [
    "print()"
   ]
  },
  {
   "cell_type": "code",
   "execution_count": 25,
   "metadata": {},
   "outputs": [
    {
     "data": {
      "text/plain": [
       "<seaborn.axisgrid.PairGrid at 0x224b4d9cd48>"
      ]
     },
     "execution_count": 25,
     "metadata": {},
     "output_type": "execute_result"
    },
    {
     "data": {
      "image/png": "[encoded data removed]",
      "text/plain": [
       "<Figure size 900x900 with 30 Axes>"
      ]
     },
     "metadata": {},
     "output_type": "display_data"
    }
   ],
   "source": [
    "sns.pairplot(s[['positive_ratings','negative_ratings','average_playtime','median_playtime', 'price']])"
   ]
  },
  {
   "cell_type": "markdown",
   "metadata": {},
   "source": [
    "### Top Performers"
   ]
  },
  {
   "cell_type": "code",
   "execution_count": 125,
   "metadata": {},
   "outputs": [
    {
     "data": {
      "text/plain": [
       "Index(['appid', 'name', 'release_date', 'english', 'developer', 'publisher',\n",
       "       'platforms', 'required_age', 'categories', 'genres', 'steamspy_tags',\n",
       "       'achievements', 'positive_ratings', 'negative_ratings',\n",
       "       'average_playtime', 'median_playtime', 'owners', 'price'],\n",
       "      dtype='object')"
      ]
     },
     "execution_count": 125,
     "metadata": {},
     "output_type": "execute_result"
    }
   ],
   "source": [
    "s.columns"
   ]
  },
  {
   "cell_type": "markdown",
   "metadata": {},
   "source": [
    "#### Platforms"
   ]
  },
  {
   "cell_type": "code",
   "execution_count": 130,
   "metadata": {},
   "outputs": [
    {
     "data": {
      "text/html": [
       "<div>\n",
       "<style scoped>\n",
       "    .dataframe tbody tr th:only-of-type {\n",
       "        vertical-align: middle;\n",
       "    }\n",
       "\n",
       "    .dataframe tbody tr th {\n",
       "        vertical-align: top;\n",
       "    }\n",
       "\n",
       "    .dataframe thead th {\n",
       "        text-align: right;\n",
       "    }\n",
       "</style>\n",
       "<table border=\"1\" class=\"dataframe\">\n",
       "  <thead>\n",
       "    <tr style=\"text-align: right;\">\n",
       "      <th></th>\n",
       "      <th>platform</th>\n",
       "      <th>count</th>\n",
       "      <th>count %</th>\n",
       "      <th>purchased</th>\n",
       "      <th>purchased %</th>\n",
       "    </tr>\n",
       "  </thead>\n",
       "  <tbody>\n",
       "    <tr>\n",
       "      <th>1</th>\n",
       "      <td>windows</td>\n",
       "      <td>27070</td>\n",
       "      <td>99.981533</td>\n",
       "      <td>3630385000</td>\n",
       "      <td>99.996832</td>\n",
       "    </tr>\n",
       "    <tr>\n",
       "      <th>2</th>\n",
       "      <td>mac</td>\n",
       "      <td>8066</td>\n",
       "      <td>29.791320</td>\n",
       "      <td>1765540000</td>\n",
       "      <td>48.630767</td>\n",
       "    </tr>\n",
       "    <tr>\n",
       "      <th>0</th>\n",
       "      <td>linux</td>\n",
       "      <td>5235</td>\n",
       "      <td>19.335180</td>\n",
       "      <td>1425100000</td>\n",
       "      <td>39.253546</td>\n",
       "    </tr>\n",
       "  </tbody>\n",
       "</table>\n",
       "</div>"
      ],
      "text/plain": [
       "  platform  count    count %   purchased  purchased %\n",
       "1  windows  27070  99.981533  3630385000    99.996832\n",
       "2      mac   8066  29.791320  1765540000    48.630767\n",
       "0    linux   5235  19.335180  1425100000    39.253546"
      ]
     },
     "execution_count": 130,
     "metadata": {},
     "output_type": "execute_result"
    }
   ],
   "source": [
    "df_platforms = {\"platform\" : platforms,\n",
    "                \"count\" : [sum(sc[p]) for p in platforms],\n",
    "                \"count %\": [sum(sc[p])/len(sc)*100 for p in platforms],\n",
    "                \"purchased\": [sc[sc[p] == 1][\"owners\"].sum() for p in platforms],\n",
    "                \"purchased %\": [sc[sc[p] == 1][\"owners\"].sum()/sum(sc[\"owners\"])*100 for p in platforms]}\n",
    "\n",
    "df_platforms = pd.DataFrame(df_platforms).sort_values(\"count\", ascending=False)\n",
    "df_platforms"
   ]
  },
  {
   "cell_type": "code",
   "execution_count": 76,
   "metadata": {
    "scrolled": true
   },
   "outputs": [
    {
     "data": {
      "image/png": "[encoded data removed]",
      "text/plain": [
       "<Figure size 432x288 with 1 Axes>"
      ]
     },
     "metadata": {},
     "output_type": "display_data"
    }
   ],
   "source": [
    "sns.set(style=\"white\", context=\"talk\")\n",
    "pal = sns.cubehelix_palette(8, start=2, rot=0, dark=0, light=.95, reverse=True)\n",
    "\n",
    "# Generate barplot\n",
    "sns.barplot(x=\"%\", y=\"platform\", palette=\"rocket\", data=df_platforms, orient=\"h\").set_title(\"Top Platforms\")\n",
    "#plt.savefig('./visuals/Top Platforms.png')"
   ]
  },
  {
   "cell_type": "code",
   "execution_count": 142,
   "metadata": {},
   "outputs": [
    {
     "data": {
      "image/png": "[encoded data removed]",
      "text/plain": [
       "<Figure size 432x288 with 1 Axes>"
      ]
     },
     "metadata": {},
     "output_type": "display_data"
    }
   ],
   "source": [
    "plt.bar(df_platforms[\"platform\"], df_platforms[\"count %\"])\n",
    "plt.bar(df_platforms[\"platform\"], df_platforms[\"purchased %\"])\n",
    "plt.show()"
   ]
  },
  {
   "cell_type": "code",
   "execution_count": 135,
   "metadata": {},
   "outputs": [
    {
     "ename": "AttributeError",
     "evalue": "module 'seaborn' has no attribute 'show'",
     "output_type": "error",
     "traceback": [
      "\u001b[1;31m---------------------------------------------------------------------------\u001b[0m",
      "\u001b[1;31mAttributeError\u001b[0m                            Traceback (most recent call last)",
      "\u001b[1;32m<ipython-input-135-dff3059e6a5e>\u001b[0m in \u001b[0;36m<module>\u001b[1;34m\u001b[0m\n\u001b[0;32m      1\u001b[0m \u001b[0msns\u001b[0m\u001b[1;33m.\u001b[0m\u001b[0mbarplot\u001b[0m\u001b[1;33m(\u001b[0m\u001b[0mx\u001b[0m\u001b[1;33m=\u001b[0m\u001b[1;34m\"count %\"\u001b[0m\u001b[1;33m,\u001b[0m \u001b[0my\u001b[0m\u001b[1;33m=\u001b[0m\u001b[1;34m\"platform\"\u001b[0m\u001b[1;33m,\u001b[0m \u001b[0mpalette\u001b[0m\u001b[1;33m=\u001b[0m\u001b[1;34m\"rocket\"\u001b[0m\u001b[1;33m,\u001b[0m \u001b[0mdata\u001b[0m\u001b[1;33m=\u001b[0m\u001b[0mdf_platforms\u001b[0m\u001b[1;33m,\u001b[0m \u001b[0morient\u001b[0m\u001b[1;33m=\u001b[0m\u001b[1;34m\"h\"\u001b[0m\u001b[1;33m)\u001b[0m\u001b[1;33m\u001b[0m\u001b[1;33m\u001b[0m\u001b[0m\n\u001b[0;32m      2\u001b[0m \u001b[0msns\u001b[0m\u001b[1;33m.\u001b[0m\u001b[0mbarplot\u001b[0m\u001b[1;33m(\u001b[0m\u001b[0mx\u001b[0m\u001b[1;33m=\u001b[0m\u001b[1;34m\"purchased %\"\u001b[0m\u001b[1;33m,\u001b[0m \u001b[0my\u001b[0m\u001b[1;33m=\u001b[0m\u001b[1;34m\"platform\"\u001b[0m\u001b[1;33m,\u001b[0m \u001b[0mpalette\u001b[0m\u001b[1;33m=\u001b[0m\u001b[1;34m\"rocket\"\u001b[0m\u001b[1;33m,\u001b[0m \u001b[0mdata\u001b[0m\u001b[1;33m=\u001b[0m\u001b[0mdf_platforms\u001b[0m\u001b[1;33m,\u001b[0m \u001b[0morient\u001b[0m\u001b[1;33m=\u001b[0m\u001b[1;34m\"h\"\u001b[0m\u001b[1;33m)\u001b[0m\u001b[1;33m\u001b[0m\u001b[1;33m\u001b[0m\u001b[0m\n\u001b[1;32m----> 3\u001b[1;33m \u001b[0msns\u001b[0m\u001b[1;33m.\u001b[0m\u001b[0mshow\u001b[0m\u001b[1;33m(\u001b[0m\u001b[1;33m)\u001b[0m\u001b[1;33m\u001b[0m\u001b[1;33m\u001b[0m\u001b[0m\n\u001b[0m",
      "\u001b[1;31mAttributeError\u001b[0m: module 'seaborn' has no attribute 'show'"
     ]
    },
    {
     "data": {
      "image/png": "[encoded data removed]",
      "text/plain": [
       "<Figure size 432x288 with 1 Axes>"
      ]
     },
     "metadata": {},
     "output_type": "display_data"
    }
   ],
   "source": [
    "sns.barplot(x=\"count %\", y=\"platform\", palette=\"rocket\", data=df_platforms, orient=\"h\")\n",
    "sns.barplot(x=\"purchased %\", y=\"platform\", palette=\"rocket\", data=df_platforms, orient=\"h\")\n",
    "sns.show()"
   ]
  },
  {
   "cell_type": "code",
   "execution_count": 144,
   "metadata": {},
   "outputs": [
    {
     "data": {
      "text/plain": [
       "<seaborn.axisgrid.FacetGrid at 0x224b916f9c8>"
      ]
     },
     "execution_count": 144,
     "metadata": {},
     "output_type": "execute_result"
    },
    {
     "data": {
      "image/png": "[encoded data removed]",
      "text/plain": [
       "<Figure size 513.85x432 with 1 Axes>"
      ]
     },
     "metadata": {},
     "output_type": "display_data"
    }
   ],
   "source": [
    "sns.catplot(x=\"count %\", y=\"purchased %\", hue=\"platform\", data=df_platforms,\n",
    "                height=6, kind=\"bar\", palette=\"muted\").set_ylabels(\"survival probability\")\n",
    "#g.despine(left=True)"
   ]
  },
  {
   "cell_type": "markdown",
   "metadata": {},
   "source": [
    "#### Genres"
   ]
  },
  {
   "cell_type": "code",
   "execution_count": 49,
   "metadata": {},
   "outputs": [
    {
     "data": {
      "text/html": [
       "<div>\n",
       "<style scoped>\n",
       "    .dataframe tbody tr th:only-of-type {\n",
       "        vertical-align: middle;\n",
       "    }\n",
       "\n",
       "    .dataframe tbody tr th {\n",
       "        vertical-align: top;\n",
       "    }\n",
       "\n",
       "    .dataframe thead th {\n",
       "        text-align: right;\n",
       "    }\n",
       "</style>\n",
       "<table border=\"1\" class=\"dataframe\">\n",
       "  <thead>\n",
       "    <tr style=\"text-align: right;\">\n",
       "      <th></th>\n",
       "      <th>genre</th>\n",
       "      <th>count</th>\n",
       "      <th>%</th>\n",
       "    </tr>\n",
       "  </thead>\n",
       "  <tbody>\n",
       "    <tr>\n",
       "      <th>0</th>\n",
       "      <td>Indie</td>\n",
       "      <td>19421</td>\n",
       "      <td>71.730379</td>\n",
       "    </tr>\n",
       "    <tr>\n",
       "      <th>9</th>\n",
       "      <td>Action</td>\n",
       "      <td>11903</td>\n",
       "      <td>43.963066</td>\n",
       "    </tr>\n",
       "    <tr>\n",
       "      <th>5</th>\n",
       "      <td>Casual</td>\n",
       "      <td>10210</td>\n",
       "      <td>37.710065</td>\n",
       "    </tr>\n",
       "    <tr>\n",
       "      <th>8</th>\n",
       "      <td>Adventure</td>\n",
       "      <td>10032</td>\n",
       "      <td>37.052632</td>\n",
       "    </tr>\n",
       "    <tr>\n",
       "      <th>3</th>\n",
       "      <td>Strategy</td>\n",
       "      <td>5247</td>\n",
       "      <td>19.379501</td>\n",
       "    </tr>\n",
       "    <tr>\n",
       "      <th>2</th>\n",
       "      <td>Simulation</td>\n",
       "      <td>5194</td>\n",
       "      <td>19.183749</td>\n",
       "    </tr>\n",
       "    <tr>\n",
       "      <th>6</th>\n",
       "      <td>RPG</td>\n",
       "      <td>4311</td>\n",
       "      <td>15.922438</td>\n",
       "    </tr>\n",
       "    <tr>\n",
       "      <th>4</th>\n",
       "      <td>Early Access</td>\n",
       "      <td>2954</td>\n",
       "      <td>10.910434</td>\n",
       "    </tr>\n",
       "    <tr>\n",
       "      <th>7</th>\n",
       "      <td>Free to Play</td>\n",
       "      <td>1704</td>\n",
       "      <td>6.293629</td>\n",
       "    </tr>\n",
       "    <tr>\n",
       "      <th>1</th>\n",
       "      <td>Sports</td>\n",
       "      <td>1322</td>\n",
       "      <td>4.882733</td>\n",
       "    </tr>\n",
       "    <tr>\n",
       "      <th>10</th>\n",
       "      <td>Racing</td>\n",
       "      <td>1024</td>\n",
       "      <td>3.782087</td>\n",
       "    </tr>\n",
       "  </tbody>\n",
       "</table>\n",
       "</div>"
      ],
      "text/plain": [
       "           genre  count          %\n",
       "0          Indie  19421  71.730379\n",
       "9         Action  11903  43.963066\n",
       "5         Casual  10210  37.710065\n",
       "8      Adventure  10032  37.052632\n",
       "3       Strategy   5247  19.379501\n",
       "2     Simulation   5194  19.183749\n",
       "6            RPG   4311  15.922438\n",
       "4   Early Access   2954  10.910434\n",
       "7   Free to Play   1704   6.293629\n",
       "1         Sports   1322   4.882733\n",
       "10        Racing   1024   3.782087"
      ]
     },
     "execution_count": 49,
     "metadata": {},
     "output_type": "execute_result"
    }
   ],
   "source": [
    "df_genres = {\"genre\" : genres,\n",
    "             \"count\" : [sum(sc[g]) for g in genres],\n",
    "             \"%\" : [sum(sc[g])/len(sc)*100 for g in genres]}\n",
    "\n",
    "df_genres = pd.DataFrame(df_genres).sort_values(\"count\", ascending=False)\n",
    "df_genres"
   ]
  },
  {
   "cell_type": "code",
   "execution_count": 77,
   "metadata": {},
   "outputs": [
    {
     "data": {
      "image/png": "[encoded data removed]",
      "text/plain": [
       "<Figure size 432x288 with 1 Axes>"
      ]
     },
     "metadata": {},
     "output_type": "display_data"
    }
   ],
   "source": [
    "# Generate barplot\n",
    "sns.barplot(x=\"%\", y=\"genre\", palette=\"rocket\", data=df_genres, orient=\"h\").set_title(\"Top Genres\")"
   ]
  },
  {
   "cell_type": "markdown",
   "metadata": {},
   "source": [
    "#### Categories"
   ]
  },
  {
   "cell_type": "code",
   "execution_count": 56,
   "metadata": {},
   "outputs": [
    {
     "data": {
      "text/html": [
       "<div>\n",
       "<style scoped>\n",
       "    .dataframe tbody tr th:only-of-type {\n",
       "        vertical-align: middle;\n",
       "    }\n",
       "\n",
       "    .dataframe tbody tr th {\n",
       "        vertical-align: top;\n",
       "    }\n",
       "\n",
       "    .dataframe thead th {\n",
       "        text-align: right;\n",
       "    }\n",
       "</style>\n",
       "<table border=\"1\" class=\"dataframe\">\n",
       "  <thead>\n",
       "    <tr style=\"text-align: right;\">\n",
       "      <th></th>\n",
       "      <th>category</th>\n",
       "      <th>count</th>\n",
       "      <th>%</th>\n",
       "    </tr>\n",
       "  </thead>\n",
       "  <tbody>\n",
       "    <tr>\n",
       "      <th>8</th>\n",
       "      <td>Local</td>\n",
       "      <td>25925</td>\n",
       "      <td>95.752539</td>\n",
       "    </tr>\n",
       "    <tr>\n",
       "      <th>3</th>\n",
       "      <td>Single-player</td>\n",
       "      <td>25678</td>\n",
       "      <td>94.840259</td>\n",
       "    </tr>\n",
       "    <tr>\n",
       "      <th>4</th>\n",
       "      <td>Controller Support</td>\n",
       "      <td>9914</td>\n",
       "      <td>36.616805</td>\n",
       "    </tr>\n",
       "    <tr>\n",
       "      <th>6</th>\n",
       "      <td>Multi-Player</td>\n",
       "      <td>6044</td>\n",
       "      <td>22.323176</td>\n",
       "    </tr>\n",
       "    <tr>\n",
       "      <th>5</th>\n",
       "      <td>Online</td>\n",
       "      <td>3025</td>\n",
       "      <td>11.172669</td>\n",
       "    </tr>\n",
       "    <tr>\n",
       "      <th>7</th>\n",
       "      <td>co-op</td>\n",
       "      <td>2604</td>\n",
       "      <td>9.617729</td>\n",
       "    </tr>\n",
       "    <tr>\n",
       "      <th>0</th>\n",
       "      <td>Includes level editor</td>\n",
       "      <td>1036</td>\n",
       "      <td>3.826408</td>\n",
       "    </tr>\n",
       "    <tr>\n",
       "      <th>1</th>\n",
       "      <td>MMO</td>\n",
       "      <td>421</td>\n",
       "      <td>1.554940</td>\n",
       "    </tr>\n",
       "    <tr>\n",
       "      <th>2</th>\n",
       "      <td>VR Support</td>\n",
       "      <td>231</td>\n",
       "      <td>0.853186</td>\n",
       "    </tr>\n",
       "  </tbody>\n",
       "</table>\n",
       "</div>"
      ],
      "text/plain": [
       "                category  count          %\n",
       "8                  Local  25925  95.752539\n",
       "3          Single-player  25678  94.840259\n",
       "4     Controller Support   9914  36.616805\n",
       "6           Multi-Player   6044  22.323176\n",
       "5                 Online   3025  11.172669\n",
       "7                  co-op   2604   9.617729\n",
       "0  Includes level editor   1036   3.826408\n",
       "1                    MMO    421   1.554940\n",
       "2             VR Support    231   0.853186"
      ]
     },
     "execution_count": 56,
     "metadata": {},
     "output_type": "execute_result"
    }
   ],
   "source": [
    "df_categories = {\"category\" : categories,\n",
    "                 \"count\" : [sum(sc[c]) for c in categories],\n",
    "                 \"%\" : [sum(sc[c])/len(sc)*100 for c in categories]}\n",
    "\n",
    "df_categories = pd.DataFrame(df_categories).sort_values(\"count\", ascending=False)\n",
    "df_categories"
   ]
  },
  {
   "cell_type": "code",
   "execution_count": 62,
   "metadata": {},
   "outputs": [
    {
     "data": {
      "text/plain": [
       "Text(0.5, 1.0, 'Top Categories')"
      ]
     },
     "execution_count": 62,
     "metadata": {},
     "output_type": "execute_result"
    },
    {
     "data": {
      "image/png": "[encoded data removed]",
      "text/plain": [
       "<Figure size 432x288 with 1 Axes>"
      ]
     },
     "metadata": {},
     "output_type": "display_data"
    }
   ],
   "source": [
    "# Generate barplot\n",
    "sns.barplot(x=\"%\", y=\"category\", palette=\"rocket\", data=df_categories, orient=\"h\").set_title(\"Top Categories\")"
   ]
  },
  {
   "cell_type": "markdown",
   "metadata": {},
   "source": [
    "#### Tags"
   ]
  },
  {
   "cell_type": "code",
   "execution_count": 63,
   "metadata": {},
   "outputs": [
    {
     "data": {
      "text/html": [
       "<div>\n",
       "<style scoped>\n",
       "    .dataframe tbody tr th:only-of-type {\n",
       "        vertical-align: middle;\n",
       "    }\n",
       "\n",
       "    .dataframe tbody tr th {\n",
       "        vertical-align: top;\n",
       "    }\n",
       "\n",
       "    .dataframe thead th {\n",
       "        text-align: right;\n",
       "    }\n",
       "</style>\n",
       "<table border=\"1\" class=\"dataframe\">\n",
       "  <thead>\n",
       "    <tr style=\"text-align: right;\">\n",
       "      <th></th>\n",
       "      <th>tag</th>\n",
       "      <th>count</th>\n",
       "      <th>%</th>\n",
       "    </tr>\n",
       "  </thead>\n",
       "  <tbody>\n",
       "    <tr>\n",
       "      <th>34</th>\n",
       "      <td>Puzzle</td>\n",
       "      <td>1167</td>\n",
       "      <td>4.310249</td>\n",
       "    </tr>\n",
       "    <tr>\n",
       "      <th>37</th>\n",
       "      <td>VR</td>\n",
       "      <td>964</td>\n",
       "      <td>3.560480</td>\n",
       "    </tr>\n",
       "    <tr>\n",
       "      <th>41</th>\n",
       "      <td>Multiplayer</td>\n",
       "      <td>850</td>\n",
       "      <td>3.139428</td>\n",
       "    </tr>\n",
       "    <tr>\n",
       "      <th>11</th>\n",
       "      <td>Platformer</td>\n",
       "      <td>738</td>\n",
       "      <td>2.725762</td>\n",
       "    </tr>\n",
       "    <tr>\n",
       "      <th>0</th>\n",
       "      <td>Nudity</td>\n",
       "      <td>570</td>\n",
       "      <td>2.105263</td>\n",
       "    </tr>\n",
       "    <tr>\n",
       "      <th>33</th>\n",
       "      <td>Horror</td>\n",
       "      <td>566</td>\n",
       "      <td>2.090489</td>\n",
       "    </tr>\n",
       "    <tr>\n",
       "      <th>16</th>\n",
       "      <td>Sexual Content</td>\n",
       "      <td>557</td>\n",
       "      <td>2.057248</td>\n",
       "    </tr>\n",
       "    <tr>\n",
       "      <th>3</th>\n",
       "      <td>Visual Novel</td>\n",
       "      <td>546</td>\n",
       "      <td>2.016620</td>\n",
       "    </tr>\n",
       "    <tr>\n",
       "      <th>2</th>\n",
       "      <td>Violent</td>\n",
       "      <td>545</td>\n",
       "      <td>2.012927</td>\n",
       "    </tr>\n",
       "    <tr>\n",
       "      <th>12</th>\n",
       "      <td>Anime</td>\n",
       "      <td>538</td>\n",
       "      <td>1.987073</td>\n",
       "    </tr>\n",
       "    <tr>\n",
       "      <th>23</th>\n",
       "      <td>Point &amp; Click</td>\n",
       "      <td>492</td>\n",
       "      <td>1.817175</td>\n",
       "    </tr>\n",
       "    <tr>\n",
       "      <th>18</th>\n",
       "      <td>Gore</td>\n",
       "      <td>476</td>\n",
       "      <td>1.758079</td>\n",
       "    </tr>\n",
       "    <tr>\n",
       "      <th>29</th>\n",
       "      <td>Hidden Object</td>\n",
       "      <td>460</td>\n",
       "      <td>1.698984</td>\n",
       "    </tr>\n",
       "    <tr>\n",
       "      <th>6</th>\n",
       "      <td>FPS</td>\n",
       "      <td>405</td>\n",
       "      <td>1.495845</td>\n",
       "    </tr>\n",
       "    <tr>\n",
       "      <th>14</th>\n",
       "      <td>Massively Multiplayer</td>\n",
       "      <td>377</td>\n",
       "      <td>1.392428</td>\n",
       "    </tr>\n",
       "    <tr>\n",
       "      <th>20</th>\n",
       "      <td>Turn-Based</td>\n",
       "      <td>297</td>\n",
       "      <td>1.096953</td>\n",
       "    </tr>\n",
       "    <tr>\n",
       "      <th>31</th>\n",
       "      <td>Survival</td>\n",
       "      <td>285</td>\n",
       "      <td>1.052632</td>\n",
       "    </tr>\n",
       "    <tr>\n",
       "      <th>44</th>\n",
       "      <td>War</td>\n",
       "      <td>259</td>\n",
       "      <td>0.956602</td>\n",
       "    </tr>\n",
       "    <tr>\n",
       "      <th>19</th>\n",
       "      <td>Pixel Graphics</td>\n",
       "      <td>249</td>\n",
       "      <td>0.919668</td>\n",
       "    </tr>\n",
       "    <tr>\n",
       "      <th>26</th>\n",
       "      <td>Shoot 'Em Up</td>\n",
       "      <td>245</td>\n",
       "      <td>0.904894</td>\n",
       "    </tr>\n",
       "    <tr>\n",
       "      <th>15</th>\n",
       "      <td>Open World</td>\n",
       "      <td>243</td>\n",
       "      <td>0.897507</td>\n",
       "    </tr>\n",
       "    <tr>\n",
       "      <th>9</th>\n",
       "      <td>Space</td>\n",
       "      <td>230</td>\n",
       "      <td>0.849492</td>\n",
       "    </tr>\n",
       "    <tr>\n",
       "      <th>43</th>\n",
       "      <td>Shooter</td>\n",
       "      <td>227</td>\n",
       "      <td>0.838412</td>\n",
       "    </tr>\n",
       "    <tr>\n",
       "      <th>39</th>\n",
       "      <td>2D</td>\n",
       "      <td>204</td>\n",
       "      <td>0.753463</td>\n",
       "    </tr>\n",
       "    <tr>\n",
       "      <th>17</th>\n",
       "      <td>Arcade</td>\n",
       "      <td>203</td>\n",
       "      <td>0.749769</td>\n",
       "    </tr>\n",
       "    <tr>\n",
       "      <th>7</th>\n",
       "      <td>Female Protagonist</td>\n",
       "      <td>199</td>\n",
       "      <td>0.734995</td>\n",
       "    </tr>\n",
       "    <tr>\n",
       "      <th>4</th>\n",
       "      <td>RPGMaker</td>\n",
       "      <td>192</td>\n",
       "      <td>0.709141</td>\n",
       "    </tr>\n",
       "    <tr>\n",
       "      <th>47</th>\n",
       "      <td>Classic</td>\n",
       "      <td>177</td>\n",
       "      <td>0.653740</td>\n",
       "    </tr>\n",
       "    <tr>\n",
       "      <th>27</th>\n",
       "      <td>RTS</td>\n",
       "      <td>174</td>\n",
       "      <td>0.642659</td>\n",
       "    </tr>\n",
       "    <tr>\n",
       "      <th>36</th>\n",
       "      <td>Tower Defense</td>\n",
       "      <td>168</td>\n",
       "      <td>0.620499</td>\n",
       "    </tr>\n",
       "    <tr>\n",
       "      <th>40</th>\n",
       "      <td>Card Game</td>\n",
       "      <td>166</td>\n",
       "      <td>0.613112</td>\n",
       "    </tr>\n",
       "    <tr>\n",
       "      <th>48</th>\n",
       "      <td>Singleplayer</td>\n",
       "      <td>161</td>\n",
       "      <td>0.594645</td>\n",
       "    </tr>\n",
       "    <tr>\n",
       "      <th>28</th>\n",
       "      <td>Story Rich</td>\n",
       "      <td>159</td>\n",
       "      <td>0.587258</td>\n",
       "    </tr>\n",
       "    <tr>\n",
       "      <th>46</th>\n",
       "      <td>Zombies</td>\n",
       "      <td>158</td>\n",
       "      <td>0.583564</td>\n",
       "    </tr>\n",
       "    <tr>\n",
       "      <th>35</th>\n",
       "      <td>Sci-fi</td>\n",
       "      <td>157</td>\n",
       "      <td>0.579871</td>\n",
       "    </tr>\n",
       "    <tr>\n",
       "      <th>38</th>\n",
       "      <td>Management</td>\n",
       "      <td>154</td>\n",
       "      <td>0.568790</td>\n",
       "    </tr>\n",
       "    <tr>\n",
       "      <th>25</th>\n",
       "      <td>World War I</td>\n",
       "      <td>153</td>\n",
       "      <td>0.565097</td>\n",
       "    </tr>\n",
       "    <tr>\n",
       "      <th>42</th>\n",
       "      <td>Utilities</td>\n",
       "      <td>138</td>\n",
       "      <td>0.509695</td>\n",
       "    </tr>\n",
       "    <tr>\n",
       "      <th>10</th>\n",
       "      <td>World War II</td>\n",
       "      <td>130</td>\n",
       "      <td>0.480148</td>\n",
       "    </tr>\n",
       "    <tr>\n",
       "      <th>13</th>\n",
       "      <td>Great Soundtrack</td>\n",
       "      <td>125</td>\n",
       "      <td>0.461681</td>\n",
       "    </tr>\n",
       "    <tr>\n",
       "      <th>22</th>\n",
       "      <td>Fantasy</td>\n",
       "      <td>121</td>\n",
       "      <td>0.446907</td>\n",
       "    </tr>\n",
       "    <tr>\n",
       "      <th>45</th>\n",
       "      <td>Co-op</td>\n",
       "      <td>120</td>\n",
       "      <td>0.443213</td>\n",
       "    </tr>\n",
       "    <tr>\n",
       "      <th>32</th>\n",
       "      <td>Match 3</td>\n",
       "      <td>119</td>\n",
       "      <td>0.439520</td>\n",
       "    </tr>\n",
       "    <tr>\n",
       "      <th>5</th>\n",
       "      <td>Fighting</td>\n",
       "      <td>117</td>\n",
       "      <td>0.432133</td>\n",
       "    </tr>\n",
       "    <tr>\n",
       "      <th>1</th>\n",
       "      <td>Retro</td>\n",
       "      <td>114</td>\n",
       "      <td>0.421053</td>\n",
       "    </tr>\n",
       "    <tr>\n",
       "      <th>21</th>\n",
       "      <td>Music</td>\n",
       "      <td>105</td>\n",
       "      <td>0.387812</td>\n",
       "    </tr>\n",
       "    <tr>\n",
       "      <th>8</th>\n",
       "      <td>Board Game</td>\n",
       "      <td>105</td>\n",
       "      <td>0.387812</td>\n",
       "    </tr>\n",
       "    <tr>\n",
       "      <th>24</th>\n",
       "      <td>Rogue-like</td>\n",
       "      <td>104</td>\n",
       "      <td>0.384118</td>\n",
       "    </tr>\n",
       "    <tr>\n",
       "      <th>30</th>\n",
       "      <td>Turn-Based Strategy</td>\n",
       "      <td>103</td>\n",
       "      <td>0.380425</td>\n",
       "    </tr>\n",
       "  </tbody>\n",
       "</table>\n",
       "</div>"
      ],
      "text/plain": [
       "                      tag  count         %\n",
       "34                 Puzzle   1167  4.310249\n",
       "37                     VR    964  3.560480\n",
       "41            Multiplayer    850  3.139428\n",
       "11             Platformer    738  2.725762\n",
       "0                  Nudity    570  2.105263\n",
       "33                 Horror    566  2.090489\n",
       "16         Sexual Content    557  2.057248\n",
       "3            Visual Novel    546  2.016620\n",
       "2                 Violent    545  2.012927\n",
       "12                  Anime    538  1.987073\n",
       "23          Point & Click    492  1.817175\n",
       "18                   Gore    476  1.758079\n",
       "29          Hidden Object    460  1.698984\n",
       "6                     FPS    405  1.495845\n",
       "14  Massively Multiplayer    377  1.392428\n",
       "20             Turn-Based    297  1.096953\n",
       "31               Survival    285  1.052632\n",
       "44                    War    259  0.956602\n",
       "19         Pixel Graphics    249  0.919668\n",
       "26           Shoot 'Em Up    245  0.904894\n",
       "15             Open World    243  0.897507\n",
       "9                   Space    230  0.849492\n",
       "43                Shooter    227  0.838412\n",
       "39                     2D    204  0.753463\n",
       "17                 Arcade    203  0.749769\n",
       "7      Female Protagonist    199  0.734995\n",
       "4                RPGMaker    192  0.709141\n",
       "47                Classic    177  0.653740\n",
       "27                    RTS    174  0.642659\n",
       "36          Tower Defense    168  0.620499\n",
       "40              Card Game    166  0.613112\n",
       "48           Singleplayer    161  0.594645\n",
       "28             Story Rich    159  0.587258\n",
       "46                Zombies    158  0.583564\n",
       "35                 Sci-fi    157  0.579871\n",
       "38             Management    154  0.568790\n",
       "25            World War I    153  0.565097\n",
       "42              Utilities    138  0.509695\n",
       "10           World War II    130  0.480148\n",
       "13       Great Soundtrack    125  0.461681\n",
       "22                Fantasy    121  0.446907\n",
       "45                  Co-op    120  0.443213\n",
       "32                Match 3    119  0.439520\n",
       "5                Fighting    117  0.432133\n",
       "1                   Retro    114  0.421053\n",
       "21                  Music    105  0.387812\n",
       "8              Board Game    105  0.387812\n",
       "24             Rogue-like    104  0.384118\n",
       "30    Turn-Based Strategy    103  0.380425"
      ]
     },
     "execution_count": 63,
     "metadata": {},
     "output_type": "execute_result"
    }
   ],
   "source": [
    "df_tags = {\"tag\" : tags,\n",
    "           \"count\" : [sum(st[t]) for t in tags],\n",
    "           \"%\" : [sum(st[t])/len(st)*100 for t in tags]}\n",
    "\n",
    "df_tags = pd.DataFrame(df_tags).sort_values(\"count\", ascending=False)\n",
    "df_tags"
   ]
  },
  {
   "cell_type": "code",
   "execution_count": 69,
   "metadata": {},
   "outputs": [
    {
     "data": {
      "text/plain": [
       "Text(0.5, 1.0, 'Top Tags')"
      ]
     },
     "execution_count": 69,
     "metadata": {},
     "output_type": "execute_result"
    },
    {
     "data": {
      "image/png": "[encoded data removed]",
      "text/plain": [
       "<Figure size 432x288 with 1 Axes>"
      ]
     },
     "metadata": {},
     "output_type": "display_data"
    }
   ],
   "source": [
    "# Generate barplot\n",
    "sns.barplot(x=\"%\", y=\"tag\", palette=\"rocket\", data=df_tags[:15], orient=\"h\", ).set_title(\"Top Tags\")"
   ]
  },
  {
   "cell_type": "markdown",
   "metadata": {},
   "source": [
    "### Top categorial objects"
   ]
  },
  {
   "cell_type": "code",
   "execution_count": null,
   "metadata": {},
   "outputs": [],
   "source": []
  },
  {
   "cell_type": "markdown",
   "metadata": {},
   "source": [
    "### Pivot Tables"
   ]
  },
  {
   "cell_type": "code",
   "execution_count": null,
   "metadata": {},
   "outputs": [],
   "source": []
  },
  {
   "cell_type": "markdown",
   "metadata": {},
   "source": [
    "**Observations:** Given that the number of unique values in this column is too high, I could unover the top publishers and assign the rest as `Other`."
   ]
  },
  {
   "cell_type": "markdown",
   "metadata": {},
   "source": [
    "# Data Visualization"
   ]
  },
  {
   "cell_type": "code",
   "execution_count": 89,
   "metadata": {},
   "outputs": [
    {
     "data": {
      "text/html": [
       "<div>\n",
       "<style scoped>\n",
       "    .dataframe tbody tr th:only-of-type {\n",
       "        vertical-align: middle;\n",
       "    }\n",
       "\n",
       "    .dataframe tbody tr th {\n",
       "        vertical-align: top;\n",
       "    }\n",
       "\n",
       "    .dataframe thead th {\n",
       "        text-align: right;\n",
       "    }\n",
       "</style>\n",
       "<table border=\"1\" class=\"dataframe\">\n",
       "  <thead>\n",
       "    <tr style=\"text-align: right;\">\n",
       "      <th></th>\n",
       "      <th>appid</th>\n",
       "      <th>name</th>\n",
       "      <th>release_date</th>\n",
       "      <th>english</th>\n",
       "      <th>developer</th>\n",
       "      <th>publisher</th>\n",
       "      <th>platforms</th>\n",
       "      <th>required_age</th>\n",
       "      <th>categories</th>\n",
       "      <th>genres</th>\n",
       "      <th>steamspy_tags</th>\n",
       "      <th>achievements</th>\n",
       "      <th>positive_ratings</th>\n",
       "      <th>negative_ratings</th>\n",
       "      <th>average_playtime</th>\n",
       "      <th>median_playtime</th>\n",
       "      <th>owners</th>\n",
       "      <th>price</th>\n",
       "    </tr>\n",
       "  </thead>\n",
       "  <tbody>\n",
       "    <tr>\n",
       "      <th>0</th>\n",
       "      <td>10</td>\n",
       "      <td>Counter-Strike</td>\n",
       "      <td>2000-11-01</td>\n",
       "      <td>1</td>\n",
       "      <td>Valve</td>\n",
       "      <td>Valve</td>\n",
       "      <td>windows;mac;linux</td>\n",
       "      <td>0</td>\n",
       "      <td>Multi-player;Online Multi-Player;Local Multi-P...</td>\n",
       "      <td>Action</td>\n",
       "      <td>Action;FPS;Multiplayer</td>\n",
       "      <td>0</td>\n",
       "      <td>124534</td>\n",
       "      <td>3339</td>\n",
       "      <td>17612</td>\n",
       "      <td>317</td>\n",
       "      <td>10000000-20000000</td>\n",
       "      <td>7.19</td>\n",
       "    </tr>\n",
       "  </tbody>\n",
       "</table>\n",
       "</div>"
      ],
      "text/plain": [
       "   appid            name release_date  english developer publisher  \\\n",
       "0     10  Counter-Strike   2000-11-01        1     Valve     Valve   \n",
       "\n",
       "           platforms  required_age  \\\n",
       "0  windows;mac;linux             0   \n",
       "\n",
       "                                          categories  genres  \\\n",
       "0  Multi-player;Online Multi-Player;Local Multi-P...  Action   \n",
       "\n",
       "            steamspy_tags  achievements  positive_ratings  negative_ratings  \\\n",
       "0  Action;FPS;Multiplayer             0            124534              3339   \n",
       "\n",
       "   average_playtime  median_playtime             owners  price  \n",
       "0             17612              317  10000000-20000000   7.19  "
      ]
     },
     "execution_count": 89,
     "metadata": {},
     "output_type": "execute_result"
    }
   ],
   "source": [
    "s.head(1)"
   ]
  },
  {
   "cell_type": "code",
   "execution_count": 99,
   "metadata": {},
   "outputs": [
    {
     "data": {
      "text/plain": [
       "0        17612\n",
       "1          277\n",
       "2          187\n",
       "3          258\n",
       "4          624\n",
       "         ...  \n",
       "27070        0\n",
       "27071        0\n",
       "27072        0\n",
       "27073        0\n",
       "27074        0\n",
       "Name: average_playtime, Length: 27075, dtype: int64"
      ]
     },
     "execution_count": 99,
     "metadata": {},
     "output_type": "execute_result"
    }
   ],
   "source": [
    "s[\"average_playtime\"]"
   ]
  },
  {
   "cell_type": "code",
   "execution_count": 119,
   "metadata": {},
   "outputs": [
    {
     "data": {
      "text/plain": [
       "<matplotlib.axes._subplots.AxesSubplot at 0x224bec89fc8>"
      ]
     },
     "execution_count": 119,
     "metadata": {},
     "output_type": "execute_result"
    },
    {
     "data": {
      "image/png": "[encoded data removed]",
      "text/plain": [
       "<Figure size 432x288 with 1 Axes>"
      ]
     },
     "metadata": {},
     "output_type": "display_data"
    }
   ],
   "source": [
    "#sns.set(style=\"white\", palette=\"muted\", color_codes=True)\n",
    "\n",
    "# Plot a histogram and kernel density estimate\n",
    "sns.distplot((s[s[\"average_playtime\"]>5000][\"average_playtime\"]), color=\"g\")"
   ]
  },
  {
   "cell_type": "code",
   "execution_count": null,
   "metadata": {},
   "outputs": [],
   "source": [
    "# add comparison of how many play 0, between 0 and 100, and the rest (percentage)"
   ]
  }
 ],
 "metadata": {
  "kernelspec": {
   "display_name": "Python 3",
   "language": "python",
   "name": "python3"
  },
  "language_info": {
   "codemirror_mode": {
    "name": "ipython",
    "version": 3
   },
   "file_extension": ".py",
   "mimetype": "text/x-python",
   "name": "python",
   "nbconvert_exporter": "python",
   "pygments_lexer": "ipython3",
   "version": "3.7.6"
  }
 },
 "nbformat": 4,
 "nbformat_minor": 4
}

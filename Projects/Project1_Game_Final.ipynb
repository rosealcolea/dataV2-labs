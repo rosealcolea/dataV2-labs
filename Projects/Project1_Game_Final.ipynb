{
 "cells": [
  {
   "cell_type": "markdown",
   "metadata": {},
   "source": [
    "# Black Jack with Python\n"
   ]
  },
  {
   "cell_type": "markdown",
   "metadata": {},
   "source": [
    "Welcome!\n",
    "\n",
    "In this Notebook you will get the chance to play the game of Black Jack against the house. \n",
    "\n",
    "**Good luck!**\n"
   ]
  },
  {
   "cell_type": "markdown",
   "metadata": {},
   "source": [
    "###### The logical process of this programme goes as follows:\n",
    "\n",
    "1. Create dictionary of deck\n",
    "2. Create a list with a full deck\n",
    "3. Shuffle the deck\n",
    "4. Deal the first round of cards\n",
    "5. Check for winning conditions in case of a Black Jack\n",
    "6. Ask player to make a decision (hit or stand)\n",
    "7. Check for losing condition if the player´s hand goes over 21\n",
    "8. Repeat points 6 and 7 until player decides to stand\n",
    "9. Show the dealer's full hand\n",
    "10. The dealer makes his decision: he will hit if his hand is under 17 and stand if or until it is 17 or over.\n",
    "11. Compare hands\n",
    "12. Winner is announced.\n",
    "\n",
    "\n",
    "\n",
    "*Notes: The changeability of the Ace's value is accounted for and will change from 1 to 11 depending on the cards at hand (except in the case of having more than one Ace in one of the hands, sadly).*\n",
    "\n"
   ]
  },
  {
   "cell_type": "code",
   "execution_count": 7,
   "metadata": {},
   "outputs": [],
   "source": [
    "import sys"
   ]
  },
  {
   "cell_type": "code",
   "execution_count": 8,
   "metadata": {},
   "outputs": [
    {
     "name": "stdout",
     "output_type": "stream",
     "text": [
      "{'A': 11, 2: 2, 3: 3, 4: 4, 5: 5, 6: 6, 7: 7, 8: 8, 9: 9, 10: 10, 'J': 10, 'Q': 10, 'K': 10}\n"
     ]
    }
   ],
   "source": [
    "# creating a dictionary with the card values\n",
    "\n",
    "d = dict()\n",
    "\n",
    "d['A'] = 11\n",
    "\n",
    "for i in range(2, 11):\n",
    "    d[i] = i\n",
    "\n",
    "d['J'] = 10\n",
    "d['Q'] = 10\n",
    "d['K'] = 10\n",
    "\n",
    "print(d)"
   ]
  },
  {
   "cell_type": "code",
   "execution_count": 9,
   "metadata": {},
   "outputs": [
    {
     "name": "stdout",
     "output_type": "stream",
     "text": [
      "Here is our full deck of cards: ['A', 2, 3, 4, 5, 6, 7, 8, 9, 10, 'J', 'Q', 'K', 'A', 2, 3, 4, 5, 6, 7, 8, 9, 10, 'J', 'Q', 'K', 'A', 2, 3, 4, 5, 6, 7, 8, 9, 10, 'J', 'Q', 'K', 'A', 2, 3, 4, 5, 6, 7, 8, 9, 10, 'J', 'Q', 'K']\n"
     ]
    }
   ],
   "source": [
    "# creating the deck of cards\n",
    "\n",
    "deck = []\n",
    "for i in range(0,4):\n",
    "    deck.append('A')\n",
    "    for ii in range (2,11):\n",
    "        deck.append(ii)\n",
    "    deck.append('J')\n",
    "    deck.append('Q')\n",
    "    deck.append('K')\n",
    "    \n",
    "print('Here is our full deck of cards:', deck)"
   ]
  },
  {
   "cell_type": "code",
   "execution_count": 10,
   "metadata": {},
   "outputs": [
    {
     "name": "stdout",
     "output_type": "stream",
     "text": [
      "The deck has been shuffled.\n"
     ]
    }
   ],
   "source": [
    "# suffle deck\n",
    "import random\n",
    "\n",
    "def shuffle():\n",
    "    random.shuffle(deck)\n",
    "    print('The deck has been shuffled.')\n",
    "\n",
    "#print(deck)\n",
    "shuffle()"
   ]
  },
  {
   "cell_type": "code",
   "execution_count": 17,
   "metadata": {},
   "outputs": [
    {
     "name": "stdout",
     "output_type": "stream",
     "text": [
      "The dealer deals the cards.\n",
      "You receive the cards:  7 and 2\n",
      "The dealer receives the cards:  K and an unknown card.\n"
     ]
    }
   ],
   "source": [
    "# dealing cards first round\n",
    "\n",
    "player = []\n",
    "dealer =[]\n",
    "\n",
    "def deal():\n",
    "    player.clear()\n",
    "    dealer.clear()\n",
    "    for i in range(2):\n",
    "        player.append(deck.pop())\n",
    "        dealer.append(deck.pop())\n",
    "    print('The dealer deals the cards.')\n",
    "    print('You receive the cards: ', player[0], 'and', player[1])\n",
    "    print('The dealer receives the cards: ', dealer[0], 'and', 'an unknown card.')\n",
    "\n",
    "deal()\n",
    "#player = ['A', 9]\n",
    "#dealer = [5, 4]\n",
    "#print(player)\n",
    "#print(dealer)"
   ]
  },
  {
   "cell_type": "code",
   "execution_count": 18,
   "metadata": {},
   "outputs": [],
   "source": [
    "# checking status of the game\n",
    "\n",
    "# player\n",
    "def player_status():\n",
    "    s = 0\n",
    "    for i in range(len(player)):\n",
    "        s += d[player[i]]\n",
    "    if s < 21:\n",
    "        pass\n",
    "    elif s == 21:\n",
    "        s = 0\n",
    "        for i in range(len(dealer)):\n",
    "            s += d[dealer[i]]\n",
    "        if s < 21:\n",
    "            print('Winner, Winner, Chicken Dinner! You have won!')\n",
    "            sys.exit()\n",
    "        else:\n",
    "            print(\"I's a tie.\")\n",
    "            sys.exit()\n",
    "    elif s > 21:\n",
    "        print(\"Game Over. Your hand is over 21.\")\n",
    "        sys.exit()\n",
    "        \n",
    "player_status()\n",
    "\n",
    "#dealer\n",
    "def dealer_status():\n",
    "    ss = 0\n",
    "    for i in range(len(dealer)):\n",
    "        ss += d[dealer[i]]\n",
    "    if ss < 21:\n",
    "        pass\n",
    "    elif ss == 21:\n",
    "        s = 0\n",
    "        for i in range(len(player)):\n",
    "            s += d[player[i]]\n",
    "        if s < 21:\n",
    "            print('Game Over. The house wins.')\n",
    "            sys.exit()\n",
    "        else:\n",
    "            print(\"I's a tie.\")\n",
    "            sys.exit()\n",
    "    elif s > 21:\n",
    "        s = 0\n",
    "        for i in range(len(player)):\n",
    "            s += d[player[i]]\n",
    "        if s >= 21:\n",
    "            print('Game Over. The house wins.')\n",
    "            sys.exit()\n",
    "        else:\n",
    "            print(\"Winner, Winner, Chicken Dinner! You have won! The dealer's hand is over 21.\")\n",
    "            sys.exit()  \n",
    "        \n",
    "dealer_status()"
   ]
  },
  {
   "cell_type": "code",
   "execution_count": 19,
   "metadata": {},
   "outputs": [
    {
     "name": "stdout",
     "output_type": "stream",
     "text": [
      "Write \"Hit\" to draw another card.\n",
      "Write \"Stand\" to end your turn.\n",
      "hit\n",
      "You receive the card:  5\n",
      "Write \"Hit\" to draw another card.\n",
      "Write \"Stand\" to end your turn.\n",
      "stand\n",
      "Player stands.\n"
     ]
    }
   ],
   "source": [
    "# player's decision:\n",
    "\n",
    "def player_decision():\n",
    "    print('Write \"Hit\" to draw another card.')\n",
    "    print('Write \"Stand\" to end your turn.')\n",
    "    x = input()\n",
    "    if x.lower() == 'hit':\n",
    "        player.append(deck.pop())\n",
    "        print('You receive the card: ', player[-1])\n",
    "        s = 0\n",
    "        for i in range(len(player)):\n",
    "            s += d[player[i]]\n",
    "        if s > 21:\n",
    "            if 'A' not in player:\n",
    "                print(\"Game Over. Your hand is over 21.\")\n",
    "                sys.exit()\n",
    "            elif 'A' in player:\n",
    "                if s > 31:\n",
    "                    print(\"Game Over. Your hand is over 21.\")\n",
    "                    sys.exit()\n",
    "        player_decision()\n",
    "    elif x.lower() == 'stand':\n",
    "        print('Player stands.')\n",
    "    else:\n",
    "        player_decision()\n",
    "\n",
    "player_decision()"
   ]
  },
  {
   "cell_type": "code",
   "execution_count": 20,
   "metadata": {},
   "outputs": [
    {
     "name": "stdout",
     "output_type": "stream",
     "text": [
      "The dealer reveals all his cards:  5 and 4\n"
     ]
    }
   ],
   "source": [
    "# dealer shows hand\n",
    "\n",
    "print('The dealer reveals all his cards: ', dealer[0], 'and', dealer[1])"
   ]
  },
  {
   "cell_type": "code",
   "execution_count": 21,
   "metadata": {},
   "outputs": [
    {
     "name": "stdout",
     "output_type": "stream",
     "text": [
      "The dealer hits and draws a 10\n"
     ]
    },
    {
     "ename": "RecursionError",
     "evalue": "maximum recursion depth exceeded in comparison",
     "output_type": "error",
     "traceback": [
      "\u001b[1;31m---------------------------------------------------------------------------\u001b[0m",
      "\u001b[1;31mRecursionError\u001b[0m                            Traceback (most recent call last)",
      "\u001b[1;32m<ipython-input-21-a0acf75c7cf6>\u001b[0m in \u001b[0;36m<module>\u001b[1;34m\u001b[0m\n\u001b[0;32m    124\u001b[0m                 \u001b[0msys\u001b[0m\u001b[1;33m.\u001b[0m\u001b[0mexit\u001b[0m\u001b[1;33m(\u001b[0m\u001b[1;33m)\u001b[0m\u001b[1;33m\u001b[0m\u001b[1;33m\u001b[0m\u001b[0m\n\u001b[0;32m    125\u001b[0m \u001b[1;33m\u001b[0m\u001b[0m\n\u001b[1;32m--> 126\u001b[1;33m \u001b[0mdealer_decision\u001b[0m\u001b[1;33m(\u001b[0m\u001b[1;33m)\u001b[0m\u001b[1;33m\u001b[0m\u001b[1;33m\u001b[0m\u001b[0m\n\u001b[0m",
      "\u001b[1;32m<ipython-input-21-a0acf75c7cf6>\u001b[0m in \u001b[0;36mdealer_decision\u001b[1;34m()\u001b[0m\n\u001b[0;32m     20\u001b[0m                     \u001b[0mprint\u001b[0m\u001b[1;33m(\u001b[0m\u001b[1;34m\"Winner, Winner, Chicken Dinner! You have won! The dealer's hand is over 21.\"\u001b[0m\u001b[1;33m)\u001b[0m\u001b[1;33m\u001b[0m\u001b[1;33m\u001b[0m\u001b[0m\n\u001b[0;32m     21\u001b[0m                     \u001b[0msys\u001b[0m\u001b[1;33m.\u001b[0m\u001b[0mexit\u001b[0m\u001b[1;33m(\u001b[0m\u001b[1;33m)\u001b[0m\u001b[1;33m\u001b[0m\u001b[1;33m\u001b[0m\u001b[0m\n\u001b[1;32m---> 22\u001b[1;33m         \u001b[0mdealer_decision\u001b[0m\u001b[1;33m(\u001b[0m\u001b[1;33m)\u001b[0m\u001b[1;33m\u001b[0m\u001b[1;33m\u001b[0m\u001b[0m\n\u001b[0m\u001b[0;32m     23\u001b[0m     \u001b[1;32melse\u001b[0m\u001b[1;33m:\u001b[0m\u001b[1;33m\u001b[0m\u001b[1;33m\u001b[0m\u001b[0m\n\u001b[0;32m     24\u001b[0m         \u001b[0mprint\u001b[0m\u001b[1;33m(\u001b[0m\u001b[1;34m'The dealer stands'\u001b[0m\u001b[1;33m)\u001b[0m\u001b[1;33m\u001b[0m\u001b[1;33m\u001b[0m\u001b[0m\n",
      "... last 1 frames repeated, from the frame below ...\n",
      "\u001b[1;32m<ipython-input-21-a0acf75c7cf6>\u001b[0m in \u001b[0;36mdealer_decision\u001b[1;34m()\u001b[0m\n\u001b[0;32m     20\u001b[0m                     \u001b[0mprint\u001b[0m\u001b[1;33m(\u001b[0m\u001b[1;34m\"Winner, Winner, Chicken Dinner! You have won! The dealer's hand is over 21.\"\u001b[0m\u001b[1;33m)\u001b[0m\u001b[1;33m\u001b[0m\u001b[1;33m\u001b[0m\u001b[0m\n\u001b[0;32m     21\u001b[0m                     \u001b[0msys\u001b[0m\u001b[1;33m.\u001b[0m\u001b[0mexit\u001b[0m\u001b[1;33m(\u001b[0m\u001b[1;33m)\u001b[0m\u001b[1;33m\u001b[0m\u001b[1;33m\u001b[0m\u001b[0m\n\u001b[1;32m---> 22\u001b[1;33m         \u001b[0mdealer_decision\u001b[0m\u001b[1;33m(\u001b[0m\u001b[1;33m)\u001b[0m\u001b[1;33m\u001b[0m\u001b[1;33m\u001b[0m\u001b[0m\n\u001b[0m\u001b[0;32m     23\u001b[0m     \u001b[1;32melse\u001b[0m\u001b[1;33m:\u001b[0m\u001b[1;33m\u001b[0m\u001b[1;33m\u001b[0m\u001b[0m\n\u001b[0;32m     24\u001b[0m         \u001b[0mprint\u001b[0m\u001b[1;33m(\u001b[0m\u001b[1;34m'The dealer stands'\u001b[0m\u001b[1;33m)\u001b[0m\u001b[1;33m\u001b[0m\u001b[1;33m\u001b[0m\u001b[0m\n",
      "\u001b[1;31mRecursionError\u001b[0m: maximum recursion depth exceeded in comparison"
     ]
    }
   ],
   "source": [
    "# dealer's decision\n",
    "\n",
    "def dealer_decision():\n",
    "    s = 0\n",
    "    for i in range(len(dealer)):\n",
    "        s += d[dealer[i]]\n",
    "    if 'A' not in dealer:\n",
    "        if s < 17:\n",
    "            dealer.append(deck.pop())\n",
    "            print('The dealer hits and draws a', dealer[-1])\n",
    "            #s = 0\n",
    "            #for i in range(len(dealer)):\n",
    "                #s += d[dealer[i]]\n",
    "        if s > 21:\n",
    "            if 'A' not in dealer:\n",
    "                print(\"Winner, Winner, Chicken Dinner! You have won! The dealer's hand is over 21.\")\n",
    "                sys.exit()\n",
    "            elif 'A' in dealer:\n",
    "                if s > 31:\n",
    "                    print(\"Winner, Winner, Chicken Dinner! You have won! The dealer's hand is over 21.\")\n",
    "                    sys.exit()\n",
    "        dealer_decision()\n",
    "    else:\n",
    "        print('The dealer stands')\n",
    "        s = 0\n",
    "        ss = 0\n",
    "        for i in range(len(player)):\n",
    "            s += d[player[i]]\n",
    "        for i in range(len(dealer)):\n",
    "            ss += d[dealer[i]]\n",
    "        if 'A' in player or dealer:\n",
    "            if 'A' in player and 'A' not in dealer:\n",
    "                if s > 21:\n",
    "                    if (s-10) > ss:\n",
    "                        print('Winner, Winner, Chicken Dinner! You have won!')\n",
    "                        sys.exit()\n",
    "                    elif (s-10) < ss:\n",
    "                        print('Game Over. The house wins')\n",
    "                        sys.exit()\n",
    "                    else:\n",
    "                        print(\"I's a tie.\")\n",
    "                        sys.exit()\n",
    "                elif s <= 21:\n",
    "                    if s > ss:\n",
    "                        print('Winner, Winner, Chicken Dinner! You have won!')\n",
    "                        sys.exit()\n",
    "                    elif s < ss:\n",
    "                        print('Game Over. The house wins')\n",
    "                        sys.exit()\n",
    "                    else:\n",
    "                        print(\"I's a tie.\")\n",
    "                        sys.exit()\n",
    "            elif 'A' in dealer and 'A' not in player:\n",
    "                if ss > 21:\n",
    "                    if s > (ss-10):\n",
    "                        print('Winner, Winner, Chicken Dinner! You have won!')\n",
    "                        sys.exit()\n",
    "                    elif s < (ss-10):\n",
    "                        print('Game Over. The house wins')\n",
    "                        sys.exit()\n",
    "                    else:\n",
    "                        print(\"I's a tie.\")\n",
    "                        sys.exit()\n",
    "                elif ss <= 21:\n",
    "                    if s > ss:\n",
    "                        print('Winner, Winner, Chicken Dinner! You have won!')\n",
    "                        sys.exit()\n",
    "                    elif s < ss:\n",
    "                        print('Game Over. The house wins')\n",
    "                        sys.exit()\n",
    "                    else:\n",
    "                        print(\"I's a tie.\")\n",
    "                        sys.exit()\n",
    "            else:\n",
    "                if s > 21 and ss <= 21:\n",
    "                    if (s-10) > ss:\n",
    "                        print('Winner, Winner, Chicken Dinner! You have won!')\n",
    "                        sys.exit()\n",
    "                    elif (s-10) < ss:\n",
    "                        print('Game Over. The house wins')\n",
    "                        sys.exit()\n",
    "                    else:\n",
    "                        print(\"I's a tie.\")\n",
    "                        sys.exit()\n",
    "                elif s <= 21 and ss > 21:\n",
    "                    if s > (ss-10):\n",
    "                        print('Winner, Winner, Chicken Dinner! You have won!')\n",
    "                        sys.exit()\n",
    "                    elif s < (ss-10):\n",
    "                        print('Game Over. The house wins')\n",
    "                        sys.exit()\n",
    "                    else:\n",
    "                        print(\"I's a tie.\")\n",
    "                        sys.exit()\n",
    "                elif s > 21 and ss > 21:\n",
    "                    if (s-10) > (ss-10):\n",
    "                        print('Winner, Winner, Chicken Dinner! You have won!')\n",
    "                        sys.exit()\n",
    "                    elif (s-10) < (ss-10):\n",
    "                        print('Game Over. The house wins')\n",
    "                        sys.exit()\n",
    "                    else:\n",
    "                        print(\"I's a tie.\")\n",
    "                        sys.exit()\n",
    "                else:\n",
    "                    if s > ss:\n",
    "                        print('Winner, Winner, Chicken Dinner! You have won!')\n",
    "                        sys.exit()\n",
    "                    elif s < ss:\n",
    "                        print('Game Over. The house wins')\n",
    "                        sys.exit()\n",
    "                    else:\n",
    "                        print(\"I's a tie.\")\n",
    "                        sys.exit()\n",
    "        else:\n",
    "            if s > ss:\n",
    "                print('Winner, Winner, Chicken Dinner! You have won!')\n",
    "                sys.exit()\n",
    "            elif ss < s:\n",
    "                print('Game Over. The house wins')\n",
    "                sys.exit()\n",
    "            else:\n",
    "                print(\"I's a tie.\")\n",
    "                sys.exit()\n",
    "\n",
    "dealer_decision()"
   ]
  },
  {
   "cell_type": "code",
   "execution_count": 16,
   "metadata": {},
   "outputs": [
    {
     "name": "stdout",
     "output_type": "stream",
     "text": [
      "The dealer deals the cards.\n",
      "You receive the cards:  8 and 2\n",
      "The dealer receives the cards:  Q and an unknown card.\n",
      "Write \"Hit\" to draw another card.\n",
      "Write \"Stand\" to end your turn.\n",
      "hit\n",
      "You receive the card:  10\n",
      "Write \"Hit\" to draw another card.\n",
      "Write \"Stand\" to end your turn.\n",
      "stand\n",
      "Player stands.\n",
      "The dealer reveals all his cards:  Q and Q\n"
     ]
    },
    {
     "ename": "RecursionError",
     "evalue": "maximum recursion depth exceeded in comparison",
     "output_type": "error",
     "traceback": [
      "\u001b[1;31m---------------------------------------------------------------------------\u001b[0m",
      "\u001b[1;31mRecursionError\u001b[0m                            Traceback (most recent call last)",
      "\u001b[1;32m<ipython-input-16-a7c90d86ef56>\u001b[0m in \u001b[0;36m<module>\u001b[1;34m\u001b[0m\n\u001b[0;32m      8\u001b[0m     \u001b[0mdealer_decision\u001b[0m\u001b[1;33m(\u001b[0m\u001b[1;33m)\u001b[0m\u001b[1;33m\u001b[0m\u001b[1;33m\u001b[0m\u001b[0m\n\u001b[0;32m      9\u001b[0m \u001b[1;33m\u001b[0m\u001b[0m\n\u001b[1;32m---> 10\u001b[1;33m \u001b[0mgame\u001b[0m\u001b[1;33m(\u001b[0m\u001b[1;33m)\u001b[0m\u001b[1;33m\u001b[0m\u001b[1;33m\u001b[0m\u001b[0m\n\u001b[0m",
      "\u001b[1;32m<ipython-input-16-a7c90d86ef56>\u001b[0m in \u001b[0;36mgame\u001b[1;34m()\u001b[0m\n\u001b[0;32m      6\u001b[0m     \u001b[0mplayer_decision\u001b[0m\u001b[1;33m(\u001b[0m\u001b[1;33m)\u001b[0m\u001b[1;33m\u001b[0m\u001b[1;33m\u001b[0m\u001b[0m\n\u001b[0;32m      7\u001b[0m     \u001b[0mprint\u001b[0m\u001b[1;33m(\u001b[0m\u001b[1;34m'The dealer reveals all his cards: '\u001b[0m\u001b[1;33m,\u001b[0m \u001b[0mdealer\u001b[0m\u001b[1;33m[\u001b[0m\u001b[1;36m0\u001b[0m\u001b[1;33m]\u001b[0m\u001b[1;33m,\u001b[0m \u001b[1;34m'and'\u001b[0m\u001b[1;33m,\u001b[0m \u001b[0mdealer\u001b[0m\u001b[1;33m[\u001b[0m\u001b[1;36m1\u001b[0m\u001b[1;33m]\u001b[0m\u001b[1;33m)\u001b[0m\u001b[1;33m\u001b[0m\u001b[1;33m\u001b[0m\u001b[0m\n\u001b[1;32m----> 8\u001b[1;33m     \u001b[0mdealer_decision\u001b[0m\u001b[1;33m(\u001b[0m\u001b[1;33m)\u001b[0m\u001b[1;33m\u001b[0m\u001b[1;33m\u001b[0m\u001b[0m\n\u001b[0m\u001b[0;32m      9\u001b[0m \u001b[1;33m\u001b[0m\u001b[0m\n\u001b[0;32m     10\u001b[0m \u001b[0mgame\u001b[0m\u001b[1;33m(\u001b[0m\u001b[1;33m)\u001b[0m\u001b[1;33m\u001b[0m\u001b[1;33m\u001b[0m\u001b[0m\n",
      "\u001b[1;32m<ipython-input-15-a0acf75c7cf6>\u001b[0m in \u001b[0;36mdealer_decision\u001b[1;34m()\u001b[0m\n\u001b[0;32m     20\u001b[0m                     \u001b[0mprint\u001b[0m\u001b[1;33m(\u001b[0m\u001b[1;34m\"Winner, Winner, Chicken Dinner! You have won! The dealer's hand is over 21.\"\u001b[0m\u001b[1;33m)\u001b[0m\u001b[1;33m\u001b[0m\u001b[1;33m\u001b[0m\u001b[0m\n\u001b[0;32m     21\u001b[0m                     \u001b[0msys\u001b[0m\u001b[1;33m.\u001b[0m\u001b[0mexit\u001b[0m\u001b[1;33m(\u001b[0m\u001b[1;33m)\u001b[0m\u001b[1;33m\u001b[0m\u001b[1;33m\u001b[0m\u001b[0m\n\u001b[1;32m---> 22\u001b[1;33m         \u001b[0mdealer_decision\u001b[0m\u001b[1;33m(\u001b[0m\u001b[1;33m)\u001b[0m\u001b[1;33m\u001b[0m\u001b[1;33m\u001b[0m\u001b[0m\n\u001b[0m\u001b[0;32m     23\u001b[0m     \u001b[1;32melse\u001b[0m\u001b[1;33m:\u001b[0m\u001b[1;33m\u001b[0m\u001b[1;33m\u001b[0m\u001b[0m\n\u001b[0;32m     24\u001b[0m         \u001b[0mprint\u001b[0m\u001b[1;33m(\u001b[0m\u001b[1;34m'The dealer stands'\u001b[0m\u001b[1;33m)\u001b[0m\u001b[1;33m\u001b[0m\u001b[1;33m\u001b[0m\u001b[0m\n",
      "... last 1 frames repeated, from the frame below ...\n",
      "\u001b[1;32m<ipython-input-15-a0acf75c7cf6>\u001b[0m in \u001b[0;36mdealer_decision\u001b[1;34m()\u001b[0m\n\u001b[0;32m     20\u001b[0m                     \u001b[0mprint\u001b[0m\u001b[1;33m(\u001b[0m\u001b[1;34m\"Winner, Winner, Chicken Dinner! You have won! The dealer's hand is over 21.\"\u001b[0m\u001b[1;33m)\u001b[0m\u001b[1;33m\u001b[0m\u001b[1;33m\u001b[0m\u001b[0m\n\u001b[0;32m     21\u001b[0m                     \u001b[0msys\u001b[0m\u001b[1;33m.\u001b[0m\u001b[0mexit\u001b[0m\u001b[1;33m(\u001b[0m\u001b[1;33m)\u001b[0m\u001b[1;33m\u001b[0m\u001b[1;33m\u001b[0m\u001b[0m\n\u001b[1;32m---> 22\u001b[1;33m         \u001b[0mdealer_decision\u001b[0m\u001b[1;33m(\u001b[0m\u001b[1;33m)\u001b[0m\u001b[1;33m\u001b[0m\u001b[1;33m\u001b[0m\u001b[0m\n\u001b[0m\u001b[0;32m     23\u001b[0m     \u001b[1;32melse\u001b[0m\u001b[1;33m:\u001b[0m\u001b[1;33m\u001b[0m\u001b[1;33m\u001b[0m\u001b[0m\n\u001b[0;32m     24\u001b[0m         \u001b[0mprint\u001b[0m\u001b[1;33m(\u001b[0m\u001b[1;34m'The dealer stands'\u001b[0m\u001b[1;33m)\u001b[0m\u001b[1;33m\u001b[0m\u001b[1;33m\u001b[0m\u001b[0m\n",
      "\u001b[1;31mRecursionError\u001b[0m: maximum recursion depth exceeded in comparison"
     ]
    }
   ],
   "source": [
    "def game():\n",
    "    random.shuffle(deck)\n",
    "    deal()\n",
    "    player_status()\n",
    "    dealer_status()\n",
    "    player_decision()\n",
    "    print('The dealer reveals all his cards: ', dealer[0], 'and', dealer[1])\n",
    "    dealer_decision()\n",
    "    \n",
    "game()"
   ]
  },
  {
   "cell_type": "code",
   "execution_count": null,
   "metadata": {},
   "outputs": [],
   "source": [
    "\n",
    "\n",
    "\n",
    "\n",
    "\n",
    "\n",
    "\n",
    "\n",
    "\n",
    "\n",
    "\n",
    "\n",
    "\n",
    "\n",
    "\n",
    "\n",
    "\n",
    "\n",
    "\n",
    "\n"
   ]
  },
  {
   "cell_type": "markdown",
   "metadata": {},
   "source": [
    "### Notes\n",
    "\n",
    "#### Issues with the current solution:\n",
    "\n",
    "1. If 2 Aces are found in the same hand, the game won't work properly\n",
    "2. This solution is overly complicated\n",
    "3. Some lines of code have become redundant and/or unecessary\n",
    "4. The sys.exit() function is not optimal and needs to be changed\n",
    "    \n",
    "#### What I would do differently next time:\n",
    "\n",
    "1. Fullproof my plan/flow-chart before starting\n",
    "2. Use more functions\n",
    "    2. Spend more time designing functions that can be used in different situations\n",
    "3. Find a way to ask the player to play again, and re-execute the game"
   ]
  },
  {
   "cell_type": "code",
   "execution_count": null,
   "metadata": {},
   "outputs": [],
   "source": []
  }
 ],
 "metadata": {
  "kernelspec": {
   "display_name": "Python 3",
   "language": "python",
   "name": "python3"
  },
  "language_info": {
   "codemirror_mode": {
    "name": "ipython",
    "version": 3
   },
   "file_extension": ".py",
   "mimetype": "text/x-python",
   "name": "python",
   "nbconvert_exporter": "python",
   "pygments_lexer": "ipython3",
   "version": "3.7.6"
  }
 },
 "nbformat": 4,
 "nbformat_minor": 4
}

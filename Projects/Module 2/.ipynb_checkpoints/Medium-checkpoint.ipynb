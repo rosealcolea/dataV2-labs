{
 "cells": [
  {
   "cell_type": "markdown",
   "metadata": {},
   "source": []
  },
  {
   "cell_type": "code",
   "execution_count": 1,
   "metadata": {},
   "outputs": [],
   "source": [
    "import pandas as pd"
   ]
  },
  {
   "cell_type": "code",
   "execution_count": 4,
   "metadata": {},
   "outputs": [
    {
     "name": "stderr",
     "output_type": "stream",
     "text": [
      "C:\\ProgramData\\Anaconda3\\lib\\site-packages\\IPython\\core\\interactiveshell.py:3063: DtypeWarning: Columns (5) have mixed types.Specify dtype option on import or set low_memory=False.\n",
      "  interactivity=interactivity, compiler=compiler, result=result)\n"
     ]
    }
   ],
   "source": [
    "m = pd.read_csv(\"./data/Medium_Clean.csv\")"
   ]
  },
  {
   "cell_type": "code",
   "execution_count": 5,
   "metadata": {},
   "outputs": [
    {
     "data": {
      "text/html": [
       "<div>\n",
       "<style scoped>\n",
       "    .dataframe tbody tr th:only-of-type {\n",
       "        vertical-align: middle;\n",
       "    }\n",
       "\n",
       "    .dataframe tbody tr th {\n",
       "        vertical-align: top;\n",
       "    }\n",
       "\n",
       "    .dataframe thead th {\n",
       "        text-align: right;\n",
       "    }\n",
       "</style>\n",
       "<table border=\"1\" class=\"dataframe\">\n",
       "  <thead>\n",
       "    <tr style=\"text-align: right;\">\n",
       "      <th></th>\n",
       "      <th>Unnamed: 0</th>\n",
       "      <th>Title</th>\n",
       "      <th>Subtitle</th>\n",
       "      <th>Image</th>\n",
       "      <th>Author</th>\n",
       "      <th>Publication</th>\n",
       "      <th>Year</th>\n",
       "      <th>Month</th>\n",
       "      <th>Day</th>\n",
       "      <th>Reading_Time</th>\n",
       "      <th>...</th>\n",
       "      <th>Tag_travel</th>\n",
       "      <th>Tag_trump</th>\n",
       "      <th>Tag_ux</th>\n",
       "      <th>Tag_venture-capital</th>\n",
       "      <th>Tag_web-design</th>\n",
       "      <th>Tag_web-development</th>\n",
       "      <th>Tag_women</th>\n",
       "      <th>Tag_wordpress</th>\n",
       "      <th>Tag_work</th>\n",
       "      <th>Tag_writing</th>\n",
       "    </tr>\n",
       "  </thead>\n",
       "  <tbody>\n",
       "    <tr>\n",
       "      <th>0</th>\n",
       "      <td>2</td>\n",
       "      <td>Online Animation: Mixamo vs Norah AI</td>\n",
       "      <td>Online animations tools provide game designers...</td>\n",
       "      <td>1</td>\n",
       "      <td>Emma Laurent</td>\n",
       "      <td>NaN</td>\n",
       "      <td>2017</td>\n",
       "      <td>8</td>\n",
       "      <td>1</td>\n",
       "      <td>5</td>\n",
       "      <td>...</td>\n",
       "      <td>0</td>\n",
       "      <td>0</td>\n",
       "      <td>0</td>\n",
       "      <td>0</td>\n",
       "      <td>0</td>\n",
       "      <td>0</td>\n",
       "      <td>0</td>\n",
       "      <td>0</td>\n",
       "      <td>0</td>\n",
       "      <td>0</td>\n",
       "    </tr>\n",
       "    <tr>\n",
       "      <th>1</th>\n",
       "      <td>5</td>\n",
       "      <td>A.I. ?</td>\n",
       "      <td>NaN</td>\n",
       "      <td>0</td>\n",
       "      <td>Sanparith Marukatat</td>\n",
       "      <td>NaN</td>\n",
       "      <td>2017</td>\n",
       "      <td>8</td>\n",
       "      <td>1</td>\n",
       "      <td>2</td>\n",
       "      <td>...</td>\n",
       "      <td>0</td>\n",
       "      <td>0</td>\n",
       "      <td>0</td>\n",
       "      <td>0</td>\n",
       "      <td>0</td>\n",
       "      <td>0</td>\n",
       "      <td>0</td>\n",
       "      <td>0</td>\n",
       "      <td>0</td>\n",
       "      <td>0</td>\n",
       "    </tr>\n",
       "    <tr>\n",
       "      <th>2</th>\n",
       "      <td>11</td>\n",
       "      <td>Futures of AI, Friendly AI?</td>\n",
       "      <td>From Physics of the Future: How Science Will S...</td>\n",
       "      <td>1</td>\n",
       "      <td>Z</td>\n",
       "      <td>NaN</td>\n",
       "      <td>2017</td>\n",
       "      <td>8</td>\n",
       "      <td>1</td>\n",
       "      <td>3</td>\n",
       "      <td>...</td>\n",
       "      <td>0</td>\n",
       "      <td>0</td>\n",
       "      <td>0</td>\n",
       "      <td>0</td>\n",
       "      <td>0</td>\n",
       "      <td>0</td>\n",
       "      <td>0</td>\n",
       "      <td>0</td>\n",
       "      <td>0</td>\n",
       "      <td>0</td>\n",
       "    </tr>\n",
       "    <tr>\n",
       "      <th>3</th>\n",
       "      <td>12</td>\n",
       "      <td>The Value Generated through AI led Mindfulness</td>\n",
       "      <td>A true product co-created by the Millennials</td>\n",
       "      <td>1</td>\n",
       "      <td>Emiko Sawaguchi</td>\n",
       "      <td>MILLENNIALSTIMES</td>\n",
       "      <td>2017</td>\n",
       "      <td>8</td>\n",
       "      <td>1</td>\n",
       "      <td>5</td>\n",
       "      <td>...</td>\n",
       "      <td>0</td>\n",
       "      <td>0</td>\n",
       "      <td>0</td>\n",
       "      <td>0</td>\n",
       "      <td>0</td>\n",
       "      <td>0</td>\n",
       "      <td>0</td>\n",
       "      <td>0</td>\n",
       "      <td>0</td>\n",
       "      <td>0</td>\n",
       "    </tr>\n",
       "    <tr>\n",
       "      <th>4</th>\n",
       "      <td>17</td>\n",
       "      <td>Os Melhores Links de JulhoCmeras Vintage, Goog...</td>\n",
       "      <td>mas pera a?</td>\n",
       "      <td>1</td>\n",
       "      <td>Giovani Ferreira</td>\n",
       "      <td>NEW ORDER</td>\n",
       "      <td>2017</td>\n",
       "      <td>8</td>\n",
       "      <td>1</td>\n",
       "      <td>3</td>\n",
       "      <td>...</td>\n",
       "      <td>0</td>\n",
       "      <td>0</td>\n",
       "      <td>0</td>\n",
       "      <td>0</td>\n",
       "      <td>0</td>\n",
       "      <td>0</td>\n",
       "      <td>0</td>\n",
       "      <td>0</td>\n",
       "      <td>0</td>\n",
       "      <td>0</td>\n",
       "    </tr>\n",
       "  </tbody>\n",
       "</table>\n",
       "<p>5 rows × 108 columns</p>\n",
       "</div>"
      ],
      "text/plain": [
       "   Unnamed: 0                                              Title  \\\n",
       "0           2               Online Animation: Mixamo vs Norah AI   \n",
       "1           5                                             A.I. ?   \n",
       "2          11                        Futures of AI, Friendly AI?   \n",
       "3          12     The Value Generated through AI led Mindfulness   \n",
       "4          17  Os Melhores Links de JulhoCmeras Vintage, Goog...   \n",
       "\n",
       "                                            Subtitle  Image  \\\n",
       "0  Online animations tools provide game designers...      1   \n",
       "1                                                NaN      0   \n",
       "2  From Physics of the Future: How Science Will S...      1   \n",
       "3       A true product co-created by the Millennials      1   \n",
       "4                                        mas pera a?      1   \n",
       "\n",
       "                Author       Publication  Year  Month  Day  Reading_Time  ...  \\\n",
       "0         Emma Laurent               NaN  2017      8    1             5  ...   \n",
       "1  Sanparith Marukatat               NaN  2017      8    1             2  ...   \n",
       "2                   Z                NaN  2017      8    1             3  ...   \n",
       "3      Emiko Sawaguchi  MILLENNIALSTIMES  2017      8    1             5  ...   \n",
       "4     Giovani Ferreira         NEW ORDER  2017      8    1             3  ...   \n",
       "\n",
       "   Tag_travel Tag_trump Tag_ux  Tag_venture-capital  Tag_web-design  \\\n",
       "0           0         0      0                    0               0   \n",
       "1           0         0      0                    0               0   \n",
       "2           0         0      0                    0               0   \n",
       "3           0         0      0                    0               0   \n",
       "4           0         0      0                    0               0   \n",
       "\n",
       "   Tag_web-development  Tag_women  Tag_wordpress  Tag_work  Tag_writing  \n",
       "0                    0          0              0         0            0  \n",
       "1                    0          0              0         0            0  \n",
       "2                    0          0              0         0            0  \n",
       "3                    0          0              0         0            0  \n",
       "4                    0          0              0         0            0  \n",
       "\n",
       "[5 rows x 108 columns]"
      ]
     },
     "execution_count": 5,
     "metadata": {},
     "output_type": "execute_result"
    }
   ],
   "source": [
    "m.head()"
   ]
  },
  {
   "cell_type": "code",
   "execution_count": 6,
   "metadata": {},
   "outputs": [
    {
     "data": {
      "text/plain": [
       "(1391033, 108)"
      ]
     },
     "execution_count": 6,
     "metadata": {},
     "output_type": "execute_result"
    }
   ],
   "source": [
    "m.shape"
   ]
  },
  {
   "cell_type": "code",
   "execution_count": 8,
   "metadata": {},
   "outputs": [
    {
     "data": {
      "text/plain": [
       "Title           48813\n",
       "Subtitle       440557\n",
       "Publication    971655\n",
       "dtype: int64"
      ]
     },
     "execution_count": 8,
     "metadata": {},
     "output_type": "execute_result"
    }
   ],
   "source": [
    "#null_cols\n",
    "null_cols = m.isnull().sum()\n",
    "null_cols[null_cols > 0]"
   ]
  },
  {
   "cell_type": "code",
   "execution_count": null,
   "metadata": {},
   "outputs": [],
   "source": []
  }
 ],
 "metadata": {
  "kernelspec": {
   "display_name": "Python 3",
   "language": "python",
   "name": "python3"
  },
  "language_info": {
   "codemirror_mode": {
    "name": "ipython",
    "version": 3
   },
   "file_extension": ".py",
   "mimetype": "text/x-python",
   "name": "python",
   "nbconvert_exporter": "python",
   "pygments_lexer": "ipython3",
   "version": "3.7.6"
  }
 },
 "nbformat": 4,
 "nbformat_minor": 4
}

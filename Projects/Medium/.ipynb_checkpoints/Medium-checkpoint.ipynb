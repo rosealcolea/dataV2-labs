{
 "cells": [
  {
   "cell_type": "markdown",
   "metadata": {},
   "source": []
  },
  {
   "cell_type": "markdown",
   "metadata": {},
   "source": [
    "#### Notebook Set-up"
   ]
  },
  {
   "cell_type": "code",
   "execution_count": 2,
   "metadata": {},
   "outputs": [],
   "source": [
    "import pandas as pd\n",
    "import matplotlib.pyplot as plt\n",
    "%matplotlib inline\n",
    "import math\n",
    "import numpy as np\n",
    "import seaborn as sns\n",
    "from scipy.stats import ttest_1samp\n",
    "from scipy.stats import ttest_rel\n",
    "from scipy.stats import binom\n",
    "import statsmodels.api as sm"
   ]
  },
  {
   "cell_type": "code",
   "execution_count": 3,
   "metadata": {},
   "outputs": [
    {
     "name": "stderr",
     "output_type": "stream",
     "text": [
      "C:\\ProgramData\\Anaconda3\\lib\\site-packages\\IPython\\core\\interactiveshell.py:3063: DtypeWarning: Columns (5) have mixed types.Specify dtype option on import or set low_memory=False.\n",
      "  interactivity=interactivity, compiler=compiler, result=result)\n"
     ]
    }
   ],
   "source": [
    "m = pd.read_csv(\"./data/Medium_Clean.csv\")"
   ]
  },
  {
   "cell_type": "markdown",
   "metadata": {},
   "source": [
    "### Exploring the Data"
   ]
  },
  {
   "cell_type": "code",
   "execution_count": 4,
   "metadata": {
    "scrolled": true
   },
   "outputs": [
    {
     "data": {
      "text/html": [
       "<div>\n",
       "<style scoped>\n",
       "    .dataframe tbody tr th:only-of-type {\n",
       "        vertical-align: middle;\n",
       "    }\n",
       "\n",
       "    .dataframe tbody tr th {\n",
       "        vertical-align: top;\n",
       "    }\n",
       "\n",
       "    .dataframe thead th {\n",
       "        text-align: right;\n",
       "    }\n",
       "</style>\n",
       "<table border=\"1\" class=\"dataframe\">\n",
       "  <thead>\n",
       "    <tr style=\"text-align: right;\">\n",
       "      <th></th>\n",
       "      <th>Unnamed: 0</th>\n",
       "      <th>Title</th>\n",
       "      <th>Subtitle</th>\n",
       "      <th>Image</th>\n",
       "      <th>Author</th>\n",
       "      <th>Publication</th>\n",
       "      <th>Year</th>\n",
       "      <th>Month</th>\n",
       "      <th>Day</th>\n",
       "      <th>Reading_Time</th>\n",
       "      <th>...</th>\n",
       "      <th>Tag_travel</th>\n",
       "      <th>Tag_trump</th>\n",
       "      <th>Tag_ux</th>\n",
       "      <th>Tag_venture-capital</th>\n",
       "      <th>Tag_web-design</th>\n",
       "      <th>Tag_web-development</th>\n",
       "      <th>Tag_women</th>\n",
       "      <th>Tag_wordpress</th>\n",
       "      <th>Tag_work</th>\n",
       "      <th>Tag_writing</th>\n",
       "    </tr>\n",
       "  </thead>\n",
       "  <tbody>\n",
       "    <tr>\n",
       "      <th>0</th>\n",
       "      <td>2</td>\n",
       "      <td>Online Animation: Mixamo vs Norah AI</td>\n",
       "      <td>Online animations tools provide game designers...</td>\n",
       "      <td>1</td>\n",
       "      <td>Emma Laurent</td>\n",
       "      <td>NaN</td>\n",
       "      <td>2017</td>\n",
       "      <td>8</td>\n",
       "      <td>1</td>\n",
       "      <td>5</td>\n",
       "      <td>...</td>\n",
       "      <td>0</td>\n",
       "      <td>0</td>\n",
       "      <td>0</td>\n",
       "      <td>0</td>\n",
       "      <td>0</td>\n",
       "      <td>0</td>\n",
       "      <td>0</td>\n",
       "      <td>0</td>\n",
       "      <td>0</td>\n",
       "      <td>0</td>\n",
       "    </tr>\n",
       "    <tr>\n",
       "      <th>1</th>\n",
       "      <td>5</td>\n",
       "      <td>A.I. ?</td>\n",
       "      <td>NaN</td>\n",
       "      <td>0</td>\n",
       "      <td>Sanparith Marukatat</td>\n",
       "      <td>NaN</td>\n",
       "      <td>2017</td>\n",
       "      <td>8</td>\n",
       "      <td>1</td>\n",
       "      <td>2</td>\n",
       "      <td>...</td>\n",
       "      <td>0</td>\n",
       "      <td>0</td>\n",
       "      <td>0</td>\n",
       "      <td>0</td>\n",
       "      <td>0</td>\n",
       "      <td>0</td>\n",
       "      <td>0</td>\n",
       "      <td>0</td>\n",
       "      <td>0</td>\n",
       "      <td>0</td>\n",
       "    </tr>\n",
       "    <tr>\n",
       "      <th>2</th>\n",
       "      <td>11</td>\n",
       "      <td>Futures of AI, Friendly AI?</td>\n",
       "      <td>From Physics of the Future: How Science Will S...</td>\n",
       "      <td>1</td>\n",
       "      <td>Z</td>\n",
       "      <td>NaN</td>\n",
       "      <td>2017</td>\n",
       "      <td>8</td>\n",
       "      <td>1</td>\n",
       "      <td>3</td>\n",
       "      <td>...</td>\n",
       "      <td>0</td>\n",
       "      <td>0</td>\n",
       "      <td>0</td>\n",
       "      <td>0</td>\n",
       "      <td>0</td>\n",
       "      <td>0</td>\n",
       "      <td>0</td>\n",
       "      <td>0</td>\n",
       "      <td>0</td>\n",
       "      <td>0</td>\n",
       "    </tr>\n",
       "    <tr>\n",
       "      <th>3</th>\n",
       "      <td>12</td>\n",
       "      <td>The Value Generated through AI led Mindfulness</td>\n",
       "      <td>A true product co-created by the Millennials</td>\n",
       "      <td>1</td>\n",
       "      <td>Emiko Sawaguchi</td>\n",
       "      <td>MILLENNIALSTIMES</td>\n",
       "      <td>2017</td>\n",
       "      <td>8</td>\n",
       "      <td>1</td>\n",
       "      <td>5</td>\n",
       "      <td>...</td>\n",
       "      <td>0</td>\n",
       "      <td>0</td>\n",
       "      <td>0</td>\n",
       "      <td>0</td>\n",
       "      <td>0</td>\n",
       "      <td>0</td>\n",
       "      <td>0</td>\n",
       "      <td>0</td>\n",
       "      <td>0</td>\n",
       "      <td>0</td>\n",
       "    </tr>\n",
       "    <tr>\n",
       "      <th>4</th>\n",
       "      <td>17</td>\n",
       "      <td>Os Melhores Links de JulhoCmeras Vintage, Goog...</td>\n",
       "      <td>mas pera a?</td>\n",
       "      <td>1</td>\n",
       "      <td>Giovani Ferreira</td>\n",
       "      <td>NEW ORDER</td>\n",
       "      <td>2017</td>\n",
       "      <td>8</td>\n",
       "      <td>1</td>\n",
       "      <td>3</td>\n",
       "      <td>...</td>\n",
       "      <td>0</td>\n",
       "      <td>0</td>\n",
       "      <td>0</td>\n",
       "      <td>0</td>\n",
       "      <td>0</td>\n",
       "      <td>0</td>\n",
       "      <td>0</td>\n",
       "      <td>0</td>\n",
       "      <td>0</td>\n",
       "      <td>0</td>\n",
       "    </tr>\n",
       "  </tbody>\n",
       "</table>\n",
       "<p>5 rows × 108 columns</p>\n",
       "</div>"
      ],
      "text/plain": [
       "   Unnamed: 0                                              Title  \\\n",
       "0           2               Online Animation: Mixamo vs Norah AI   \n",
       "1           5                                             A.I. ?   \n",
       "2          11                        Futures of AI, Friendly AI?   \n",
       "3          12     The Value Generated through AI led Mindfulness   \n",
       "4          17  Os Melhores Links de JulhoCmeras Vintage, Goog...   \n",
       "\n",
       "                                            Subtitle  Image  \\\n",
       "0  Online animations tools provide game designers...      1   \n",
       "1                                                NaN      0   \n",
       "2  From Physics of the Future: How Science Will S...      1   \n",
       "3       A true product co-created by the Millennials      1   \n",
       "4                                        mas pera a?      1   \n",
       "\n",
       "                Author       Publication  Year  Month  Day  Reading_Time  ...  \\\n",
       "0         Emma Laurent               NaN  2017      8    1             5  ...   \n",
       "1  Sanparith Marukatat               NaN  2017      8    1             2  ...   \n",
       "2                   Z                NaN  2017      8    1             3  ...   \n",
       "3      Emiko Sawaguchi  MILLENNIALSTIMES  2017      8    1             5  ...   \n",
       "4     Giovani Ferreira         NEW ORDER  2017      8    1             3  ...   \n",
       "\n",
       "   Tag_travel Tag_trump Tag_ux  Tag_venture-capital  Tag_web-design  \\\n",
       "0           0         0      0                    0               0   \n",
       "1           0         0      0                    0               0   \n",
       "2           0         0      0                    0               0   \n",
       "3           0         0      0                    0               0   \n",
       "4           0         0      0                    0               0   \n",
       "\n",
       "   Tag_web-development  Tag_women  Tag_wordpress  Tag_work  Tag_writing  \n",
       "0                    0          0              0         0            0  \n",
       "1                    0          0              0         0            0  \n",
       "2                    0          0              0         0            0  \n",
       "3                    0          0              0         0            0  \n",
       "4                    0          0              0         0            0  \n",
       "\n",
       "[5 rows x 108 columns]"
      ]
     },
     "execution_count": 4,
     "metadata": {},
     "output_type": "execute_result"
    }
   ],
   "source": [
    "m.head()"
   ]
  },
  {
   "cell_type": "code",
   "execution_count": 5,
   "metadata": {},
   "outputs": [
    {
     "data": {
      "text/plain": [
       "(1391033, 108)"
      ]
     },
     "execution_count": 5,
     "metadata": {},
     "output_type": "execute_result"
    }
   ],
   "source": [
    "m.shape"
   ]
  },
  {
   "cell_type": "code",
   "execution_count": 6,
   "metadata": {},
   "outputs": [
    {
     "data": {
      "text/plain": [
       "Title           48813\n",
       "Subtitle       440557\n",
       "Publication    971655\n",
       "dtype: int64"
      ]
     },
     "execution_count": 6,
     "metadata": {},
     "output_type": "execute_result"
    }
   ],
   "source": [
    "#null_cols\n",
    "null_cols = m.isnull().sum()\n",
    "null_cols[null_cols > 0]"
   ]
  },
  {
   "cell_type": "code",
   "execution_count": 7,
   "metadata": {},
   "outputs": [
    {
     "data": {
      "text/plain": [
       "Index(['Unnamed: 0', 'Title', 'Subtitle', 'Image', 'Author', 'Publication',\n",
       "       'Year', 'Month', 'Day', 'Reading_Time',\n",
       "       ...\n",
       "       'Tag_travel', 'Tag_trump', 'Tag_ux', 'Tag_venture-capital',\n",
       "       'Tag_web-design', 'Tag_web-development', 'Tag_women', 'Tag_wordpress',\n",
       "       'Tag_work', 'Tag_writing'],\n",
       "      dtype='object', length=108)"
      ]
     },
     "execution_count": 7,
     "metadata": {},
     "output_type": "execute_result"
    }
   ],
   "source": [
    "m.columns"
   ]
  },
  {
   "cell_type": "code",
   "execution_count": 8,
   "metadata": {},
   "outputs": [
    {
     "name": "stdout",
     "output_type": "stream",
     "text": [
      "<class 'pandas.core.frame.DataFrame'>\n",
      "RangeIndex: 1391033 entries, 0 to 1391032\n",
      "Columns: 108 entries, Unnamed: 0 to Tag_writing\n",
      "dtypes: float64(1), int64(101), object(6)\n",
      "memory usage: 1.1+ GB\n"
     ]
    }
   ],
   "source": [
    "m.info()"
   ]
  },
  {
   "cell_type": "code",
   "execution_count": 9,
   "metadata": {},
   "outputs": [
    {
     "data": {
      "text/html": [
       "<div>\n",
       "<style scoped>\n",
       "    .dataframe tbody tr th:only-of-type {\n",
       "        vertical-align: middle;\n",
       "    }\n",
       "\n",
       "    .dataframe tbody tr th {\n",
       "        vertical-align: top;\n",
       "    }\n",
       "\n",
       "    .dataframe thead th {\n",
       "        text-align: right;\n",
       "    }\n",
       "</style>\n",
       "<table border=\"1\" class=\"dataframe\">\n",
       "  <thead>\n",
       "    <tr style=\"text-align: right;\">\n",
       "      <th></th>\n",
       "      <th>Unnamed: 0</th>\n",
       "      <th>Image</th>\n",
       "      <th>Year</th>\n",
       "      <th>Month</th>\n",
       "      <th>Day</th>\n",
       "      <th>Reading_Time</th>\n",
       "      <th>Claps</th>\n",
       "    </tr>\n",
       "  </thead>\n",
       "  <tbody>\n",
       "    <tr>\n",
       "      <th>count</th>\n",
       "      <td>1.391033e+06</td>\n",
       "      <td>1.391033e+06</td>\n",
       "      <td>1.391033e+06</td>\n",
       "      <td>1.391033e+06</td>\n",
       "      <td>1.391033e+06</td>\n",
       "      <td>1.391033e+06</td>\n",
       "      <td>1.391033e+06</td>\n",
       "    </tr>\n",
       "    <tr>\n",
       "      <th>mean</th>\n",
       "      <td>7.899109e+04</td>\n",
       "      <td>6.174512e-01</td>\n",
       "      <td>2.017608e+03</td>\n",
       "      <td>6.391335e+00</td>\n",
       "      <td>1.573437e+01</td>\n",
       "      <td>3.630148e+00</td>\n",
       "      <td>1.092326e+02</td>\n",
       "    </tr>\n",
       "    <tr>\n",
       "      <th>std</th>\n",
       "      <td>1.185557e+05</td>\n",
       "      <td>4.860097e-01</td>\n",
       "      <td>4.882375e-01</td>\n",
       "      <td>3.409542e+00</td>\n",
       "      <td>8.816255e+00</td>\n",
       "      <td>3.385274e+00</td>\n",
       "      <td>1.039822e+03</td>\n",
       "    </tr>\n",
       "    <tr>\n",
       "      <th>min</th>\n",
       "      <td>0.000000e+00</td>\n",
       "      <td>0.000000e+00</td>\n",
       "      <td>2.017000e+03</td>\n",
       "      <td>1.000000e+00</td>\n",
       "      <td>1.000000e+00</td>\n",
       "      <td>0.000000e+00</td>\n",
       "      <td>0.000000e+00</td>\n",
       "    </tr>\n",
       "    <tr>\n",
       "      <th>25%</th>\n",
       "      <td>8.562000e+03</td>\n",
       "      <td>0.000000e+00</td>\n",
       "      <td>2.017000e+03</td>\n",
       "      <td>3.000000e+00</td>\n",
       "      <td>8.000000e+00</td>\n",
       "      <td>2.000000e+00</td>\n",
       "      <td>0.000000e+00</td>\n",
       "    </tr>\n",
       "    <tr>\n",
       "      <th>50%</th>\n",
       "      <td>2.073400e+04</td>\n",
       "      <td>1.000000e+00</td>\n",
       "      <td>2.018000e+03</td>\n",
       "      <td>6.000000e+00</td>\n",
       "      <td>1.600000e+01</td>\n",
       "      <td>3.000000e+00</td>\n",
       "      <td>1.000000e+00</td>\n",
       "    </tr>\n",
       "    <tr>\n",
       "      <th>75%</th>\n",
       "      <td>8.975000e+04</td>\n",
       "      <td>1.000000e+00</td>\n",
       "      <td>2.018000e+03</td>\n",
       "      <td>9.000000e+00</td>\n",
       "      <td>2.300000e+01</td>\n",
       "      <td>5.000000e+00</td>\n",
       "      <td>3.600000e+01</td>\n",
       "    </tr>\n",
       "    <tr>\n",
       "      <th>max</th>\n",
       "      <td>4.375080e+05</td>\n",
       "      <td>1.000000e+00</td>\n",
       "      <td>2.018000e+03</td>\n",
       "      <td>1.200000e+01</td>\n",
       "      <td>3.100000e+01</td>\n",
       "      <td>5.150000e+02</td>\n",
       "      <td>2.910000e+05</td>\n",
       "    </tr>\n",
       "  </tbody>\n",
       "</table>\n",
       "</div>"
      ],
      "text/plain": [
       "         Unnamed: 0         Image          Year         Month           Day  \\\n",
       "count  1.391033e+06  1.391033e+06  1.391033e+06  1.391033e+06  1.391033e+06   \n",
       "mean   7.899109e+04  6.174512e-01  2.017608e+03  6.391335e+00  1.573437e+01   \n",
       "std    1.185557e+05  4.860097e-01  4.882375e-01  3.409542e+00  8.816255e+00   \n",
       "min    0.000000e+00  0.000000e+00  2.017000e+03  1.000000e+00  1.000000e+00   \n",
       "25%    8.562000e+03  0.000000e+00  2.017000e+03  3.000000e+00  8.000000e+00   \n",
       "50%    2.073400e+04  1.000000e+00  2.018000e+03  6.000000e+00  1.600000e+01   \n",
       "75%    8.975000e+04  1.000000e+00  2.018000e+03  9.000000e+00  2.300000e+01   \n",
       "max    4.375080e+05  1.000000e+00  2.018000e+03  1.200000e+01  3.100000e+01   \n",
       "\n",
       "       Reading_Time         Claps  \n",
       "count  1.391033e+06  1.391033e+06  \n",
       "mean   3.630148e+00  1.092326e+02  \n",
       "std    3.385274e+00  1.039822e+03  \n",
       "min    0.000000e+00  0.000000e+00  \n",
       "25%    2.000000e+00  0.000000e+00  \n",
       "50%    3.000000e+00  1.000000e+00  \n",
       "75%    5.000000e+00  3.600000e+01  \n",
       "max    5.150000e+02  2.910000e+05  "
      ]
     },
     "execution_count": 9,
     "metadata": {},
     "output_type": "execute_result"
    }
   ],
   "source": [
    "# Descriptive Stats Table\n",
    "m[['Unnamed: 0', 'Title', 'Subtitle', 'Image', 'Author', 'Publication',\n",
    "  'Year', 'Month', 'Day', 'Reading_Time', \"Claps\"]].describe()"
   ]
  },
  {
   "cell_type": "code",
   "execution_count": 10,
   "metadata": {},
   "outputs": [
    {
     "data": {
      "text/html": [
       "<div>\n",
       "<style scoped>\n",
       "    .dataframe tbody tr th:only-of-type {\n",
       "        vertical-align: middle;\n",
       "    }\n",
       "\n",
       "    .dataframe tbody tr th {\n",
       "        vertical-align: top;\n",
       "    }\n",
       "\n",
       "    .dataframe thead th {\n",
       "        text-align: right;\n",
       "    }\n",
       "</style>\n",
       "<table border=\"1\" class=\"dataframe\">\n",
       "  <thead>\n",
       "    <tr style=\"text-align: right;\">\n",
       "      <th></th>\n",
       "      <th>Unnamed: 0</th>\n",
       "      <th>Image</th>\n",
       "      <th>Year</th>\n",
       "      <th>Month</th>\n",
       "      <th>Day</th>\n",
       "      <th>Reading_Time</th>\n",
       "      <th>Claps</th>\n",
       "    </tr>\n",
       "  </thead>\n",
       "  <tbody>\n",
       "    <tr>\n",
       "      <th>Unnamed: 0</th>\n",
       "      <td>1.000000</td>\n",
       "      <td>0.114647</td>\n",
       "      <td>0.022086</td>\n",
       "      <td>-0.009662</td>\n",
       "      <td>0.002492</td>\n",
       "      <td>0.062328</td>\n",
       "      <td>0.069984</td>\n",
       "    </tr>\n",
       "    <tr>\n",
       "      <th>Image</th>\n",
       "      <td>0.114647</td>\n",
       "      <td>1.000000</td>\n",
       "      <td>0.019520</td>\n",
       "      <td>-0.016535</td>\n",
       "      <td>-0.004010</td>\n",
       "      <td>0.136924</td>\n",
       "      <td>0.048623</td>\n",
       "    </tr>\n",
       "    <tr>\n",
       "      <th>Year</th>\n",
       "      <td>0.022086</td>\n",
       "      <td>0.019520</td>\n",
       "      <td>1.000000</td>\n",
       "      <td>-0.848944</td>\n",
       "      <td>-0.004944</td>\n",
       "      <td>0.017663</td>\n",
       "      <td>0.010128</td>\n",
       "    </tr>\n",
       "    <tr>\n",
       "      <th>Month</th>\n",
       "      <td>-0.009662</td>\n",
       "      <td>-0.016535</td>\n",
       "      <td>-0.848944</td>\n",
       "      <td>1.000000</td>\n",
       "      <td>-0.000315</td>\n",
       "      <td>-0.010752</td>\n",
       "      <td>-0.009464</td>\n",
       "    </tr>\n",
       "    <tr>\n",
       "      <th>Day</th>\n",
       "      <td>0.002492</td>\n",
       "      <td>-0.004010</td>\n",
       "      <td>-0.004944</td>\n",
       "      <td>-0.000315</td>\n",
       "      <td>1.000000</td>\n",
       "      <td>-0.000565</td>\n",
       "      <td>0.000384</td>\n",
       "    </tr>\n",
       "    <tr>\n",
       "      <th>Reading_Time</th>\n",
       "      <td>0.062328</td>\n",
       "      <td>0.136924</td>\n",
       "      <td>0.017663</td>\n",
       "      <td>-0.010752</td>\n",
       "      <td>-0.000565</td>\n",
       "      <td>1.000000</td>\n",
       "      <td>0.077830</td>\n",
       "    </tr>\n",
       "    <tr>\n",
       "      <th>Claps</th>\n",
       "      <td>0.069984</td>\n",
       "      <td>0.048623</td>\n",
       "      <td>0.010128</td>\n",
       "      <td>-0.009464</td>\n",
       "      <td>0.000384</td>\n",
       "      <td>0.077830</td>\n",
       "      <td>1.000000</td>\n",
       "    </tr>\n",
       "  </tbody>\n",
       "</table>\n",
       "</div>"
      ],
      "text/plain": [
       "              Unnamed: 0     Image      Year     Month       Day  \\\n",
       "Unnamed: 0      1.000000  0.114647  0.022086 -0.009662  0.002492   \n",
       "Image           0.114647  1.000000  0.019520 -0.016535 -0.004010   \n",
       "Year            0.022086  0.019520  1.000000 -0.848944 -0.004944   \n",
       "Month          -0.009662 -0.016535 -0.848944  1.000000 -0.000315   \n",
       "Day             0.002492 -0.004010 -0.004944 -0.000315  1.000000   \n",
       "Reading_Time    0.062328  0.136924  0.017663 -0.010752 -0.000565   \n",
       "Claps           0.069984  0.048623  0.010128 -0.009464  0.000384   \n",
       "\n",
       "              Reading_Time     Claps  \n",
       "Unnamed: 0        0.062328  0.069984  \n",
       "Image             0.136924  0.048623  \n",
       "Year              0.017663  0.010128  \n",
       "Month            -0.010752 -0.009464  \n",
       "Day              -0.000565  0.000384  \n",
       "Reading_Time      1.000000  0.077830  \n",
       "Claps             0.077830  1.000000  "
      ]
     },
     "execution_count": 10,
     "metadata": {},
     "output_type": "execute_result"
    }
   ],
   "source": [
    "# Correlation Table\n",
    "m[['Unnamed: 0', 'Title', 'Subtitle', 'Image', 'Author', 'Publication',\n",
    "  'Year', 'Month', 'Day', 'Reading_Time', \"Claps\"]].corr()"
   ]
  },
  {
   "cell_type": "code",
   "execution_count": 13,
   "metadata": {},
   "outputs": [
    {
     "data": {
      "text/plain": [
       "nan"
      ]
     },
     "execution_count": 13,
     "metadata": {},
     "output_type": "execute_result"
    }
   ],
   "source": [
    "# Testing the difference an image makes\n",
    "img = m[m[\"Image\"]==0]\n",
    "m[m['Image']==1][\"Claps\"].corr(m[m[\"Image\"]==0]['Claps'])"
   ]
  },
  {
   "cell_type": "markdown",
   "metadata": {},
   "source": [
    "#### General Information"
   ]
  },
  {
   "cell_type": "code",
   "execution_count": 20,
   "metadata": {},
   "outputs": [
    {
     "name": "stdout",
     "output_type": "stream",
     "text": [
      "Number of Articles:  1391033\n",
      "Number of Authors:  351584\n",
      "Number of Publications:  43045\n",
      "Number of Tags:  95\n"
     ]
    }
   ],
   "source": [
    "# General info:\n",
    "print(\"Number of Articles: \", m.shape[0])\n",
    "print(\"Number of Authors: \", m.Author.value_counts().shape[0])\n",
    "print(\"Number of Publications: \", m.Publication.value_counts().shape[0])\n",
    "print(\"Number of Tags: \", m.columns[13:].shape[0])"
   ]
  },
  {
   "cell_type": "code",
   "execution_count": 3,
   "metadata": {},
   "outputs": [],
   "source": [
    "# List of tags:\n",
    "tags = [t for t in m.columns[13:]]"
   ]
  },
  {
   "cell_type": "markdown",
   "metadata": {},
   "source": [
    "### Data Cleaning"
   ]
  },
  {
   "cell_type": "code",
   "execution_count": 4,
   "metadata": {},
   "outputs": [
    {
     "data": {
      "text/plain": [
       "437509"
      ]
     },
     "execution_count": 4,
     "metadata": {},
     "output_type": "execute_result"
    }
   ],
   "source": [
    "#checking how many articles have more than one tag\n",
    "tags_df = m.reindex([t for t in m.columns[13:]], axis=\"columns\")\n",
    "tsum = tags_df.sum(axis=1)\n",
    "tsum.max()\n",
    "tsum[tsum > 1].count()"
   ]
  },
  {
   "cell_type": "code",
   "execution_count": 4,
   "metadata": {},
   "outputs": [
    {
     "data": {
      "text/plain": [
       "31.452093516113568"
      ]
     },
     "execution_count": 4,
     "metadata": {},
     "output_type": "execute_result"
    }
   ],
   "source": [
    "# 30 % of my data has more than one tag\n",
    "tsum[tsum > 1].count()/m.shape[0]*100"
   ]
  },
  {
   "cell_type": "code",
   "execution_count": 5,
   "metadata": {},
   "outputs": [],
   "source": [
    "# I decide to not include those articles in my analysis due to the increased dificulty\n",
    "drop_rows = list(tsum[tsum > 1].index)\n",
    "m = m.drop(drop_rows, axis=0)"
   ]
  },
  {
   "cell_type": "code",
   "execution_count": 6,
   "metadata": {},
   "outputs": [
    {
     "data": {
      "text/plain": [
       "(953524, 108)"
      ]
     },
     "execution_count": 6,
     "metadata": {},
     "output_type": "execute_result"
    }
   ],
   "source": [
    "# Succesfully dropped the rows I didn't want\n",
    "m.shape"
   ]
  },
  {
   "cell_type": "code",
   "execution_count": 55,
   "metadata": {},
   "outputs": [
    {
     "data": {
      "text/plain": [
       "0"
      ]
     },
     "execution_count": 55,
     "metadata": {},
     "output_type": "execute_result"
    }
   ],
   "source": [
    "# Second check that the drop worked\n",
    "tags_df = m.reindex([t for t in m.columns[13:]], axis=\"columns\")\n",
    "tsum = tags_df.sum(axis=1)\n",
    "tsum.max()\n",
    "tsum[tsum > 1].count()"
   ]
  },
  {
   "cell_type": "markdown",
   "metadata": {},
   "source": [
    "### Tag Exploration"
   ]
  },
  {
   "cell_type": "code",
   "execution_count": null,
   "metadata": {},
   "outputs": [],
   "source": [
    "# Creating a new column with the tags so that it's easier to compare\n",
    "lst = [m.index(c) for t in tags for c in m[t] if c==1]\n",
    "#lst = [m.at[t][i] for t in tags for i in range(len(m)-1) if m[t][i]==1]\n",
    "lst"
   ]
  },
  {
   "cell_type": "markdown",
   "metadata": {},
   "source": [
    "### Date Exploration"
   ]
  },
  {
   "cell_type": "code",
   "execution_count": 14,
   "metadata": {
    "scrolled": true
   },
   "outputs": [
    {
     "ename": "AttributeError",
     "evalue": "'AxesSubplot' object has no property 'figsize'",
     "output_type": "error",
     "traceback": [
      "\u001b[1;31m---------------------------------------------------------------------------\u001b[0m",
      "\u001b[1;31mAttributeError\u001b[0m                            Traceback (most recent call last)",
      "\u001b[1;32m<ipython-input-14-62a3d2764c6e>\u001b[0m in \u001b[0;36m<module>\u001b[1;34m\u001b[0m\n\u001b[0;32m      5\u001b[0m \u001b[0max\u001b[0m \u001b[1;33m=\u001b[0m \u001b[0mm\u001b[0m\u001b[1;33m[\u001b[0m\u001b[1;34m\"Date\"\u001b[0m\u001b[1;33m]\u001b[0m\u001b[1;33m.\u001b[0m\u001b[0mhist\u001b[0m\u001b[1;33m(\u001b[0m\u001b[1;33m)\u001b[0m\u001b[1;33m\u001b[0m\u001b[1;33m\u001b[0m\u001b[0m\n\u001b[0;32m      6\u001b[0m \u001b[1;31m#ax = plt.hist(m[\"Date\"])\u001b[0m\u001b[1;33m\u001b[0m\u001b[1;33m\u001b[0m\u001b[1;33m\u001b[0m\u001b[0m\n\u001b[1;32m----> 7\u001b[1;33m \u001b[0max\u001b[0m\u001b[1;33m.\u001b[0m\u001b[0mset\u001b[0m\u001b[1;33m(\u001b[0m\u001b[0mylim\u001b[0m\u001b[1;33m=\u001b[0m\u001b[1;33m(\u001b[0m\u001b[1;36m80000\u001b[0m\u001b[1;33m,\u001b[0m \u001b[1;36m120000\u001b[0m\u001b[1;33m)\u001b[0m\u001b[1;33m,\u001b[0m \u001b[0mfigsize\u001b[0m\u001b[1;33m=\u001b[0m\u001b[1;33m(\u001b[0m\u001b[1;36m12\u001b[0m\u001b[1;33m,\u001b[0m\u001b[1;36m8\u001b[0m\u001b[1;33m)\u001b[0m\u001b[1;33m)\u001b[0m\u001b[1;33m\u001b[0m\u001b[1;33m\u001b[0m\u001b[0m\n\u001b[0m\u001b[0;32m      8\u001b[0m \u001b[1;31m#ax.ylim(8000, 12000)\u001b[0m\u001b[1;33m\u001b[0m\u001b[1;33m\u001b[0m\u001b[1;33m\u001b[0m\u001b[0m\n\u001b[0;32m      9\u001b[0m \u001b[0max\u001b[0m\u001b[1;33m.\u001b[0m\u001b[0mset_title\u001b[0m\u001b[1;33m(\u001b[0m\u001b[1;34m\"Articles published per date\"\u001b[0m\u001b[1;33m)\u001b[0m\u001b[1;33m\u001b[0m\u001b[1;33m\u001b[0m\u001b[0m\n",
      "\u001b[1;32mC:\\ProgramData\\Anaconda3\\lib\\site-packages\\matplotlib\\artist.py\u001b[0m in \u001b[0;36mset\u001b[1;34m(self, **kwargs)\u001b[0m\n\u001b[0;32m   1069\u001b[0m             sorted(kwargs.items(), reverse=True,\n\u001b[0;32m   1070\u001b[0m                    key=lambda x: (self._prop_order.get(x[0], 0), x[0])))\n\u001b[1;32m-> 1071\u001b[1;33m         \u001b[1;32mreturn\u001b[0m \u001b[0mself\u001b[0m\u001b[1;33m.\u001b[0m\u001b[0mupdate\u001b[0m\u001b[1;33m(\u001b[0m\u001b[0mprops\u001b[0m\u001b[1;33m)\u001b[0m\u001b[1;33m\u001b[0m\u001b[1;33m\u001b[0m\u001b[0m\n\u001b[0m\u001b[0;32m   1072\u001b[0m \u001b[1;33m\u001b[0m\u001b[0m\n\u001b[0;32m   1073\u001b[0m     \u001b[1;32mdef\u001b[0m \u001b[0mfindobj\u001b[0m\u001b[1;33m(\u001b[0m\u001b[0mself\u001b[0m\u001b[1;33m,\u001b[0m \u001b[0mmatch\u001b[0m\u001b[1;33m=\u001b[0m\u001b[1;32mNone\u001b[0m\u001b[1;33m,\u001b[0m \u001b[0minclude_self\u001b[0m\u001b[1;33m=\u001b[0m\u001b[1;32mTrue\u001b[0m\u001b[1;33m)\u001b[0m\u001b[1;33m:\u001b[0m\u001b[1;33m\u001b[0m\u001b[1;33m\u001b[0m\u001b[0m\n",
      "\u001b[1;32mC:\\ProgramData\\Anaconda3\\lib\\site-packages\\matplotlib\\artist.py\u001b[0m in \u001b[0;36mupdate\u001b[1;34m(self, props)\u001b[0m\n\u001b[0;32m    972\u001b[0m \u001b[1;33m\u001b[0m\u001b[0m\n\u001b[0;32m    973\u001b[0m         \u001b[1;32mwith\u001b[0m \u001b[0mcbook\u001b[0m\u001b[1;33m.\u001b[0m\u001b[0m_setattr_cm\u001b[0m\u001b[1;33m(\u001b[0m\u001b[0mself\u001b[0m\u001b[1;33m,\u001b[0m \u001b[0meventson\u001b[0m\u001b[1;33m=\u001b[0m\u001b[1;32mFalse\u001b[0m\u001b[1;33m)\u001b[0m\u001b[1;33m:\u001b[0m\u001b[1;33m\u001b[0m\u001b[1;33m\u001b[0m\u001b[0m\n\u001b[1;32m--> 974\u001b[1;33m             \u001b[0mret\u001b[0m \u001b[1;33m=\u001b[0m \u001b[1;33m[\u001b[0m\u001b[0m_update_property\u001b[0m\u001b[1;33m(\u001b[0m\u001b[0mself\u001b[0m\u001b[1;33m,\u001b[0m \u001b[0mk\u001b[0m\u001b[1;33m,\u001b[0m \u001b[0mv\u001b[0m\u001b[1;33m)\u001b[0m \u001b[1;32mfor\u001b[0m \u001b[0mk\u001b[0m\u001b[1;33m,\u001b[0m \u001b[0mv\u001b[0m \u001b[1;32min\u001b[0m \u001b[0mprops\u001b[0m\u001b[1;33m.\u001b[0m\u001b[0mitems\u001b[0m\u001b[1;33m(\u001b[0m\u001b[1;33m)\u001b[0m\u001b[1;33m]\u001b[0m\u001b[1;33m\u001b[0m\u001b[1;33m\u001b[0m\u001b[0m\n\u001b[0m\u001b[0;32m    975\u001b[0m \u001b[1;33m\u001b[0m\u001b[0m\n\u001b[0;32m    976\u001b[0m         \u001b[1;32mif\u001b[0m \u001b[0mlen\u001b[0m\u001b[1;33m(\u001b[0m\u001b[0mret\u001b[0m\u001b[1;33m)\u001b[0m\u001b[1;33m:\u001b[0m\u001b[1;33m\u001b[0m\u001b[1;33m\u001b[0m\u001b[0m\n",
      "\u001b[1;32mC:\\ProgramData\\Anaconda3\\lib\\site-packages\\matplotlib\\artist.py\u001b[0m in \u001b[0;36m<listcomp>\u001b[1;34m(.0)\u001b[0m\n\u001b[0;32m    972\u001b[0m \u001b[1;33m\u001b[0m\u001b[0m\n\u001b[0;32m    973\u001b[0m         \u001b[1;32mwith\u001b[0m \u001b[0mcbook\u001b[0m\u001b[1;33m.\u001b[0m\u001b[0m_setattr_cm\u001b[0m\u001b[1;33m(\u001b[0m\u001b[0mself\u001b[0m\u001b[1;33m,\u001b[0m \u001b[0meventson\u001b[0m\u001b[1;33m=\u001b[0m\u001b[1;32mFalse\u001b[0m\u001b[1;33m)\u001b[0m\u001b[1;33m:\u001b[0m\u001b[1;33m\u001b[0m\u001b[1;33m\u001b[0m\u001b[0m\n\u001b[1;32m--> 974\u001b[1;33m             \u001b[0mret\u001b[0m \u001b[1;33m=\u001b[0m \u001b[1;33m[\u001b[0m\u001b[0m_update_property\u001b[0m\u001b[1;33m(\u001b[0m\u001b[0mself\u001b[0m\u001b[1;33m,\u001b[0m \u001b[0mk\u001b[0m\u001b[1;33m,\u001b[0m \u001b[0mv\u001b[0m\u001b[1;33m)\u001b[0m \u001b[1;32mfor\u001b[0m \u001b[0mk\u001b[0m\u001b[1;33m,\u001b[0m \u001b[0mv\u001b[0m \u001b[1;32min\u001b[0m \u001b[0mprops\u001b[0m\u001b[1;33m.\u001b[0m\u001b[0mitems\u001b[0m\u001b[1;33m(\u001b[0m\u001b[1;33m)\u001b[0m\u001b[1;33m]\u001b[0m\u001b[1;33m\u001b[0m\u001b[1;33m\u001b[0m\u001b[0m\n\u001b[0m\u001b[0;32m    975\u001b[0m \u001b[1;33m\u001b[0m\u001b[0m\n\u001b[0;32m    976\u001b[0m         \u001b[1;32mif\u001b[0m \u001b[0mlen\u001b[0m\u001b[1;33m(\u001b[0m\u001b[0mret\u001b[0m\u001b[1;33m)\u001b[0m\u001b[1;33m:\u001b[0m\u001b[1;33m\u001b[0m\u001b[1;33m\u001b[0m\u001b[0m\n",
      "\u001b[1;32mC:\\ProgramData\\Anaconda3\\lib\\site-packages\\matplotlib\\artist.py\u001b[0m in \u001b[0;36m_update_property\u001b[1;34m(self, k, v)\u001b[0m\n\u001b[0;32m    968\u001b[0m                 \u001b[1;32mif\u001b[0m \u001b[1;32mnot\u001b[0m \u001b[0mcallable\u001b[0m\u001b[1;33m(\u001b[0m\u001b[0mfunc\u001b[0m\u001b[1;33m)\u001b[0m\u001b[1;33m:\u001b[0m\u001b[1;33m\u001b[0m\u001b[1;33m\u001b[0m\u001b[0m\n\u001b[0;32m    969\u001b[0m                     raise AttributeError('{!r} object has no property {!r}'\n\u001b[1;32m--> 970\u001b[1;33m                                          .format(type(self).__name__, k))\n\u001b[0m\u001b[0;32m    971\u001b[0m                 \u001b[1;32mreturn\u001b[0m \u001b[0mfunc\u001b[0m\u001b[1;33m(\u001b[0m\u001b[0mv\u001b[0m\u001b[1;33m)\u001b[0m\u001b[1;33m\u001b[0m\u001b[1;33m\u001b[0m\u001b[0m\n\u001b[0;32m    972\u001b[0m \u001b[1;33m\u001b[0m\u001b[0m\n",
      "\u001b[1;31mAttributeError\u001b[0m: 'AxesSubplot' object has no property 'figsize'"
     ]
    },
    {
     "data": {
      "image/png": "[encoded data removed]",
      "text/plain": [
       "<Figure size 432x288 with 1 Axes>"
      ]
     },
     "metadata": {
      "needs_background": "light"
     },
     "output_type": "display_data"
    }
   ],
   "source": [
    "# Inspecting by date\n",
    "\n",
    "# Creating a new column with Date\n",
    "m[\"Date\"] = m[\"Year\"].astype(str) + \"/\" + m[\"Month\"].astype(str)+ \"/\" + m[\"Day\"].astype(str).str.zfill(2)\n",
    "ax = m[\"Date\"].hist()\n",
    "#ax = plt.hist(m[\"Date\"])\n",
    "ax.set(ylim=(80000, 120000), figsize=(12,8))\n",
    "#ax.ylim(8000, 12000)\n",
    "ax.set_title(\"Articles published per date\")\n",
    "ax.xlabel(\"Date\")\n",
    "ax.ylabel(\"Number of Articles\")\n",
    "ax.grid(False)\n",
    "ax"
   ]
  },
  {
   "cell_type": "code",
   "execution_count": 10,
   "metadata": {},
   "outputs": [
    {
     "data": {
      "text/plain": [
       "'2017/10/01'"
      ]
     },
     "execution_count": 10,
     "metadata": {},
     "output_type": "execute_result"
    }
   ],
   "source": [
    "m[\"Date\"].max()\n",
    "m[\"Date\"].min()"
   ]
  },
  {
   "cell_type": "code",
   "execution_count": null,
   "metadata": {},
   "outputs": [],
   "source": [
    "plt.hist(m[\"Date\"],m[\"Date\"].count())\n",
    "#plt.axis([8000, 12000, \"2017/10/01\",\"2018/8/01\"])\n",
    "plt.xlim(8000, 12000)\n",
    "plt.show()"
   ]
  },
  {
   "cell_type": "markdown",
   "metadata": {},
   "source": [
    "### Claps Distribution"
   ]
  },
  {
   "cell_type": "code",
   "execution_count": 20,
   "metadata": {},
   "outputs": [
    {
     "data": {
      "image/png": "[encoded data removed]",
      "text/plain": [
       "<Figure size 432x288 with 1 Axes>"
      ]
     },
     "metadata": {},
     "output_type": "display_data"
    }
   ],
   "source": [
    "# How many articles had a few claps vs many claps\n",
    "x = m[m[\"Claps\"]<2]\n",
    "y = m[m[\"Claps\"]>=2]\n",
    "\n",
    "labels = ['1 clap', '2 claps or more']\n",
    "sizes = [len(x)/len(m), len(y)/len(m)] # sizes of each section\n",
    "explode = [0, 0.1] # distance from the centre for each section\n",
    "\n",
    "plt.pie(sizes, labels=labels, autopct='%1.0f%%', explode=explode, shadow=True, startangle=90)\n",
    "# could also be a 1x1 subplot\n",
    "# fig1, ax1 = plt.subplots()\n",
    "# ax1.pie(sizes, labels=labels, autopct='%1.0f%%', explode=explode, shadow=True, startangle=90)\n",
    "# ax1.axis('equal')\n",
    "plt.show()"
   ]
  },
  {
   "cell_type": "code",
   "execution_count": 23,
   "metadata": {},
   "outputs": [
    {
     "data": {
      "image/png": "[encoded data removed]",
      "text/plain": [
       "<Figure size 432x288 with 1 Axes>"
      ]
     },
     "metadata": {},
     "output_type": "display_data"
    }
   ],
   "source": [
    "x = m[m[\"Claps\"]<20]\n",
    "y = m[m[\"Claps\"]>=20]\n",
    "\n",
    "labels = ['Less than 20 claps', '20 claps or more']\n",
    "sizes = [len(x)/len(m), len(y)/len(m)] # sizes of each section\n",
    "explode = [0, 0.1] # distance from the centre for each section\n",
    "\n",
    "plt.pie(sizes, labels=labels, autopct='%1.0f%%', explode=explode, shadow=True, startangle=90)\n",
    "# could also be a 1x1 subplot\n",
    "# fig1, ax1 = plt.subplots()\n",
    "# ax1.pie(sizes, labels=labels, autopct='%1.0f%%', explode=explode, shadow=True, startangle=90)\n",
    "# ax1.axis('equal')\n",
    "plt.show()"
   ]
  },
  {
   "cell_type": "code",
   "execution_count": 30,
   "metadata": {},
   "outputs": [
    {
     "data": {
      "text/html": [
       "<div>\n",
       "<style scoped>\n",
       "    .dataframe tbody tr th:only-of-type {\n",
       "        vertical-align: middle;\n",
       "    }\n",
       "\n",
       "    .dataframe tbody tr th {\n",
       "        vertical-align: top;\n",
       "    }\n",
       "\n",
       "    .dataframe thead th {\n",
       "        text-align: right;\n",
       "    }\n",
       "</style>\n",
       "<table border=\"1\" class=\"dataframe\">\n",
       "  <thead>\n",
       "    <tr style=\"text-align: right;\">\n",
       "      <th></th>\n",
       "      <th>Unnamed: 0</th>\n",
       "      <th>Title</th>\n",
       "      <th>Subtitle</th>\n",
       "      <th>Image</th>\n",
       "      <th>Author</th>\n",
       "      <th>Publication</th>\n",
       "      <th>Year</th>\n",
       "      <th>Month</th>\n",
       "      <th>Day</th>\n",
       "      <th>Reading_Time</th>\n",
       "      <th>...</th>\n",
       "      <th>Tag_travel</th>\n",
       "      <th>Tag_trump</th>\n",
       "      <th>Tag_ux</th>\n",
       "      <th>Tag_venture-capital</th>\n",
       "      <th>Tag_web-design</th>\n",
       "      <th>Tag_web-development</th>\n",
       "      <th>Tag_women</th>\n",
       "      <th>Tag_wordpress</th>\n",
       "      <th>Tag_work</th>\n",
       "      <th>Tag_writing</th>\n",
       "    </tr>\n",
       "  </thead>\n",
       "  <tbody>\n",
       "    <tr>\n",
       "      <th>0</th>\n",
       "      <td>2</td>\n",
       "      <td>Online Animation: Mixamo vs Norah AI</td>\n",
       "      <td>Online animations tools provide game designers...</td>\n",
       "      <td>1</td>\n",
       "      <td>Emma Laurent</td>\n",
       "      <td>NaN</td>\n",
       "      <td>2017</td>\n",
       "      <td>8</td>\n",
       "      <td>1</td>\n",
       "      <td>5</td>\n",
       "      <td>...</td>\n",
       "      <td>0</td>\n",
       "      <td>0</td>\n",
       "      <td>0</td>\n",
       "      <td>0</td>\n",
       "      <td>0</td>\n",
       "      <td>0</td>\n",
       "      <td>0</td>\n",
       "      <td>0</td>\n",
       "      <td>0</td>\n",
       "      <td>0</td>\n",
       "    </tr>\n",
       "  </tbody>\n",
       "</table>\n",
       "<p>1 rows × 108 columns</p>\n",
       "</div>"
      ],
      "text/plain": [
       "   Unnamed: 0                                 Title  \\\n",
       "0           2  Online Animation: Mixamo vs Norah AI   \n",
       "\n",
       "                                            Subtitle  Image        Author  \\\n",
       "0  Online animations tools provide game designers...      1  Emma Laurent   \n",
       "\n",
       "  Publication  Year  Month  Day  Reading_Time  ...  Tag_travel Tag_trump  \\\n",
       "0         NaN  2017      8    1             5  ...           0         0   \n",
       "\n",
       "  Tag_ux  Tag_venture-capital  Tag_web-design  Tag_web-development  Tag_women  \\\n",
       "0      0                    0               0                    0          0   \n",
       "\n",
       "   Tag_wordpress  Tag_work  Tag_writing  \n",
       "0              0         0            0  \n",
       "\n",
       "[1 rows x 108 columns]"
      ]
     },
     "execution_count": 30,
     "metadata": {},
     "output_type": "execute_result"
    }
   ],
   "source": [
    "m.head(1)"
   ]
  },
  {
   "cell_type": "code",
   "execution_count": 106,
   "metadata": {},
   "outputs": [
    {
     "name": "stdout",
     "output_type": "stream",
     "text": [
      "Total n. of claps:  62535925.0\n",
      "Max claps for  one article:  172000.0\n",
      "Max claps for one author:  755499.0\n",
      "Average number of claps:  65.58400732440924\n",
      "Median number of claps:  0.0\n",
      "Standard deviation of the number of claps:  673.4152414500617\n",
      "90% of articles obtain 104.0 claps or less\n",
      "70% of articles obtain 8.0 claps or less\n"
     ]
    }
   ],
   "source": [
    "# General stats about claps:\n",
    "print(\"Total n. of claps: \", sum(m[\"Claps\"]))\n",
    "print(\"Max claps for  one article: \", m[\"Claps\"].max())\n",
    "print(\"Max claps for one author: \", m.groupby([\"Author\"]).sum()[\"Claps\"].max())\n",
    "print(\"Average number of claps: \", m[\"Claps\"].mean())\n",
    "print(\"Median number of claps: \", m[\"Claps\"].median())\n",
    "print(\"Standard deviation of the number of claps: \", m[\"Claps\"].std())\n",
    "print(\"90% of articles obtain\", m[\"Claps\"].quantile(0.9), \"claps or less\")\n",
    "print(\"70% of articles obtain\", m[\"Claps\"].quantile(0.7), \"claps or less\")"
   ]
  },
  {
   "cell_type": "code",
   "execution_count": 17,
   "metadata": {},
   "outputs": [
    {
     "data": {
      "text/plain": [
       "[None]"
      ]
     },
     "execution_count": 17,
     "metadata": {},
     "output_type": "execute_result"
    },
    {
     "data": {
      "image/png": "[encoded data removed]",
      "text/plain": [
       "<Figure size 864x504 with 1 Axes>"
      ]
     },
     "metadata": {
      "needs_background": "light"
     },
     "output_type": "display_data"
    }
   ],
   "source": [
    "# What percentage of the data has what percentage of the claps\n",
    "l = []\n",
    "#.map(lambda x: x**0.01 if x>0 else 0)\n",
    "ax = m[\"Claps\"].hist(bins=200, figsize=(12,7))\n",
    "ax.set(yscale=\"log\")"
   ]
  },
  {
   "cell_type": "code",
   "execution_count": 76,
   "metadata": {},
   "outputs": [
    {
     "name": "stdout",
     "output_type": "stream",
     "text": [
      "99% of the articles have 1000.0 claps or under\n",
      "Number of articles with more than 1000 claps: 8361\n",
      "Number of articles with 1000 claps or less: 945163\n",
      "99% of the claps belong to 0.88 % of the articles\n"
     ]
    }
   ],
   "source": [
    "# Does the 1% have it all?\n",
    "print(\"99% of the articles have\", m[\"Claps\"].quantile(0.99), \"claps or under\")\n",
    "\n",
    "print(\"Number of articles with more than 1000 claps:\", m[m[\"Claps\"]>1000].count()[0])\n",
    "print(\"Number of articles with 1000 claps or less:\", m[m[\"Claps\"]<=1000].count()[0])\n",
    "\n",
    "a = (m[m[\"Claps\"]>1000].count()[0])/(m[m[\"Claps\"]<=1000].count()[0])*100\n",
    "print(\"99% of the claps belong to\", round(a, 2), \"% of the articles\")"
   ]
  },
  {
   "cell_type": "code",
   "execution_count": null,
   "metadata": {},
   "outputs": [],
   "source": [
    "# Plotting the results\n"
   ]
  },
  {
   "cell_type": "markdown",
   "metadata": {},
   "source": [
    "### Claps per Author"
   ]
  },
  {
   "cell_type": "code",
   "execution_count": 6,
   "metadata": {},
   "outputs": [
    {
     "data": {
      "text/html": [
       "<div>\n",
       "<style scoped>\n",
       "    .dataframe tbody tr th:only-of-type {\n",
       "        vertical-align: middle;\n",
       "    }\n",
       "\n",
       "    .dataframe tbody tr th {\n",
       "        vertical-align: top;\n",
       "    }\n",
       "\n",
       "    .dataframe thead tr th {\n",
       "        text-align: left;\n",
       "    }\n",
       "</style>\n",
       "<table border=\"1\" class=\"dataframe\">\n",
       "  <thead>\n",
       "    <tr>\n",
       "      <th></th>\n",
       "      <th>Author</th>\n",
       "      <th colspan=\"2\" halign=\"left\">Claps</th>\n",
       "      <th>Unnamed: 0</th>\n",
       "    </tr>\n",
       "    <tr>\n",
       "      <th></th>\n",
       "      <th></th>\n",
       "      <th>mean</th>\n",
       "      <th>sum</th>\n",
       "      <th>count</th>\n",
       "    </tr>\n",
       "  </thead>\n",
       "  <tbody>\n",
       "    <tr>\n",
       "      <th>289918</th>\n",
       "      <td>lillian lawrence</td>\n",
       "      <td>0.0</td>\n",
       "      <td>0.0</td>\n",
       "      <td>1</td>\n",
       "    </tr>\n",
       "    <tr>\n",
       "      <th>111696</th>\n",
       "      <td>Intelliware Development</td>\n",
       "      <td>0.0</td>\n",
       "      <td>0.0</td>\n",
       "      <td>5</td>\n",
       "    </tr>\n",
       "    <tr>\n",
       "      <th>111697</th>\n",
       "      <td>Intellyo</td>\n",
       "      <td>0.0</td>\n",
       "      <td>0.0</td>\n",
       "      <td>5</td>\n",
       "    </tr>\n",
       "    <tr>\n",
       "      <th>111700</th>\n",
       "      <td>Intensacut Forskolin</td>\n",
       "      <td>0.0</td>\n",
       "      <td>0.0</td>\n",
       "      <td>1</td>\n",
       "    </tr>\n",
       "    <tr>\n",
       "      <th>111701</th>\n",
       "      <td>Intense Kart</td>\n",
       "      <td>0.0</td>\n",
       "      <td>0.0</td>\n",
       "      <td>1</td>\n",
       "    </tr>\n",
       "    <tr>\n",
       "      <th>111703</th>\n",
       "      <td>Intensive Lessons4u</td>\n",
       "      <td>0.0</td>\n",
       "      <td>0.0</td>\n",
       "      <td>1</td>\n",
       "    </tr>\n",
       "    <tr>\n",
       "      <th>111704</th>\n",
       "      <td>Intention to Detail</td>\n",
       "      <td>0.0</td>\n",
       "      <td>0.0</td>\n",
       "      <td>1</td>\n",
       "    </tr>\n",
       "    <tr>\n",
       "      <th>111695</th>\n",
       "      <td>Intelliverse</td>\n",
       "      <td>0.0</td>\n",
       "      <td>0.0</td>\n",
       "      <td>4</td>\n",
       "    </tr>\n",
       "    <tr>\n",
       "      <th>111706</th>\n",
       "      <td>Intentionally Inspirational</td>\n",
       "      <td>0.0</td>\n",
       "      <td>0.0</td>\n",
       "      <td>10</td>\n",
       "    </tr>\n",
       "    <tr>\n",
       "      <th>111708</th>\n",
       "      <td>Intentlabs Seo</td>\n",
       "      <td>0.0</td>\n",
       "      <td>0.0</td>\n",
       "      <td>14</td>\n",
       "    </tr>\n",
       "  </tbody>\n",
       "</table>\n",
       "</div>"
      ],
      "text/plain": [
       "                             Author Claps      Unnamed: 0\n",
       "                                     mean  sum      count\n",
       "289918             lillian lawrence   0.0  0.0          1\n",
       "111696      Intelliware Development   0.0  0.0          5\n",
       "111697                     Intellyo   0.0  0.0          5\n",
       "111700         Intensacut Forskolin   0.0  0.0          1\n",
       "111701                 Intense Kart   0.0  0.0          1\n",
       "111703          Intensive Lessons4u   0.0  0.0          1\n",
       "111704          Intention to Detail   0.0  0.0          1\n",
       "111695                 Intelliverse   0.0  0.0          4\n",
       "111706  Intentionally Inspirational   0.0  0.0         10\n",
       "111708               Intentlabs Seo   0.0  0.0         14"
      ]
     },
     "execution_count": 6,
     "metadata": {},
     "output_type": "execute_result"
    }
   ],
   "source": [
    "a = m.pivot_table(index=[\"Author\"], \n",
    "                  values=[\"Claps\", \"Unnamed: 0\"],\n",
    "                  aggfunc={'Claps': (np.sum, np.mean), 'Unnamed: 0': 'count'}).reset_index()\n",
    "#aggfunc={'Salary': np.mean, 'Name': len}\n",
    "a_sorted = a.sort_values([(\"Claps\", \"sum\")], ascending=True)\n",
    "a_sorted.head(10)"
   ]
  },
  {
   "cell_type": "code",
   "execution_count": 77,
   "metadata": {},
   "outputs": [
    {
     "data": {
      "text/html": [
       "<div>\n",
       "<style scoped>\n",
       "    .dataframe tbody tr th:only-of-type {\n",
       "        vertical-align: middle;\n",
       "    }\n",
       "\n",
       "    .dataframe tbody tr th {\n",
       "        vertical-align: top;\n",
       "    }\n",
       "\n",
       "    .dataframe thead tr th {\n",
       "        text-align: left;\n",
       "    }\n",
       "</style>\n",
       "<table border=\"1\" class=\"dataframe\">\n",
       "  <thead>\n",
       "    <tr>\n",
       "      <th></th>\n",
       "      <th>Author</th>\n",
       "      <th colspan=\"2\" halign=\"left\">Claps</th>\n",
       "      <th>Unnamed: 0</th>\n",
       "    </tr>\n",
       "    <tr>\n",
       "      <th></th>\n",
       "      <th></th>\n",
       "      <th>mean</th>\n",
       "      <th>sum</th>\n",
       "      <th>count</th>\n",
       "    </tr>\n",
       "  </thead>\n",
       "  <tbody>\n",
       "    <tr>\n",
       "      <th>0</th>\n",
       "      <td></td>\n",
       "      <td>31.355626</td>\n",
       "      <td>178633.0</td>\n",
       "      <td>5697</td>\n",
       "    </tr>\n",
       "  </tbody>\n",
       "</table>\n",
       "</div>"
      ],
      "text/plain": [
       "  Author      Claps           Unnamed: 0\n",
       "               mean       sum      count\n",
       "0         31.355626  178633.0       5697"
      ]
     },
     "execution_count": 77,
     "metadata": {},
     "output_type": "execute_result"
    }
   ],
   "source": [
    "# I discover that there is an unnamed author that messes up the stats\n",
    "a.nlargest(1, [(\"Unnamed: 0\", \"count\")])"
   ]
  },
  {
   "cell_type": "code",
   "execution_count": 10,
   "metadata": {},
   "outputs": [
    {
     "data": {
      "text/html": [
       "<div>\n",
       "<style scoped>\n",
       "    .dataframe tbody tr th:only-of-type {\n",
       "        vertical-align: middle;\n",
       "    }\n",
       "\n",
       "    .dataframe tbody tr th {\n",
       "        vertical-align: top;\n",
       "    }\n",
       "\n",
       "    .dataframe thead tr th {\n",
       "        text-align: left;\n",
       "    }\n",
       "</style>\n",
       "<table border=\"1\" class=\"dataframe\">\n",
       "  <thead>\n",
       "    <tr>\n",
       "      <th></th>\n",
       "      <th>Author</th>\n",
       "      <th colspan=\"2\" halign=\"left\">Claps</th>\n",
       "      <th>Unnamed: 0</th>\n",
       "    </tr>\n",
       "    <tr>\n",
       "      <th></th>\n",
       "      <th></th>\n",
       "      <th>mean</th>\n",
       "      <th>sum</th>\n",
       "      <th>count</th>\n",
       "    </tr>\n",
       "  </thead>\n",
       "  <tbody>\n",
       "    <tr>\n",
       "      <th>144702</th>\n",
       "      <td>Klaus-Dieter Thill</td>\n",
       "      <td>22.442733</td>\n",
       "      <td>23318.0</td>\n",
       "      <td>1039</td>\n",
       "    </tr>\n",
       "  </tbody>\n",
       "</table>\n",
       "</div>"
      ],
      "text/plain": [
       "                    Author      Claps          Unnamed: 0\n",
       "                                 mean      sum      count\n",
       "144702  Klaus-Dieter Thill  22.442733  23318.0       1039"
      ]
     },
     "execution_count": 10,
     "metadata": {},
     "output_type": "execute_result"
    }
   ],
   "source": [
    "# I decide to drop the unamed authors from the pivot table to better analyse the authors data\n",
    "a = a.drop(0)\n",
    "\n",
    "# Test\n",
    "a.nlargest(1, [(\"Unnamed: 0\", \"count\")])"
   ]
  },
  {
   "cell_type": "code",
   "execution_count": 85,
   "metadata": {},
   "outputs": [
    {
     "data": {
      "image/png": "[encoded data removed]",
      "text/plain": [
       "<Figure size 432x288 with 1 Axes>"
      ]
     },
     "metadata": {
      "needs_background": "light"
     },
     "output_type": "display_data"
    }
   ],
   "source": [
    "# Plotting the values\n",
    "plt.scatter(a[(\"Claps\", \"mean\")], a[(\"Unnamed: 0\", \"count\")])\n",
    "plt.show()"
   ]
  },
  {
   "cell_type": "markdown",
   "metadata": {},
   "source": [
    "#### Articles per Author"
   ]
  },
  {
   "cell_type": "code",
   "execution_count": 59,
   "metadata": {},
   "outputs": [
    {
     "name": "stdout",
     "output_type": "stream",
     "text": [
      "Average number of articles per author: 3.1750160661425606\n",
      "Median number of articles per author: 1.0\n",
      "Only 5% of the authors write more than 10.0 articles\n",
      "Only 44.9 % of the authors write more than 1 article\n",
      "max number of articles per author: 5697\n"
     ]
    }
   ],
   "source": [
    "print(\"Average number of articles per author:\", a[(\"Unnamed: 0\", \"count\")].mean())\n",
    "print(\"Median number of articles per author:\", a[(\"Unnamed: 0\", \"count\")].median())\n",
    "print(\"Only 5% of the authors write more than\", a[(\"Unnamed: 0\", \"count\")].quantile(.95), \"articles\")\n",
    "print(\"Only\", round(len(a[a[(\"Unnamed: 0\", \"count\")]>1])/len(a)*100, 1), \"% of the authors write more than 1 article\")\n",
    "print(\"max number of articles per author:\", a[(\"Unnamed: 0\", \"count\")].max())"
   ]
  },
  {
   "cell_type": "code",
   "execution_count": 36,
   "metadata": {},
   "outputs": [
    {
     "data": {
      "image/png": "[encoded data removed]",
      "text/plain": [
       "<Figure size 432x288 with 1 Axes>"
      ]
     },
     "metadata": {},
     "output_type": "display_data"
    }
   ],
   "source": [
    "# Plotting the data\n",
    "\n",
    "labels = ['Less than 10 articles', '10 articles or more']\n",
    "sizes = [95, 5] # sizes of each section\n",
    "explode = [0, 0.1] # distance from the centre for each section\n",
    "\n",
    "plt.pie(sizes, labels=labels, autopct='%1.0f%%', explode=explode, shadow=True, startangle=90)\n",
    "# could also be a 1x1 subplot\n",
    "# fig1, ax1 = plt.subplots()\n",
    "# ax1.pie(sizes, labels=labels, autopct='%1.0f%%', explode=explode, shadow=True, startangle=90)\n",
    "# ax1.axis('equal')\n",
    "plt.show()"
   ]
  },
  {
   "cell_type": "code",
   "execution_count": 39,
   "metadata": {},
   "outputs": [
    {
     "data": {
      "image/png": "[encoded data removed]",
      "text/plain": [
       "<Figure size 432x288 with 1 Axes>"
      ]
     },
     "metadata": {},
     "output_type": "display_data"
    }
   ],
   "source": [
    "# Plotting the data\n",
    "\n",
    "labels = ['Only 1 article written', 'More than 1 article']\n",
    "sizes = [55.1, 44.9] # sizes of each section\n",
    "#explode = [0, 0.1] # distance from the centre for each section\n",
    "\n",
    "plt.pie(sizes, labels=labels, autopct='%1.0f%%', shadow=True, startangle=90)\n",
    "# could also be a 1x1 subplot\n",
    "# fig1, ax1 = plt.subplots()\n",
    "# ax1.pie(sizes, labels=labels, autopct='%1.0f%%', explode=explode, shadow=True, startangle=90)\n",
    "# ax1.axis('equal')\n",
    "plt.show()"
   ]
  },
  {
   "cell_type": "code",
   "execution_count": 40,
   "metadata": {},
   "outputs": [
    {
     "data": {
      "image/png": "[encoded data removed]",
      "text/plain": [
       "<Figure size 432x288 with 1 Axes>"
      ]
     },
     "metadata": {},
     "output_type": "display_data"
    }
   ],
   "source": [
    "x = a[a[(\"Unnamed: 0\", \"count\")]<3]\n",
    "y = a[a[(\"Unnamed: 0\", \"count\")]>=3]\n",
    "\n",
    "labels = ['Less than 20 claps', '20 claps or more']\n",
    "sizes = [len(x)/len(a), len(y)/len(a)] # sizes of each section\n",
    "explode = [0, 0.1] # distance from the centre for each section\n",
    "\n",
    "plt.pie(sizes, labels=labels, autopct='%1.0f%%', explode=explode, shadow=True, startangle=90)\n",
    "# could also be a 1x1 subplot\n",
    "# fig1, ax1 = plt.subplots()\n",
    "# ax1.pie(sizes, labels=labels, autopct='%1.0f%%', explode=explode, shadow=True, startangle=90)\n",
    "# ax1.axis('equal')\n",
    "plt.show()"
   ]
  },
  {
   "cell_type": "markdown",
   "metadata": {},
   "source": [
    "#### What metrics define success for an author"
   ]
  },
  {
   "cell_type": "code",
   "execution_count": 86,
   "metadata": {},
   "outputs": [
    {
     "data": {
      "text/html": [
       "<div>\n",
       "<style scoped>\n",
       "    .dataframe tbody tr th:only-of-type {\n",
       "        vertical-align: middle;\n",
       "    }\n",
       "\n",
       "    .dataframe tbody tr th {\n",
       "        vertical-align: top;\n",
       "    }\n",
       "\n",
       "    .dataframe thead tr th {\n",
       "        text-align: left;\n",
       "    }\n",
       "</style>\n",
       "<table border=\"1\" class=\"dataframe\">\n",
       "  <thead>\n",
       "    <tr>\n",
       "      <th></th>\n",
       "      <th>Author</th>\n",
       "      <th colspan=\"2\" halign=\"left\">Claps</th>\n",
       "      <th>Unnamed: 0</th>\n",
       "    </tr>\n",
       "    <tr>\n",
       "      <th></th>\n",
       "      <th></th>\n",
       "      <th>mean</th>\n",
       "      <th>sum</th>\n",
       "      <th>count</th>\n",
       "    </tr>\n",
       "  </thead>\n",
       "  <tbody>\n",
       "    <tr>\n",
       "      <th>1</th>\n",
       "      <td>A Small Pototo in Jinrongjie</td>\n",
       "      <td>15.0</td>\n",
       "      <td>15.0</td>\n",
       "      <td>1</td>\n",
       "    </tr>\n",
       "  </tbody>\n",
       "</table>\n",
       "</div>"
      ],
      "text/plain": [
       "                           Author Claps       Unnamed: 0\n",
       "                                   mean   sum      count\n",
       "1    A Small Pototo in Jinrongjie  15.0  15.0          1"
      ]
     },
     "execution_count": 86,
     "metadata": {},
     "output_type": "execute_result"
    }
   ],
   "source": [
    "a.head(1)"
   ]
  },
  {
   "cell_type": "code",
   "execution_count": 11,
   "metadata": {
    "scrolled": true
   },
   "outputs": [
    {
     "name": "stdout",
     "output_type": "stream",
     "text": [
      "Correlation between average claps and number of claps: 0.0035\n"
     ]
    }
   ],
   "source": [
    "print(\"Correlation between average claps and number of claps:\", round(a[(\"Claps\", \"mean\")].corr(a[(\"Unnamed: 0\", \"count\")]), 4))"
   ]
  },
  {
   "cell_type": "code",
   "execution_count": 101,
   "metadata": {
    "scrolled": false
   },
   "outputs": [
    {
     "data": {
      "text/plain": [
       "<matplotlib.axes._subplots.AxesSubplot at 0x22a990e0d48>"
      ]
     },
     "execution_count": 101,
     "metadata": {},
     "output_type": "execute_result"
    },
    {
     "data": {
      "image/png": "[encoded data removed]",
      "text/plain": [
       "<Figure size 432x288 with 1 Axes>"
      ]
     },
     "metadata": {
      "needs_background": "light"
     },
     "output_type": "display_data"
    }
   ],
   "source": [
    "a.nlargest(100, [(\"Claps\", \"sum\")]).boxplot()"
   ]
  },
  {
   "cell_type": "markdown",
   "metadata": {},
   "source": [
    "### Probabable Claps "
   ]
  },
  {
   "cell_type": "code",
   "execution_count": null,
   "metadata": {},
   "outputs": [],
   "source": [
    "binom.pmf(1, 0.3)"
   ]
  },
  {
   "cell_type": "markdown",
   "metadata": {},
   "source": [
    "### Hypothesis\n",
    "The more you publish the more claps in average you will get:\n",
    "\n",
    "H1 = the greater the number of articles the greater the average number of claps\n",
    "H0 = the number of articles has no impact on the number of claps\n",
    "\n",
    "H1 = total claps / number of articles A > total claps / number of articles B, if number of articles A > number of articles B    \n",
    "H0 = total claps / number of articles A <= total claps / number of articles B, if number of articles A > number of articles B"
   ]
  },
  {
   "cell_type": "code",
   "execution_count": null,
   "metadata": {},
   "outputs": [],
   "source": [
    "#stat, pval = ttest_1samp(a[\"\"], 5.7)\n",
    "#ttest_rel(blood_pressure.after, blood_pressure.before)"
   ]
  },
  {
   "cell_type": "code",
   "execution_count": 110,
   "metadata": {
    "scrolled": true
   },
   "outputs": [
    {
     "ename": "NotImplementedError",
     "evalue": "Index._join_level on non-unique index is not implemented",
     "output_type": "error",
     "traceback": [
      "\u001b[1;31m---------------------------------------------------------------------------\u001b[0m",
      "\u001b[1;31mNotImplementedError\u001b[0m                       Traceback (most recent call last)",
      "\u001b[1;32m<ipython-input-110-9bb26bbf307a>\u001b[0m in \u001b[0;36m<module>\u001b[1;34m\u001b[0m\n\u001b[1;32m----> 1\u001b[1;33m \u001b[0mx\u001b[0m \u001b[1;33m=\u001b[0m \u001b[0msm\u001b[0m\u001b[1;33m.\u001b[0m\u001b[0madd_constant\u001b[0m\u001b[1;33m(\u001b[0m\u001b[0ma\u001b[0m\u001b[1;33m[\u001b[0m\u001b[0ma\u001b[0m\u001b[1;33m[\u001b[0m\u001b[1;33m(\u001b[0m\u001b[1;34m\"Unnamed: 0\"\u001b[0m\u001b[1;33m,\u001b[0m \u001b[1;34m\"count\"\u001b[0m\u001b[1;33m)\u001b[0m\u001b[1;33m]\u001b[0m\u001b[1;33m]\u001b[0m\u001b[1;33m)\u001b[0m\u001b[1;33m\u001b[0m\u001b[1;33m\u001b[0m\u001b[0m\n\u001b[0m\u001b[0;32m      2\u001b[0m \u001b[0mmodel\u001b[0m \u001b[1;33m=\u001b[0m \u001b[0msm\u001b[0m\u001b[1;33m.\u001b[0m\u001b[0mOLS\u001b[0m\u001b[1;33m(\u001b[0m\u001b[0ma\u001b[0m\u001b[1;33m[\u001b[0m\u001b[0ma\u001b[0m\u001b[1;33m[\u001b[0m\u001b[1;33m(\u001b[0m\u001b[1;34m\"Claps\"\u001b[0m\u001b[1;33m,\u001b[0m \u001b[1;34m\"mean\"\u001b[0m\u001b[1;33m)\u001b[0m\u001b[1;33m]\u001b[0m\u001b[1;33m]\u001b[0m\u001b[1;33m,\u001b[0m\u001b[0mx\u001b[0m\u001b[1;33m)\u001b[0m\u001b[1;33m\u001b[0m\u001b[1;33m\u001b[0m\u001b[0m\n\u001b[0;32m      3\u001b[0m \u001b[0mresults\u001b[0m \u001b[1;33m=\u001b[0m \u001b[0mmodel\u001b[0m\u001b[1;33m.\u001b[0m\u001b[0mfit\u001b[0m\u001b[1;33m(\u001b[0m\u001b[1;33m)\u001b[0m\u001b[1;33m\u001b[0m\u001b[1;33m\u001b[0m\u001b[0m\n\u001b[0;32m      4\u001b[0m \u001b[0mresults\u001b[0m\u001b[1;33m.\u001b[0m\u001b[0msummary\u001b[0m\u001b[1;33m(\u001b[0m\u001b[1;33m)\u001b[0m\u001b[1;33m\u001b[0m\u001b[1;33m\u001b[0m\u001b[0m\n",
      "\u001b[1;32mC:\\ProgramData\\Anaconda3\\lib\\site-packages\\pandas\\core\\frame.py\u001b[0m in \u001b[0;36m__getitem__\u001b[1;34m(self, key)\u001b[0m\n\u001b[0;32m   2804\u001b[0m             \u001b[1;32mif\u001b[0m \u001b[0mis_iterator\u001b[0m\u001b[1;33m(\u001b[0m\u001b[0mkey\u001b[0m\u001b[1;33m)\u001b[0m\u001b[1;33m:\u001b[0m\u001b[1;33m\u001b[0m\u001b[1;33m\u001b[0m\u001b[0m\n\u001b[0;32m   2805\u001b[0m                 \u001b[0mkey\u001b[0m \u001b[1;33m=\u001b[0m \u001b[0mlist\u001b[0m\u001b[1;33m(\u001b[0m\u001b[0mkey\u001b[0m\u001b[1;33m)\u001b[0m\u001b[1;33m\u001b[0m\u001b[1;33m\u001b[0m\u001b[0m\n\u001b[1;32m-> 2806\u001b[1;33m             \u001b[0mindexer\u001b[0m \u001b[1;33m=\u001b[0m \u001b[0mself\u001b[0m\u001b[1;33m.\u001b[0m\u001b[0mloc\u001b[0m\u001b[1;33m.\u001b[0m\u001b[0m_get_listlike_indexer\u001b[0m\u001b[1;33m(\u001b[0m\u001b[0mkey\u001b[0m\u001b[1;33m,\u001b[0m \u001b[0maxis\u001b[0m\u001b[1;33m=\u001b[0m\u001b[1;36m1\u001b[0m\u001b[1;33m,\u001b[0m \u001b[0mraise_missing\u001b[0m\u001b[1;33m=\u001b[0m\u001b[1;32mTrue\u001b[0m\u001b[1;33m)\u001b[0m\u001b[1;33m[\u001b[0m\u001b[1;36m1\u001b[0m\u001b[1;33m]\u001b[0m\u001b[1;33m\u001b[0m\u001b[1;33m\u001b[0m\u001b[0m\n\u001b[0m\u001b[0;32m   2807\u001b[0m \u001b[1;33m\u001b[0m\u001b[0m\n\u001b[0;32m   2808\u001b[0m         \u001b[1;31m# take() does not accept boolean indexers\u001b[0m\u001b[1;33m\u001b[0m\u001b[1;33m\u001b[0m\u001b[1;33m\u001b[0m\u001b[0m\n",
      "\u001b[1;32mC:\\ProgramData\\Anaconda3\\lib\\site-packages\\pandas\\core\\indexing.py\u001b[0m in \u001b[0;36m_get_listlike_indexer\u001b[1;34m(self, key, axis, raise_missing)\u001b[0m\n\u001b[0;32m   1533\u001b[0m         \u001b[1;31m# Have the index compute an indexer or return None\u001b[0m\u001b[1;33m\u001b[0m\u001b[1;33m\u001b[0m\u001b[1;33m\u001b[0m\u001b[0m\n\u001b[0;32m   1534\u001b[0m         \u001b[1;31m# if it cannot handle:\u001b[0m\u001b[1;33m\u001b[0m\u001b[1;33m\u001b[0m\u001b[1;33m\u001b[0m\u001b[0m\n\u001b[1;32m-> 1535\u001b[1;33m         \u001b[0mindexer\u001b[0m\u001b[1;33m,\u001b[0m \u001b[0mkeyarr\u001b[0m \u001b[1;33m=\u001b[0m \u001b[0max\u001b[0m\u001b[1;33m.\u001b[0m\u001b[0m_convert_listlike_indexer\u001b[0m\u001b[1;33m(\u001b[0m\u001b[0mkey\u001b[0m\u001b[1;33m,\u001b[0m \u001b[0mkind\u001b[0m\u001b[1;33m=\u001b[0m\u001b[0mself\u001b[0m\u001b[1;33m.\u001b[0m\u001b[0mname\u001b[0m\u001b[1;33m)\u001b[0m\u001b[1;33m\u001b[0m\u001b[1;33m\u001b[0m\u001b[0m\n\u001b[0m\u001b[0;32m   1536\u001b[0m         \u001b[1;31m# We only act on all found values:\u001b[0m\u001b[1;33m\u001b[0m\u001b[1;33m\u001b[0m\u001b[1;33m\u001b[0m\u001b[0m\n\u001b[0;32m   1537\u001b[0m         \u001b[1;32mif\u001b[0m \u001b[0mindexer\u001b[0m \u001b[1;32mis\u001b[0m \u001b[1;32mnot\u001b[0m \u001b[1;32mNone\u001b[0m \u001b[1;32mand\u001b[0m \u001b[1;33m(\u001b[0m\u001b[0mindexer\u001b[0m \u001b[1;33m!=\u001b[0m \u001b[1;33m-\u001b[0m\u001b[1;36m1\u001b[0m\u001b[1;33m)\u001b[0m\u001b[1;33m.\u001b[0m\u001b[0mall\u001b[0m\u001b[1;33m(\u001b[0m\u001b[1;33m)\u001b[0m\u001b[1;33m:\u001b[0m\u001b[1;33m\u001b[0m\u001b[1;33m\u001b[0m\u001b[0m\n",
      "\u001b[1;32mC:\\ProgramData\\Anaconda3\\lib\\site-packages\\pandas\\core\\indexes\\multi.py\u001b[0m in \u001b[0;36m_convert_listlike_indexer\u001b[1;34m(self, keyarr, kind)\u001b[0m\n\u001b[0;32m   2315\u001b[0m         \u001b[1;32mif\u001b[0m \u001b[0mindexer\u001b[0m \u001b[1;32mis\u001b[0m \u001b[1;32mNone\u001b[0m \u001b[1;32mand\u001b[0m \u001b[0mlen\u001b[0m\u001b[1;33m(\u001b[0m\u001b[0mkeyarr\u001b[0m\u001b[1;33m)\u001b[0m \u001b[1;32mand\u001b[0m \u001b[1;32mnot\u001b[0m \u001b[0misinstance\u001b[0m\u001b[1;33m(\u001b[0m\u001b[0mkeyarr\u001b[0m\u001b[1;33m[\u001b[0m\u001b[1;36m0\u001b[0m\u001b[1;33m]\u001b[0m\u001b[1;33m,\u001b[0m \u001b[0mtuple\u001b[0m\u001b[1;33m)\u001b[0m\u001b[1;33m:\u001b[0m\u001b[1;33m\u001b[0m\u001b[1;33m\u001b[0m\u001b[0m\n\u001b[0;32m   2316\u001b[0m             \u001b[0mlevel\u001b[0m \u001b[1;33m=\u001b[0m \u001b[1;36m0\u001b[0m\u001b[1;33m\u001b[0m\u001b[1;33m\u001b[0m\u001b[0m\n\u001b[1;32m-> 2317\u001b[1;33m             \u001b[0m_\u001b[0m\u001b[1;33m,\u001b[0m \u001b[0mindexer\u001b[0m \u001b[1;33m=\u001b[0m \u001b[0mself\u001b[0m\u001b[1;33m.\u001b[0m\u001b[0mreindex\u001b[0m\u001b[1;33m(\u001b[0m\u001b[0mkeyarr\u001b[0m\u001b[1;33m,\u001b[0m \u001b[0mlevel\u001b[0m\u001b[1;33m=\u001b[0m\u001b[0mlevel\u001b[0m\u001b[1;33m)\u001b[0m\u001b[1;33m\u001b[0m\u001b[1;33m\u001b[0m\u001b[0m\n\u001b[0m\u001b[0;32m   2318\u001b[0m \u001b[1;33m\u001b[0m\u001b[0m\n\u001b[0;32m   2319\u001b[0m             \u001b[1;31m# take all\u001b[0m\u001b[1;33m\u001b[0m\u001b[1;33m\u001b[0m\u001b[1;33m\u001b[0m\u001b[0m\n",
      "\u001b[1;32mC:\\ProgramData\\Anaconda3\\lib\\site-packages\\pandas\\core\\indexes\\multi.py\u001b[0m in \u001b[0;36mreindex\u001b[1;34m(self, target, method, level, limit, tolerance)\u001b[0m\n\u001b[0;32m   2402\u001b[0m                 \u001b[0mtarget\u001b[0m \u001b[1;33m=\u001b[0m \u001b[0mensure_index\u001b[0m\u001b[1;33m(\u001b[0m\u001b[0mtarget\u001b[0m\u001b[1;33m)\u001b[0m\u001b[1;33m\u001b[0m\u001b[1;33m\u001b[0m\u001b[0m\n\u001b[0;32m   2403\u001b[0m             target, indexer, _ = self._join_level(\n\u001b[1;32m-> 2404\u001b[1;33m                 \u001b[0mtarget\u001b[0m\u001b[1;33m,\u001b[0m \u001b[0mlevel\u001b[0m\u001b[1;33m,\u001b[0m \u001b[0mhow\u001b[0m\u001b[1;33m=\u001b[0m\u001b[1;34m\"right\"\u001b[0m\u001b[1;33m,\u001b[0m \u001b[0mreturn_indexers\u001b[0m\u001b[1;33m=\u001b[0m\u001b[1;32mTrue\u001b[0m\u001b[1;33m,\u001b[0m \u001b[0mkeep_order\u001b[0m\u001b[1;33m=\u001b[0m\u001b[1;32mFalse\u001b[0m\u001b[1;33m\u001b[0m\u001b[1;33m\u001b[0m\u001b[0m\n\u001b[0m\u001b[0;32m   2405\u001b[0m             )\n\u001b[0;32m   2406\u001b[0m         \u001b[1;32melse\u001b[0m\u001b[1;33m:\u001b[0m\u001b[1;33m\u001b[0m\u001b[1;33m\u001b[0m\u001b[0m\n",
      "\u001b[1;32mC:\\ProgramData\\Anaconda3\\lib\\site-packages\\pandas\\core\\indexes\\base.py\u001b[0m in \u001b[0;36m_join_level\u001b[1;34m(self, other, level, how, return_indexers, keep_order)\u001b[0m\n\u001b[0;32m   3496\u001b[0m         \u001b[1;32mif\u001b[0m \u001b[1;32mnot\u001b[0m \u001b[0mright\u001b[0m\u001b[1;33m.\u001b[0m\u001b[0mis_unique\u001b[0m\u001b[1;33m:\u001b[0m\u001b[1;33m\u001b[0m\u001b[1;33m\u001b[0m\u001b[0m\n\u001b[0;32m   3497\u001b[0m             raise NotImplementedError(\n\u001b[1;32m-> 3498\u001b[1;33m                 \u001b[1;34m\"Index._join_level on non-unique index is not implemented\"\u001b[0m\u001b[1;33m\u001b[0m\u001b[1;33m\u001b[0m\u001b[0m\n\u001b[0m\u001b[0;32m   3499\u001b[0m             )\n\u001b[0;32m   3500\u001b[0m \u001b[1;33m\u001b[0m\u001b[0m\n",
      "\u001b[1;31mNotImplementedError\u001b[0m: Index._join_level on non-unique index is not implemented"
     ]
    }
   ],
   "source": [
    "x = sm.add_constant(a[a[(\"Unnamed: 0\", \"count\")]])\n",
    "model = sm.OLS(a[a[(\"Claps\", \"mean\")]],x)\n",
    "results = model.fit()\n",
    "results.summary()"
   ]
  },
  {
   "cell_type": "markdown",
   "metadata": {},
   "source": [
    "### What metrics are most important for success\n",
    "Take a look only at the succesful articles (aka claps>50, or top 10%)\n",
    "\n",
    "Metrics such as: tags, date, count of articles published, publication, etc."
   ]
  },
  {
   "cell_type": "code",
   "execution_count": 51,
   "metadata": {},
   "outputs": [
    {
     "name": "stdout",
     "output_type": "stream",
     "text": [
      "Sample size: 0.88 percent\n"
     ]
    }
   ],
   "source": [
    "top = m[m[\"Claps\"]>1000]\n",
    "print(\"Sample size:\", round(len(top)/len(m)*100, 2), \"percent\")"
   ]
  },
  {
   "cell_type": "code",
   "execution_count": 52,
   "metadata": {},
   "outputs": [
    {
     "data": {
      "text/html": [
       "<div>\n",
       "<style scoped>\n",
       "    .dataframe tbody tr th:only-of-type {\n",
       "        vertical-align: middle;\n",
       "    }\n",
       "\n",
       "    .dataframe tbody tr th {\n",
       "        vertical-align: top;\n",
       "    }\n",
       "\n",
       "    .dataframe thead th {\n",
       "        text-align: right;\n",
       "    }\n",
       "</style>\n",
       "<table border=\"1\" class=\"dataframe\">\n",
       "  <thead>\n",
       "    <tr style=\"text-align: right;\">\n",
       "      <th></th>\n",
       "      <th>Unnamed: 0</th>\n",
       "      <th>Image</th>\n",
       "      <th>Year</th>\n",
       "      <th>Month</th>\n",
       "      <th>Day</th>\n",
       "      <th>Reading_Time</th>\n",
       "      <th>Claps</th>\n",
       "    </tr>\n",
       "  </thead>\n",
       "  <tbody>\n",
       "    <tr>\n",
       "      <th>Unnamed: 0</th>\n",
       "      <td>1.000000</td>\n",
       "      <td>0.012085</td>\n",
       "      <td>0.624832</td>\n",
       "      <td>-0.303752</td>\n",
       "      <td>0.033980</td>\n",
       "      <td>-0.093515</td>\n",
       "      <td>-0.009465</td>\n",
       "    </tr>\n",
       "    <tr>\n",
       "      <th>Image</th>\n",
       "      <td>0.012085</td>\n",
       "      <td>1.000000</td>\n",
       "      <td>0.027193</td>\n",
       "      <td>-0.009400</td>\n",
       "      <td>0.008315</td>\n",
       "      <td>0.071530</td>\n",
       "      <td>0.034880</td>\n",
       "    </tr>\n",
       "    <tr>\n",
       "      <th>Year</th>\n",
       "      <td>0.624832</td>\n",
       "      <td>0.027193</td>\n",
       "      <td>1.000000</td>\n",
       "      <td>-0.855103</td>\n",
       "      <td>-0.043766</td>\n",
       "      <td>-0.035278</td>\n",
       "      <td>-0.015693</td>\n",
       "    </tr>\n",
       "    <tr>\n",
       "      <th>Month</th>\n",
       "      <td>-0.303752</td>\n",
       "      <td>-0.009400</td>\n",
       "      <td>-0.855103</td>\n",
       "      <td>1.000000</td>\n",
       "      <td>0.007801</td>\n",
       "      <td>0.030672</td>\n",
       "      <td>0.012851</td>\n",
       "    </tr>\n",
       "    <tr>\n",
       "      <th>Day</th>\n",
       "      <td>0.033980</td>\n",
       "      <td>0.008315</td>\n",
       "      <td>-0.043766</td>\n",
       "      <td>0.007801</td>\n",
       "      <td>1.000000</td>\n",
       "      <td>-0.014441</td>\n",
       "      <td>-0.010642</td>\n",
       "    </tr>\n",
       "    <tr>\n",
       "      <th>Reading_Time</th>\n",
       "      <td>-0.093515</td>\n",
       "      <td>0.071530</td>\n",
       "      <td>-0.035278</td>\n",
       "      <td>0.030672</td>\n",
       "      <td>-0.014441</td>\n",
       "      <td>1.000000</td>\n",
       "      <td>0.086179</td>\n",
       "    </tr>\n",
       "    <tr>\n",
       "      <th>Claps</th>\n",
       "      <td>-0.009465</td>\n",
       "      <td>0.034880</td>\n",
       "      <td>-0.015693</td>\n",
       "      <td>0.012851</td>\n",
       "      <td>-0.010642</td>\n",
       "      <td>0.086179</td>\n",
       "      <td>1.000000</td>\n",
       "    </tr>\n",
       "  </tbody>\n",
       "</table>\n",
       "</div>"
      ],
      "text/plain": [
       "              Unnamed: 0     Image      Year     Month       Day  \\\n",
       "Unnamed: 0      1.000000  0.012085  0.624832 -0.303752  0.033980   \n",
       "Image           0.012085  1.000000  0.027193 -0.009400  0.008315   \n",
       "Year            0.624832  0.027193  1.000000 -0.855103 -0.043766   \n",
       "Month          -0.303752 -0.009400 -0.855103  1.000000  0.007801   \n",
       "Day             0.033980  0.008315 -0.043766  0.007801  1.000000   \n",
       "Reading_Time   -0.093515  0.071530 -0.035278  0.030672 -0.014441   \n",
       "Claps          -0.009465  0.034880 -0.015693  0.012851 -0.010642   \n",
       "\n",
       "              Reading_Time     Claps  \n",
       "Unnamed: 0       -0.093515 -0.009465  \n",
       "Image             0.071530  0.034880  \n",
       "Year             -0.035278 -0.015693  \n",
       "Month             0.030672  0.012851  \n",
       "Day              -0.014441 -0.010642  \n",
       "Reading_Time      1.000000  0.086179  \n",
       "Claps             0.086179  1.000000  "
      ]
     },
     "execution_count": 52,
     "metadata": {},
     "output_type": "execute_result"
    }
   ],
   "source": [
    "top[['Unnamed: 0', 'Title', 'Subtitle', 'Image', 'Author', 'Publication',\n",
    "  'Year', 'Month', 'Day', 'Reading_Time', \"Claps\"]].corr()"
   ]
  },
  {
   "cell_type": "code",
   "execution_count": null,
   "metadata": {},
   "outputs": [],
   "source": []
  }
 ],
 "metadata": {
  "kernelspec": {
   "display_name": "Python 3",
   "language": "python",
   "name": "python3"
  },
  "language_info": {
   "codemirror_mode": {
    "name": "ipython",
    "version": 3
   },
   "file_extension": ".py",
   "mimetype": "text/x-python",
   "name": "python",
   "nbconvert_exporter": "python",
   "pygments_lexer": "ipython3",
   "version": "3.7.6"
  }
 },
 "nbformat": 4,
 "nbformat_minor": 4
}

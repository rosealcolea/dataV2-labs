{
 "cells": [
  {
   "cell_type": "code",
   "execution_count": null,
   "metadata": {},
   "outputs": [],
   "source": [
    "%matplotlib inline\n",
    "import matplotlib.pyplot as plt\n",
    "import numpy as np\n",
    "import pandas as pd"
   ]
  },
  {
   "cell_type": "code",
   "execution_count": null,
   "metadata": {},
   "outputs": [],
   "source": [
    "pd.options.display.float_format = '{:.4f}'.format"
   ]
  },
  {
   "cell_type": "code",
   "execution_count": 60,
   "metadata": {},
   "outputs": [
    {
     "data": {
      "text/plain": [
       "(378661, 15)"
      ]
     },
     "execution_count": 60,
     "metadata": {},
     "output_type": "execute_result"
    }
   ],
   "source": [
    "kickstarter = pd.read_csv('./ks-projects-201801.csv')\n",
    "kickstarter.shape"
   ]
  },
  {
   "cell_type": "code",
   "execution_count": 61,
   "metadata": {},
   "outputs": [
    {
     "data": {
      "text/plain": [
       "ID                    int64\n",
       "name                 object\n",
       "category             object\n",
       "main_category        object\n",
       "currency             object\n",
       "deadline             object\n",
       "goal                float64\n",
       "launched             object\n",
       "pledged             float64\n",
       "state                object\n",
       "backers               int64\n",
       "country              object\n",
       "usd pledged         float64\n",
       "usd_pledged_real    float64\n",
       "usd_goal_real       float64\n",
       "dtype: object"
      ]
     },
     "execution_count": 61,
     "metadata": {},
     "output_type": "execute_result"
    }
   ],
   "source": [
    "kickstarter.dtypes"
   ]
  },
  {
   "cell_type": "code",
   "execution_count": 62,
   "metadata": {},
   "outputs": [
    {
     "data": {
      "text/html": [
       "<div>\n",
       "<style scoped>\n",
       "    .dataframe tbody tr th:only-of-type {\n",
       "        vertical-align: middle;\n",
       "    }\n",
       "\n",
       "    .dataframe tbody tr th {\n",
       "        vertical-align: top;\n",
       "    }\n",
       "\n",
       "    .dataframe thead th {\n",
       "        text-align: right;\n",
       "    }\n",
       "</style>\n",
       "<table border=\"1\" class=\"dataframe\">\n",
       "  <thead>\n",
       "    <tr style=\"text-align: right;\">\n",
       "      <th></th>\n",
       "      <th>ID</th>\n",
       "      <th>name</th>\n",
       "      <th>category</th>\n",
       "      <th>main_category</th>\n",
       "      <th>currency</th>\n",
       "      <th>deadline</th>\n",
       "      <th>goal</th>\n",
       "      <th>launched</th>\n",
       "      <th>pledged</th>\n",
       "      <th>state</th>\n",
       "      <th>backers</th>\n",
       "      <th>country</th>\n",
       "      <th>usd pledged</th>\n",
       "      <th>usd_pledged_real</th>\n",
       "      <th>usd_goal_real</th>\n",
       "    </tr>\n",
       "  </thead>\n",
       "  <tbody>\n",
       "    <tr>\n",
       "      <td>0</td>\n",
       "      <td>1000002330</td>\n",
       "      <td>The Songs of Adelaide &amp; Abullah</td>\n",
       "      <td>Poetry</td>\n",
       "      <td>Publishing</td>\n",
       "      <td>GBP</td>\n",
       "      <td>2015-10-09</td>\n",
       "      <td>1000.0000</td>\n",
       "      <td>2015-08-11 12:12:28</td>\n",
       "      <td>0.0000</td>\n",
       "      <td>failed</td>\n",
       "      <td>0</td>\n",
       "      <td>GB</td>\n",
       "      <td>0.0000</td>\n",
       "      <td>0.0000</td>\n",
       "      <td>1533.9500</td>\n",
       "    </tr>\n",
       "    <tr>\n",
       "      <td>1</td>\n",
       "      <td>1000003930</td>\n",
       "      <td>Greeting From Earth: ZGAC Arts Capsule For ET</td>\n",
       "      <td>Narrative Film</td>\n",
       "      <td>Film &amp; Video</td>\n",
       "      <td>USD</td>\n",
       "      <td>2017-11-01</td>\n",
       "      <td>30000.0000</td>\n",
       "      <td>2017-09-02 04:43:57</td>\n",
       "      <td>2421.0000</td>\n",
       "      <td>failed</td>\n",
       "      <td>15</td>\n",
       "      <td>US</td>\n",
       "      <td>100.0000</td>\n",
       "      <td>2421.0000</td>\n",
       "      <td>30000.0000</td>\n",
       "    </tr>\n",
       "    <tr>\n",
       "      <td>2</td>\n",
       "      <td>1000004038</td>\n",
       "      <td>Where is Hank?</td>\n",
       "      <td>Narrative Film</td>\n",
       "      <td>Film &amp; Video</td>\n",
       "      <td>USD</td>\n",
       "      <td>2013-02-26</td>\n",
       "      <td>45000.0000</td>\n",
       "      <td>2013-01-12 00:20:50</td>\n",
       "      <td>220.0000</td>\n",
       "      <td>failed</td>\n",
       "      <td>3</td>\n",
       "      <td>US</td>\n",
       "      <td>220.0000</td>\n",
       "      <td>220.0000</td>\n",
       "      <td>45000.0000</td>\n",
       "    </tr>\n",
       "    <tr>\n",
       "      <td>3</td>\n",
       "      <td>1000007540</td>\n",
       "      <td>ToshiCapital Rekordz Needs Help to Complete Album</td>\n",
       "      <td>Music</td>\n",
       "      <td>Music</td>\n",
       "      <td>USD</td>\n",
       "      <td>2012-04-16</td>\n",
       "      <td>5000.0000</td>\n",
       "      <td>2012-03-17 03:24:11</td>\n",
       "      <td>1.0000</td>\n",
       "      <td>failed</td>\n",
       "      <td>1</td>\n",
       "      <td>US</td>\n",
       "      <td>1.0000</td>\n",
       "      <td>1.0000</td>\n",
       "      <td>5000.0000</td>\n",
       "    </tr>\n",
       "    <tr>\n",
       "      <td>4</td>\n",
       "      <td>1000011046</td>\n",
       "      <td>Community Film Project: The Art of Neighborhoo...</td>\n",
       "      <td>Film &amp; Video</td>\n",
       "      <td>Film &amp; Video</td>\n",
       "      <td>USD</td>\n",
       "      <td>2015-08-29</td>\n",
       "      <td>19500.0000</td>\n",
       "      <td>2015-07-04 08:35:03</td>\n",
       "      <td>1283.0000</td>\n",
       "      <td>canceled</td>\n",
       "      <td>14</td>\n",
       "      <td>US</td>\n",
       "      <td>1283.0000</td>\n",
       "      <td>1283.0000</td>\n",
       "      <td>19500.0000</td>\n",
       "    </tr>\n",
       "  </tbody>\n",
       "</table>\n",
       "</div>"
      ],
      "text/plain": [
       "           ID                                               name  \\\n",
       "0  1000002330                    The Songs of Adelaide & Abullah   \n",
       "1  1000003930      Greeting From Earth: ZGAC Arts Capsule For ET   \n",
       "2  1000004038                                     Where is Hank?   \n",
       "3  1000007540  ToshiCapital Rekordz Needs Help to Complete Album   \n",
       "4  1000011046  Community Film Project: The Art of Neighborhoo...   \n",
       "\n",
       "         category main_category currency    deadline       goal  \\\n",
       "0          Poetry    Publishing      GBP  2015-10-09  1000.0000   \n",
       "1  Narrative Film  Film & Video      USD  2017-11-01 30000.0000   \n",
       "2  Narrative Film  Film & Video      USD  2013-02-26 45000.0000   \n",
       "3           Music         Music      USD  2012-04-16  5000.0000   \n",
       "4    Film & Video  Film & Video      USD  2015-08-29 19500.0000   \n",
       "\n",
       "              launched   pledged     state  backers country  usd pledged  \\\n",
       "0  2015-08-11 12:12:28    0.0000    failed        0      GB       0.0000   \n",
       "1  2017-09-02 04:43:57 2421.0000    failed       15      US     100.0000   \n",
       "2  2013-01-12 00:20:50  220.0000    failed        3      US     220.0000   \n",
       "3  2012-03-17 03:24:11    1.0000    failed        1      US       1.0000   \n",
       "4  2015-07-04 08:35:03 1283.0000  canceled       14      US    1283.0000   \n",
       "\n",
       "   usd_pledged_real  usd_goal_real  \n",
       "0            0.0000      1533.9500  \n",
       "1         2421.0000     30000.0000  \n",
       "2          220.0000     45000.0000  \n",
       "3            1.0000      5000.0000  \n",
       "4         1283.0000     19500.0000  "
      ]
     },
     "execution_count": 62,
     "metadata": {},
     "output_type": "execute_result"
    }
   ],
   "source": [
    "kickstarter.head()"
   ]
  },
  {
   "cell_type": "code",
   "execution_count": 63,
   "metadata": {},
   "outputs": [
    {
     "data": {
      "text/html": [
       "<div>\n",
       "<style scoped>\n",
       "    .dataframe tbody tr th:only-of-type {\n",
       "        vertical-align: middle;\n",
       "    }\n",
       "\n",
       "    .dataframe tbody tr th {\n",
       "        vertical-align: top;\n",
       "    }\n",
       "\n",
       "    .dataframe thead th {\n",
       "        text-align: right;\n",
       "    }\n",
       "</style>\n",
       "<table border=\"1\" class=\"dataframe\">\n",
       "  <thead>\n",
       "    <tr style=\"text-align: right;\">\n",
       "      <th></th>\n",
       "      <th>ID</th>\n",
       "      <th>goal</th>\n",
       "      <th>pledged</th>\n",
       "      <th>backers</th>\n",
       "      <th>usd pledged</th>\n",
       "      <th>usd_pledged_real</th>\n",
       "      <th>usd_goal_real</th>\n",
       "    </tr>\n",
       "  </thead>\n",
       "  <tbody>\n",
       "    <tr>\n",
       "      <td>count</td>\n",
       "      <td>378661.0000</td>\n",
       "      <td>378661.0000</td>\n",
       "      <td>378661.0000</td>\n",
       "      <td>378661.0000</td>\n",
       "      <td>374864.0000</td>\n",
       "      <td>378661.0000</td>\n",
       "      <td>378661.0000</td>\n",
       "    </tr>\n",
       "    <tr>\n",
       "      <td>mean</td>\n",
       "      <td>1074731191.9888</td>\n",
       "      <td>49080.7915</td>\n",
       "      <td>9682.9793</td>\n",
       "      <td>105.6175</td>\n",
       "      <td>7036.7289</td>\n",
       "      <td>9058.9241</td>\n",
       "      <td>45454.4015</td>\n",
       "    </tr>\n",
       "    <tr>\n",
       "      <td>std</td>\n",
       "      <td>619086204.3226</td>\n",
       "      <td>1183391.2591</td>\n",
       "      <td>95636.0100</td>\n",
       "      <td>907.1850</td>\n",
       "      <td>78639.7453</td>\n",
       "      <td>90973.3431</td>\n",
       "      <td>1152950.0551</td>\n",
       "    </tr>\n",
       "    <tr>\n",
       "      <td>min</td>\n",
       "      <td>5971.0000</td>\n",
       "      <td>0.0100</td>\n",
       "      <td>0.0000</td>\n",
       "      <td>0.0000</td>\n",
       "      <td>0.0000</td>\n",
       "      <td>0.0000</td>\n",
       "      <td>0.0100</td>\n",
       "    </tr>\n",
       "    <tr>\n",
       "      <td>25%</td>\n",
       "      <td>538263516.0000</td>\n",
       "      <td>2000.0000</td>\n",
       "      <td>30.0000</td>\n",
       "      <td>2.0000</td>\n",
       "      <td>16.9800</td>\n",
       "      <td>31.0000</td>\n",
       "      <td>2000.0000</td>\n",
       "    </tr>\n",
       "    <tr>\n",
       "      <td>50%</td>\n",
       "      <td>1075275634.0000</td>\n",
       "      <td>5200.0000</td>\n",
       "      <td>620.0000</td>\n",
       "      <td>12.0000</td>\n",
       "      <td>394.7200</td>\n",
       "      <td>624.3300</td>\n",
       "      <td>5500.0000</td>\n",
       "    </tr>\n",
       "    <tr>\n",
       "      <td>75%</td>\n",
       "      <td>1610148624.0000</td>\n",
       "      <td>16000.0000</td>\n",
       "      <td>4076.0000</td>\n",
       "      <td>56.0000</td>\n",
       "      <td>3034.0900</td>\n",
       "      <td>4050.0000</td>\n",
       "      <td>15500.0000</td>\n",
       "    </tr>\n",
       "    <tr>\n",
       "      <td>max</td>\n",
       "      <td>2147476221.0000</td>\n",
       "      <td>100000000.0000</td>\n",
       "      <td>20338986.2700</td>\n",
       "      <td>219382.0000</td>\n",
       "      <td>20338986.2700</td>\n",
       "      <td>20338986.2700</td>\n",
       "      <td>166361390.7100</td>\n",
       "    </tr>\n",
       "  </tbody>\n",
       "</table>\n",
       "</div>"
      ],
      "text/plain": [
       "                   ID           goal       pledged     backers   usd pledged  \\\n",
       "count     378661.0000    378661.0000   378661.0000 378661.0000   374864.0000   \n",
       "mean  1074731191.9888     49080.7915     9682.9793    105.6175     7036.7289   \n",
       "std    619086204.3226   1183391.2591    95636.0100    907.1850    78639.7453   \n",
       "min         5971.0000         0.0100        0.0000      0.0000        0.0000   \n",
       "25%    538263516.0000      2000.0000       30.0000      2.0000       16.9800   \n",
       "50%   1075275634.0000      5200.0000      620.0000     12.0000      394.7200   \n",
       "75%   1610148624.0000     16000.0000     4076.0000     56.0000     3034.0900   \n",
       "max   2147476221.0000 100000000.0000 20338986.2700 219382.0000 20338986.2700   \n",
       "\n",
       "       usd_pledged_real  usd_goal_real  \n",
       "count       378661.0000    378661.0000  \n",
       "mean          9058.9241     45454.4015  \n",
       "std          90973.3431   1152950.0551  \n",
       "min              0.0000         0.0100  \n",
       "25%             31.0000      2000.0000  \n",
       "50%            624.3300      5500.0000  \n",
       "75%           4050.0000     15500.0000  \n",
       "max       20338986.2700 166361390.7100  "
      ]
     },
     "execution_count": 63,
     "metadata": {},
     "output_type": "execute_result"
    }
   ],
   "source": [
    "kickstarter.describe()"
   ]
  },
  {
   "cell_type": "code",
   "execution_count": 64,
   "metadata": {},
   "outputs": [
    {
     "data": {
      "text/plain": [
       "failed        197719\n",
       "successful    133956\n",
       "canceled       38779\n",
       "undefined       3562\n",
       "live            2799\n",
       "suspended       1846\n",
       "Name: state, dtype: int64"
      ]
     },
     "execution_count": 64,
     "metadata": {},
     "output_type": "execute_result"
    }
   ],
   "source": [
    "kickstarter.state.value_counts()"
   ]
  },
  {
   "cell_type": "code",
   "execution_count": 65,
   "metadata": {},
   "outputs": [
    {
     "data": {
      "text/plain": [
       "failed       0.5222\n",
       "successful   0.3538\n",
       "canceled     0.1024\n",
       "undefined    0.0094\n",
       "live         0.0074\n",
       "suspended    0.0049\n",
       "Name: state, dtype: float64"
      ]
     },
     "execution_count": 65,
     "metadata": {},
     "output_type": "execute_result"
    }
   ],
   "source": [
    "kickstarter.state.value_counts(normalize=True)"
   ]
  },
  {
   "cell_type": "code",
   "execution_count": 68,
   "metadata": {},
   "outputs": [
    {
     "data": {
      "text/plain": [
       "failed       0.5961\n",
       "successful   0.4039\n",
       "Name: state, dtype: float64"
      ]
     },
     "execution_count": 68,
     "metadata": {},
     "output_type": "execute_result"
    }
   ],
   "source": [
    "kickstarter_classify = kickstarter[kickstarter.state.isin(['failed', 'successful'])]\n",
    "kickstarter_classify.state.value_counts(normalize=True)"
   ]
  },
  {
   "cell_type": "code",
   "execution_count": 69,
   "metadata": {},
   "outputs": [
    {
     "data": {
      "text/plain": [
       "Film & Video    56527\n",
       "Music           45949\n",
       "Publishing      35445\n",
       "Games           28521\n",
       "Technology      27050\n",
       "Art             25641\n",
       "Design          25364\n",
       "Food            22054\n",
       "Fashion         19775\n",
       "Theater         10242\n",
       "Comics           9878\n",
       "Photography      9689\n",
       "Crafts           7818\n",
       "Journalism       4149\n",
       "Dance            3573\n",
       "Name: main_category, dtype: int64"
      ]
     },
     "execution_count": 69,
     "metadata": {},
     "output_type": "execute_result"
    }
   ],
   "source": [
    "kickstarter_classify.main_category.value_counts()"
   ]
  },
  {
   "cell_type": "code",
   "execution_count": 70,
   "metadata": {},
   "outputs": [
    {
     "data": {
      "text/html": [
       "<div>\n",
       "<style scoped>\n",
       "    .dataframe tbody tr th:only-of-type {\n",
       "        vertical-align: middle;\n",
       "    }\n",
       "\n",
       "    .dataframe tbody tr th {\n",
       "        vertical-align: top;\n",
       "    }\n",
       "\n",
       "    .dataframe thead th {\n",
       "        text-align: right;\n",
       "    }\n",
       "</style>\n",
       "<table border=\"1\" class=\"dataframe\">\n",
       "  <thead>\n",
       "    <tr style=\"text-align: right;\">\n",
       "      <th>state</th>\n",
       "      <th>failed</th>\n",
       "      <th>successful</th>\n",
       "    </tr>\n",
       "    <tr>\n",
       "      <th>main_category</th>\n",
       "      <th></th>\n",
       "      <th></th>\n",
       "    </tr>\n",
       "  </thead>\n",
       "  <tbody>\n",
       "    <tr>\n",
       "      <td>Art</td>\n",
       "      <td>14131</td>\n",
       "      <td>11510</td>\n",
       "    </tr>\n",
       "    <tr>\n",
       "      <td>Comics</td>\n",
       "      <td>4036</td>\n",
       "      <td>5842</td>\n",
       "    </tr>\n",
       "    <tr>\n",
       "      <td>Crafts</td>\n",
       "      <td>5703</td>\n",
       "      <td>2115</td>\n",
       "    </tr>\n",
       "    <tr>\n",
       "      <td>Dance</td>\n",
       "      <td>1235</td>\n",
       "      <td>2338</td>\n",
       "    </tr>\n",
       "    <tr>\n",
       "      <td>Design</td>\n",
       "      <td>14814</td>\n",
       "      <td>10550</td>\n",
       "    </tr>\n",
       "    <tr>\n",
       "      <td>Fashion</td>\n",
       "      <td>14182</td>\n",
       "      <td>5593</td>\n",
       "    </tr>\n",
       "    <tr>\n",
       "      <td>Film &amp; Video</td>\n",
       "      <td>32904</td>\n",
       "      <td>23623</td>\n",
       "    </tr>\n",
       "    <tr>\n",
       "      <td>Food</td>\n",
       "      <td>15969</td>\n",
       "      <td>6085</td>\n",
       "    </tr>\n",
       "    <tr>\n",
       "      <td>Games</td>\n",
       "      <td>16003</td>\n",
       "      <td>12518</td>\n",
       "    </tr>\n",
       "    <tr>\n",
       "      <td>Journalism</td>\n",
       "      <td>3137</td>\n",
       "      <td>1012</td>\n",
       "    </tr>\n",
       "    <tr>\n",
       "      <td>Music</td>\n",
       "      <td>21752</td>\n",
       "      <td>24197</td>\n",
       "    </tr>\n",
       "    <tr>\n",
       "      <td>Photography</td>\n",
       "      <td>6384</td>\n",
       "      <td>3305</td>\n",
       "    </tr>\n",
       "    <tr>\n",
       "      <td>Publishing</td>\n",
       "      <td>23145</td>\n",
       "      <td>12300</td>\n",
       "    </tr>\n",
       "    <tr>\n",
       "      <td>Technology</td>\n",
       "      <td>20616</td>\n",
       "      <td>6434</td>\n",
       "    </tr>\n",
       "    <tr>\n",
       "      <td>Theater</td>\n",
       "      <td>3708</td>\n",
       "      <td>6534</td>\n",
       "    </tr>\n",
       "  </tbody>\n",
       "</table>\n",
       "</div>"
      ],
      "text/plain": [
       "state          failed  successful\n",
       "main_category                    \n",
       "Art             14131       11510\n",
       "Comics           4036        5842\n",
       "Crafts           5703        2115\n",
       "Dance            1235        2338\n",
       "Design          14814       10550\n",
       "Fashion         14182        5593\n",
       "Film & Video    32904       23623\n",
       "Food            15969        6085\n",
       "Games           16003       12518\n",
       "Journalism       3137        1012\n",
       "Music           21752       24197\n",
       "Photography      6384        3305\n",
       "Publishing      23145       12300\n",
       "Technology      20616        6434\n",
       "Theater          3708        6534"
      ]
     },
     "execution_count": 70,
     "metadata": {},
     "output_type": "execute_result"
    }
   ],
   "source": [
    "pd.crosstab(kickstarter_classify.main_category,\n",
    "            kickstarter_classify.state)\n"
   ]
  },
  {
   "cell_type": "code",
   "execution_count": 71,
   "metadata": {},
   "outputs": [
    {
     "data": {
      "text/html": [
       "<div>\n",
       "<style scoped>\n",
       "    .dataframe tbody tr th:only-of-type {\n",
       "        vertical-align: middle;\n",
       "    }\n",
       "\n",
       "    .dataframe tbody tr th {\n",
       "        vertical-align: top;\n",
       "    }\n",
       "\n",
       "    .dataframe thead th {\n",
       "        text-align: right;\n",
       "    }\n",
       "</style>\n",
       "<table border=\"1\" class=\"dataframe\">\n",
       "  <thead>\n",
       "    <tr style=\"text-align: right;\">\n",
       "      <th>state</th>\n",
       "      <th>failed</th>\n",
       "      <th>successful</th>\n",
       "      <th>success_rate</th>\n",
       "    </tr>\n",
       "    <tr>\n",
       "      <th>main_category</th>\n",
       "      <th></th>\n",
       "      <th></th>\n",
       "      <th></th>\n",
       "    </tr>\n",
       "  </thead>\n",
       "  <tbody>\n",
       "    <tr>\n",
       "      <td>Art</td>\n",
       "      <td>14131</td>\n",
       "      <td>11510</td>\n",
       "      <td>0.4489</td>\n",
       "    </tr>\n",
       "    <tr>\n",
       "      <td>Comics</td>\n",
       "      <td>4036</td>\n",
       "      <td>5842</td>\n",
       "      <td>0.5914</td>\n",
       "    </tr>\n",
       "    <tr>\n",
       "      <td>Crafts</td>\n",
       "      <td>5703</td>\n",
       "      <td>2115</td>\n",
       "      <td>0.2705</td>\n",
       "    </tr>\n",
       "    <tr>\n",
       "      <td>Dance</td>\n",
       "      <td>1235</td>\n",
       "      <td>2338</td>\n",
       "      <td>0.6544</td>\n",
       "    </tr>\n",
       "    <tr>\n",
       "      <td>Design</td>\n",
       "      <td>14814</td>\n",
       "      <td>10550</td>\n",
       "      <td>0.4159</td>\n",
       "    </tr>\n",
       "    <tr>\n",
       "      <td>Fashion</td>\n",
       "      <td>14182</td>\n",
       "      <td>5593</td>\n",
       "      <td>0.2828</td>\n",
       "    </tr>\n",
       "    <tr>\n",
       "      <td>Film &amp; Video</td>\n",
       "      <td>32904</td>\n",
       "      <td>23623</td>\n",
       "      <td>0.4179</td>\n",
       "    </tr>\n",
       "    <tr>\n",
       "      <td>Food</td>\n",
       "      <td>15969</td>\n",
       "      <td>6085</td>\n",
       "      <td>0.2759</td>\n",
       "    </tr>\n",
       "    <tr>\n",
       "      <td>Games</td>\n",
       "      <td>16003</td>\n",
       "      <td>12518</td>\n",
       "      <td>0.4389</td>\n",
       "    </tr>\n",
       "    <tr>\n",
       "      <td>Journalism</td>\n",
       "      <td>3137</td>\n",
       "      <td>1012</td>\n",
       "      <td>0.2439</td>\n",
       "    </tr>\n",
       "    <tr>\n",
       "      <td>Music</td>\n",
       "      <td>21752</td>\n",
       "      <td>24197</td>\n",
       "      <td>0.5266</td>\n",
       "    </tr>\n",
       "    <tr>\n",
       "      <td>Photography</td>\n",
       "      <td>6384</td>\n",
       "      <td>3305</td>\n",
       "      <td>0.3411</td>\n",
       "    </tr>\n",
       "    <tr>\n",
       "      <td>Publishing</td>\n",
       "      <td>23145</td>\n",
       "      <td>12300</td>\n",
       "      <td>0.3470</td>\n",
       "    </tr>\n",
       "    <tr>\n",
       "      <td>Technology</td>\n",
       "      <td>20616</td>\n",
       "      <td>6434</td>\n",
       "      <td>0.2379</td>\n",
       "    </tr>\n",
       "    <tr>\n",
       "      <td>Theater</td>\n",
       "      <td>3708</td>\n",
       "      <td>6534</td>\n",
       "      <td>0.6380</td>\n",
       "    </tr>\n",
       "  </tbody>\n",
       "</table>\n",
       "</div>"
      ],
      "text/plain": [
       "state          failed  successful  success_rate\n",
       "main_category                                  \n",
       "Art             14131       11510        0.4489\n",
       "Comics           4036        5842        0.5914\n",
       "Crafts           5703        2115        0.2705\n",
       "Dance            1235        2338        0.6544\n",
       "Design          14814       10550        0.4159\n",
       "Fashion         14182        5593        0.2828\n",
       "Film & Video    32904       23623        0.4179\n",
       "Food            15969        6085        0.2759\n",
       "Games           16003       12518        0.4389\n",
       "Journalism       3137        1012        0.2439\n",
       "Music           21752       24197        0.5266\n",
       "Photography      6384        3305        0.3411\n",
       "Publishing      23145       12300        0.3470\n",
       "Technology      20616        6434        0.2379\n",
       "Theater          3708        6534        0.6380"
      ]
     },
     "execution_count": 71,
     "metadata": {},
     "output_type": "execute_result"
    }
   ],
   "source": [
    "category_crosstab = pd.crosstab(kickstarter_classify.main_category,\n",
    "                                kickstarter_classify.state)\n",
    "category_crosstab['success_rate'] = category_crosstab.successful / (category_crosstab.successful+category_crosstab.failed)\n",
    "category_crosstab"
   ]
  },
  {
   "cell_type": "code",
   "execution_count": 72,
   "metadata": {},
   "outputs": [
    {
     "data": {
      "text/plain": [
       "USD    261511\n",
       "GBP     29476\n",
       "EUR     14378\n",
       "CAD     12375\n",
       "AUD      6621\n",
       "SEK      1510\n",
       "MXN      1411\n",
       "NZD      1274\n",
       "DKK       929\n",
       "CHF       652\n",
       "NOK       584\n",
       "HKD       477\n",
       "SGD       454\n",
       "JPY        23\n",
       "Name: currency, dtype: int64"
      ]
     },
     "execution_count": 72,
     "metadata": {},
     "output_type": "execute_result"
    }
   ],
   "source": [
    "kickstarter_classify.currency.value_counts()"
   ]
  },
  {
   "cell_type": "code",
   "execution_count": 73,
   "metadata": {},
   "outputs": [
    {
     "data": {
      "text/html": [
       "<div>\n",
       "<style scoped>\n",
       "    .dataframe tbody tr th:only-of-type {\n",
       "        vertical-align: middle;\n",
       "    }\n",
       "\n",
       "    .dataframe tbody tr th {\n",
       "        vertical-align: top;\n",
       "    }\n",
       "\n",
       "    .dataframe thead th {\n",
       "        text-align: right;\n",
       "    }\n",
       "</style>\n",
       "<table border=\"1\" class=\"dataframe\">\n",
       "  <thead>\n",
       "    <tr style=\"text-align: right;\">\n",
       "      <th>state</th>\n",
       "      <th>failed</th>\n",
       "      <th>successful</th>\n",
       "      <th>success_rate</th>\n",
       "    </tr>\n",
       "    <tr>\n",
       "      <th>currency</th>\n",
       "      <th></th>\n",
       "      <th></th>\n",
       "      <th></th>\n",
       "    </tr>\n",
       "  </thead>\n",
       "  <tbody>\n",
       "    <tr>\n",
       "      <td>AUD</td>\n",
       "      <td>4610</td>\n",
       "      <td>2011</td>\n",
       "      <td>0.3037</td>\n",
       "    </tr>\n",
       "    <tr>\n",
       "      <td>CAD</td>\n",
       "      <td>8238</td>\n",
       "      <td>4137</td>\n",
       "      <td>0.3343</td>\n",
       "    </tr>\n",
       "    <tr>\n",
       "      <td>CHF</td>\n",
       "      <td>465</td>\n",
       "      <td>187</td>\n",
       "      <td>0.2868</td>\n",
       "    </tr>\n",
       "    <tr>\n",
       "      <td>DKK</td>\n",
       "      <td>567</td>\n",
       "      <td>362</td>\n",
       "      <td>0.3897</td>\n",
       "    </tr>\n",
       "    <tr>\n",
       "      <td>EUR</td>\n",
       "      <td>10496</td>\n",
       "      <td>3882</td>\n",
       "      <td>0.2700</td>\n",
       "    </tr>\n",
       "    <tr>\n",
       "      <td>GBP</td>\n",
       "      <td>17395</td>\n",
       "      <td>12081</td>\n",
       "      <td>0.4099</td>\n",
       "    </tr>\n",
       "    <tr>\n",
       "      <td>HKD</td>\n",
       "      <td>261</td>\n",
       "      <td>216</td>\n",
       "      <td>0.4528</td>\n",
       "    </tr>\n",
       "    <tr>\n",
       "      <td>JPY</td>\n",
       "      <td>16</td>\n",
       "      <td>7</td>\n",
       "      <td>0.3043</td>\n",
       "    </tr>\n",
       "    <tr>\n",
       "      <td>MXN</td>\n",
       "      <td>1015</td>\n",
       "      <td>396</td>\n",
       "      <td>0.2807</td>\n",
       "    </tr>\n",
       "    <tr>\n",
       "      <td>NOK</td>\n",
       "      <td>421</td>\n",
       "      <td>163</td>\n",
       "      <td>0.2791</td>\n",
       "    </tr>\n",
       "    <tr>\n",
       "      <td>NZD</td>\n",
       "      <td>826</td>\n",
       "      <td>448</td>\n",
       "      <td>0.3516</td>\n",
       "    </tr>\n",
       "    <tr>\n",
       "      <td>SEK</td>\n",
       "      <td>1001</td>\n",
       "      <td>509</td>\n",
       "      <td>0.3371</td>\n",
       "    </tr>\n",
       "    <tr>\n",
       "      <td>SGD</td>\n",
       "      <td>276</td>\n",
       "      <td>178</td>\n",
       "      <td>0.3921</td>\n",
       "    </tr>\n",
       "    <tr>\n",
       "      <td>USD</td>\n",
       "      <td>152132</td>\n",
       "      <td>109379</td>\n",
       "      <td>0.4183</td>\n",
       "    </tr>\n",
       "  </tbody>\n",
       "</table>\n",
       "</div>"
      ],
      "text/plain": [
       "state     failed  successful  success_rate\n",
       "currency                                  \n",
       "AUD         4610        2011        0.3037\n",
       "CAD         8238        4137        0.3343\n",
       "CHF          465         187        0.2868\n",
       "DKK          567         362        0.3897\n",
       "EUR        10496        3882        0.2700\n",
       "GBP        17395       12081        0.4099\n",
       "HKD          261         216        0.4528\n",
       "JPY           16           7        0.3043\n",
       "MXN         1015         396        0.2807\n",
       "NOK          421         163        0.2791\n",
       "NZD          826         448        0.3516\n",
       "SEK         1001         509        0.3371\n",
       "SGD          276         178        0.3921\n",
       "USD       152132      109379        0.4183"
      ]
     },
     "execution_count": 73,
     "metadata": {},
     "output_type": "execute_result"
    }
   ],
   "source": [
    "currency_crosstab = pd.crosstab(kickstarter_classify.currency,kickstarter_classify.state)\n",
    "currency_crosstab['success_rate'] = currency_crosstab.successful/(currency_crosstab.successful+currency_crosstab.failed)\n",
    "currency_crosstab"
   ]
  },
  {
   "cell_type": "code",
   "execution_count": 74,
   "metadata": {},
   "outputs": [
    {
     "name": "stderr",
     "output_type": "stream",
     "text": [
      "/usr/local/lib/python3.7/site-packages/ipykernel_launcher.py:1: SettingWithCopyWarning: \n",
      "A value is trying to be set on a copy of a slice from a DataFrame.\n",
      "Try using .loc[row_indexer,col_indexer] = value instead\n",
      "\n",
      "See the caveats in the documentation: http://pandas.pydata.org/pandas-docs/stable/user_guide/indexing.html#returning-a-view-versus-a-copy\n",
      "  \"\"\"Entry point for launching an IPython kernel.\n",
      "/usr/local/lib/python3.7/site-packages/ipykernel_launcher.py:2: SettingWithCopyWarning: \n",
      "A value is trying to be set on a copy of a slice from a DataFrame.\n",
      "Try using .loc[row_indexer,col_indexer] = value instead\n",
      "\n",
      "See the caveats in the documentation: http://pandas.pydata.org/pandas-docs/stable/user_guide/indexing.html#returning-a-view-versus-a-copy\n",
      "  \n",
      "/usr/local/lib/python3.7/site-packages/ipykernel_launcher.py:3: SettingWithCopyWarning: \n",
      "A value is trying to be set on a copy of a slice from a DataFrame.\n",
      "Try using .loc[row_indexer,col_indexer] = value instead\n",
      "\n",
      "See the caveats in the documentation: http://pandas.pydata.org/pandas-docs/stable/user_guide/indexing.html#returning-a-view-versus-a-copy\n",
      "  This is separate from the ipykernel package so we can avoid doing imports until\n"
     ]
    },
    {
     "data": {
      "text/html": [
       "<div>\n",
       "<style scoped>\n",
       "    .dataframe tbody tr th:only-of-type {\n",
       "        vertical-align: middle;\n",
       "    }\n",
       "\n",
       "    .dataframe tbody tr th {\n",
       "        vertical-align: top;\n",
       "    }\n",
       "\n",
       "    .dataframe thead th {\n",
       "        text-align: right;\n",
       "    }\n",
       "</style>\n",
       "<table border=\"1\" class=\"dataframe\">\n",
       "  <thead>\n",
       "    <tr style=\"text-align: right;\">\n",
       "      <th></th>\n",
       "      <th>ID</th>\n",
       "      <th>name</th>\n",
       "      <th>category</th>\n",
       "      <th>main_category</th>\n",
       "      <th>currency</th>\n",
       "      <th>deadline</th>\n",
       "      <th>goal</th>\n",
       "      <th>launched</th>\n",
       "      <th>pledged</th>\n",
       "      <th>state</th>\n",
       "      <th>backers</th>\n",
       "      <th>country</th>\n",
       "      <th>usd pledged</th>\n",
       "      <th>usd_pledged_real</th>\n",
       "      <th>usd_goal_real</th>\n",
       "      <th>launched_date</th>\n",
       "      <th>deadline_date</th>\n",
       "      <th>duration</th>\n",
       "    </tr>\n",
       "  </thead>\n",
       "  <tbody>\n",
       "    <tr>\n",
       "      <td>0</td>\n",
       "      <td>1000002330</td>\n",
       "      <td>The Songs of Adelaide &amp; Abullah</td>\n",
       "      <td>Poetry</td>\n",
       "      <td>Publishing</td>\n",
       "      <td>GBP</td>\n",
       "      <td>2015-10-09</td>\n",
       "      <td>1000.0000</td>\n",
       "      <td>2015-08-11 12:12:28</td>\n",
       "      <td>0.0000</td>\n",
       "      <td>failed</td>\n",
       "      <td>0</td>\n",
       "      <td>GB</td>\n",
       "      <td>0.0000</td>\n",
       "      <td>0.0000</td>\n",
       "      <td>1533.9500</td>\n",
       "      <td>2015-08-11 12:12:28</td>\n",
       "      <td>2015-10-09</td>\n",
       "      <td>58</td>\n",
       "    </tr>\n",
       "    <tr>\n",
       "      <td>1</td>\n",
       "      <td>1000003930</td>\n",
       "      <td>Greeting From Earth: ZGAC Arts Capsule For ET</td>\n",
       "      <td>Narrative Film</td>\n",
       "      <td>Film &amp; Video</td>\n",
       "      <td>USD</td>\n",
       "      <td>2017-11-01</td>\n",
       "      <td>30000.0000</td>\n",
       "      <td>2017-09-02 04:43:57</td>\n",
       "      <td>2421.0000</td>\n",
       "      <td>failed</td>\n",
       "      <td>15</td>\n",
       "      <td>US</td>\n",
       "      <td>100.0000</td>\n",
       "      <td>2421.0000</td>\n",
       "      <td>30000.0000</td>\n",
       "      <td>2017-09-02 04:43:57</td>\n",
       "      <td>2017-11-01</td>\n",
       "      <td>59</td>\n",
       "    </tr>\n",
       "    <tr>\n",
       "      <td>2</td>\n",
       "      <td>1000004038</td>\n",
       "      <td>Where is Hank?</td>\n",
       "      <td>Narrative Film</td>\n",
       "      <td>Film &amp; Video</td>\n",
       "      <td>USD</td>\n",
       "      <td>2013-02-26</td>\n",
       "      <td>45000.0000</td>\n",
       "      <td>2013-01-12 00:20:50</td>\n",
       "      <td>220.0000</td>\n",
       "      <td>failed</td>\n",
       "      <td>3</td>\n",
       "      <td>US</td>\n",
       "      <td>220.0000</td>\n",
       "      <td>220.0000</td>\n",
       "      <td>45000.0000</td>\n",
       "      <td>2013-01-12 00:20:50</td>\n",
       "      <td>2013-02-26</td>\n",
       "      <td>44</td>\n",
       "    </tr>\n",
       "    <tr>\n",
       "      <td>3</td>\n",
       "      <td>1000007540</td>\n",
       "      <td>ToshiCapital Rekordz Needs Help to Complete Album</td>\n",
       "      <td>Music</td>\n",
       "      <td>Music</td>\n",
       "      <td>USD</td>\n",
       "      <td>2012-04-16</td>\n",
       "      <td>5000.0000</td>\n",
       "      <td>2012-03-17 03:24:11</td>\n",
       "      <td>1.0000</td>\n",
       "      <td>failed</td>\n",
       "      <td>1</td>\n",
       "      <td>US</td>\n",
       "      <td>1.0000</td>\n",
       "      <td>1.0000</td>\n",
       "      <td>5000.0000</td>\n",
       "      <td>2012-03-17 03:24:11</td>\n",
       "      <td>2012-04-16</td>\n",
       "      <td>29</td>\n",
       "    </tr>\n",
       "    <tr>\n",
       "      <td>5</td>\n",
       "      <td>1000014025</td>\n",
       "      <td>Monarch Espresso Bar</td>\n",
       "      <td>Restaurants</td>\n",
       "      <td>Food</td>\n",
       "      <td>USD</td>\n",
       "      <td>2016-04-01</td>\n",
       "      <td>50000.0000</td>\n",
       "      <td>2016-02-26 13:38:27</td>\n",
       "      <td>52375.0000</td>\n",
       "      <td>successful</td>\n",
       "      <td>224</td>\n",
       "      <td>US</td>\n",
       "      <td>52375.0000</td>\n",
       "      <td>52375.0000</td>\n",
       "      <td>50000.0000</td>\n",
       "      <td>2016-02-26 13:38:27</td>\n",
       "      <td>2016-04-01</td>\n",
       "      <td>34</td>\n",
       "    </tr>\n",
       "  </tbody>\n",
       "</table>\n",
       "</div>"
      ],
      "text/plain": [
       "           ID                                               name  \\\n",
       "0  1000002330                    The Songs of Adelaide & Abullah   \n",
       "1  1000003930      Greeting From Earth: ZGAC Arts Capsule For ET   \n",
       "2  1000004038                                     Where is Hank?   \n",
       "3  1000007540  ToshiCapital Rekordz Needs Help to Complete Album   \n",
       "5  1000014025                               Monarch Espresso Bar   \n",
       "\n",
       "         category main_category currency    deadline       goal  \\\n",
       "0          Poetry    Publishing      GBP  2015-10-09  1000.0000   \n",
       "1  Narrative Film  Film & Video      USD  2017-11-01 30000.0000   \n",
       "2  Narrative Film  Film & Video      USD  2013-02-26 45000.0000   \n",
       "3           Music         Music      USD  2012-04-16  5000.0000   \n",
       "5     Restaurants          Food      USD  2016-04-01 50000.0000   \n",
       "\n",
       "              launched    pledged       state  backers country  usd pledged  \\\n",
       "0  2015-08-11 12:12:28     0.0000      failed        0      GB       0.0000   \n",
       "1  2017-09-02 04:43:57  2421.0000      failed       15      US     100.0000   \n",
       "2  2013-01-12 00:20:50   220.0000      failed        3      US     220.0000   \n",
       "3  2012-03-17 03:24:11     1.0000      failed        1      US       1.0000   \n",
       "5  2016-02-26 13:38:27 52375.0000  successful      224      US   52375.0000   \n",
       "\n",
       "   usd_pledged_real  usd_goal_real       launched_date deadline_date  duration  \n",
       "0            0.0000      1533.9500 2015-08-11 12:12:28    2015-10-09        58  \n",
       "1         2421.0000     30000.0000 2017-09-02 04:43:57    2017-11-01        59  \n",
       "2          220.0000     45000.0000 2013-01-12 00:20:50    2013-02-26        44  \n",
       "3            1.0000      5000.0000 2012-03-17 03:24:11    2012-04-16        29  \n",
       "5        52375.0000     50000.0000 2016-02-26 13:38:27    2016-04-01        34  "
      ]
     },
     "execution_count": 74,
     "metadata": {},
     "output_type": "execute_result"
    }
   ],
   "source": [
    "kickstarter_classify['launched_date'] = pd.to_datetime(kickstarter_classify.launched)\n",
    "kickstarter_classify['deadline_date'] = pd.to_datetime(kickstarter_classify.deadline)\n",
    "kickstarter_classify['duration'] = (kickstarter_classify.deadline_date - kickstarter_classify.launched_date).dt.days\n",
    "kickstarter_classify.head()"
   ]
  },
  {
   "cell_type": "code",
   "execution_count": 75,
   "metadata": {},
   "outputs": [
    {
     "data": {
      "text/plain": [
       "<matplotlib.axes._subplots.AxesSubplot at 0x131c54b50>"
      ]
     },
     "execution_count": 75,
     "metadata": {},
     "output_type": "execute_result"
    },
    {
     "data": {
      "image/png": "[encoded data removed]",
      "text/plain": [
       "<Figure size 432x288 with 1 Axes>"
      ]
     },
     "metadata": {
      "needs_background": "light"
     },
     "output_type": "display_data"
    }
   ],
   "source": [
    "kickstarter_classify.duration.hist()"
   ]
  },
  {
   "cell_type": "code",
   "execution_count": 76,
   "metadata": {},
   "outputs": [
    {
     "data": {
      "text/plain": [
       "array([<matplotlib.axes._subplots.AxesSubplot object at 0x135d5ad50>,\n",
       "       <matplotlib.axes._subplots.AxesSubplot object at 0x13118fb50>],\n",
       "      dtype=object)"
      ]
     },
     "execution_count": 76,
     "metadata": {},
     "output_type": "execute_result"
    },
    {
     "data": {
      "image/png": "[encoded data removed]",
      "text/plain": [
       "<Figure size 432x288 with 2 Axes>"
      ]
     },
     "metadata": {
      "needs_background": "light"
     },
     "output_type": "display_data"
    }
   ],
   "source": [
    "kickstarter_classify.duration.hist(by=kickstarter_classify.state)"
   ]
  },
  {
   "cell_type": "code",
   "execution_count": 77,
   "metadata": {},
   "outputs": [
    {
     "data": {
      "text/plain": [
       "<matplotlib.axes._subplots.AxesSubplot at 0x1311d3b10>"
      ]
     },
     "execution_count": 77,
     "metadata": {},
     "output_type": "execute_result"
    },
    {
     "data": {
      "image/png": "[encoded data removed]",
      "text/plain": [
       "<Figure size 432x288 with 1 Axes>"
      ]
     },
     "metadata": {
      "needs_background": "light"
     },
     "output_type": "display_data"
    }
   ],
   "source": [
    "kickstarter_classify.usd_goal_real.hist()"
   ]
  },
  {
   "cell_type": "code",
   "execution_count": 78,
   "metadata": {},
   "outputs": [
    {
     "data": {
      "text/plain": [
       "<matplotlib.axes._subplots.AxesSubplot at 0x1312d3090>"
      ]
     },
     "execution_count": 78,
     "metadata": {},
     "output_type": "execute_result"
    },
    {
     "data": {
      "image/png": "[encoded data removed]",
      "text/plain": [
       "<Figure size 432x288 with 1 Axes>"
      ]
     },
     "metadata": {
      "needs_background": "light"
     },
     "output_type": "display_data"
    }
   ],
   "source": [
    "kickstarter_classify.usd_goal_real.hist(bins=100)"
   ]
  },
  {
   "cell_type": "code",
   "execution_count": 79,
   "metadata": {},
   "outputs": [
    {
     "data": {
      "text/plain": [
       "166361390.71"
      ]
     },
     "execution_count": 79,
     "metadata": {},
     "output_type": "execute_result"
    }
   ],
   "source": [
    "max(kickstarter_classify.usd_goal_real)"
   ]
  },
  {
   "cell_type": "code",
   "execution_count": 80,
   "metadata": {},
   "outputs": [
    {
     "data": {
      "text/html": [
       "<div>\n",
       "<style scoped>\n",
       "    .dataframe tbody tr th:only-of-type {\n",
       "        vertical-align: middle;\n",
       "    }\n",
       "\n",
       "    .dataframe tbody tr th {\n",
       "        vertical-align: top;\n",
       "    }\n",
       "\n",
       "    .dataframe thead th {\n",
       "        text-align: right;\n",
       "    }\n",
       "</style>\n",
       "<table border=\"1\" class=\"dataframe\">\n",
       "  <thead>\n",
       "    <tr style=\"text-align: right;\">\n",
       "      <th></th>\n",
       "      <th>ID</th>\n",
       "      <th>name</th>\n",
       "      <th>category</th>\n",
       "      <th>main_category</th>\n",
       "      <th>currency</th>\n",
       "      <th>deadline</th>\n",
       "      <th>goal</th>\n",
       "      <th>launched</th>\n",
       "      <th>pledged</th>\n",
       "      <th>state</th>\n",
       "      <th>backers</th>\n",
       "      <th>country</th>\n",
       "      <th>usd pledged</th>\n",
       "      <th>usd_pledged_real</th>\n",
       "      <th>usd_goal_real</th>\n",
       "      <th>launched_date</th>\n",
       "      <th>deadline_date</th>\n",
       "      <th>duration</th>\n",
       "    </tr>\n",
       "  </thead>\n",
       "  <tbody>\n",
       "    <tr>\n",
       "      <td>340</td>\n",
       "      <td>1001542282</td>\n",
       "      <td>You in a novel</td>\n",
       "      <td>Publishing</td>\n",
       "      <td>Publishing</td>\n",
       "      <td>EUR</td>\n",
       "      <td>2015-11-09</td>\n",
       "      <td>1000000.0000</td>\n",
       "      <td>2015-09-10 23:03:21</td>\n",
       "      <td>10.0000</td>\n",
       "      <td>failed</td>\n",
       "      <td>1</td>\n",
       "      <td>IT</td>\n",
       "      <td>11.1800</td>\n",
       "      <td>10.7600</td>\n",
       "      <td>1076403.0900</td>\n",
       "      <td>2015-09-10 23:03:21</td>\n",
       "      <td>2015-11-09</td>\n",
       "      <td>59</td>\n",
       "    </tr>\n",
       "    <tr>\n",
       "      <td>971</td>\n",
       "      <td>1004941506</td>\n",
       "      <td>Maori MBT Awareness Centre</td>\n",
       "      <td>Web</td>\n",
       "      <td>Journalism</td>\n",
       "      <td>CAD</td>\n",
       "      <td>2017-10-18</td>\n",
       "      <td>2000000.0000</td>\n",
       "      <td>2017-08-19 22:13:55</td>\n",
       "      <td>2242.0000</td>\n",
       "      <td>failed</td>\n",
       "      <td>19</td>\n",
       "      <td>CA</td>\n",
       "      <td>1160.6700</td>\n",
       "      <td>1794.4600</td>\n",
       "      <td>1600768.3700</td>\n",
       "      <td>2017-08-19 22:13:55</td>\n",
       "      <td>2017-10-18</td>\n",
       "      <td>59</td>\n",
       "    </tr>\n",
       "    <tr>\n",
       "      <td>1042</td>\n",
       "      <td>1005237669</td>\n",
       "      <td>The Old Soul of a Lion</td>\n",
       "      <td>Film &amp; Video</td>\n",
       "      <td>Film &amp; Video</td>\n",
       "      <td>USD</td>\n",
       "      <td>2014-10-14</td>\n",
       "      <td>3000000.0000</td>\n",
       "      <td>2014-08-15 20:16:22</td>\n",
       "      <td>4.0000</td>\n",
       "      <td>failed</td>\n",
       "      <td>2</td>\n",
       "      <td>US</td>\n",
       "      <td>4.0000</td>\n",
       "      <td>4.0000</td>\n",
       "      <td>3000000.0000</td>\n",
       "      <td>2014-08-15 20:16:22</td>\n",
       "      <td>2014-10-14</td>\n",
       "      <td>59</td>\n",
       "    </tr>\n",
       "    <tr>\n",
       "      <td>1144</td>\n",
       "      <td>1005820080</td>\n",
       "      <td>The Million Pound Shirt</td>\n",
       "      <td>Fashion</td>\n",
       "      <td>Fashion</td>\n",
       "      <td>GBP</td>\n",
       "      <td>2015-11-25</td>\n",
       "      <td>1000000.0000</td>\n",
       "      <td>2015-10-21 22:00:04</td>\n",
       "      <td>10.0000</td>\n",
       "      <td>failed</td>\n",
       "      <td>1</td>\n",
       "      <td>GB</td>\n",
       "      <td>15.4700</td>\n",
       "      <td>15.0500</td>\n",
       "      <td>1505185.3600</td>\n",
       "      <td>2015-10-21 22:00:04</td>\n",
       "      <td>2015-11-25</td>\n",
       "      <td>34</td>\n",
       "    </tr>\n",
       "    <tr>\n",
       "      <td>1795</td>\n",
       "      <td>1009207145</td>\n",
       "      <td>** GOLIATH **</td>\n",
       "      <td>Product Design</td>\n",
       "      <td>Design</td>\n",
       "      <td>CAD</td>\n",
       "      <td>2014-07-21</td>\n",
       "      <td>3850000.0000</td>\n",
       "      <td>2014-06-21 22:34:21</td>\n",
       "      <td>285.0000</td>\n",
       "      <td>failed</td>\n",
       "      <td>5</td>\n",
       "      <td>CA</td>\n",
       "      <td>263.4100</td>\n",
       "      <td>264.6700</td>\n",
       "      <td>3575408.6200</td>\n",
       "      <td>2014-06-21 22:34:21</td>\n",
       "      <td>2014-07-21</td>\n",
       "      <td>29</td>\n",
       "    </tr>\n",
       "    <tr>\n",
       "      <td>...</td>\n",
       "      <td>...</td>\n",
       "      <td>...</td>\n",
       "      <td>...</td>\n",
       "      <td>...</td>\n",
       "      <td>...</td>\n",
       "      <td>...</td>\n",
       "      <td>...</td>\n",
       "      <td>...</td>\n",
       "      <td>...</td>\n",
       "      <td>...</td>\n",
       "      <td>...</td>\n",
       "      <td>...</td>\n",
       "      <td>...</td>\n",
       "      <td>...</td>\n",
       "      <td>...</td>\n",
       "      <td>...</td>\n",
       "      <td>...</td>\n",
       "      <td>...</td>\n",
       "    </tr>\n",
       "    <tr>\n",
       "      <td>377201</td>\n",
       "      <td>992624421</td>\n",
       "      <td>I don't know a comic book?</td>\n",
       "      <td>Comics</td>\n",
       "      <td>Comics</td>\n",
       "      <td>USD</td>\n",
       "      <td>2014-08-09</td>\n",
       "      <td>10000000.0000</td>\n",
       "      <td>2014-07-10 06:11:48</td>\n",
       "      <td>10.0000</td>\n",
       "      <td>failed</td>\n",
       "      <td>1</td>\n",
       "      <td>US</td>\n",
       "      <td>10.0000</td>\n",
       "      <td>10.0000</td>\n",
       "      <td>10000000.0000</td>\n",
       "      <td>2014-07-10 06:11:48</td>\n",
       "      <td>2014-08-09</td>\n",
       "      <td>29</td>\n",
       "    </tr>\n",
       "    <tr>\n",
       "      <td>377444</td>\n",
       "      <td>993969686</td>\n",
       "      <td>Albert Einstein Museum</td>\n",
       "      <td>Technology</td>\n",
       "      <td>Technology</td>\n",
       "      <td>USD</td>\n",
       "      <td>2014-12-20</td>\n",
       "      <td>50000000.0000</td>\n",
       "      <td>2014-10-23 01:46:17</td>\n",
       "      <td>240.0000</td>\n",
       "      <td>failed</td>\n",
       "      <td>8</td>\n",
       "      <td>US</td>\n",
       "      <td>240.0000</td>\n",
       "      <td>240.0000</td>\n",
       "      <td>50000000.0000</td>\n",
       "      <td>2014-10-23 01:46:17</td>\n",
       "      <td>2014-12-20</td>\n",
       "      <td>57</td>\n",
       "    </tr>\n",
       "    <tr>\n",
       "      <td>377649</td>\n",
       "      <td>994971752</td>\n",
       "      <td>Love Revolution 24</td>\n",
       "      <td>Country &amp; Folk</td>\n",
       "      <td>Music</td>\n",
       "      <td>USD</td>\n",
       "      <td>2015-02-24</td>\n",
       "      <td>39023437.0000</td>\n",
       "      <td>2015-01-31 09:05:34</td>\n",
       "      <td>5.0000</td>\n",
       "      <td>failed</td>\n",
       "      <td>5</td>\n",
       "      <td>US</td>\n",
       "      <td>5.0000</td>\n",
       "      <td>5.0000</td>\n",
       "      <td>39023437.0000</td>\n",
       "      <td>2015-01-31 09:05:34</td>\n",
       "      <td>2015-02-24</td>\n",
       "      <td>23</td>\n",
       "    </tr>\n",
       "    <tr>\n",
       "      <td>378165</td>\n",
       "      <td>997671931</td>\n",
       "      <td>Food for FREE</td>\n",
       "      <td>Farms</td>\n",
       "      <td>Food</td>\n",
       "      <td>AUD</td>\n",
       "      <td>2014-12-08</td>\n",
       "      <td>4500000.0000</td>\n",
       "      <td>2014-11-24 02:13:49</td>\n",
       "      <td>0.0000</td>\n",
       "      <td>failed</td>\n",
       "      <td>0</td>\n",
       "      <td>AU</td>\n",
       "      <td>0.0000</td>\n",
       "      <td>0.0000</td>\n",
       "      <td>3721161.0000</td>\n",
       "      <td>2014-11-24 02:13:49</td>\n",
       "      <td>2014-12-08</td>\n",
       "      <td>13</td>\n",
       "    </tr>\n",
       "    <tr>\n",
       "      <td>378389</td>\n",
       "      <td>998655810</td>\n",
       "      <td>Marooned Heavens</td>\n",
       "      <td>Video Games</td>\n",
       "      <td>Games</td>\n",
       "      <td>GBP</td>\n",
       "      <td>2017-06-08</td>\n",
       "      <td>2089000.0000</td>\n",
       "      <td>2017-05-09 17:11:29</td>\n",
       "      <td>71.0000</td>\n",
       "      <td>failed</td>\n",
       "      <td>3</td>\n",
       "      <td>GB</td>\n",
       "      <td>0.0000</td>\n",
       "      <td>90.5400</td>\n",
       "      <td>2663997.1400</td>\n",
       "      <td>2017-05-09 17:11:29</td>\n",
       "      <td>2017-06-08</td>\n",
       "      <td>29</td>\n",
       "    </tr>\n",
       "  </tbody>\n",
       "</table>\n",
       "<p>840 rows × 18 columns</p>\n",
       "</div>"
      ],
      "text/plain": [
       "                ID                        name        category main_category  \\\n",
       "340     1001542282              You in a novel      Publishing    Publishing   \n",
       "971     1004941506  Maori MBT Awareness Centre             Web    Journalism   \n",
       "1042    1005237669      The Old Soul of a Lion    Film & Video  Film & Video   \n",
       "1144    1005820080     The Million Pound Shirt         Fashion       Fashion   \n",
       "1795    1009207145               ** GOLIATH **  Product Design        Design   \n",
       "...            ...                         ...             ...           ...   \n",
       "377201   992624421  I don't know a comic book?          Comics        Comics   \n",
       "377444   993969686      Albert Einstein Museum      Technology    Technology   \n",
       "377649   994971752          Love Revolution 24  Country & Folk         Music   \n",
       "378165   997671931               Food for FREE           Farms          Food   \n",
       "378389   998655810            Marooned Heavens     Video Games         Games   \n",
       "\n",
       "       currency    deadline          goal             launched   pledged  \\\n",
       "340         EUR  2015-11-09  1000000.0000  2015-09-10 23:03:21   10.0000   \n",
       "971         CAD  2017-10-18  2000000.0000  2017-08-19 22:13:55 2242.0000   \n",
       "1042        USD  2014-10-14  3000000.0000  2014-08-15 20:16:22    4.0000   \n",
       "1144        GBP  2015-11-25  1000000.0000  2015-10-21 22:00:04   10.0000   \n",
       "1795        CAD  2014-07-21  3850000.0000  2014-06-21 22:34:21  285.0000   \n",
       "...         ...         ...           ...                  ...       ...   \n",
       "377201      USD  2014-08-09 10000000.0000  2014-07-10 06:11:48   10.0000   \n",
       "377444      USD  2014-12-20 50000000.0000  2014-10-23 01:46:17  240.0000   \n",
       "377649      USD  2015-02-24 39023437.0000  2015-01-31 09:05:34    5.0000   \n",
       "378165      AUD  2014-12-08  4500000.0000  2014-11-24 02:13:49    0.0000   \n",
       "378389      GBP  2017-06-08  2089000.0000  2017-05-09 17:11:29   71.0000   \n",
       "\n",
       "         state  backers country  usd pledged  usd_pledged_real  usd_goal_real  \\\n",
       "340     failed        1      IT      11.1800           10.7600   1076403.0900   \n",
       "971     failed       19      CA    1160.6700         1794.4600   1600768.3700   \n",
       "1042    failed        2      US       4.0000            4.0000   3000000.0000   \n",
       "1144    failed        1      GB      15.4700           15.0500   1505185.3600   \n",
       "1795    failed        5      CA     263.4100          264.6700   3575408.6200   \n",
       "...        ...      ...     ...          ...               ...            ...   \n",
       "377201  failed        1      US      10.0000           10.0000  10000000.0000   \n",
       "377444  failed        8      US     240.0000          240.0000  50000000.0000   \n",
       "377649  failed        5      US       5.0000            5.0000  39023437.0000   \n",
       "378165  failed        0      AU       0.0000            0.0000   3721161.0000   \n",
       "378389  failed        3      GB       0.0000           90.5400   2663997.1400   \n",
       "\n",
       "             launched_date deadline_date  duration  \n",
       "340    2015-09-10 23:03:21    2015-11-09        59  \n",
       "971    2017-08-19 22:13:55    2017-10-18        59  \n",
       "1042   2014-08-15 20:16:22    2014-10-14        59  \n",
       "1144   2015-10-21 22:00:04    2015-11-25        34  \n",
       "1795   2014-06-21 22:34:21    2014-07-21        29  \n",
       "...                    ...           ...       ...  \n",
       "377201 2014-07-10 06:11:48    2014-08-09        29  \n",
       "377444 2014-10-23 01:46:17    2014-12-20        57  \n",
       "377649 2015-01-31 09:05:34    2015-02-24        23  \n",
       "378165 2014-11-24 02:13:49    2014-12-08        13  \n",
       "378389 2017-05-09 17:11:29    2017-06-08        29  \n",
       "\n",
       "[840 rows x 18 columns]"
      ]
     },
     "execution_count": 80,
     "metadata": {},
     "output_type": "execute_result"
    }
   ],
   "source": [
    "kickstarter_classify[kickstarter_classify.usd_goal_real > 1000000]\n"
   ]
  },
  {
   "cell_type": "code",
   "execution_count": 83,
   "metadata": {},
   "outputs": [
    {
     "data": {
      "text/plain": [
       "failed        829\n",
       "successful     11\n",
       "Name: state, dtype: int64"
      ]
     },
     "execution_count": 83,
     "metadata": {},
     "output_type": "execute_result"
    }
   ],
   "source": [
    "kickstarter_classify[kickstarter_classify.usd_goal_real > 1000000].state.value_counts()"
   ]
  },
  {
   "cell_type": "code",
   "execution_count": 84,
   "metadata": {},
   "outputs": [
    {
     "data": {
      "text/html": [
       "<div>\n",
       "<style scoped>\n",
       "    .dataframe tbody tr th:only-of-type {\n",
       "        vertical-align: middle;\n",
       "    }\n",
       "\n",
       "    .dataframe tbody tr th {\n",
       "        vertical-align: top;\n",
       "    }\n",
       "\n",
       "    .dataframe thead th {\n",
       "        text-align: right;\n",
       "    }\n",
       "</style>\n",
       "<table border=\"1\" class=\"dataframe\">\n",
       "  <thead>\n",
       "    <tr style=\"text-align: right;\">\n",
       "      <th></th>\n",
       "      <th>ID</th>\n",
       "      <th>goal</th>\n",
       "      <th>pledged</th>\n",
       "      <th>backers</th>\n",
       "      <th>usd pledged</th>\n",
       "      <th>usd_pledged_real</th>\n",
       "      <th>usd_goal_real</th>\n",
       "      <th>duration</th>\n",
       "    </tr>\n",
       "  </thead>\n",
       "  <tbody>\n",
       "    <tr>\n",
       "      <td>ID</td>\n",
       "      <td>1.0000</td>\n",
       "      <td>0.0019</td>\n",
       "      <td>0.0009</td>\n",
       "      <td>0.0008</td>\n",
       "      <td>-0.0003</td>\n",
       "      <td>0.0003</td>\n",
       "      <td>0.0018</td>\n",
       "      <td>0.0028</td>\n",
       "    </tr>\n",
       "    <tr>\n",
       "      <td>goal</td>\n",
       "      <td>0.0019</td>\n",
       "      <td>1.0000</td>\n",
       "      <td>0.0080</td>\n",
       "      <td>0.0048</td>\n",
       "      <td>0.0064</td>\n",
       "      <td>0.0060</td>\n",
       "      <td>0.9526</td>\n",
       "      <td>0.0227</td>\n",
       "    </tr>\n",
       "    <tr>\n",
       "      <td>pledged</td>\n",
       "      <td>0.0009</td>\n",
       "      <td>0.0080</td>\n",
       "      <td>1.0000</td>\n",
       "      <td>0.7173</td>\n",
       "      <td>0.8580</td>\n",
       "      <td>0.9536</td>\n",
       "      <td>0.0057</td>\n",
       "      <td>0.0081</td>\n",
       "    </tr>\n",
       "    <tr>\n",
       "      <td>backers</td>\n",
       "      <td>0.0008</td>\n",
       "      <td>0.0048</td>\n",
       "      <td>0.7173</td>\n",
       "      <td>1.0000</td>\n",
       "      <td>0.6975</td>\n",
       "      <td>0.7523</td>\n",
       "      <td>0.0052</td>\n",
       "      <td>-0.0000</td>\n",
       "    </tr>\n",
       "    <tr>\n",
       "      <td>usd pledged</td>\n",
       "      <td>-0.0003</td>\n",
       "      <td>0.0064</td>\n",
       "      <td>0.8580</td>\n",
       "      <td>0.6975</td>\n",
       "      <td>1.0000</td>\n",
       "      <td>0.9077</td>\n",
       "      <td>0.0070</td>\n",
       "      <td>0.0077</td>\n",
       "    </tr>\n",
       "    <tr>\n",
       "      <td>usd_pledged_real</td>\n",
       "      <td>0.0003</td>\n",
       "      <td>0.0060</td>\n",
       "      <td>0.9536</td>\n",
       "      <td>0.7523</td>\n",
       "      <td>0.9077</td>\n",
       "      <td>1.0000</td>\n",
       "      <td>0.0064</td>\n",
       "      <td>0.0087</td>\n",
       "    </tr>\n",
       "    <tr>\n",
       "      <td>usd_goal_real</td>\n",
       "      <td>0.0018</td>\n",
       "      <td>0.9526</td>\n",
       "      <td>0.0057</td>\n",
       "      <td>0.0052</td>\n",
       "      <td>0.0070</td>\n",
       "      <td>0.0064</td>\n",
       "      <td>1.0000</td>\n",
       "      <td>0.0216</td>\n",
       "    </tr>\n",
       "    <tr>\n",
       "      <td>duration</td>\n",
       "      <td>0.0028</td>\n",
       "      <td>0.0227</td>\n",
       "      <td>0.0081</td>\n",
       "      <td>-0.0000</td>\n",
       "      <td>0.0077</td>\n",
       "      <td>0.0087</td>\n",
       "      <td>0.0216</td>\n",
       "      <td>1.0000</td>\n",
       "    </tr>\n",
       "  </tbody>\n",
       "</table>\n",
       "</div>"
      ],
      "text/plain": [
       "                      ID   goal  pledged  backers  usd pledged  \\\n",
       "ID                1.0000 0.0019   0.0009   0.0008      -0.0003   \n",
       "goal              0.0019 1.0000   0.0080   0.0048       0.0064   \n",
       "pledged           0.0009 0.0080   1.0000   0.7173       0.8580   \n",
       "backers           0.0008 0.0048   0.7173   1.0000       0.6975   \n",
       "usd pledged      -0.0003 0.0064   0.8580   0.6975       1.0000   \n",
       "usd_pledged_real  0.0003 0.0060   0.9536   0.7523       0.9077   \n",
       "usd_goal_real     0.0018 0.9526   0.0057   0.0052       0.0070   \n",
       "duration          0.0028 0.0227   0.0081  -0.0000       0.0077   \n",
       "\n",
       "                  usd_pledged_real  usd_goal_real  duration  \n",
       "ID                          0.0003         0.0018    0.0028  \n",
       "goal                        0.0060         0.9526    0.0227  \n",
       "pledged                     0.9536         0.0057    0.0081  \n",
       "backers                     0.7523         0.0052   -0.0000  \n",
       "usd pledged                 0.9077         0.0070    0.0077  \n",
       "usd_pledged_real            1.0000         0.0064    0.0087  \n",
       "usd_goal_real               0.0064         1.0000    0.0216  \n",
       "duration                    0.0087         0.0216    1.0000  "
      ]
     },
     "execution_count": 84,
     "metadata": {},
     "output_type": "execute_result"
    }
   ],
   "source": [
    "kickstarter_classify.corr()"
   ]
  },
  {
   "cell_type": "code",
   "execution_count": null,
   "metadata": {},
   "outputs": [],
   "source": []
  },
  {
   "cell_type": "code",
   "execution_count": 85,
   "metadata": {},
   "outputs": [
    {
     "data": {
      "text/plain": [
       "ID                    0\n",
       "name                  3\n",
       "category              0\n",
       "main_category         0\n",
       "currency              0\n",
       "deadline              0\n",
       "goal                  0\n",
       "launched              0\n",
       "pledged               0\n",
       "state                 0\n",
       "backers               0\n",
       "country               0\n",
       "usd pledged         210\n",
       "usd_pledged_real      0\n",
       "usd_goal_real         0\n",
       "launched_date         0\n",
       "deadline_date         0\n",
       "duration              0\n",
       "dtype: int64"
      ]
     },
     "execution_count": 85,
     "metadata": {},
     "output_type": "execute_result"
    }
   ],
   "source": [
    "kickstarter_classify.isnull().sum(axis = 0)"
   ]
  },
  {
   "cell_type": "code",
   "execution_count": 105,
   "metadata": {},
   "outputs": [
    {
     "data": {
      "text/html": [
       "<div>\n",
       "<style scoped>\n",
       "    .dataframe tbody tr th:only-of-type {\n",
       "        vertical-align: middle;\n",
       "    }\n",
       "\n",
       "    .dataframe tbody tr th {\n",
       "        vertical-align: top;\n",
       "    }\n",
       "\n",
       "    .dataframe thead th {\n",
       "        text-align: right;\n",
       "    }\n",
       "</style>\n",
       "<table border=\"1\" class=\"dataframe\">\n",
       "  <thead>\n",
       "    <tr style=\"text-align: right;\">\n",
       "      <th></th>\n",
       "      <th>successful</th>\n",
       "    </tr>\n",
       "  </thead>\n",
       "  <tbody>\n",
       "    <tr>\n",
       "      <td>0</td>\n",
       "      <td>0</td>\n",
       "    </tr>\n",
       "    <tr>\n",
       "      <td>1</td>\n",
       "      <td>0</td>\n",
       "    </tr>\n",
       "    <tr>\n",
       "      <td>2</td>\n",
       "      <td>0</td>\n",
       "    </tr>\n",
       "    <tr>\n",
       "      <td>3</td>\n",
       "      <td>0</td>\n",
       "    </tr>\n",
       "    <tr>\n",
       "      <td>5</td>\n",
       "      <td>1</td>\n",
       "    </tr>\n",
       "  </tbody>\n",
       "</table>\n",
       "</div>"
      ],
      "text/plain": [
       "   successful\n",
       "0           0\n",
       "1           0\n",
       "2           0\n",
       "3           0\n",
       "5           1"
      ]
     },
     "execution_count": 105,
     "metadata": {},
     "output_type": "execute_result"
    }
   ],
   "source": [
    "#keep identified relevant features\n",
    "#kickstarter_variables = kickstarter_classify[['usd_goal_real', 'backers', 'main_category', 'duration', 'currency']]\n",
    "kickstarter_variables = kickstarter_classify[['usd_goal_real', 'main_category', 'duration', 'currency']]\n",
    "\n",
    "kickstarter_y = pd.get_dummies(data=kickstarter_classify['state'], drop_first=True)\n",
    "kickstarter_y.head()"
   ]
  },
  {
   "cell_type": "code",
   "execution_count": 106,
   "metadata": {},
   "outputs": [
    {
     "data": {
      "text/html": [
       "<div>\n",
       "<style scoped>\n",
       "    .dataframe tbody tr th:only-of-type {\n",
       "        vertical-align: middle;\n",
       "    }\n",
       "\n",
       "    .dataframe tbody tr th {\n",
       "        vertical-align: top;\n",
       "    }\n",
       "\n",
       "    .dataframe thead th {\n",
       "        text-align: right;\n",
       "    }\n",
       "</style>\n",
       "<table border=\"1\" class=\"dataframe\">\n",
       "  <thead>\n",
       "    <tr style=\"text-align: right;\">\n",
       "      <th></th>\n",
       "      <th>usd_goal_real</th>\n",
       "      <th>duration</th>\n",
       "      <th>main_category_Comics</th>\n",
       "      <th>main_category_Crafts</th>\n",
       "      <th>main_category_Dance</th>\n",
       "      <th>main_category_Design</th>\n",
       "      <th>main_category_Fashion</th>\n",
       "      <th>main_category_Film &amp; Video</th>\n",
       "      <th>main_category_Food</th>\n",
       "      <th>main_category_Games</th>\n",
       "      <th>...</th>\n",
       "      <th>currency_EUR</th>\n",
       "      <th>currency_GBP</th>\n",
       "      <th>currency_HKD</th>\n",
       "      <th>currency_JPY</th>\n",
       "      <th>currency_MXN</th>\n",
       "      <th>currency_NOK</th>\n",
       "      <th>currency_NZD</th>\n",
       "      <th>currency_SEK</th>\n",
       "      <th>currency_SGD</th>\n",
       "      <th>currency_USD</th>\n",
       "    </tr>\n",
       "  </thead>\n",
       "  <tbody>\n",
       "    <tr>\n",
       "      <td>0</td>\n",
       "      <td>1533.9500</td>\n",
       "      <td>58</td>\n",
       "      <td>0</td>\n",
       "      <td>0</td>\n",
       "      <td>0</td>\n",
       "      <td>0</td>\n",
       "      <td>0</td>\n",
       "      <td>0</td>\n",
       "      <td>0</td>\n",
       "      <td>0</td>\n",
       "      <td>...</td>\n",
       "      <td>0</td>\n",
       "      <td>1</td>\n",
       "      <td>0</td>\n",
       "      <td>0</td>\n",
       "      <td>0</td>\n",
       "      <td>0</td>\n",
       "      <td>0</td>\n",
       "      <td>0</td>\n",
       "      <td>0</td>\n",
       "      <td>0</td>\n",
       "    </tr>\n",
       "    <tr>\n",
       "      <td>1</td>\n",
       "      <td>30000.0000</td>\n",
       "      <td>59</td>\n",
       "      <td>0</td>\n",
       "      <td>0</td>\n",
       "      <td>0</td>\n",
       "      <td>0</td>\n",
       "      <td>0</td>\n",
       "      <td>1</td>\n",
       "      <td>0</td>\n",
       "      <td>0</td>\n",
       "      <td>...</td>\n",
       "      <td>0</td>\n",
       "      <td>0</td>\n",
       "      <td>0</td>\n",
       "      <td>0</td>\n",
       "      <td>0</td>\n",
       "      <td>0</td>\n",
       "      <td>0</td>\n",
       "      <td>0</td>\n",
       "      <td>0</td>\n",
       "      <td>1</td>\n",
       "    </tr>\n",
       "    <tr>\n",
       "      <td>2</td>\n",
       "      <td>45000.0000</td>\n",
       "      <td>44</td>\n",
       "      <td>0</td>\n",
       "      <td>0</td>\n",
       "      <td>0</td>\n",
       "      <td>0</td>\n",
       "      <td>0</td>\n",
       "      <td>1</td>\n",
       "      <td>0</td>\n",
       "      <td>0</td>\n",
       "      <td>...</td>\n",
       "      <td>0</td>\n",
       "      <td>0</td>\n",
       "      <td>0</td>\n",
       "      <td>0</td>\n",
       "      <td>0</td>\n",
       "      <td>0</td>\n",
       "      <td>0</td>\n",
       "      <td>0</td>\n",
       "      <td>0</td>\n",
       "      <td>1</td>\n",
       "    </tr>\n",
       "    <tr>\n",
       "      <td>3</td>\n",
       "      <td>5000.0000</td>\n",
       "      <td>29</td>\n",
       "      <td>0</td>\n",
       "      <td>0</td>\n",
       "      <td>0</td>\n",
       "      <td>0</td>\n",
       "      <td>0</td>\n",
       "      <td>0</td>\n",
       "      <td>0</td>\n",
       "      <td>0</td>\n",
       "      <td>...</td>\n",
       "      <td>0</td>\n",
       "      <td>0</td>\n",
       "      <td>0</td>\n",
       "      <td>0</td>\n",
       "      <td>0</td>\n",
       "      <td>0</td>\n",
       "      <td>0</td>\n",
       "      <td>0</td>\n",
       "      <td>0</td>\n",
       "      <td>1</td>\n",
       "    </tr>\n",
       "    <tr>\n",
       "      <td>5</td>\n",
       "      <td>50000.0000</td>\n",
       "      <td>34</td>\n",
       "      <td>0</td>\n",
       "      <td>0</td>\n",
       "      <td>0</td>\n",
       "      <td>0</td>\n",
       "      <td>0</td>\n",
       "      <td>0</td>\n",
       "      <td>1</td>\n",
       "      <td>0</td>\n",
       "      <td>...</td>\n",
       "      <td>0</td>\n",
       "      <td>0</td>\n",
       "      <td>0</td>\n",
       "      <td>0</td>\n",
       "      <td>0</td>\n",
       "      <td>0</td>\n",
       "      <td>0</td>\n",
       "      <td>0</td>\n",
       "      <td>0</td>\n",
       "      <td>1</td>\n",
       "    </tr>\n",
       "  </tbody>\n",
       "</table>\n",
       "<p>5 rows × 29 columns</p>\n",
       "</div>"
      ],
      "text/plain": [
       "   usd_goal_real  duration  main_category_Comics  main_category_Crafts  \\\n",
       "0      1533.9500        58                     0                     0   \n",
       "1     30000.0000        59                     0                     0   \n",
       "2     45000.0000        44                     0                     0   \n",
       "3      5000.0000        29                     0                     0   \n",
       "5     50000.0000        34                     0                     0   \n",
       "\n",
       "   main_category_Dance  main_category_Design  main_category_Fashion  \\\n",
       "0                    0                     0                      0   \n",
       "1                    0                     0                      0   \n",
       "2                    0                     0                      0   \n",
       "3                    0                     0                      0   \n",
       "5                    0                     0                      0   \n",
       "\n",
       "   main_category_Film & Video  main_category_Food  main_category_Games  ...  \\\n",
       "0                           0                   0                    0  ...   \n",
       "1                           1                   0                    0  ...   \n",
       "2                           1                   0                    0  ...   \n",
       "3                           0                   0                    0  ...   \n",
       "5                           0                   1                    0  ...   \n",
       "\n",
       "   currency_EUR  currency_GBP  currency_HKD  currency_JPY  currency_MXN  \\\n",
       "0             0             1             0             0             0   \n",
       "1             0             0             0             0             0   \n",
       "2             0             0             0             0             0   \n",
       "3             0             0             0             0             0   \n",
       "5             0             0             0             0             0   \n",
       "\n",
       "   currency_NOK  currency_NZD  currency_SEK  currency_SGD  currency_USD  \n",
       "0             0             0             0             0             0  \n",
       "1             0             0             0             0             1  \n",
       "2             0             0             0             0             1  \n",
       "3             0             0             0             0             1  \n",
       "5             0             0             0             0             1  \n",
       "\n",
       "[5 rows x 29 columns]"
      ]
     },
     "execution_count": 106,
     "metadata": {},
     "output_type": "execute_result"
    }
   ],
   "source": [
    "kickstarter_x = pd.get_dummies(data=kickstarter_variables, columns=['main_category', 'currency'], drop_first=True)\n",
    "kickstarter_x.head()"
   ]
  },
  {
   "cell_type": "code",
   "execution_count": 107,
   "metadata": {},
   "outputs": [],
   "source": [
    "from sklearn.model_selection import train_test_split\n",
    " \n",
    "X_train, X_test, y_train, y_test = train_test_split(kickstarter_x, kickstarter_y, test_size=0.2)"
   ]
  },
  {
   "cell_type": "code",
   "execution_count": 108,
   "metadata": {},
   "outputs": [],
   "source": [
    "#Hurrray! Finally!\n",
    "# data is prepared (cleaned) and we can start building models"
   ]
  },
  {
   "cell_type": "code",
   "execution_count": 109,
   "metadata": {},
   "outputs": [
    {
     "name": "stderr",
     "output_type": "stream",
     "text": [
      "/usr/local/lib/python3.7/site-packages/sklearn/linear_model/logistic.py:432: FutureWarning: Default solver will be changed to 'lbfgs' in 0.22. Specify a solver to silence this warning.\n",
      "  FutureWarning)\n",
      "/usr/local/lib/python3.7/site-packages/sklearn/utils/validation.py:724: DataConversionWarning: A column-vector y was passed when a 1d array was expected. Please change the shape of y to (n_samples, ), for example using ravel().\n",
      "  y = column_or_1d(y, warn=True)\n"
     ]
    }
   ],
   "source": [
    "# first model: logistic regression\n",
    "from sklearn.linear_model import LogisticRegression\n",
    " \n",
    "ks_model = LogisticRegression().fit(X_train, y_train)\n"
   ]
  },
  {
   "cell_type": "code",
   "execution_count": 110,
   "metadata": {},
   "outputs": [
    {
     "name": "stderr",
     "output_type": "stream",
     "text": [
      "/usr/local/lib/python3.7/site-packages/sklearn/linear_model/logistic.py:432: FutureWarning: Default solver will be changed to 'lbfgs' in 0.22. Specify a solver to silence this warning.\n",
      "  FutureWarning)\n"
     ]
    }
   ],
   "source": [
    "ks_model = LogisticRegression().fit(X_train, np.ravel(y_train))"
   ]
  },
  {
   "cell_type": "code",
   "execution_count": 111,
   "metadata": {},
   "outputs": [
    {
     "data": {
      "text/plain": [
       "array([[39512,     0],\n",
       "       [26823,     0]])"
      ]
     },
     "execution_count": 111,
     "metadata": {},
     "output_type": "execute_result"
    }
   ],
   "source": [
    "from sklearn.metrics import confusion_matrix\n",
    " \n",
    "y_pred_test = ks_model.predict(X_test)\n",
    "confusion_matrix(y_test, y_pred_test)\n"
   ]
  },
  {
   "cell_type": "code",
   "execution_count": 112,
   "metadata": {},
   "outputs": [
    {
     "data": {
      "text/plain": [
       "array([0, 0, 0, ..., 0, 0, 0], dtype=uint8)"
      ]
     },
     "execution_count": 112,
     "metadata": {},
     "output_type": "execute_result"
    }
   ],
   "source": [
    "y_pred_test"
   ]
  },
  {
   "cell_type": "code",
   "execution_count": 113,
   "metadata": {},
   "outputs": [
    {
     "data": {
      "text/plain": [
       "0.9052988618376423"
      ]
     },
     "execution_count": 113,
     "metadata": {},
     "output_type": "execute_result"
    }
   ],
   "source": [
    "accuracy_lr = (37829+22224)/(37829+1835+22224+4447)\n",
    "accuracy_lr"
   ]
  },
  {
   "cell_type": "code",
   "execution_count": 96,
   "metadata": {},
   "outputs": [
    {
     "data": {
      "text/plain": [
       "[<matplotlib.lines.Line2D at 0x1314b3ed0>]"
      ]
     },
     "execution_count": 96,
     "metadata": {},
     "output_type": "execute_result"
    },
    {
     "data": {
      "image/png": "[encoded data removed]",
      "text/plain": [
       "<Figure size 432x288 with 1 Axes>"
      ]
     },
     "metadata": {
      "needs_background": "light"
     },
     "output_type": "display_data"
    }
   ],
   "source": [
    "from sklearn import metrics\n",
    " \n",
    "y_pred_proba = ks_model.predict_proba(X_test)[::,1]\n",
    "fpr, tpr, _ = metrics.roc_curve(y_test,  y_pred_proba)\n",
    "auc_lr = metrics.roc_auc_score(y_test, y_pred_proba)\n",
    " \n",
    "plt.plot(fpr,tpr)"
   ]
  },
  {
   "cell_type": "code",
   "execution_count": 97,
   "metadata": {},
   "outputs": [
    {
     "data": {
      "text/plain": [
       "0.9583023521460134"
      ]
     },
     "execution_count": 97,
     "metadata": {},
     "output_type": "execute_result"
    }
   ],
   "source": [
    "auc_lr"
   ]
  },
  {
   "cell_type": "code",
   "execution_count": 98,
   "metadata": {},
   "outputs": [
    {
     "name": "stderr",
     "output_type": "stream",
     "text": [
      "/usr/local/lib/python3.7/site-packages/sklearn/ensemble/forest.py:245: FutureWarning: The default value of n_estimators will change from 10 in version 0.20 to 100 in 0.22.\n",
      "  \"10 in version 0.20 to 100 in 0.22.\", FutureWarning)\n",
      "/usr/local/lib/python3.7/site-packages/ipykernel_launcher.py:4: DataConversionWarning: A column-vector y was passed when a 1d array was expected. Please change the shape of y to (n_samples,), for example using ravel().\n",
      "  after removing the cwd from sys.path.\n"
     ]
    }
   ],
   "source": [
    "#Now let's try a decision tree - in fact let's try a whole forest\n",
    "from sklearn.ensemble import RandomForestClassifier\n",
    " \n",
    "ks_rf = RandomForestClassifier().fit(X_train, y_train)"
   ]
  },
  {
   "cell_type": "code",
   "execution_count": 99,
   "metadata": {},
   "outputs": [
    {
     "data": {
      "text/plain": [
       "array([[37136,  2528],\n",
       "       [ 2671, 24000]])"
      ]
     },
     "execution_count": 99,
     "metadata": {},
     "output_type": "execute_result"
    }
   ],
   "source": [
    "y_pred_test_rf = ks_rf.predict(X_test)\n",
    "confusion_matrix(y_test, y_pred_test_rf)"
   ]
  },
  {
   "cell_type": "code",
   "execution_count": 100,
   "metadata": {},
   "outputs": [
    {
     "data": {
      "text/plain": [
       "0.9216250847968644"
      ]
     },
     "execution_count": 100,
     "metadata": {},
     "output_type": "execute_result"
    }
   ],
   "source": [
    "accuracy_rf = (37136+24000)/(37136+2671+24000+2528)\n",
    "accuracy_rf"
   ]
  },
  {
   "cell_type": "code",
   "execution_count": 101,
   "metadata": {},
   "outputs": [
    {
     "data": {
      "text/plain": [
       "[<matplotlib.lines.Line2D at 0x131523510>]"
      ]
     },
     "execution_count": 101,
     "metadata": {},
     "output_type": "execute_result"
    },
    {
     "data": {
      "image/png": "[encoded data removed]",
      "text/plain": [
       "<Figure size 432x288 with 1 Axes>"
      ]
     },
     "metadata": {
      "needs_background": "light"
     },
     "output_type": "display_data"
    }
   ],
   "source": [
    "y_pred_proba_rf = ks_rf.predict_proba(X_test)[::,1]\n",
    "fpr, tpr, _ = metrics.roc_curve(y_test,  y_pred_proba_rf)\n",
    "auc_rf = metrics.roc_auc_score(y_test, y_pred_proba_rf)\n",
    " \n",
    "plt.plot(fpr,tpr)"
   ]
  },
  {
   "cell_type": "code",
   "execution_count": 102,
   "metadata": {},
   "outputs": [
    {
     "data": {
      "text/plain": [
       "0.9675447586164485"
      ]
     },
     "execution_count": 102,
     "metadata": {},
     "output_type": "execute_result"
    }
   ],
   "source": [
    "auc_rf"
   ]
  },
  {
   "cell_type": "code",
   "execution_count": null,
   "metadata": {},
   "outputs": [],
   "source": []
  }
 ],
 "metadata": {
  "kernelspec": {
   "display_name": "Python 3",
   "language": "python",
   "name": "python3"
  },
  "language_info": {
   "codemirror_mode": {
    "name": "ipython",
    "version": 3
   },
   "file_extension": ".py",
   "mimetype": "text/x-python",
   "name": "python",
   "nbconvert_exporter": "python",
   "pygments_lexer": "ipython3",
   "version": "3.7.6"
  }
 },
 "nbformat": 4,
 "nbformat_minor": 4
}

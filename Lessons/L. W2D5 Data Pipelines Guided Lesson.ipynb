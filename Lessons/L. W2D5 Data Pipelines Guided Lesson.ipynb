{
 "cells": [
  {
   "cell_type": "code",
   "execution_count": null,
   "metadata": {},
   "outputs": [],
   "source": [
    "import pandas as pd\n",
    "quandl.ApiConfig.api_key = \"yBt6eS369SCJ9rtAostn\"\n",
    "\n",
    "def get_tickers(path):\n",
    "    companies = pd.read_csv(path)\n",
    "    ticker_list = list(companies['Ticker'])\n",
    "    print('Retrieved', str(len(ticker_list)), 'ticker symbols.')\n",
    "    return ticker_list"
   ]
  },
  {
   "cell_type": "code",
   "execution_count": null,
   "metadata": {},
   "outputs": [],
   "source": [
    "import quandl\n",
    "\n",
    "def get_prices(ticker):\n",
    "    print('Retrieving data for', ticker)\n",
    "    prices = quandl.get('WIKI/' + ticker)['Adj. Close'].reset_index()\n",
    "    prices['Ticker'] = ticker\n",
    "    return prices\n",
    "\n",
    "data = []\n",
    "\n",
    "ticker_list = get_tickers('companies.csv')\n",
    "\n",
    "#for ticker in ticker_list:\n",
    "#for now only every tenth ticker\n",
    "for ticker in ticker_list[::10]:\n",
    "    prices = get_prices(ticker)\n",
    "    data.append(prices)\n"
   ]
  },
  {
   "cell_type": "code",
   "execution_count": null,
   "metadata": {},
   "outputs": [],
   "source": [
    "data[0]"
   ]
  },
  {
   "cell_type": "code",
   "execution_count": null,
   "metadata": {},
   "outputs": [],
   "source": [
    "def concat_pivot(data, rows, columns, values):\n",
    "    df = pd.concat(data, sort=True)\n",
    "    pivot = df.pivot_table(values=values, columns=columns, index=rows)\n",
    "    return pivot\n"
   ]
  },
  {
   "cell_type": "code",
   "execution_count": null,
   "metadata": {},
   "outputs": [],
   "source": [
    "def compute_returns(df):\n",
    "    returns = df.pct_change()\n",
    "    return returns"
   ]
  },
  {
   "cell_type": "code",
   "execution_count": null,
   "metadata": {},
   "outputs": [],
   "source": [
    "top10 = ratios.sort_values('Ratio', ascending=False).head(10)\n"
   ]
  },
  {
   "cell_type": "code",
   "execution_count": null,
   "metadata": {},
   "outputs": [],
   "source": [
    "def corr_matrix(df, days=30):\n",
    "    corr_matrix = df.tail(days).corr()\n",
    "    return corr_matrix\n",
    "\n",
    "target_list = returns[list(top10['Company'])]\n",
    "correlation = corr_matrix(target_list)"
   ]
  },
  {
   "cell_type": "code",
   "execution_count": null,
   "metadata": {},
   "outputs": [],
   "source": [
    "import matplotlib.pyplot as plt\n",
    "import seaborn as sns\n",
    "\n",
    "def barchart(df, x, y, length=8, width=14, title=\"\"):\n",
    "    df = df.sort_values(x, ascending=False)\n",
    "    plt.figure(figsize=(width,length))\n",
    "    chart = sns.barplot(data=df, x=x, y=y)\n",
    "    plt.title(title + \"\\n\", fontsize=16)\n",
    "    return chart\n",
    "\n",
    "bar_plot = barchart(top10, 'Ratio', 'Company', title='Stock Return vs. Risk Ratios')\n"
   ]
  },
  {
   "cell_type": "code",
   "execution_count": null,
   "metadata": {},
   "outputs": [],
   "source": [
    "import numpy as np\n",
    "\n",
    "def correlation_plot(corr, title=\"\"):\n",
    "    mask = np.zeros_like(corr, dtype=np.bool)\n",
    "    mask[np.triu_indices_from(mask)] = True\n",
    "\n",
    "    plt.subplots(figsize=(15, 10))\n",
    "    cmap = sns.diverging_palette(6, 255, as_cmap=True)\n",
    "    \n",
    "    chart = sns.heatmap(corr, mask=mask, cmap=cmap, center=0, linewidths=.5, annot=True, fmt='.2f')\n",
    "    plt.title(title, fontsize=16)\n",
    "    return chart\n",
    "\n",
    "corr_plot = correlation_plot(correlation, title='Stock Return Correlation')\n"
   ]
  },
  {
   "cell_type": "code",
   "execution_count": null,
   "metadata": {},
   "outputs": [],
   "source": [
    "def save_viz(chart, title):\n",
    "    fig = chart.get_figure()\n",
    "    fig.savefig(title + '.png')"
   ]
  },
  {
   "cell_type": "code",
   "execution_count": null,
   "metadata": {},
   "outputs": [],
   "source": [
    "import quandl\n",
    "import pandas as pd\n",
    "import numpy as np\n",
    "import matplotlib.pyplot as plt\n",
    "import seaborn as sns\n",
    "\n",
    "quandl.ApiConfig.api_key = \"yBt6eS369SCJ9rtAostn\"\n",
    "\n",
    "def get_tickers(path):\n",
    "    companies = pd.read_csv(path)\n",
    "    ticker_list = list(companies['Ticker'])\n",
    "    print('Retrieved', str(len(ticker_list)), 'ticker symbols.')\n",
    "    return ticker_list\n",
    "\n",
    "def get_prices(ticker):\n",
    "    print('Retrieving data for', ticker)\n",
    "    prices = quandl.get('WIKI/' + ticker)['Adj. Close'].reset_index()\n",
    "    prices['Ticker'] = ticker\n",
    "    return prices\n",
    "\n",
    "def concat_pivot(data, rows, columns, values):\n",
    "    df = pd.concat(data, sort=True)\n",
    "    pivot = df.pivot_table(values=values, columns=columns, index=rows)\n",
    "    return pivot\n",
    "\n",
    "def compute_returns(df):\n",
    "    returns = df.pct_change()\n",
    "    return returns\n",
    "\n",
    "def return_risk_ratio(df, days=30):\n",
    "    means = pd.DataFrame(df.tail(days).mean())\n",
    "    std = pd.DataFrame(df.tail(days).std())\n",
    "    ratios = pd.concat([means, std], axis=1).reset_index()\n",
    "    ratios.columns = ['Company', 'Mean', 'Std']\n",
    "    ratios['Ratio'] = ratios['Mean']/ratios['Std']\n",
    "    return ratios\n",
    "\n",
    "def corr_matrix(df, days=30):\n",
    "    corr_matrix = df.tail(days).corr()\n",
    "    return corr_matrix\n",
    "\n",
    "def barchart(df, x, y, length=8, width=14, title=\"\"):\n",
    "    df = df.sort_values(x, ascending=False)\n",
    "    plt.figure(figsize=(width,length))\n",
    "    chart = sns.barplot(data=df, x=x, y=y)\n",
    "    plt.title(title + \"\\n\", fontsize=16)\n",
    "    return chart\n",
    "\n",
    "def correlation_plot(corr, title=\"\"):\n",
    "    mask = np.zeros_like(corr, dtype=np.bool)\n",
    "    mask[np.triu_indices_from(mask)] = True\n",
    "\n",
    "    plt.subplots(figsize=(15, 10))\n",
    "    cmap = sns.diverging_palette(6, 255, as_cmap=True)\n",
    "\n",
    "    chart = sns.heatmap(corr, mask=mask, cmap=cmap, center=0, linewidths=.5, annot=True, fmt='.2f')\n",
    "    plt.title(title, fontsize=16)\n",
    "    return chart\n",
    "\n",
    "def save_viz(chart, title):\n",
    "    fig = chart.get_figure()\n",
    "    fig.savefig('./stocks/' + title + '.png')\n",
    "\n",
    "def acquire():\n",
    "    data = []\n",
    "\n",
    "    ticker_list = get_tickers('companies.csv')\n",
    "\n",
    "    for ticker in ticker_list[::10]:\n",
    "        #for testing only every 10th ticker is retrieved\n",
    "        prices = get_prices(ticker)\n",
    "        data.append(prices)\n",
    "    return data\n",
    "\n",
    "def wrangle(data):\n",
    "    pivot = concat_pivot(data, 'Date', 'Ticker', 'Adj. Close')\n",
    "    returns = compute_returns(pivot)\n",
    "    return returns\n",
    "\n",
    "def analyze(returns, days=30):\n",
    "    ratios = return_risk_ratio(returns, days=days)\n",
    "    top10 = ratios.sort_values('Ratio', ascending=False).head(10)\n",
    "\n",
    "    target_list = returns[list(top10['Company'])]\n",
    "    correlation = corr_matrix(target_list)\n",
    "    return top10, correlation\n",
    "\n",
    "def report(top10, correlation):\n",
    "    bar_plot = barchart(top10, 'Ratio', 'Company', title='Stock Return vs. Risk Ratios - ' + str(day) + ' Days')\n",
    "    save_viz(bar_plot, 'Return vs. Risk Top 10 - ' + str(day) + ' Days')\n",
    "\n",
    "    corr_plot = correlation_plot(correlation, title='Stock Return Correlation - ' + str(day) + ' Days')\n",
    "    save_viz(corr_plot, 'Correlation Plot - ' + str(day) + ' Days')\n",
    "\n",
    "if __name__ == \"__main__\":\n",
    "    data = acquire()\n",
    "    returns = wrangle(data)\n",
    "\n",
    "    num_days = [90,180,360]\n",
    "\n",
    "    for day in num_days:\n",
    "        top10, correlation = analyze(returns, days=day)\n",
    "        report(top10, correlation)\n"
   ]
  },
  {
   "cell_type": "code",
   "execution_count": null,
   "metadata": {},
   "outputs": [],
   "source": []
  }
 ],
 "metadata": {
  "kernelspec": {
   "display_name": "Python 3",
   "language": "python",
   "name": "python3"
  },
  "language_info": {
   "codemirror_mode": {
    "name": "ipython",
    "version": 3
   },
   "file_extension": ".py",
   "mimetype": "text/x-python",
   "name": "python",
   "nbconvert_exporter": "python",
   "pygments_lexer": "ipython3",
   "version": "3.7.6"
  }
 },
 "nbformat": 4,
 "nbformat_minor": 4
}

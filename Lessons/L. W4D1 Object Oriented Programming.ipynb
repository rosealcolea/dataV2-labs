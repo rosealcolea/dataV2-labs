{
 "cells": [
  {
   "cell_type": "code",
   "execution_count": null,
   "metadata": {},
   "outputs": [],
   "source": [
    "#procedural programming\n",
    "\n",
    "a = 4\n",
    "b = 6\n",
    "c = a + b\n",
    "print (c)"
   ]
  },
  {
   "cell_type": "code",
   "execution_count": null,
   "metadata": {},
   "outputs": [],
   "source": [
    "#functional programming\n",
    "def add(x,y):\n",
    "    return x+y\n",
    "\n",
    "a = 4\n",
    "b = 6\n",
    "print (add(a,b))"
   ]
  },
  {
   "cell_type": "code",
   "execution_count": null,
   "metadata": {},
   "outputs": [],
   "source": [
    "#object oriented programming"
   ]
  },
  {
   "cell_type": "code",
   "execution_count": null,
   "metadata": {},
   "outputs": [],
   "source": []
  },
  {
   "cell_type": "code",
   "execution_count": null,
   "metadata": {},
   "outputs": [],
   "source": []
  },
  {
   "cell_type": "code",
   "execution_count": null,
   "metadata": {},
   "outputs": [],
   "source": []
  },
  {
   "cell_type": "code",
   "execution_count": 12,
   "metadata": {},
   "outputs": [],
   "source": [
    "class Employee:\n",
    "    \n",
    "    annual_raise = 1.04\n",
    "    \n",
    "    def __init__(self, name, age, salary, department):\n",
    "        self.name = name\n",
    "        self.age = age\n",
    "        self.salary = salary\n",
    "        self.department = department\n",
    "        \n",
    "    def showEmp(self, show_sal = False):\n",
    "        print ('Emp name: ' + self.name)\n",
    "        if show_sal:\n",
    "            print('Emp sal :' + str(self.salary))\n",
    "    \n",
    "    def giveRaise(self):\n",
    "        self.salary = round(self.salary * self.annual_raise)"
   ]
  },
  {
   "cell_type": "code",
   "execution_count": 22,
   "metadata": {},
   "outputs": [],
   "source": [
    "emp1 = Employee('Sally', 25, 2800, 'sales')\n",
    "emp2 = Employee('Harry', 24, 2600, 'marketing')"
   ]
  },
  {
   "cell_type": "code",
   "execution_count": 23,
   "metadata": {},
   "outputs": [
    {
     "name": "stdout",
     "output_type": "stream",
     "text": [
      "Emp name: Sally\n"
     ]
    }
   ],
   "source": [
    "Employee.showEmp(emp1)"
   ]
  },
  {
   "cell_type": "code",
   "execution_count": 24,
   "metadata": {},
   "outputs": [
    {
     "name": "stdout",
     "output_type": "stream",
     "text": [
      "Emp name: Sally\n"
     ]
    }
   ],
   "source": [
    "emp1.showEmp()"
   ]
  },
  {
   "cell_type": "code",
   "execution_count": 25,
   "metadata": {},
   "outputs": [
    {
     "name": "stdout",
     "output_type": "stream",
     "text": [
      "Emp name: Sally\n",
      "Emp sal :2800\n",
      "Emp name: Sally\n",
      "Emp sal :2800\n"
     ]
    },
    {
     "data": {
      "text/plain": [
       "__main__.Employee"
      ]
     },
     "execution_count": 25,
     "metadata": {},
     "output_type": "execute_result"
    }
   ],
   "source": [
    "emp1.showEmp(show_sal=True)\n",
    "Employee.showEmp(emp1,show_sal=True)\n",
    "#df1.append(df2) === pd.append(df1, df2)\n",
    "type(emp1)"
   ]
  },
  {
   "cell_type": "code",
   "execution_count": 26,
   "metadata": {},
   "outputs": [],
   "source": [
    "emp1.annual_raise = 1.06\n",
    "emp1.giveRaise()\n",
    "emp2.giveRaise()"
   ]
  },
  {
   "cell_type": "code",
   "execution_count": 27,
   "metadata": {},
   "outputs": [
    {
     "name": "stdout",
     "output_type": "stream",
     "text": [
      "Emp name: Sally\n",
      "Emp sal :2968\n",
      "Emp name: Harry\n",
      "Emp sal :2704\n"
     ]
    }
   ],
   "source": [
    "emp1.showEmp(show_sal=True)\n",
    "emp2.showEmp(show_sal=True)"
   ]
  },
  {
   "cell_type": "code",
   "execution_count": 28,
   "metadata": {},
   "outputs": [
    {
     "data": {
      "text/plain": [
       "{'name': 'Sally',\n",
       " 'age': 25,\n",
       " 'salary': 2968,\n",
       " 'department': 'sales',\n",
       " 'annual_raise': 1.06}"
      ]
     },
     "execution_count": 28,
     "metadata": {},
     "output_type": "execute_result"
    }
   ],
   "source": [
    "emp1.__dict__"
   ]
  },
  {
   "cell_type": "code",
   "execution_count": 30,
   "metadata": {},
   "outputs": [
    {
     "data": {
      "text/plain": [
       "{'name': 'Sally',\n",
       " 'age': 25,\n",
       " 'salary': 2968,\n",
       " 'department': 'marketing',\n",
       " 'annual_raise': 1.06}"
      ]
     },
     "execution_count": 30,
     "metadata": {},
     "output_type": "execute_result"
    }
   ],
   "source": [
    "emp1.department = 'marketing'\n",
    "emp1.__dict__"
   ]
  },
  {
   "cell_type": "code",
   "execution_count": null,
   "metadata": {},
   "outputs": [],
   "source": []
  },
  {
   "cell_type": "code",
   "execution_count": 29,
   "metadata": {},
   "outputs": [
    {
     "data": {
      "text/plain": [
       "{'name': 'Harry', 'age': 24, 'salary': 2704, 'department': 'marketing'}"
      ]
     },
     "execution_count": 29,
     "metadata": {},
     "output_type": "execute_result"
    }
   ],
   "source": [
    "emp2.__dict__"
   ]
  },
  {
   "cell_type": "code",
   "execution_count": 33,
   "metadata": {},
   "outputs": [
    {
     "data": {
      "text/plain": [
       "'a b c'"
      ]
     },
     "execution_count": 33,
     "metadata": {},
     "output_type": "execute_result"
    }
   ],
   "source": [
    "' '.join(['a','b','c'])"
   ]
  },
  {
   "cell_type": "code",
   "execution_count": 31,
   "metadata": {},
   "outputs": [
    {
     "data": {
      "text/plain": [
       "mappingproxy({'__module__': '__main__',\n",
       "              'annual_raise': 1.04,\n",
       "              '__init__': <function __main__.Employee.__init__(self, name, age, salary, department)>,\n",
       "              'showEmp': <function __main__.Employee.showEmp(self, show_sal=False)>,\n",
       "              'giveRaise': <function __main__.Employee.giveRaise(self)>,\n",
       "              '__dict__': <attribute '__dict__' of 'Employee' objects>,\n",
       "              '__weakref__': <attribute '__weakref__' of 'Employee' objects>,\n",
       "              '__doc__': None})"
      ]
     },
     "execution_count": 31,
     "metadata": {},
     "output_type": "execute_result"
    }
   ],
   "source": [
    "Employee.__dict__"
   ]
  },
  {
   "cell_type": "code",
   "execution_count": null,
   "metadata": {},
   "outputs": [],
   "source": []
  },
  {
   "cell_type": "code",
   "execution_count": null,
   "metadata": {},
   "outputs": [],
   "source": []
  },
  {
   "cell_type": "code",
   "execution_count": null,
   "metadata": {},
   "outputs": [],
   "source": []
  },
  {
   "cell_type": "code",
   "execution_count": null,
   "metadata": {},
   "outputs": [],
   "source": []
  },
  {
   "cell_type": "code",
   "execution_count": null,
   "metadata": {},
   "outputs": [],
   "source": []
  },
  {
   "cell_type": "code",
   "execution_count": null,
   "metadata": {},
   "outputs": [],
   "source": []
  },
  {
   "cell_type": "code",
   "execution_count": null,
   "metadata": {},
   "outputs": [],
   "source": []
  },
  {
   "cell_type": "code",
   "execution_count": null,
   "metadata": {},
   "outputs": [],
   "source": [
    "class ComplexNumber:\n",
    "    def __init__(self,r = 0,i = 0):\n",
    "        self.real = r\n",
    "        self.imag = i\n",
    "\n",
    "    def getData(self):\n",
    "        print(\"{0}+{1}j\".format(self.real,self.imag))\n"
   ]
  },
  {
   "cell_type": "code",
   "execution_count": null,
   "metadata": {},
   "outputs": [],
   "source": [
    "# Create a new ComplexNumber object\n",
    "c1 = ComplexNumber(2,3)\n"
   ]
  },
  {
   "cell_type": "code",
   "execution_count": null,
   "metadata": {},
   "outputs": [],
   "source": [
    "# Call getData() function\n",
    "# Output: 2+3j\n",
    "c1.getData()\n"
   ]
  },
  {
   "cell_type": "code",
   "execution_count": null,
   "metadata": {},
   "outputs": [],
   "source": [
    "# Create another ComplexNumber object\n",
    "# and create a new attribute 'attr'\n",
    "c2 = ComplexNumber(5)\n",
    "c2.getData()\n",
    "c2.attr = 10\n"
   ]
  },
  {
   "cell_type": "code",
   "execution_count": null,
   "metadata": {},
   "outputs": [],
   "source": [
    "# Output: (5, 0, 10)\n",
    "print((c2.real, c2.imag, c2.attr))\n"
   ]
  },
  {
   "cell_type": "code",
   "execution_count": null,
   "metadata": {},
   "outputs": [],
   "source": [
    "# but c1 object doesn't have attribute 'attr'\n",
    "# AttributeError: 'ComplexNumber' object has no attribute 'attr'\n",
    "c1.attr"
   ]
  },
  {
   "cell_type": "code",
   "execution_count": null,
   "metadata": {},
   "outputs": [],
   "source": [
    "c2.__dict__"
   ]
  },
  {
   "cell_type": "code",
   "execution_count": null,
   "metadata": {},
   "outputs": [],
   "source": [
    "import numpy as np\n",
    "\n",
    "\n",
    "def ordinary_least_squares(X, y):\n",
    "    # This function returns the regression coefficients of a linear model\n",
    "    # input: X - predictor variables and y - response variables\n",
    "    # output: regression coefficients\n",
    "    \n",
    "    xtx = np.dot(X.T, X) ## x-transpose times x\n",
    "    xtx_inv = np.linalg.inv(xtx) ## inverse of x-transpose times x\n",
    "    xty = np.dot(X.T, y) ## x-transpose times y\n",
    "    return np.dot(xtx_inv, xty)"
   ]
  },
  {
   "cell_type": "code",
   "execution_count": null,
   "metadata": {},
   "outputs": [],
   "source": [
    "coefficients = ordinary_least_squares(X, y)\n",
    "predicted = np.dot(X, coefficients)\n"
   ]
  },
  {
   "cell_type": "code",
   "execution_count": null,
   "metadata": {},
   "outputs": [],
   "source": [
    "# alternative implementation\n",
    "\n",
    "class LinearReg:\n",
    "\n",
    "    def __init__(self, fit_intercept=True):\n",
    "        self.fit_intercept = fit_intercept\n",
    "        self.coefficients = None\n",
    "        self.intercept = None\n",
    "        \n",
    "    def fit(self, X, y):\n",
    "        # This function returns the fitted linear model \n",
    "        # input: X - predictor variables and y - response variables\n",
    "        # output: regression coefficients\n",
    "        \n",
    "        xtx = np.dot(X.T, X) ## x-transpose times x\n",
    "        xtx_inv = np.linalg.inv(xtx) ## inverse of x-transpose times x\n",
    "        xty = np.dot(X.T, y) ## x-transpose times y\n",
    "        coefficients = np.dot(xtx_inv, xty)\n",
    "        \n",
    "        if self.fit_intercept:\n",
    "            self.intercept = coefficients[0]\n",
    "            self.coefficients = coefficients[1:]\n",
    "        else:\n",
    "            self.intercept = 0\n",
    "            self.coefficients = coefficients\n",
    "            \n",
    "            \n",
    "    def predict(self, X):\n",
    "        # This function returns the predicted values\n",
    "        # input: array of dependent variables\n",
    "        # output: predicted values\n",
    "        if len(X.shape) == 1:\n",
    "            X = X.reshape(-1,1) \n",
    "            return self.intercept + np.dot(X, self.coef) \n"
   ]
  },
  {
   "cell_type": "code",
   "execution_count": null,
   "metadata": {},
   "outputs": [],
   "source": [
    "linreg = LinearReg()"
   ]
  },
  {
   "cell_type": "code",
   "execution_count": null,
   "metadata": {},
   "outputs": [],
   "source": [
    "X = np.random.random(size=(4,4))\n",
    "y = np.random.random(size=(4,1))\n",
    "\n",
    "linreg.fit(X, y)"
   ]
  },
  {
   "cell_type": "code",
   "execution_count": null,
   "metadata": {},
   "outputs": [],
   "source": [
    "print(X)\n",
    "print('')\n",
    "print(y)\n",
    "print('')\n",
    "print(linreg.intercept)\n",
    "print('')\n",
    "print(linreg.coefficients)"
   ]
  },
  {
   "cell_type": "code",
   "execution_count": null,
   "metadata": {},
   "outputs": [],
   "source": []
  }
 ],
 "metadata": {
  "kernelspec": {
   "display_name": "Python 3",
   "language": "python",
   "name": "python3"
  },
  "language_info": {
   "codemirror_mode": {
    "name": "ipython",
    "version": 3
   },
   "file_extension": ".py",
   "mimetype": "text/x-python",
   "name": "python",
   "nbconvert_exporter": "python",
   "pygments_lexer": "ipython3",
   "version": "3.7.6"
  }
 },
 "nbformat": 4,
 "nbformat_minor": 4
}

{
 "cells": [
  {
   "cell_type": "code",
   "execution_count": null,
   "metadata": {
    "scrolled": true
   },
   "outputs": [],
   "source": [
    "def list2string(lst, param2=2):\n",
    "    string = ' '.join(lst) * param2\n",
    "    return string\n",
    "\n",
    "to_string = ['John', 'was', 'a', 'man', 'of', 'many', 'talents']\n",
    "print(list2string(to_string,5))"
   ]
  },
  {
   "cell_type": "code",
   "execution_count": null,
   "metadata": {},
   "outputs": [],
   "source": [
    "a = 9\n",
    "\n",
    "def multiply(number, multiplier=2):\n",
    "    b = number * multiplier\n",
    "    return b\n",
    "\n",
    "c = 0\n",
    "c = multiply(a, 3)\n",
    "\n",
    "print(\"a:\", a, \"c:\", c)\n"
   ]
  },
  {
   "cell_type": "code",
   "execution_count": null,
   "metadata": {},
   "outputs": [],
   "source": [
    "print(b)"
   ]
  },
  {
   "cell_type": "code",
   "execution_count": null,
   "metadata": {},
   "outputs": [],
   "source": [
    "multiply(multiplier=5, number=100)\n"
   ]
  },
  {
   "cell_type": "code",
   "execution_count": null,
   "metadata": {},
   "outputs": [],
   "source": [
    "weekdays = ['Monday','Tuesday','Wednesday','Thursday','Friday']\n",
    "weekend = ['Saturday', 'Sunday']\n",
    "\n",
    "def get_first_three_elements(jan):\n",
    "    if len(jan)>=3:\n",
    "        return (jan[0],jan[1],jan[2])\n",
    "    else:\n",
    "        return ('error', 'error', 'error')\n",
    "\n",
    "print (get_first_three_elements(weekdays))\n",
    "\n",
    "print (get_first_three_elements(weekend))\n",
    "\n",
    "day1, day2, day3 = get_first_three_elements(weekdays)\n",
    "print(day2)\n",
    "# day1=\"Friday\"\n",
    "# print(day1)\n",
    "# print(len(res_tuple))\n"
   ]
  },
  {
   "cell_type": "code",
   "execution_count": null,
   "metadata": {},
   "outputs": [],
   "source": [
    "import pandas as pd\n",
    "\n",
    "data = pd.read_csv('./vehicles.csv')\n",
    "#data\n",
    "def get_means(df):\n",
    "    numeric = df._get_numeric_data()\n",
    "    means = pd.DataFrame(numeric.mean()).reset_index()\n",
    "    means.columns = ['Column', 'Mean']\n",
    "    return means\n",
    "\n",
    "mean_df = get_means(data)\n",
    "mean_df\n"
   ]
  },
  {
   "cell_type": "code",
   "execution_count": null,
   "metadata": {},
   "outputs": [],
   "source": []
  }
 ],
 "metadata": {
  "kernelspec": {
   "display_name": "Python 3",
   "language": "python",
   "name": "python3"
  },
  "language_info": {
   "codemirror_mode": {
    "name": "ipython",
    "version": 3
   },
   "file_extension": ".py",
   "mimetype": "text/x-python",
   "name": "python",
   "nbconvert_exporter": "python",
   "pygments_lexer": "ipython3",
   "version": "3.7.6"
  }
 },
 "nbformat": 4,
 "nbformat_minor": 2
}

{
 "cells": [
  {
   "cell_type": "code",
   "execution_count": 28,
   "metadata": {},
   "outputs": [],
   "source": [
    "import re"
   ]
  },
  {
   "cell_type": "code",
   "execution_count": 29,
   "metadata": {},
   "outputs": [
    {
     "data": {
      "text/plain": [
       "['a', 'a', 'a']"
      ]
     },
     "execution_count": 29,
     "metadata": {},
     "output_type": "execute_result"
    }
   ],
   "source": [
    "text = \"That person wears marvelous trousers.\"\n",
    "\n",
    "pattern = 'a'\n",
    "re.findall(pattern, text)"
   ]
  },
  {
   "cell_type": "code",
   "execution_count": 30,
   "metadata": {},
   "outputs": [
    {
     "data": {
      "text/plain": [
       "['er', 'er']"
      ]
     },
     "execution_count": 30,
     "metadata": {},
     "output_type": "execute_result"
    }
   ],
   "source": [
    "text = \"That person wears marvelous trousers.\"\n",
    "\n",
    "pattern = 'er'\n",
    "re.findall(pattern, text)\n"
   ]
  },
  {
   "cell_type": "code",
   "execution_count": 33,
   "metadata": {},
   "outputs": [
    {
     "data": {
      "text/plain": [
       "['e', 'r', 'e', 'r', 'r', 'e', 'r', 'e', 'r']"
      ]
     },
     "execution_count": 33,
     "metadata": {},
     "output_type": "execute_result"
    }
   ],
   "source": [
    "text = \"That person wears marvelous trousers.\"\n",
    "\n",
    "pattern = '[er]'\n",
    "re.findall(pattern, text)"
   ]
  },
  {
   "cell_type": "code",
   "execution_count": 34,
   "metadata": {},
   "outputs": [
    {
     "data": {
      "text/plain": [
       "['gray', 'grey']"
      ]
     },
     "execution_count": 34,
     "metadata": {},
     "output_type": "execute_result"
    }
   ],
   "source": [
    "text = \"Is it spelled gray or grey?\"\n",
    "\n",
    "pattern = 'gr[ae]y'\n",
    "re.findall(pattern, text)\n"
   ]
  },
  {
   "cell_type": "code",
   "execution_count": 43,
   "metadata": {},
   "outputs": [
    {
     "data": {
      "text/plain": [
       "['A', 'B', 'C']"
      ]
     },
     "execution_count": 43,
     "metadata": {},
     "output_type": "execute_result"
    }
   ],
   "source": [
    "text = \"This is an A and B conversation - so C your way out of it.\"\n",
    "\n",
    "pattern = '[A-C]'\n",
    "re.findall(pattern, text)\n"
   ]
  },
  {
   "cell_type": "code",
   "execution_count": 46,
   "metadata": {},
   "outputs": [
    {
     "data": {
      "text/plain": [
       "['1', '2', '3']"
      ]
     },
     "execution_count": 46,
     "metadata": {},
     "output_type": "execute_result"
    }
   ],
   "source": [
    "text = \"I'm not going to the party because 1) Karen is going, 2) I don't like her, and 3) I already have a headache.\"\n",
    "\n",
    "pattern = '[1-3]'\n",
    "re.findall(pattern, text)"
   ]
  },
  {
   "cell_type": "code",
   "execution_count": null,
   "metadata": {},
   "outputs": [],
   "source": [
    "'''\n",
    "Meta-characters\n",
    "[]: Match set of characters\n",
    ".: Match any character except newline (\\n)\n",
    "^: Match characters not listed if within set or match beginning of string\n",
    "$: Match end of string\n",
    "|: Functions as an \"OR\" operator\n",
    "'''\n",
    "print('')"
   ]
  },
  {
   "cell_type": "code",
   "execution_count": 51,
   "metadata": {},
   "outputs": [
    {
     "name": "stdout",
     "output_type": "stream",
     "text": [
      "['M', 'y', ' ', 'b', 'o', 's', 's', ' ', 'a', 's', 'k', 'e', 'd', ' ', 'm', 'e', ' ', 't', 'o', ' ', 't', 'u', 'r', 'n', ' ', 'i', 'n', ' ', 'm', 'y', ' ', 'T', 'P', 'S', ' ', 'r', 'e', 'p', 'o', 'r', 't', 's', '.', ' ', ' ', 'I', ' ', 't', 'o', 'l', 'd', ' ', 'h', 'e', 'r', ' ', 't', 'h', 'e', 'y', ' ', 'w', 'e', 'r', 'e', ' ', 'd', 'o', 'n', 'e', ',', ' ', 'b', 'u', 't', ' ', 't', 'h', 'e', 'y', ' ', 'a', 'r', 'e', ' ', 'n', 'o', 't', '.']\n"
     ]
    }
   ],
   "source": [
    "text = \"My boss asked me to turn in my TPS reports. \\n I told her they were done, but they are not.\"\n",
    "#print(text)\n",
    "pattern = '.'\n",
    "print(re.findall(pattern, text))"
   ]
  },
  {
   "cell_type": "code",
   "execution_count": 55,
   "metadata": {},
   "outputs": [
    {
     "name": "stdout",
     "output_type": "stream",
     "text": [
      "['M', 'y', ' ', 'o', 's', 's', ' ', 's', ' ', ' ', 't', 'o', ' ', 't', 'u', 'r', 'n', ' ', 'n', ' ', 'y', ' ', 'T', 'P', 'S', ' ', 'r', 'p', 'o', 'r', 't', 's', '.', ' ', '\\n', ' ', 'I', ' ', 't', 'o', ' ', 'r', ' ', 't', 'y', ' ', 'w', 'r', ' ', 'o', 'n', ',', ' ', 'u', 't', ' ', 't', 'y', ' ', 'r', ' ', 'n', 'o', 't', '.']\n"
     ]
    }
   ],
   "source": [
    "pattern = '[^a-m]'\n",
    "print(re.findall(pattern, text))"
   ]
  },
  {
   "cell_type": "code",
   "execution_count": 61,
   "metadata": {},
   "outputs": [
    {
     "name": "stdout",
     "output_type": "stream",
     "text": [
      "['My', 'my']\n"
     ]
    }
   ],
   "source": [
    "#pattern = '^My boss'\n",
    "pattern = '[Mm]y'\n",
    "print(re.findall(pattern, text))"
   ]
  },
  {
   "cell_type": "code",
   "execution_count": 62,
   "metadata": {},
   "outputs": [
    {
     "name": "stdout",
     "output_type": "stream",
     "text": [
      "['they are not.']\n"
     ]
    }
   ],
   "source": [
    "pattern = 'they are not.$'\n",
    "print(re.findall(pattern, text))\n"
   ]
  },
  {
   "cell_type": "code",
   "execution_count": 63,
   "metadata": {},
   "outputs": [
    {
     "name": "stdout",
     "output_type": "stream",
     "text": [
      "['boss', 'TPS', 'reports', 'boss']\n"
     ]
    }
   ],
   "source": [
    "text = \"My boss asked me to turn in my TPS reports. \\n I told my boss they were done, but they are not.\"\n",
    "\n",
    "\n",
    "pattern = 'boss|TPS|reports'\n",
    "print(re.findall(pattern, text))"
   ]
  },
  {
   "cell_type": "code",
   "execution_count": 64,
   "metadata": {},
   "outputs": [
    {
     "name": "stdout",
     "output_type": "stream",
     "text": [
      "\n"
     ]
    }
   ],
   "source": [
    "'''\n",
    "specify number of matches:\n",
    "*: Matches previous character 0 or more times\n",
    "+: Matches previous character 1 or more times\n",
    "?: Matches previous character 0 or 1 times (optional)\n",
    "{}: Matches previous characters however many times specified within:\n",
    "{n} : Exactly n times\n",
    "{n,} : At least n times\n",
    "{n,m} : Between n and m times\n",
    "'''\n",
    "print('')"
   ]
  },
  {
   "cell_type": "code",
   "execution_count": 69,
   "metadata": {},
   "outputs": [
    {
     "name": "stdout",
     "output_type": "stream",
     "text": [
      "['cat', 'ct', 'caaaat', 'ct', 'ct']\n"
     ]
    }
   ],
   "source": [
    "text = \"The complicit cat interacted with the other cats exactly as we expected.\"\n",
    "\n",
    "pattern = \"ca*t\"\n",
    "print(re.findall(pattern, text))"
   ]
  },
  {
   "cell_type": "code",
   "execution_count": 68,
   "metadata": {},
   "outputs": [
    {
     "name": "stdout",
     "output_type": "stream",
     "text": [
      "['cat', 'cat']\n"
     ]
    }
   ],
   "source": [
    "text = \"The complicit cat interacted with the other cats exactly as we expected.\"\n",
    "\n",
    "pattern = \"ca+t\"\n",
    "print(re.findall(pattern, text))"
   ]
  },
  {
   "cell_type": "code",
   "execution_count": 72,
   "metadata": {},
   "outputs": [
    {
     "name": "stdout",
     "output_type": "stream",
     "text": [
      "['color', 'colour']\n"
     ]
    }
   ],
   "source": [
    "text = \"Is the correct spelling color or colour?\"\n",
    "\n",
    "pattern = \"colou?r\"\n",
    "print(re.findall(pattern, text))"
   ]
  },
  {
   "cell_type": "code",
   "execution_count": 74,
   "metadata": {},
   "outputs": [
    {
     "name": "stdout",
     "output_type": "stream",
     "text": [
      "['aww', 'aww', 'aww', 'aww']\n"
     ]
    }
   ],
   "source": [
    "text = \"Let's see how we can match the following: aw, aww, awww, awwww, awwwww\"\n",
    "\n",
    "pattern = \"aw{2}\"\n",
    "print(re.findall(pattern, text))"
   ]
  },
  {
   "cell_type": "code",
   "execution_count": 75,
   "metadata": {},
   "outputs": [
    {
     "name": "stdout",
     "output_type": "stream",
     "text": [
      "['aww', 'awww', 'awwww', 'awwwww']\n"
     ]
    }
   ],
   "source": [
    "text = \"Let's see how we can match the following: aw, aww, awww, awwww, awwwww\"\n",
    "\n",
    "pattern = \"aw{2,}\"\n",
    "print(re.findall(pattern, text))"
   ]
  },
  {
   "cell_type": "code",
   "execution_count": 76,
   "metadata": {},
   "outputs": [
    {
     "name": "stdout",
     "output_type": "stream",
     "text": [
      "['aww', 'awww', 'awww', 'awww']\n"
     ]
    }
   ],
   "source": [
    "text = \"Let's see how we can match the following: aw, aww, awww, awwww, awwwww\"\n",
    "\n",
    "pattern = \"aw{2,3}\"\n",
    "print(re.findall(pattern, text))"
   ]
  },
  {
   "cell_type": "code",
   "execution_count": 78,
   "metadata": {},
   "outputs": [
    {
     "name": "stdout",
     "output_type": "stream",
     "text": [
      "\n"
     ]
    }
   ],
   "source": [
    "'''\n",
    "Character classes\n",
    "\\w: Any alphanumeric character. equivalent to [A-Za-z0-9_]\n",
    "\\W: Any non-alphanumeric character. equivalent to [^A-Za-z0-9_]\n",
    "\\d: Any numeric character. [0-9]\n",
    "\\D: Any non-numeric character. [^0-9]\n",
    "\\s: Any whitespace characters. [ \\t\\n\\f]\n",
    "\\S: Any non-whitespace characters.\n",
    "'''\n",
    "print('')"
   ]
  },
  {
   "cell_type": "code",
   "execution_count": 77,
   "metadata": {},
   "outputs": [
    {
     "name": "stdout",
     "output_type": "stream",
     "text": [
      "['T', 'h', '1', 's', 'i', 's', 'g', 'o', 'i', 'n', 'g', 't', 'o', '_', 'b', 'e', 'a', 'w', 'e', 'i', 'r', 'd', 's', 'e', 'n', 't', 'e', 'n', 'c', 'e', 'w', 'i', 't', 'h', 'b', 'u', 'n', 'c', 'h', 'o', 'f', 't', 'u', 'f', 'f', 'i', 'n', 'i', 't', '3']\n"
     ]
    }
   ],
   "source": [
    "text = \"Th1s is going to_be a weird sentence with @ bunch-of-$tuff in it <3.\"\n",
    "\n",
    "pattern = '\\w'\n",
    "print(re.findall(pattern, text))"
   ]
  },
  {
   "cell_type": "code",
   "execution_count": 79,
   "metadata": {},
   "outputs": [
    {
     "name": "stdout",
     "output_type": "stream",
     "text": [
      "[' ', ' ', ' ', ' ', ' ', ' ', ' ', ' ', '@', ' ', '-', '-', '$', ' ', ' ', ' ', '<', '.']\n"
     ]
    }
   ],
   "source": [
    "text = \"Th1s is going to_be a weird sentence with @ bunch-of-$tuff in it <3.\"\n",
    "\n",
    "pattern = '\\W'\n",
    "print(re.findall(pattern, text))"
   ]
  },
  {
   "cell_type": "code",
   "execution_count": 82,
   "metadata": {},
   "outputs": [
    {
     "name": "stdout",
     "output_type": "stream",
     "text": [
      "['1', '3']\n"
     ]
    }
   ],
   "source": [
    "text = \"Th1s is going to_be a weird sentence with @ bunch-of-$tuff in it <3.\"\n",
    "pattern = '\\d'\n",
    "print(re.findall(pattern, text))"
   ]
  },
  {
   "cell_type": "code",
   "execution_count": 89,
   "metadata": {},
   "outputs": [
    {
     "name": "stdout",
     "output_type": "stream",
     "text": [
      "['If', 'you', 'tell', 'the', 'truth', 'you', \"don't\", 'have', 'to', 'remember', '32838768653', 'anything']\n"
     ]
    }
   ],
   "source": [
    "#extracting words\n",
    "text = \"If you tell the truth, you don't have to remember 32838768653 anything.\"\n",
    "\n",
    "pattern = \"[\\w']+\"\n",
    "print(re.findall(pattern, text))"
   ]
  },
  {
   "cell_type": "code",
   "execution_count": 93,
   "metadata": {},
   "outputs": [
    {
     "name": "stdout",
     "output_type": "stream",
     "text": [
      "['truth', \"don't\", 'remember', '32838768653', 'anything']\n"
     ]
    }
   ],
   "source": [
    "#words of specified minimum length\n",
    "pattern = '[\\w\\']{5,}'\n",
    "print(re.findall(pattern, text))"
   ]
  },
  {
   "cell_type": "code",
   "execution_count": 94,
   "metadata": {},
   "outputs": [
    {
     "name": "stdout",
     "output_type": "stream",
     "text": [
      "['Terra', 'Power', 'Bill', 'Gates', 'China', 'Trump']\n"
     ]
    }
   ],
   "source": [
    "text = \"TerraPower, a nuclear-energy company founded by Bill Gates, is unlikely to follow through on building a demonstration reactor in China, due largely to the Trump administration’s crackdown on the country.\"\n",
    "\n",
    "pattern = '[A-Z][a-z]+'\n",
    "print(re.findall(pattern, text))"
   ]
  },
  {
   "cell_type": "code",
   "execution_count": 96,
   "metadata": {},
   "outputs": [
    {
     "name": "stdout",
     "output_type": "stream",
     "text": [
      "[('TerraPower', ''), ('Bill Gates', ''), ('', 'China'), ('', 'Trump')]\n"
     ]
    }
   ],
   "source": [
    "pattern = '([A-Z][a-z]+ ?[A-Z][a-z]+)|([A-Z][a-z]+)'\n",
    "#pattern = '([A-Z][a-z]+ ?[A-Z][a-z]+)'\n",
    "\n",
    "print(re.findall(pattern, text))\n"
   ]
  },
  {
   "cell_type": "code",
   "execution_count": 97,
   "metadata": {},
   "outputs": [
    {
     "name": "stdout",
     "output_type": "stream",
     "text": [
      "[('boss', '', ''), ('', 'TPS', ''), ('', '', 'reports')]\n"
     ]
    }
   ],
   "source": [
    "text2 = \"My boss asked me to turn in my TPS reports. \\n I told him they were done, but they are not.\"\n",
    "pattern2 = '(boss)|(TPS)|(reports)'\n",
    "print(re.findall(pattern2, text2))\n"
   ]
  },
  {
   "cell_type": "code",
   "execution_count": 101,
   "metadata": {},
   "outputs": [
    {
     "data": {
      "text/plain": [
       "['TerraPower', 'Bill Gates', 'China', 'Trump']"
      ]
     },
     "execution_count": 101,
     "metadata": {},
     "output_type": "execute_result"
    }
   ],
   "source": [
    "results = [i for j in re.findall(pattern, text) for i in j if i != '']\n",
    "results"
   ]
  },
  {
   "cell_type": "code",
   "execution_count": 102,
   "metadata": {},
   "outputs": [
    {
     "data": {
      "text/plain": [
       "['\"We’re talking flunk-your-classes, can’t-find-a-job, live-in-a-dark-hole kinds of problems, with depression, anxiety and sometimes suicidal thoughts part of the mix,\"']"
      ]
     },
     "execution_count": 102,
     "metadata": {},
     "output_type": "execute_result"
    }
   ],
   "source": [
    "text = \"\"\"\n",
    "For eight young men the AP tracked down in Seattle, tech obsession has become something much darker, getting in the way of their normal lives.\n",
    "\"We’re talking flunk-your-classes, can’t-find-a-job, live-in-a-dark-hole kinds of problems, with depression, anxiety and sometimes suicidal thoughts part of the mix,\" the AP's Martha Irvine reports.\n",
    "\"\"\"\n",
    "\n",
    "pattern = '\".*\"'\n",
    "re.findall(pattern, text)"
   ]
  },
  {
   "cell_type": "code",
   "execution_count": 104,
   "metadata": {},
   "outputs": [],
   "source": [
    "text = \"\"\"\n",
    "Aeromexico 800-237-6639\n",
    "Air Canada 888-247-2262\n",
    "Air Canada Rouge 888-247-2262\n",
    "Air Creebec 800-567-6567\n",
    "Air Inuit 800-361-2965\n",
    "Air North 800-661-0407\n",
    "Air Tindi 888-545-6794\n",
    "Air Transat 866-847-1112\n",
    "Alaska Airlines 800-426-0333, 866-516-1685\n",
    "Allegiant Air 702-505-8888\n",
    "American Airlines 800-433-7300\n",
    "Bearskin Airlines 807-577-1141\n",
    "Buffalo Airways 867-874-3333\n",
    "Calm Air 800-839-2256\n",
    "Cape Air 800-227-3247\n",
    "Delta Air Lines 800-455-2720\n",
    "First Air 800-267-1247\n",
    "Flair Airlines 204-888-2665\n",
    "Frontier Airlines 801-401-9000\n",
    "Harbor Air 800-665-0212\n",
    "Hawaiian Airlines 877-426-4537\n",
    "Horizon Air 800-547-9308\n",
    "InterJet 866-285-8307\n",
    "Island Air 800-388-1105\n",
    "JetBlue 800-538-2583\n",
    "Porter Airlines 888-619-8622\n",
    "Silver Airways 801-401-9100\n",
    "Southwest Airlines 800-435-9792\n",
    "Spirit Airlines 801-401-2222\n",
    "Sun Country Airlines 800-359-6786\n",
    "Sunwing 877-SUN-WING\n",
    "Thunder Airlines 800-803-9943\n",
    "United Airlines 800-864-8331\n",
    "Virgin America 877-359-8474\n",
    "VivaAerobus 888-935-9848 \n",
    "Volaris 855-865-2747\n",
    "WestJet Airlines 888-937-8538\n",
    "\"\"\""
   ]
  },
  {
   "cell_type": "code",
   "execution_count": 105,
   "metadata": {},
   "outputs": [
    {
     "data": {
      "text/plain": [
       "['800-237-6639',\n",
       " '888-247-2262',\n",
       " '888-247-2262',\n",
       " '800-567-6567',\n",
       " '800-361-2965',\n",
       " '800-661-0407',\n",
       " '888-545-6794',\n",
       " '866-847-1112',\n",
       " '800-426-0333',\n",
       " '866-516-1685',\n",
       " '702-505-8888',\n",
       " '800-433-7300',\n",
       " '807-577-1141',\n",
       " '867-874-3333',\n",
       " '800-839-2256',\n",
       " '800-227-3247',\n",
       " '800-455-2720',\n",
       " '800-267-1247',\n",
       " '204-888-2665',\n",
       " '801-401-9000',\n",
       " '800-665-0212',\n",
       " '877-426-4537',\n",
       " '800-547-9308',\n",
       " '866-285-8307',\n",
       " '800-388-1105',\n",
       " '800-538-2583',\n",
       " '888-619-8622',\n",
       " '801-401-9100',\n",
       " '800-435-9792',\n",
       " '801-401-2222',\n",
       " '800-359-6786',\n",
       " '800-803-9943',\n",
       " '800-864-8331',\n",
       " '877-359-8474',\n",
       " '888-935-9848',\n",
       " '855-865-2747',\n",
       " '888-937-8538']"
      ]
     },
     "execution_count": 105,
     "metadata": {},
     "output_type": "execute_result"
    }
   ],
   "source": [
    "pattern = '\\d+-\\d+-\\d+'\n",
    "re.findall(pattern, text)"
   ]
  },
  {
   "cell_type": "code",
   "execution_count": null,
   "metadata": {},
   "outputs": [],
   "source": []
  }
 ],
 "metadata": {
  "kernelspec": {
   "display_name": "Python 3",
   "language": "python",
   "name": "python3"
  },
  "language_info": {
   "codemirror_mode": {
    "name": "ipython",
    "version": 3
   },
   "file_extension": ".py",
   "mimetype": "text/x-python",
   "name": "python",
   "nbconvert_exporter": "python",
   "pygments_lexer": "ipython3",
   "version": "3.7.6"
  }
 },
 "nbformat": 4,
 "nbformat_minor": 4
}

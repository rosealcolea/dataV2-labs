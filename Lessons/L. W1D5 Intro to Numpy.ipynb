{
 "cells": [
  {
   "cell_type": "code",
   "execution_count": null,
   "metadata": {},
   "outputs": [],
   "source": [
    "# list\n",
    "lst1 = [1,2,3,4,5,6]\n",
    "lst2 = ['string','another string','yet another']\n",
    "\n",
    "lst3 = ['string', 1.3, 5, [1, 'second string'], {'John':'34-555-1234'}]"
   ]
  },
  {
   "cell_type": "code",
   "execution_count": null,
   "metadata": {},
   "outputs": [],
   "source": [
    "# lst1:\n",
    "#     0 -> (type: int, value: 1)\n",
    "#     1 -> (type:float, value:2.5)\n",
    "#     ...\n",
    "#     5 -> 6\n",
    "    \n",
    "# lst2:\n",
    "#     0 -> (type:string, value: 'string')\n",
    "#     1 -> (type:string, value: 'another string')\n",
    "#     2 -> 'yet another'\n",
    "    \n",
    "# etc."
   ]
  },
  {
   "cell_type": "code",
   "execution_count": null,
   "metadata": {},
   "outputs": [],
   "source": [
    "import numpy as np"
   ]
  },
  {
   "cell_type": "code",
   "execution_count": null,
   "metadata": {},
   "outputs": [],
   "source": [
    "a = np.random.random((10,4))\n",
    "print(a)"
   ]
  },
  {
   "cell_type": "code",
   "execution_count": null,
   "metadata": {},
   "outputs": [],
   "source": [
    "print(a.shape)\n",
    "print(a.size)"
   ]
  },
  {
   "cell_type": "code",
   "execution_count": null,
   "metadata": {},
   "outputs": [],
   "source": [
    "b = np.random.random((5,2,3))\n",
    "print(b)"
   ]
  },
  {
   "cell_type": "code",
   "execution_count": null,
   "metadata": {},
   "outputs": [],
   "source": [
    "c = np.random.random((2,3,4,5))\n",
    "print(c)"
   ]
  },
  {
   "cell_type": "code",
   "execution_count": null,
   "metadata": {},
   "outputs": [],
   "source": [
    "# First row of matrix a\n",
    "print(a)\n",
    "print(a[0])"
   ]
  },
  {
   "cell_type": "code",
   "execution_count": null,
   "metadata": {},
   "outputs": [],
   "source": [
    "# First column of matrix a\n",
    "print(a[:,0])"
   ]
  },
  {
   "cell_type": "code",
   "execution_count": null,
   "metadata": {},
   "outputs": [],
   "source": [
    "# Value in the fifth row and third column of matrix a\n",
    "print(a[4,2])"
   ]
  },
  {
   "cell_type": "code",
   "execution_count": null,
   "metadata": {},
   "outputs": [],
   "source": [
    "# list equivalent\n",
    "xlist = [[0.75069265, 0.53100122, 0.48637696, 0.20811268],\n",
    " [0.28855746, 0.86233589, 0.82170344, 0.64340505],\n",
    " [0.66165029 ,0.66529042 ,0.82118104 ,0.33245214],\n",
    " [0.23842237, 0.99227012, 0.70958494, 0.78773342],\n",
    " [0.59956754 ,0.72311601 ,0.78621408 ,0.48428124],\n",
    " [0.77134511, 0.90509481, 0.39564717, 0.70004292],\n",
    " [0.6590291  ,0.28677295 ,0.92953274 ,0.43896178],\n",
    " [0.22973736, 0.96647811, 0.51706048, 0.11653039],\n",
    " [0.27601849 ,0.7595283  ,0.80449362 ,0.42240349],\n",
    " [0.61892953, 0.31949189, 0.83564542, 0.43967919]]\n",
    "#third value in fifth sublist\n",
    "xlist[4][2]\n",
    "#xlist[4,2]\n"
   ]
  },
  {
   "cell_type": "code",
   "execution_count": null,
   "metadata": {},
   "outputs": [],
   "source": [
    "# First group of array c\n",
    "print(c[0])"
   ]
  },
  {
   "cell_type": "code",
   "execution_count": null,
   "metadata": {},
   "outputs": [],
   "source": [
    "# Second subgroup of the first group\n",
    "print(c[0,1])"
   ]
  },
  {
   "cell_type": "code",
   "execution_count": null,
   "metadata": {},
   "outputs": [],
   "source": [
    "# Fourth column of the second subgroup\n",
    "# print(c[0,1,:,3])\n",
    "\n",
    "# print(list(c[0,1,:,3]))\n",
    "\n",
    "#print(c[:,0])\n",
    "\n",
    "newarr = np.array([[0.6718173948698819, 0.9250566560295915], [0.2662825704884635, 0.19996310250953375]])\n",
    "print(newarr)\n"
   ]
  },
  {
   "cell_type": "code",
   "execution_count": null,
   "metadata": {},
   "outputs": [],
   "source": [
    "# Value in the third row and fourth column of the second subgroup of the first group\n",
    "print(c[0,1,2,3])"
   ]
  },
  {
   "cell_type": "code",
   "execution_count": null,
   "metadata": {},
   "outputs": [],
   "source": [
    "lst_lst = [[1,2,3],[4,5,6],[7,8,9]]\n",
    "d = np.array(lst_lst)\n",
    "print(d)"
   ]
  },
  {
   "cell_type": "code",
   "execution_count": null,
   "metadata": {},
   "outputs": [],
   "source": [
    "# Sum of all elements in matrix a\n",
    "print(np.sum(a))"
   ]
  },
  {
   "cell_type": "code",
   "execution_count": null,
   "metadata": {},
   "outputs": [],
   "source": [
    "# Sum of each column in matrix a\n",
    "print(np.sum(a, axis=0))"
   ]
  },
  {
   "cell_type": "code",
   "execution_count": null,
   "metadata": {},
   "outputs": [],
   "source": [
    "# Sum of each row in matrix a\n",
    "print(np.sum(a, axis=1))"
   ]
  },
  {
   "cell_type": "code",
   "execution_count": null,
   "metadata": {},
   "outputs": [],
   "source": [
    "# Sum of all the elements in the first two groups of array b\n",
    "np.sum(b[:2])"
   ]
  },
  {
   "cell_type": "code",
   "execution_count": null,
   "metadata": {},
   "outputs": [],
   "source": [
    "# Mean of all elements in matrix a\n",
    "print(np.mean(a))\n"
   ]
  },
  {
   "cell_type": "code",
   "execution_count": null,
   "metadata": {},
   "outputs": [],
   "source": [
    "# Mean of each column in matrix a\n",
    "print(np.mean(a, axis=0))"
   ]
  },
  {
   "cell_type": "code",
   "execution_count": null,
   "metadata": {},
   "outputs": [],
   "source": [
    "# Mean of each row in matrix a\n",
    "print(np.mean(a, axis=1))"
   ]
  },
  {
   "cell_type": "code",
   "execution_count": null,
   "metadata": {},
   "outputs": [],
   "source": [
    "# Mean of all the elements in the first two groups of array b\n",
    "np.mean(b[:2])"
   ]
  },
  {
   "cell_type": "code",
   "execution_count": null,
   "metadata": {},
   "outputs": [],
   "source": [
    "x = c[0,0]\n",
    "print(x)"
   ]
  },
  {
   "cell_type": "code",
   "execution_count": null,
   "metadata": {},
   "outputs": [],
   "source": [
    "y = c[0,1]\n",
    "print(y)"
   ]
  },
  {
   "cell_type": "code",
   "execution_count": null,
   "metadata": {},
   "outputs": [],
   "source": [
    "# Add elements of x and y together\n",
    "print(np.add(x, y))"
   ]
  },
  {
   "cell_type": "code",
   "execution_count": null,
   "metadata": {},
   "outputs": [],
   "source": [
    "# Subtract elements of x from elements of y\n",
    "print(np.subtract(y, x))"
   ]
  },
  {
   "cell_type": "code",
   "execution_count": null,
   "metadata": {},
   "outputs": [],
   "source": [
    "# Multiply elements of x and y together\n",
    "print(np.multiply(x, y))"
   ]
  },
  {
   "cell_type": "code",
   "execution_count": null,
   "metadata": {},
   "outputs": [],
   "source": [
    "# Divide elements of y by elements of x\n",
    "print(np.divide(x, y))"
   ]
  },
  {
   "cell_type": "code",
   "execution_count": null,
   "metadata": {},
   "outputs": [],
   "source": [
    "print(d)\n",
    "print(d%2==0)"
   ]
  },
  {
   "cell_type": "code",
   "execution_count": null,
   "metadata": {},
   "outputs": [],
   "source": [
    "%%time\n",
    "for i in range(100000):\n",
    "    z = np.multiply(x, y)"
   ]
  },
  {
   "cell_type": "code",
   "execution_count": null,
   "metadata": {},
   "outputs": [],
   "source": [
    "import random\n",
    "x_list = [[random.random() for j in range(5)] for i in range(4)]\n",
    "y_list = [[random.random() for j in range(5)] for i in range(4)]"
   ]
  },
  {
   "cell_type": "code",
   "execution_count": null,
   "metadata": {},
   "outputs": [],
   "source": [
    "x_list"
   ]
  },
  {
   "cell_type": "code",
   "execution_count": null,
   "metadata": {},
   "outputs": [],
   "source": [
    "%%time\n",
    "for i in range(100000):\n",
    "    z = []\n",
    "    for i in range(4):\n",
    "        innerlist = []\n",
    "        for j in range(5):\n",
    "            innerlist.append(x_list[i][j]*y_list[i][j])\n",
    "        z.append(innerlist)\n",
    "\n",
    "print(z)\n",
    "    "
   ]
  },
  {
   "cell_type": "code",
   "execution_count": null,
   "metadata": {},
   "outputs": [],
   "source": [
    "%%time\n",
    "for i in range(100):\n",
    "    x_new = [j for j in range(1000)]\n",
    "    "
   ]
  },
  {
   "cell_type": "code",
   "execution_count": null,
   "metadata": {},
   "outputs": [],
   "source": [
    "%%time\n",
    "for i in range(100):\n",
    "    x = []\n",
    "    for j in range(1000):\n",
    "        x.append(j)\n",
    "    \n",
    "#print(x)"
   ]
  },
  {
   "cell_type": "code",
   "execution_count": null,
   "metadata": {},
   "outputs": [],
   "source": []
  }
 ],
 "metadata": {
  "kernelspec": {
   "display_name": "Python 3",
   "language": "python",
   "name": "python3"
  },
  "language_info": {
   "codemirror_mode": {
    "name": "ipython",
    "version": 3
   },
   "file_extension": ".py",
   "mimetype": "text/x-python",
   "name": "python",
   "nbconvert_exporter": "python",
   "pygments_lexer": "ipython3",
   "version": "3.7.6"
  }
 },
 "nbformat": 4,
 "nbformat_minor": 2
}

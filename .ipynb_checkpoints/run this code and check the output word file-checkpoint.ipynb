{
 "cells": [
  {
   "cell_type": "code",
   "execution_count": 6,
   "metadata": {},
   "outputs": [
    {
     "name": "stdout",
     "output_type": "stream",
     "text": [
      "Requirement already satisfied: docx in c:\\programdata\\anaconda3\\lib\\site-packages (0.2.4)\n",
      "Requirement already satisfied: Pillow>=2.0 in c:\\programdata\\anaconda3\\lib\\site-packages (from docx) (7.0.0)\n",
      "Requirement already satisfied: lxml in c:\\programdata\\anaconda3\\lib\\site-packages (from docx) (4.5.0)\n"
     ]
    }
   ],
   "source": [
    "import sys\n",
    "!{sys.executable} -m pip install docx"
   ]
  },
  {
   "cell_type": "code",
   "execution_count": 17,
   "metadata": {},
   "outputs": [
    {
     "name": "stdout",
     "output_type": "stream",
     "text": [
      "Collecting python-docx\n",
      "  Using cached python-docx-0.8.10.tar.gz (5.5 MB)\n",
      "Requirement already satisfied: lxml>=2.3.2 in c:\\programdata\\anaconda3\\lib\\site-packages (from python-docx) (4.5.0)\n",
      "Building wheels for collected packages: python-docx\n",
      "  Building wheel for python-docx (setup.py): started\n",
      "  Building wheel for python-docx (setup.py): finished with status 'done'\n",
      "  Created wheel for python-docx: filename=python_docx-0.8.10-py3-none-any.whl size=184495 sha256=a38ae56ced9f0896ae77b66d2414baeba6788c9d6923a87ed5b89fed4031b0c5\n",
      "  Stored in directory: c:\\users\\irenl\\appdata\\local\\pip\\cache\\wheels\\75\\c6\\69\\05491f32dc052cd70476b65f5bf7082a9b274045f6b001b821\n",
      "Successfully built python-docx\n",
      "Installing collected packages: python-docx\n",
      "Successfully installed python-docx-0.8.10\n"
     ]
    }
   ],
   "source": [
    "import sys\n",
    "!{sys.executable} -m pip install python-docx"
   ]
  },
  {
   "cell_type": "code",
   "execution_count": 12,
   "metadata": {},
   "outputs": [
    {
     "name": "stdout",
     "output_type": "stream",
     "text": [
      "Requirement already satisfied: Document in c:\\programdata\\anaconda3\\lib\\site-packages (1.0)\n"
     ]
    }
   ],
   "source": [
    "import sys\n",
    "!{sys.executable} -m pip install Document"
   ]
  },
  {
   "cell_type": "code",
   "execution_count": 20,
   "metadata": {},
   "outputs": [
    {
     "name": "stdout",
     "output_type": "stream",
     "text": [
      "Hello this is some random text\n",
      "\n",
      "\n"
     ]
    }
   ],
   "source": [
    "import docx\n",
    "\n",
    "#Extract text from DOCX\n",
    "def getDocxContent(filename):\n",
    "    doc = docx.Document(filename)\n",
    "    fullText = \"\"\n",
    "    for para in doc.paragraphs:\n",
    "        fullText += para.text\n",
    "    return fullText\n",
    "\t\n",
    "resume = getDocxContent(\"sample.docx\")\n",
    "\n",
    "#Importing NLTK for sentence tokenizing\n",
    "from nltk.tokenize import sent_tokenize\n",
    "\n",
    "sentences = sent_tokenize(resume)\n",
    "for sentence in sentences:\n",
    "\tprint(sentence)\n",
    "\tprint(\"\\n\")"
   ]
  },
  {
   "cell_type": "code",
   "execution_count": 27,
   "metadata": {},
   "outputs": [],
   "source": [
    "from docx import Document\n",
    "from docx.shared import Inches\n",
    "\n",
    "document = Document()\n",
    "\n",
    "document.add_heading('Hello Fergus', 0)\n",
    "\n",
    "p = document.add_paragraph(\"In this document I'm going to address you in both \")\n",
    "p.add_run('bold').bold = True\n",
    "p.add_run(' and  ')\n",
    "p.add_run('italic.').italic = True\n",
    "p.add_run(\" It's a recollection of random things about us.\")\n",
    "\n",
    "document.add_heading('First and Foremost', level=1)\n",
    "\n",
    "document.add_paragraph(\"Why aren't you wearing blue\", style='Intense Quote')\n",
    "\n",
    "document.add_paragraph(\n",
    "    'Out of all of  the things I notice about you, this one is the first one:', style='List Bullet'\n",
    ")\n",
    "\n",
    "document.add_paragraph(\n",
    "    'EOO!', style='List Number'\n",
    ")\n",
    "\n",
    "#document.add_picture('write-word-using-python.jpg', width=Inches(1.25))\n",
    "document.add_heading('Activity Table of our Midnight Musings', level=1)\n",
    "\n",
    "recordset = [\n",
    "    {\n",
    "        \"id\" : 1,\n",
    "        \"qty\": \"Questions\",\n",
    "        \"desc\": \"Subjects will ask each other questions until they know everything about each other\"\n",
    "    },\n",
    "    {\n",
    "        \"id\" : 2,\n",
    "        \"qty\": \"Play Guitar\",\n",
    "        \"desc\": \"Fergus will play a song to his very eager audience\"\n",
    "    },\n",
    "    {\n",
    "        \"id\" : 3,\n",
    "        \"qty\": \"The Fergus\",\n",
    "        \"desc\": \"Rose will engage in illicit internet research and proceed to giggle profusely\"\n",
    "    }\n",
    "]\n",
    "#print(recordset[0]['id'])\n",
    "document.add_paragraph(\"  \").italic = True\n",
    "\n",
    "table = document.add_table(rows=1, cols=3)\n",
    "hdr_cells = table.rows[0].cells\n",
    "hdr_cells[0].text = 'Id'\n",
    "hdr_cells[1].text = 'Activity'\n",
    "hdr_cells[2].text = 'Description'\n",
    "for item in recordset:\n",
    "\t#print(item)\n",
    "\trow_cells = table.add_row().cells\n",
    "\trow_cells[0].text = str(item['id'])\n",
    "\trow_cells[1].text = str(item['qty'])\n",
    "\trow_cells[2].text = str(item['desc'])\n",
    "\n",
    "document.add_page_break()\n",
    "\n",
    "document.save('Hello Fergus.docx')"
   ]
  },
  {
   "cell_type": "code",
   "execution_count": null,
   "metadata": {},
   "outputs": [],
   "source": []
  }
 ],
 "metadata": {
  "kernelspec": {
   "display_name": "Python 3",
   "language": "python",
   "name": "python3"
  },
  "language_info": {
   "codemirror_mode": {
    "name": "ipython",
    "version": 3
   },
   "file_extension": ".py",
   "mimetype": "text/x-python",
   "name": "python",
   "nbconvert_exporter": "python",
   "pygments_lexer": "ipython3",
   "version": "3.7.6"
  }
 },
 "nbformat": 4,
 "nbformat_minor": 4
}
